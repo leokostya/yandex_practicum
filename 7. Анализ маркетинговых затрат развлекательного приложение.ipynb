{
  "cells": [
    {
      "cell_type": "markdown",
      "metadata": {
        "id": "2GeidI5diHXz"
      },
      "source": [
        "### Анализ убытков приложения ProcrastinatePRO+</div>"
      ]
    },
    {
      "cell_type": "markdown",
      "metadata": {
        "id": "XwWM5D_EiHX2"
      },
      "source": [
        "\n",
        "   <b>В данном исследовании проводем маркетинговый анализ причин убытка развлекательного приложения Procrastinate Pro+.</b>  \n",
        "    \n",
        "Имеем лог сервера с данными о посещениях приложения новыми пользователями, зарегистрировавшимися в период с 2019-05-01 по 2019-10-27, выгрузку их покупок за этот период, а также статистику рекламных расходов.  \n",
        "    <b>\n",
        "        Цель исследования:  </b>  \n",
        "    - изучить, как люди пользуются продуктом,   \n",
        "    - когда они начинают покупать,  \n",
        "    - сколько денег приносит каждый клиент,   \n",
        "    - откуда приходят пользователи и какими устройствами они пользуются,  \n",
        "    - сколько стоит привлечение пользователей из различных рекламных каналов,  \n",
        "    - когда расходы на привлечение клиента окупаются,   \n",
        "    - какие факторы отричательно влияют на привлечение пользователей  \n",
        "         <b>Ход исследования</b>  \n",
        "    В нашем распоряжении три датасета:  \n",
        "    Файл visits_info_short.csv хранит лог сервера с информацией о посещениях сайта,  \n",
        "    orders_info_short.csv — информацию о заказах,  \n",
        "    costs_info_short.csv — информацию о расходах на рекламу.   \n",
        "    Проведем обзор данных и предобработку, после этого приступим к анализу\n",
        "\n"
      ]
    },
    {
      "cell_type": "markdown",
      "metadata": {
        "id": "r-BO88CnWVwe"
      },
      "source": [
        "### Загрузим данные и подготовим их к анализу"
      ]
    },
    {
      "cell_type": "markdown",
      "metadata": {
        "id": "LCZi0P80WVwj"
      },
      "source": [
        "Загрузим данные о визитах, заказах и рекламных расходах из CSV-файлов в переменные.\n",
        "\n",
        "**Пути к файлам**\n",
        "\n",
        "- визиты: `/datasets/visits_info_short.csv`. [Скачать датасет](https://code.s3.yandex.net/datasets/visits_info_short.csv);\n",
        "- заказы: `/datasets/orders_info_short.csv`. [Скачать датасет](https://code.s3.yandex.net/datasets/orders_info_short.csv);\n",
        "- расходы: `/datasets/costs_info_short.csv`. [Скачать датасет](https://code.s3.yandex.net/datasets/costs_info_short.csv).\n",
        "\n",
        "Изучим данные и выполним предобработку. Есть ли в данных пропуски и дубликаты? Убедимся, что типы данных во всех колонках соответствуют сохранённым в них значениям. Обратим внимание на столбцы с датой и временем."
      ]
    },
    {
      "cell_type": "code",
      "execution_count": null,
      "metadata": {
        "id": "_vsKinGUWVwk"
      },
      "outputs": [],
      "source": [
        "# импорт библиотек\n",
        "import pandas as pd\n",
        "import numpy as np\n",
        "import matplotlib.pyplot as plt\n",
        "import seaborn as sns\n",
        "from datetime import datetime, timedelta\n",
        "\n",
        "\n",
        "try:\n",
        "    visits = pd.read_csv('/datasets/visits_info_short.csv')\n",
        "    orders = pd.read_csv('/datasets/orders_info_short.csv')\n",
        "    costs = pd.read_csv('/datasets/costs_info_short.csv')\n",
        "except:\n",
        "    visits = pd.read_csv('visits_info_short.csv')\n",
        "    orders = pd.read_csv('orders_info_short.csv')\n",
        "    costs = pd.read_csv('costs_info_short.csv')"
      ]
    },
    {
      "cell_type": "code",
      "execution_count": null,
      "metadata": {
        "id": "TaVE_-faiHX-",
        "outputId": "edb37688-65cb-4393-ef63-a800d1aa39c1"
      },
      "outputs": [
        {
          "data": {
            "text/html": [
              "<div>\n",
              "<style scoped>\n",
              "    .dataframe tbody tr th:only-of-type {\n",
              "        vertical-align: middle;\n",
              "    }\n",
              "\n",
              "    .dataframe tbody tr th {\n",
              "        vertical-align: top;\n",
              "    }\n",
              "\n",
              "    .dataframe thead th {\n",
              "        text-align: right;\n",
              "    }\n",
              "</style>\n",
              "<table border=\"1\" class=\"dataframe\">\n",
              "  <thead>\n",
              "    <tr style=\"text-align: right;\">\n",
              "      <th></th>\n",
              "      <th>User Id</th>\n",
              "      <th>Region</th>\n",
              "      <th>Device</th>\n",
              "      <th>Channel</th>\n",
              "      <th>Session Start</th>\n",
              "      <th>Session End</th>\n",
              "    </tr>\n",
              "  </thead>\n",
              "  <tbody>\n",
              "    <tr>\n",
              "      <th>0</th>\n",
              "      <td>981449118918</td>\n",
              "      <td>United States</td>\n",
              "      <td>iPhone</td>\n",
              "      <td>organic</td>\n",
              "      <td>2019-05-01 02:36:01</td>\n",
              "      <td>2019-05-01 02:45:01</td>\n",
              "    </tr>\n",
              "    <tr>\n",
              "      <th>1</th>\n",
              "      <td>278965908054</td>\n",
              "      <td>United States</td>\n",
              "      <td>iPhone</td>\n",
              "      <td>organic</td>\n",
              "      <td>2019-05-01 04:46:31</td>\n",
              "      <td>2019-05-01 04:47:35</td>\n",
              "    </tr>\n",
              "    <tr>\n",
              "      <th>2</th>\n",
              "      <td>590706206550</td>\n",
              "      <td>United States</td>\n",
              "      <td>Mac</td>\n",
              "      <td>organic</td>\n",
              "      <td>2019-05-01 14:09:25</td>\n",
              "      <td>2019-05-01 15:32:08</td>\n",
              "    </tr>\n",
              "    <tr>\n",
              "      <th>3</th>\n",
              "      <td>326433527971</td>\n",
              "      <td>United States</td>\n",
              "      <td>Android</td>\n",
              "      <td>TipTop</td>\n",
              "      <td>2019-05-01 00:29:59</td>\n",
              "      <td>2019-05-01 00:54:25</td>\n",
              "    </tr>\n",
              "    <tr>\n",
              "      <th>4</th>\n",
              "      <td>349773784594</td>\n",
              "      <td>United States</td>\n",
              "      <td>Mac</td>\n",
              "      <td>organic</td>\n",
              "      <td>2019-05-01 03:33:35</td>\n",
              "      <td>2019-05-01 03:57:40</td>\n",
              "    </tr>\n",
              "  </tbody>\n",
              "</table>\n",
              "</div>"
            ],
            "text/plain": [
              "        User Id         Region   Device  Channel        Session Start  \\\n",
              "0  981449118918  United States   iPhone  organic  2019-05-01 02:36:01   \n",
              "1  278965908054  United States   iPhone  organic  2019-05-01 04:46:31   \n",
              "2  590706206550  United States      Mac  organic  2019-05-01 14:09:25   \n",
              "3  326433527971  United States  Android   TipTop  2019-05-01 00:29:59   \n",
              "4  349773784594  United States      Mac  organic  2019-05-01 03:33:35   \n",
              "\n",
              "           Session End  \n",
              "0  2019-05-01 02:45:01  \n",
              "1  2019-05-01 04:47:35  \n",
              "2  2019-05-01 15:32:08  \n",
              "3  2019-05-01 00:54:25  \n",
              "4  2019-05-01 03:57:40  "
            ]
          },
          "execution_count": 2,
          "metadata": {},
          "output_type": "execute_result"
        }
      ],
      "source": [
        "visits.head()"
      ]
    },
    {
      "cell_type": "markdown",
      "metadata": {
        "id": "M4lE9F_2iHYA"
      },
      "source": [
        "Таблица `visits` (лог сервера с информацией о посещениях сайта):\n",
        "\n",
        "- **User Id** — уникальный идентификатор пользователя\n",
        "- **Device** — категория устройства пользователя\n",
        "- **Session start** — дата и время начала сессии\n",
        "- **Session End** — дата и время окончания сессии\n",
        "- **Channel** — идентификатор рекламного источника, из которого пришел пользователь\n",
        "- **Region** - страна пользователя"
      ]
    },
    {
      "cell_type": "code",
      "execution_count": null,
      "metadata": {
        "id": "P-WePpTUiHYB",
        "outputId": "4f3c3130-9bab-4858-d3a7-edff3e308b03"
      },
      "outputs": [
        {
          "data": {
            "text/html": [
              "<div>\n",
              "<style scoped>\n",
              "    .dataframe tbody tr th:only-of-type {\n",
              "        vertical-align: middle;\n",
              "    }\n",
              "\n",
              "    .dataframe tbody tr th {\n",
              "        vertical-align: top;\n",
              "    }\n",
              "\n",
              "    .dataframe thead th {\n",
              "        text-align: right;\n",
              "    }\n",
              "</style>\n",
              "<table border=\"1\" class=\"dataframe\">\n",
              "  <thead>\n",
              "    <tr style=\"text-align: right;\">\n",
              "      <th></th>\n",
              "      <th>User Id</th>\n",
              "      <th>Event Dt</th>\n",
              "      <th>Revenue</th>\n",
              "    </tr>\n",
              "  </thead>\n",
              "  <tbody>\n",
              "    <tr>\n",
              "      <th>0</th>\n",
              "      <td>188246423999</td>\n",
              "      <td>2019-05-01 23:09:52</td>\n",
              "      <td>4.99</td>\n",
              "    </tr>\n",
              "    <tr>\n",
              "      <th>1</th>\n",
              "      <td>174361394180</td>\n",
              "      <td>2019-05-01 12:24:04</td>\n",
              "      <td>4.99</td>\n",
              "    </tr>\n",
              "    <tr>\n",
              "      <th>2</th>\n",
              "      <td>529610067795</td>\n",
              "      <td>2019-05-01 11:34:04</td>\n",
              "      <td>4.99</td>\n",
              "    </tr>\n",
              "    <tr>\n",
              "      <th>3</th>\n",
              "      <td>319939546352</td>\n",
              "      <td>2019-05-01 15:34:40</td>\n",
              "      <td>4.99</td>\n",
              "    </tr>\n",
              "    <tr>\n",
              "      <th>4</th>\n",
              "      <td>366000285810</td>\n",
              "      <td>2019-05-01 13:59:51</td>\n",
              "      <td>4.99</td>\n",
              "    </tr>\n",
              "  </tbody>\n",
              "</table>\n",
              "</div>"
            ],
            "text/plain": [
              "        User Id             Event Dt  Revenue\n",
              "0  188246423999  2019-05-01 23:09:52     4.99\n",
              "1  174361394180  2019-05-01 12:24:04     4.99\n",
              "2  529610067795  2019-05-01 11:34:04     4.99\n",
              "3  319939546352  2019-05-01 15:34:40     4.99\n",
              "4  366000285810  2019-05-01 13:59:51     4.99"
            ]
          },
          "execution_count": 3,
          "metadata": {},
          "output_type": "execute_result"
        }
      ],
      "source": [
        "orders.head()"
      ]
    },
    {
      "cell_type": "markdown",
      "metadata": {
        "id": "0ypBH8uWiHYB"
      },
      "source": [
        "Таблица `orders` (хранит информацию о заказах)\n",
        "- **User Id** — уникальный идентификатор пользователя,\n",
        "- **Event Dt** — дата и время покупки,\n",
        "- **Revenue** — сумма заказа.\n"
      ]
    },
    {
      "cell_type": "code",
      "execution_count": null,
      "metadata": {
        "id": "_d0ebstaiHYC",
        "outputId": "738aa31c-c9fd-499f-ec18-7f15a1c4a153"
      },
      "outputs": [
        {
          "data": {
            "text/html": [
              "<div>\n",
              "<style scoped>\n",
              "    .dataframe tbody tr th:only-of-type {\n",
              "        vertical-align: middle;\n",
              "    }\n",
              "\n",
              "    .dataframe tbody tr th {\n",
              "        vertical-align: top;\n",
              "    }\n",
              "\n",
              "    .dataframe thead th {\n",
              "        text-align: right;\n",
              "    }\n",
              "</style>\n",
              "<table border=\"1\" class=\"dataframe\">\n",
              "  <thead>\n",
              "    <tr style=\"text-align: right;\">\n",
              "      <th></th>\n",
              "      <th>dt</th>\n",
              "      <th>Channel</th>\n",
              "      <th>costs</th>\n",
              "    </tr>\n",
              "  </thead>\n",
              "  <tbody>\n",
              "    <tr>\n",
              "      <th>0</th>\n",
              "      <td>2019-05-01</td>\n",
              "      <td>FaceBoom</td>\n",
              "      <td>113.3</td>\n",
              "    </tr>\n",
              "    <tr>\n",
              "      <th>1</th>\n",
              "      <td>2019-05-02</td>\n",
              "      <td>FaceBoom</td>\n",
              "      <td>78.1</td>\n",
              "    </tr>\n",
              "    <tr>\n",
              "      <th>2</th>\n",
              "      <td>2019-05-03</td>\n",
              "      <td>FaceBoom</td>\n",
              "      <td>85.8</td>\n",
              "    </tr>\n",
              "    <tr>\n",
              "      <th>3</th>\n",
              "      <td>2019-05-04</td>\n",
              "      <td>FaceBoom</td>\n",
              "      <td>136.4</td>\n",
              "    </tr>\n",
              "    <tr>\n",
              "      <th>4</th>\n",
              "      <td>2019-05-05</td>\n",
              "      <td>FaceBoom</td>\n",
              "      <td>122.1</td>\n",
              "    </tr>\n",
              "  </tbody>\n",
              "</table>\n",
              "</div>"
            ],
            "text/plain": [
              "           dt   Channel  costs\n",
              "0  2019-05-01  FaceBoom  113.3\n",
              "1  2019-05-02  FaceBoom   78.1\n",
              "2  2019-05-03  FaceBoom   85.8\n",
              "3  2019-05-04  FaceBoom  136.4\n",
              "4  2019-05-05  FaceBoom  122.1"
            ]
          },
          "execution_count": 4,
          "metadata": {},
          "output_type": "execute_result"
        }
      ],
      "source": [
        "costs.head()"
      ]
    },
    {
      "cell_type": "markdown",
      "metadata": {
        "id": "REkd883kiHYG"
      },
      "source": [
        "Таблица costs(хранит информацию о расходах на рекламу.)\n",
        "- **dt** — дата проведения рекламной кампании,\n",
        "- **Channel** — идентификатор рекламного источника,\n",
        "- **costs** — расходы на эту кампанию.\n"
      ]
    },
    {
      "cell_type": "code",
      "execution_count": null,
      "metadata": {
        "id": "yLQVflwWiHYG",
        "outputId": "d2ddfde9-e97e-44e5-9335-ac21165749c6"
      },
      "outputs": [
        {
          "name": "stdout",
          "output_type": "stream",
          "text": [
            "<class 'pandas.core.frame.DataFrame'>\n",
            "RangeIndex: 309901 entries, 0 to 309900\n",
            "Data columns (total 6 columns):\n",
            " #   Column         Non-Null Count   Dtype \n",
            "---  ------         --------------   ----- \n",
            " 0   User Id        309901 non-null  int64 \n",
            " 1   Region         309901 non-null  object\n",
            " 2   Device         309901 non-null  object\n",
            " 3   Channel        309901 non-null  object\n",
            " 4   Session Start  309901 non-null  object\n",
            " 5   Session End    309901 non-null  object\n",
            "dtypes: int64(1), object(5)\n",
            "memory usage: 14.2+ MB\n"
          ]
        },
        {
          "data": {
            "text/plain": [
              "'-------------'"
            ]
          },
          "metadata": {},
          "output_type": "display_data"
        },
        {
          "name": "stdout",
          "output_type": "stream",
          "text": [
            "<class 'pandas.core.frame.DataFrame'>\n",
            "RangeIndex: 40212 entries, 0 to 40211\n",
            "Data columns (total 3 columns):\n",
            " #   Column    Non-Null Count  Dtype  \n",
            "---  ------    --------------  -----  \n",
            " 0   User Id   40212 non-null  int64  \n",
            " 1   Event Dt  40212 non-null  object \n",
            " 2   Revenue   40212 non-null  float64\n",
            "dtypes: float64(1), int64(1), object(1)\n",
            "memory usage: 942.6+ KB\n"
          ]
        },
        {
          "data": {
            "text/plain": [
              "'-------------'"
            ]
          },
          "metadata": {},
          "output_type": "display_data"
        },
        {
          "name": "stdout",
          "output_type": "stream",
          "text": [
            "<class 'pandas.core.frame.DataFrame'>\n",
            "RangeIndex: 1800 entries, 0 to 1799\n",
            "Data columns (total 3 columns):\n",
            " #   Column   Non-Null Count  Dtype  \n",
            "---  ------   --------------  -----  \n",
            " 0   dt       1800 non-null   object \n",
            " 1   Channel  1800 non-null   object \n",
            " 2   costs    1800 non-null   float64\n",
            "dtypes: float64(1), object(2)\n",
            "memory usage: 42.3+ KB\n"
          ]
        }
      ],
      "source": [
        "# смотрим инфо\n",
        "visits.info()\n",
        "display('-------------')\n",
        "orders.info()\n",
        "display('-------------')\n",
        "costs.info()"
      ]
    },
    {
      "cell_type": "code",
      "execution_count": null,
      "metadata": {
        "id": "ZMGeAfo5iHYH",
        "outputId": "7019fe17-e63c-49b7-9566-8bada6698f4d"
      },
      "outputs": [
        {
          "data": {
            "text/plain": [
              "User Id          0\n",
              "Region           0\n",
              "Device           0\n",
              "Channel          0\n",
              "Session Start    0\n",
              "Session End      0\n",
              "dtype: int64"
            ]
          },
          "metadata": {},
          "output_type": "display_data"
        },
        {
          "data": {
            "text/plain": [
              "User Id     0\n",
              "Event Dt    0\n",
              "Revenue     0\n",
              "dtype: int64"
            ]
          },
          "metadata": {},
          "output_type": "display_data"
        },
        {
          "data": {
            "text/plain": [
              "dt         0\n",
              "Channel    0\n",
              "costs      0\n",
              "dtype: int64"
            ]
          },
          "metadata": {},
          "output_type": "display_data"
        }
      ],
      "source": [
        "# ищем пропуски в таблицах\n",
        "display(visits.isna().sum())\n",
        "display(orders.isna().sum())\n",
        "display(costs.isna().sum())"
      ]
    },
    {
      "cell_type": "code",
      "execution_count": null,
      "metadata": {
        "id": "5awZ2ENmiHYM",
        "outputId": "ab1830a0-3d6c-4dbb-dd74-1f1fb14924a5"
      },
      "outputs": [
        {
          "data": {
            "text/plain": [
              "0"
            ]
          },
          "metadata": {},
          "output_type": "display_data"
        },
        {
          "data": {
            "text/plain": [
              "0"
            ]
          },
          "metadata": {},
          "output_type": "display_data"
        },
        {
          "data": {
            "text/plain": [
              "0"
            ]
          },
          "execution_count": 7,
          "metadata": {},
          "output_type": "execute_result"
        }
      ],
      "source": [
        "# ищем дубликаты в таблице\n",
        "display(visits.duplicated().sum())\n",
        "display(orders.duplicated().sum())\n",
        "costs.duplicated().sum()"
      ]
    },
    {
      "cell_type": "code",
      "execution_count": null,
      "metadata": {
        "id": "T7QuXhFZiHYP"
      },
      "outputs": [],
      "source": [
        "# заменим пробелы в названиях столбцов на нижнее подчеркивание и приведем к нижнему регистру\n",
        "visits.columns = [x.lower().replace(' ', '_') for x in visits.columns]\n",
        "orders.columns = [x.lower().replace(' ', '_') for x in orders.columns]\n",
        "costs.columns = costs.columns.str.lower()"
      ]
    },
    {
      "cell_type": "code",
      "execution_count": null,
      "metadata": {
        "id": "GL4f3echiHYQ"
      },
      "outputs": [],
      "source": [
        "# переводим тип столбцов из строк в дату\n",
        "visits['session_start'] = pd.to_datetime(visits['session_start'])\n",
        "visits['session_end'] = pd.to_datetime(visits['session_end'])\n",
        "orders['event_dt'] = pd.to_datetime(orders['event_dt'])\n",
        "costs['dt'] = pd.to_datetime(costs['dt']).dt.date "
      ]
    },
    {
      "cell_type": "code",
      "execution_count": null,
      "metadata": {
        "id": "hS9T7R18iHYS",
        "outputId": "f4251c31-2157-4693-f023-8e480251e99e"
      },
      "outputs": [
        {
          "data": {
            "text/plain": [
              "33606575057     46\n",
              "943775408561    36\n",
              "901180916748    35\n",
              "870784569391    34\n",
              "764086596354    33\n",
              "                ..\n",
              "214203066007     1\n",
              "369265191867     1\n",
              "346271445800     1\n",
              "133742530598     1\n",
              "279181973476     1\n",
              "Name: user_id, Length: 150008, dtype: int64"
            ]
          },
          "execution_count": 10,
          "metadata": {},
          "output_type": "execute_result"
        }
      ],
      "source": [
        "# смотрим уникальные значения столбца user_id\n",
        "visits['user_id'].value_counts()"
      ]
    },
    {
      "cell_type": "code",
      "execution_count": null,
      "metadata": {
        "id": "apvMf6ahiHYT",
        "outputId": "40e89c63-a2a4-40f5-f634-721e4dd08eb7"
      },
      "outputs": [
        {
          "data": {
            "text/plain": [
              "United States    207327\n",
              "UK                36419\n",
              "France            35396\n",
              "Germany           30759\n",
              "Name: region, dtype: int64"
            ]
          },
          "execution_count": 11,
          "metadata": {},
          "output_type": "execute_result"
        }
      ],
      "source": [
        "# смотрим уникальные значения столбца region\n",
        "visits['region'].value_counts()"
      ]
    },
    {
      "cell_type": "code",
      "execution_count": null,
      "metadata": {
        "id": "7vFt5y1HiHYT",
        "outputId": "457d3fdb-f6c9-46ca-fb01-4c681396a54f"
      },
      "outputs": [
        {
          "data": {
            "text/plain": [
              "iPhone     112603\n",
              "Android     72590\n",
              "PC          62686\n",
              "Mac         62022\n",
              "Name: device, dtype: int64"
            ]
          },
          "execution_count": 12,
          "metadata": {},
          "output_type": "execute_result"
        }
      ],
      "source": [
        "# смотрим уникальные значения столбца device\n",
        "visits['device'].value_counts()"
      ]
    },
    {
      "cell_type": "code",
      "execution_count": null,
      "metadata": {
        "id": "msECZwpniHYT",
        "outputId": "946ecf40-ec8a-46b0-83d5-73287cfacd22"
      },
      "outputs": [
        {
          "data": {
            "text/plain": [
              "organic               107760\n",
              "TipTop                 54794\n",
              "FaceBoom               49022\n",
              "WahooNetBanner         20465\n",
              "LeapBob                17013\n",
              "OppleCreativeMedia     16794\n",
              "RocketSuperAds         12724\n",
              "YRabbit                 9053\n",
              "MediaTornado            8878\n",
              "AdNonSense              6891\n",
              "lambdaMediaAds          6507\n",
              "Name: channel, dtype: int64"
            ]
          },
          "execution_count": 13,
          "metadata": {},
          "output_type": "execute_result"
        }
      ],
      "source": [
        "# смотрим уникальные значения столбца channel\n",
        "visits['channel'].value_counts()"
      ]
    },
    {
      "cell_type": "code",
      "execution_count": null,
      "metadata": {
        "id": "s0gymh_2iHYT",
        "outputId": "196deaad-85d6-4c17-c54f-133d7515be42"
      },
      "outputs": [
        {
          "data": {
            "text/plain": [
              "<bound method IndexOpsMixin.value_counts of 0        188246423999\n",
              "1        174361394180\n",
              "2        529610067795\n",
              "3        319939546352\n",
              "4        366000285810\n",
              "             ...     \n",
              "40207    651604369137\n",
              "40208    275341387049\n",
              "40209    374656616484\n",
              "40210    168548862926\n",
              "40211    329994900775\n",
              "Name: user_id, Length: 40212, dtype: int64>"
            ]
          },
          "execution_count": 14,
          "metadata": {},
          "output_type": "execute_result"
        }
      ],
      "source": [
        "# смотрим уникальные значения столбца user_id\n",
        "orders['user_id'].value_counts"
      ]
    },
    {
      "cell_type": "code",
      "execution_count": null,
      "metadata": {
        "id": "8_7ToyxsiHYU",
        "outputId": "1d315600-014f-4237-ffb3-92ce89250e8e"
      },
      "outputs": [
        {
          "data": {
            "text/plain": [
              "FaceBoom              180\n",
              "MediaTornado          180\n",
              "RocketSuperAds        180\n",
              "TipTop                180\n",
              "YRabbit               180\n",
              "AdNonSense            180\n",
              "LeapBob               180\n",
              "OppleCreativeMedia    180\n",
              "WahooNetBanner        180\n",
              "lambdaMediaAds        180\n",
              "Name: channel, dtype: int64"
            ]
          },
          "execution_count": 15,
          "metadata": {},
          "output_type": "execute_result"
        }
      ],
      "source": [
        "# смотрим уникальные значения столбца channel\n",
        "costs['channel'].value_counts()"
      ]
    },
    {
      "cell_type": "markdown",
      "metadata": {
        "id": "nXrkU53wiHYV"
      },
      "source": [
        "#### Вывод\n",
        "\n",
        "Имеем три таблицы с информацией о посещениях сайта  `visits`(6 столбцов, 309 901 строк), информацией о заказах `orders`(3 столбца, 40 212 строк) и информацией о затратах на маркетинг `costs`(3 столбца, 1 800 строк).\n",
        "\n",
        "Анализ проводится по 4 странам: США, Великобритания, Франция и Германия. Категории устройств пользователя: iPhone, Android, PC, Mac.\n",
        "\n",
        "Названия столбцов были заменены на строчные буквы и нижнее подчеркивание. Значения столбцов с датами были преобразованы из строк в формат datetime64.\n",
        "\n",
        "Пропущенные и дублирующиеся значения в таблицах отсутствуют."
      ]
    },
    {
      "cell_type": "markdown",
      "metadata": {
        "id": "AS1eCqCpWVwk"
      },
      "source": [
        "### Задайте функции для расчёта и анализа LTV, ROI, удержания и конверсии.\n",
        "\n",
        "Разрешается использовать функции, с которыми вы познакомились в теоретических уроках.\n",
        "\n",
        "Это функции для вычисления значений метрик:\n",
        "\n",
        "- `get_profiles()` — для создания профилей пользователей,\n",
        "- `get_retention()` — для подсчёта Retention Rate,\n",
        "- `get_conversion()` — для подсчёта конверсии,\n",
        "- `get_ltv()` — для подсчёта LTV.\n",
        "\n",
        "А также функции для построения графиков:\n",
        "\n",
        "- `filter_data()` — для сглаживания данных,\n",
        "- `plot_retention()` — для построения графика Retention Rate,\n",
        "- `plot_conversion()` — для построения графика конверсии,\n",
        "- `plot_ltv_roi` — для визуализации LTV и ROI."
      ]
    },
    {
      "cell_type": "markdown",
      "metadata": {
        "id": "EMUUEbJriHYV"
      },
      "source": [
        "### Функция для расчёта LTV и ROI"
      ]
    },
    {
      "cell_type": "code",
      "execution_count": null,
      "metadata": {
        "id": "igOfMgBpWVwl"
      },
      "outputs": [],
      "source": [
        "def get_ltv(\n",
        "    profiles,\n",
        "    purchases,\n",
        "    observation_date,\n",
        "    horizon_days,\n",
        "    dimensions=[],\n",
        "    ignore_horizon=False,\n",
        "):\n",
        "\n",
        "    # исключаем пользователей, не «доживших» до горизонта анализа\n",
        "    last_suitable_acquisition_date = observation_date\n",
        "    if not ignore_horizon:\n",
        "        last_suitable_acquisition_date = observation_date - timedelta(\n",
        "            days=horizon_days - 1\n",
        "        )\n",
        "    result_raw = profiles.query('dt <= @last_suitable_acquisition_date')\n",
        "    # добавляем данные о покупках в профили\n",
        "    result_raw = result_raw.merge(\n",
        "        purchases[['user_id', 'event_dt', 'revenue']], on='user_id', how='left'\n",
        "    )\n",
        "    # рассчитываем лайфтайм пользователя для каждой покупки\n",
        "    result_raw['lifetime'] = (\n",
        "        result_raw['event_dt'] - result_raw['first_ts']\n",
        "    ).dt.days\n",
        "    # группируем по cohort, если в dimensions ничего нет\n",
        "    if len(dimensions) == 0:\n",
        "        result_raw['cohort'] = 'All users'\n",
        "        dimensions = dimensions + ['cohort']\n",
        "\n",
        "    # функция группировки по желаемым признакам\n",
        "    def group_by_dimensions(df, dims, horizon_days):\n",
        "        # строим «треугольную» таблицу выручки\n",
        "        result = df.pivot_table(\n",
        "            index=dims, columns='lifetime', values='revenue', aggfunc='sum'\n",
        "        )\n",
        "        # находим сумму выручки с накоплением\n",
        "        result = result.fillna(0).cumsum(axis=1)\n",
        "        # вычисляем размеры когорт\n",
        "        cohort_sizes = (\n",
        "            df.groupby(dims)\n",
        "            .agg({'user_id': 'nunique'})\n",
        "            .rename(columns={'user_id': 'cohort_size'})\n",
        "        )\n",
        "        # объединяем размеры когорт и таблицу выручки\n",
        "        result = cohort_sizes.merge(result, on=dims, how='left').fillna(0)\n",
        "        # считаем LTV: делим каждую «ячейку» в строке на размер когорты\n",
        "        result = result.div(result['cohort_size'], axis=0)\n",
        "        # исключаем все лайфтаймы, превышающие горизонт анализа\n",
        "        result = result[['cohort_size'] + list(range(horizon_days))]\n",
        "        # восстанавливаем размеры когорт\n",
        "        result['cohort_size'] = cohort_sizes\n",
        "\n",
        "        # собираем датафрейм с данными пользователей и значениями CAC, \n",
        "        # добавляя параметры из dimensions\n",
        "        cac = df[['user_id', 'acquisition_cost'] + dims].drop_duplicates()\n",
        "\n",
        "        # считаем средний CAC по параметрам из dimensions\n",
        "        cac = (\n",
        "            cac.groupby(dims)\n",
        "            .agg({'acquisition_cost': 'mean'})\n",
        "            .rename(columns={'acquisition_cost': 'cac'})\n",
        "        )\n",
        "\n",
        "        # считаем ROI: делим LTV на CAC\n",
        "        roi = result.div(cac['cac'], axis=0)\n",
        "\n",
        "        # удаляем строки с бесконечным ROI\n",
        "        roi = roi[~roi['cohort_size'].isin([np.inf])]\n",
        "\n",
        "        # восстанавливаем размеры когорт в таблице ROI\n",
        "        roi['cohort_size'] = cohort_sizes\n",
        "\n",
        "        # добавляем CAC в таблицу ROI\n",
        "        roi['cac'] = cac['cac']\n",
        "\n",
        "        # в финальной таблице оставляем размеры когорт, CAC\n",
        "        # и ROI в лайфтаймы, не превышающие горизонт анализа\n",
        "        roi = roi[['cohort_size', 'cac'] + list(range(horizon_days))]\n",
        "\n",
        "        # возвращаем таблицы LTV и ROI\n",
        "        return result, roi\n",
        "\n",
        "    # получаем таблицы LTV и ROI\n",
        "    result_grouped, roi_grouped = group_by_dimensions(\n",
        "        result_raw, dimensions, horizon_days\n",
        "    )\n",
        "\n",
        "    # для таблиц динамики убираем 'cohort' из dimensions\n",
        "    if 'cohort' in dimensions:\n",
        "        dimensions = []\n",
        "\n",
        "    # получаем таблицы динамики LTV и ROI\n",
        "    result_in_time, roi_in_time = group_by_dimensions(\n",
        "        result_raw, dimensions + ['dt'], horizon_days\n",
        "    )\n",
        "\n",
        "    return (\n",
        "        result_raw,  # сырые данные\n",
        "        result_grouped,  # таблица LTV\n",
        "        result_in_time,  # таблица динамики LTV\n",
        "        roi_grouped,  # таблица ROI\n",
        "        roi_in_time,  # таблица динамики ROI\n",
        "    )"
      ]
    },
    {
      "cell_type": "markdown",
      "metadata": {
        "id": "80TvIH1wiHYb"
      },
      "source": [
        "### Функция для расчёта удержания"
      ]
    },
    {
      "cell_type": "code",
      "execution_count": null,
      "metadata": {
        "id": "CAmY3gKCiHYb"
      },
      "outputs": [],
      "source": [
        "def get_retention(\n",
        "    profiles,\n",
        "    sessions,\n",
        "    observation_date,\n",
        "    horizon_days,\n",
        "    dimensions=[],\n",
        "    ignore_horizon=False,\n",
        "):\n",
        "\n",
        "    # добавляем столбец payer в передаваемый dimensions список\n",
        "    dimensions = ['payer'] + dimensions\n",
        "\n",
        "    # исключаем пользователей, не «доживших» до горизонта анализа\n",
        "    last_suitable_acquisition_date = observation_date\n",
        "    if not ignore_horizon:\n",
        "        last_suitable_acquisition_date = observation_date - timedelta(\n",
        "            days=horizon_days - 1\n",
        "        )\n",
        "    result_raw = profiles.query('dt <= @last_suitable_acquisition_date')\n",
        "\n",
        "    # собираем «сырые» данные для расчёта удержания\n",
        "    result_raw = result_raw.merge(\n",
        "        sessions[['user_id', 'session_start']], on='user_id', how='left'\n",
        "    )\n",
        "    result_raw['lifetime'] = (\n",
        "        result_raw['session_start'] - result_raw['first_ts']\n",
        "    ).dt.days\n",
        "\n",
        "    # функция для группировки таблицы по желаемым признакам\n",
        "    def group_by_dimensions(df, dims, horizon_days):\n",
        "        result = df.pivot_table(\n",
        "            index=dims, columns='lifetime', values='user_id', aggfunc='nunique'\n",
        "        )\n",
        "        cohort_sizes = (\n",
        "            df.groupby(dims)\n",
        "            .agg({'user_id': 'nunique'})\n",
        "            .rename(columns={'user_id': 'cohort_size'})\n",
        "        )\n",
        "        result = cohort_sizes.merge(result, on=dims, how='left').fillna(0)\n",
        "        result = result.div(result['cohort_size'], axis=0)\n",
        "        result = result[['cohort_size'] + list(range(horizon_days))]\n",
        "        result['cohort_size'] = cohort_sizes\n",
        "        return result\n",
        "\n",
        "    # получаем таблицу удержания\n",
        "    result_grouped = group_by_dimensions(result_raw, dimensions, horizon_days)\n",
        "\n",
        "    # получаем таблицу динамики удержания\n",
        "    result_in_time = group_by_dimensions(\n",
        "        result_raw, dimensions + ['dt'], horizon_days\n",
        "    )\n",
        "\n",
        "    # возвращаем обе таблицы и сырые данные\n",
        "    return result_raw, result_grouped, result_in_time"
      ]
    },
    {
      "cell_type": "markdown",
      "metadata": {
        "id": "J0uCZFrZiHYd"
      },
      "source": [
        "### Функция для расчёта конверсии"
      ]
    },
    {
      "cell_type": "code",
      "execution_count": null,
      "metadata": {
        "id": "MprNuAJOiHYd"
      },
      "outputs": [],
      "source": [
        "def get_conversion(\n",
        "    profiles,\n",
        "    purchases,\n",
        "    observation_date,\n",
        "    horizon_days,\n",
        "    dimensions=[],\n",
        "    ignore_horizon=False,\n",
        "):\n",
        "\n",
        "    # исключаем пользователей, не «доживших» до горизонта анализа\n",
        "    last_suitable_acquisition_date = observation_date\n",
        "    if not ignore_horizon:\n",
        "        last_suitable_acquisition_date = observation_date - timedelta(\n",
        "            days=horizon_days - 1\n",
        "        )\n",
        "    result_raw = profiles.query('dt <= @last_suitable_acquisition_date')\n",
        "\n",
        "    # определяем дату и время первой покупки для каждого пользователя\n",
        "    first_purchases = (\n",
        "        purchases.sort_values(by=['user_id', 'event_dt'])\n",
        "        .groupby('user_id')\n",
        "        .agg({'event_dt': 'first'})\n",
        "        .reset_index()\n",
        "    )\n",
        "\n",
        "    # добавляем данные о покупках в профили\n",
        "    result_raw = result_raw.merge(\n",
        "        first_purchases[['user_id', 'event_dt']], on='user_id', how='left'\n",
        "    )\n",
        "\n",
        "    # рассчитываем лайфтайм для каждой покупки\n",
        "    result_raw['lifetime'] = (\n",
        "        result_raw['event_dt'] - result_raw['first_ts']\n",
        "    ).dt.days\n",
        "\n",
        "    # группируем по cohort, если в dimensions ничего нет\n",
        "    if len(dimensions) == 0:\n",
        "        result_raw['cohort'] = 'All users'\n",
        "        dimensions = dimensions + ['cohort']\n",
        "\n",
        "    # функция для группировки таблицы по желаемым признакам\n",
        "    def group_by_dimensions(df, dims, horizon_days):\n",
        "        result = df.pivot_table(\n",
        "            index=dims, columns='lifetime', values='user_id', aggfunc='nunique'\n",
        "        )\n",
        "        result = result.fillna(0).cumsum(axis=1)\n",
        "        cohort_sizes = (\n",
        "            df.groupby(dims)\n",
        "            .agg({'user_id': 'nunique'})\n",
        "            .rename(columns={'user_id': 'cohort_size'})\n",
        "        )\n",
        "        result = cohort_sizes.merge(result, on=dims, how='left').fillna(0)\n",
        "        # делим каждую «ячейку» в строке на размер когорты\n",
        "        # и получаем conversion rate\n",
        "        result = result.div(result['cohort_size'], axis=0)\n",
        "        result = result[['cohort_size'] + list(range(horizon_days))]\n",
        "        result['cohort_size'] = cohort_sizes\n",
        "        return result\n",
        "\n",
        "    # получаем таблицу конверсии\n",
        "    result_grouped = group_by_dimensions(result_raw, dimensions, horizon_days)\n",
        "\n",
        "    # для таблицы динамики конверсии убираем 'cohort' из dimensions\n",
        "    if 'cohort' in dimensions: \n",
        "        dimensions = []\n",
        "\n",
        "    # получаем таблицу динамики конверсии\n",
        "    result_in_time = group_by_dimensions(\n",
        "        result_raw, dimensions + ['dt'], horizon_days\n",
        "    )\n",
        "\n",
        "    # возвращаем обе таблицы и сырые данные\n",
        "    return result_raw, result_grouped, result_in_time"
      ]
    },
    {
      "cell_type": "markdown",
      "metadata": {
        "id": "TVM_pTK5iHYe"
      },
      "source": [
        "### Функция создания профилей"
      ]
    },
    {
      "cell_type": "code",
      "execution_count": null,
      "metadata": {
        "id": "3YKaKIt7iHYe"
      },
      "outputs": [],
      "source": [
        "def get_profiles(visits, orders, costs):\n",
        "\n",
        "    # находим параметры первых посещений\n",
        "    profiles = (\n",
        "        visits.sort_values(by=['user_id', 'session_start'])\n",
        "        .groupby('user_id')\n",
        "        .agg(\n",
        "            {\n",
        "                'session_start': 'first',\n",
        "                'channel': 'first',\n",
        "                'device': 'first',\n",
        "                'region': 'first',\n",
        "            }\n",
        "        )\n",
        "        .rename(columns={'session_start': 'first_ts'})\n",
        "        .reset_index()\n",
        "    )\n",
        "\n",
        "    # для когортного анализа определяем дату первого посещения и первый день месяца, в который это посещение произошло\n",
        "    profiles['dt'] = profiles['first_ts'].dt.date\n",
        "    profiles['month'] = profiles['first_ts'].astype('datetime64[M]')\n",
        "\n",
        "    # добавляем признак платящих пользователей\n",
        "    profiles['payer'] = profiles['user_id'].isin(orders['user_id'].unique())\n",
        "\n",
        "    # считаем количество уникальных пользователей с одинаковыми источником и датой привлечения\n",
        "    new_users = (\n",
        "        profiles.groupby(['dt', 'channel'])\n",
        "        .agg({'user_id': 'nunique'})\n",
        "        .rename(columns={'user_id': 'unique_users'})\n",
        "        .reset_index()\n",
        "    )\n",
        "\n",
        "    # объединяем траты на рекламу и число привлечённых пользователей\n",
        "    costs = costs.merge(new_users, on=['dt', 'channel'], how='left')\n",
        "    #costs['acquisition_cost'] = costs.set_index('key').join(new_users.set_index('key'))\n",
        "\n",
        "    # делим рекламные расходы на число привлечённых пользователей\n",
        "    costs['acquisition_cost'] = costs['costs'] / costs['unique_users']\n",
        " \n",
        "\n",
        "    # добавляем стоимость привлечения в профили\n",
        "    profiles = profiles.merge(\n",
        "        costs[['dt', 'channel', 'acquisition_cost']],\n",
        "        on=['dt', 'channel'],\n",
        "        how='left',\n",
        "    )\n",
        "\n",
        "    # стоимость привлечения органических пользователей равна нулю\n",
        "    profiles['acquisition_cost'] = profiles['acquisition_cost'].fillna(0)\n",
        "\n",
        "    return profiles"
      ]
    },
    {
      "cell_type": "markdown",
      "metadata": {
        "id": "zwgI3q7qiHYe"
      },
      "source": [
        "### Функция для визуализации LTV и ROI"
      ]
    },
    {
      "cell_type": "code",
      "execution_count": null,
      "metadata": {
        "id": "kvTXgWcAiHYf"
      },
      "outputs": [],
      "source": [
        "def plot_ltv_roi(ltv, ltv_history, roi, roi_history, horizon, window=7):\n",
        "\n",
        "    # задаём сетку отрисовки графиков\n",
        "    plt.figure(figsize=(15, 15))\n",
        "\n",
        "    # из таблицы ltv исключаем размеры когорт\n",
        "    ltv = ltv.drop(columns=['cohort_size'])\n",
        "    # в таблице динамики ltv оставляем только нужный лайфтайм\n",
        "    ltv_history = ltv_history.drop(columns=['cohort_size'])[[horizon - 1]]\n",
        "\n",
        "    # стоимость привлечения запишем в отдельный фрейм\n",
        "    cac_history = roi_history[['cac']]\n",
        "\n",
        "    # из таблицы roi исключаем размеры когорт и cac\n",
        "    roi = roi.drop(columns=['cohort_size', 'cac'])\n",
        "    # в таблице динамики roi оставляем только нужный лайфтайм\n",
        "    roi_history = roi_history.drop(columns=['cohort_size', 'cac'])[\n",
        "        [horizon - 1]\n",
        "    ]\n",
        "\n",
        "    # первый график — кривые ltv\n",
        "    ax1 = plt.subplot(3, 2, 1)\n",
        "    ltv.T.plot(grid=True, ax=ax1)\n",
        "    plt.legend()\n",
        "    plt.xlabel('Лайфтайм')\n",
        "    plt.title('LTV')\n",
        "\n",
        "    # второй график — динамика ltv\n",
        "    ax2 = plt.subplot(3, 2, 2, sharey=ax1)\n",
        "    # столбцами сводной таблицы станут все столбцы индекса, кроме даты\n",
        "    columns = [name for name in ltv_history.index.names if name not in ['dt']]\n",
        "    filtered_data = ltv_history.pivot_table(\n",
        "        index='dt', columns=columns, values=horizon - 1, aggfunc='mean'\n",
        "    )\n",
        "    filter_data(filtered_data, window).plot(grid=True, ax=ax2)\n",
        "    plt.xlabel('Дата привлечения')\n",
        "    plt.title('Динамика LTV пользователей на {}-й день'.format(horizon))\n",
        "\n",
        "    # третий график — динамика cac\n",
        "    ax3 = plt.subplot(3, 2, 3, sharey=ax1)\n",
        "    # столбцами сводной таблицы станут все столбцы индекса, кроме даты\n",
        "    columns = [name for name in cac_history.index.names if name not in ['dt']]\n",
        "    filtered_data = cac_history.pivot_table(\n",
        "        index='dt', columns=columns, values='cac', aggfunc='mean'\n",
        "    )\n",
        "    filter_data(filtered_data, window).plot(grid=True, ax=ax3)\n",
        "    plt.xlabel('Дата привлечения')\n",
        "    plt.title('Динамика стоимости привлечения пользователей')\n",
        "\n",
        "    # четвёртый график — кривые roi\n",
        "    ax4 = plt.subplot(3,2, 4)\n",
        "    roi.T.plot(grid=True, ax=ax4)\n",
        "    plt.axhline(y=1, color='red', linestyle='--', label='Уровень окупаемости')\n",
        "    plt.legend()\n",
        "    plt.xlabel('Лайфтайм')\n",
        "    plt.title('ROI')\n",
        "\n",
        "    # пятый график — динамика roi\n",
        "    ax5 = plt.subplot(3, 2, 5, sharey=ax4)\n",
        "    # столбцами сводной таблицы станут все столбцы индекса, кроме даты\n",
        "    columns = [name for name in roi_history.index.names if name not in ['dt']]\n",
        "    filtered_data = roi_history.pivot_table(\n",
        "        index='dt', columns=columns, values=horizon - 1, aggfunc='mean'\n",
        "    )\n",
        "    filter_data(filtered_data, window).plot(grid=True, ax=ax5)\n",
        "    plt.axhline(y=1, color='red', linestyle='--', label='Уровень окупаемости')\n",
        "    plt.xlabel('Дата привлечения')\n",
        "    plt.title('Динамика ROI пользователей на {}-й день'.format(horizon))\n",
        "\n",
        "    plt.tight_layout()\n",
        "    plt.show()"
      ]
    },
    {
      "cell_type": "markdown",
      "metadata": {
        "id": "FHIMYkF_iHYf"
      },
      "source": [
        "### Функция для визуализации конверсии"
      ]
    },
    {
      "cell_type": "code",
      "execution_count": null,
      "metadata": {
        "id": "8rjAer6QiHYf"
      },
      "outputs": [],
      "source": [
        "def plot_conversion(conversion, conversion_history, horizon, window=7):\n",
        "\n",
        "    # задаём размер сетки для графиков\n",
        "    plt.figure(figsize=(30, 10))\n",
        "\n",
        "    # исключаем размеры когорт\n",
        "    conversion = conversion.drop(columns=['cohort_size'])\n",
        "    # в таблице динамики оставляем только нужный лайфтайм\n",
        "    conversion_history = conversion_history.drop(columns=['cohort_size'])[\n",
        "        [horizon - 1]\n",
        "    ]\n",
        "\n",
        "    # первый график — кривые конверсии\n",
        "    ax1 = plt.subplot(1, 2, 1)\n",
        "    conversion.T.plot(grid=True, ax=ax1)\n",
        "    plt.legend()#bbox_to_anchor=(1.0, 1.05), loc='upper left')\n",
        "    plt.xlabel('Лайфтайм')\n",
        "    plt.title('Конверсия пользователей')\n",
        "\n",
        "    # второй график — динамика конверсии\n",
        "    ax2 = plt.subplot(1, 2, 2, sharey=ax1)\n",
        "    columns = [\n",
        "        # столбцами сводной таблицы станут все столбцы индекса, кроме даты\n",
        "        name for name in conversion_history.index.names if name not in ['dt']\n",
        "    ]\n",
        "    filtered_data = conversion_history.pivot_table(\n",
        "        index='dt', columns=columns, values=horizon - 1, aggfunc='mean'\n",
        "    )\n",
        "    filter_data(filtered_data, window).plot(grid=True, ax=ax2)\n",
        "    plt.xlabel('Дата привлечения')\n",
        "    plt.title('Динамика конверсии пользователей на {}-й день'.format(horizon))\n",
        "\n",
        "    plt.tight_layout()\n",
        "    plt.show()"
      ]
    },
    {
      "cell_type": "markdown",
      "metadata": {
        "id": "WQjDGCXciHYg"
      },
      "source": [
        "### Функция для визуализации удержания"
      ]
    },
    {
      "cell_type": "code",
      "execution_count": null,
      "metadata": {
        "id": "DvYlULs5iHYg"
      },
      "outputs": [],
      "source": [
        "def plot_retention(retention, retention_history, horizon, window=7):\n",
        "\n",
        "    # задаём размер сетки для графиков\n",
        "    plt.figure(figsize=(15, 10))\n",
        "\n",
        "    # исключаем размеры когорт и удержание первого дня\n",
        "    retention = retention.drop(columns=['cohort_size', 0])\n",
        "    # в таблице динамики оставляем только нужный лайфтайм\n",
        "    retention_history = retention_history.drop(columns=['cohort_size'])[\n",
        "        [horizon - 1]\n",
        "    ]\n",
        "\n",
        "    # если в индексах таблицы удержания только payer,\n",
        "    # добавляем второй признак — cohort\n",
        "    if retention.index.nlevels == 1:\n",
        "        retention['cohort'] = 'All users'\n",
        "        retention = retention.reset_index().set_index(['cohort', 'payer'])\n",
        "\n",
        "    # в таблице графиков — два столбца и две строки, четыре ячейки\n",
        "    # в первой строим кривые удержания платящих пользователей\n",
        "    ax1 = plt.subplot(2, 2, 1)\n",
        "    retention.query('payer == True').droplevel('payer').T.plot(\n",
        "        grid=True, ax=ax1\n",
        "    )\n",
        "    plt.legend()\n",
        "    plt.xlabel('Лайфтайм')\n",
        "    plt.title('Удержание платящих пользователей')\n",
        "\n",
        "    # во второй ячейке строим кривые удержания неплатящих\n",
        "    # вертикальная ось — от графика из первой ячейки\n",
        "    ax2 = plt.subplot(2, 2, 2, sharey=ax1)\n",
        "    retention.query('payer == False').droplevel('payer').T.plot(\n",
        "        grid=True, ax=ax2\n",
        "    )\n",
        "    plt.legend()\n",
        "    plt.xlabel('Лайфтайм')\n",
        "    plt.title('Удержание неплатящих пользователей')\n",
        "\n",
        "    # в третьей ячейке — динамика удержания платящих\n",
        "    ax3 = plt.subplot(2, 2, 3)\n",
        "    # получаем названия столбцов для сводной таблицы\n",
        "    columns = [\n",
        "        name\n",
        "        for name in retention_history.index.names\n",
        "        if name not in ['dt', 'payer']\n",
        "    ]\n",
        "    # фильтруем данные и строим график\n",
        "    filtered_data = retention_history.query('payer == True').pivot_table(\n",
        "        index='dt', columns=columns, values=horizon - 1, aggfunc='mean'\n",
        "    )\n",
        "    filter_data(filtered_data, window).plot(grid=True, ax=ax3)\n",
        "    plt.xlabel('Дата привлечения')\n",
        "    plt.title(\n",
        "        'Динамика удержания платящих пользователей на {}-й день'.format(\n",
        "            horizon\n",
        "        )\n",
        "    )\n",
        "\n",
        "    # в чётвертой ячейке — динамика удержания неплатящих\n",
        "    ax4 = plt.subplot(2, 2, 4, sharey=ax3)\n",
        "    # фильтруем данные и строим график\n",
        "    filtered_data = retention_history.query('payer == False').pivot_table(\n",
        "        index='dt', columns=columns, values=horizon - 1, aggfunc='mean'\n",
        "    )\n",
        "    filter_data(filtered_data, window).plot(grid=True, ax=ax4)\n",
        "    plt.xlabel('Дата привлечения')\n",
        "    plt.title(\n",
        "        'Динамика удержания неплатящих пользователей на {}-й день'.format(\n",
        "            horizon\n",
        "        )\n",
        "    )\n",
        "    \n",
        "    plt.tight_layout()\n",
        "    plt.show()"
      ]
    },
    {
      "cell_type": "markdown",
      "metadata": {
        "id": "YgQsIICriHYh"
      },
      "source": [
        "### Функция для сглаживания фрейма"
      ]
    },
    {
      "cell_type": "code",
      "execution_count": null,
      "metadata": {
        "id": "0wA4nwQ8iHYi"
      },
      "outputs": [],
      "source": [
        "def filter_data(df, window):\n",
        "    # для каждого столбца применяем скользящее среднее\n",
        "    for column in df.columns.values:\n",
        "        df[column] = df[column].rolling(window).mean() \n",
        "    return df"
      ]
    },
    {
      "cell_type": "markdown",
      "metadata": {
        "id": "V-KBT-KMWVwl"
      },
      "source": [
        "### Исследовательский анализ данных\n",
        "\n",
        "- Составьте профили пользователей. Определите минимальную и максимальную даты привлечения пользователей.\n",
        "- Выясните, из каких стран пользователи приходят в приложение и на какую страну приходится больше всего платящих пользователей. Постройте таблицу, отражающую количество пользователей и долю платящих из каждой страны.\n",
        "- Узнайте, какими устройствами пользуются клиенты и какие устройства предпочитают платящие пользователи. Постройте таблицу, отражающую количество пользователей и долю платящих для каждого устройства.\n",
        "- Изучите рекламные источники привлечения и определите каналы, из которых пришло больше всего платящих пользователей. Постройте таблицу, отражающую количество пользователей и долю платящих для каждого канала привлечения.\n",
        "\n",
        "После каждого пункта сформулируйте выводы."
      ]
    },
    {
      "cell_type": "code",
      "execution_count": null,
      "metadata": {
        "id": "oOLsbJpNWVwm",
        "outputId": "d943474d-e834-4fea-d8ff-0818f8f7be39"
      },
      "outputs": [
        {
          "data": {
            "text/plain": [
              "datetime.date(2019, 11, 1)"
            ]
          },
          "execution_count": 24,
          "metadata": {},
          "output_type": "execute_result"
        }
      ],
      "source": [
        "# момент анализа\n",
        "observation_date = datetime(2019, 11, 1).date()\n",
        "observation_date"
      ]
    },
    {
      "cell_type": "code",
      "execution_count": null,
      "metadata": {
        "id": "BRhsXmEoiHYi"
      },
      "outputs": [],
      "source": [
        "# горизонт анализа\n",
        "horizon_days = 14"
      ]
    },
    {
      "cell_type": "code",
      "execution_count": null,
      "metadata": {
        "id": "PwjybIaciHYi"
      },
      "outputs": [],
      "source": [
        "# создаем опцию «игнорировать горизонт»\n",
        "ignore_horizon = False"
      ]
    },
    {
      "cell_type": "code",
      "execution_count": null,
      "metadata": {
        "id": "ebITUzYGiHYj",
        "outputId": "50586fe8-3ba6-4afb-92d1-37f58c27d022"
      },
      "outputs": [
        {
          "name": "stdout",
          "output_type": "stream",
          "text": [
            "Минимальная дата привлечения пользователей: 2019-05-01\n",
            "Максимальная дата привлечения пользователей: 2019-10-27\n"
          ]
        }
      ],
      "source": [
        "# минимальная и максимально возможные дата привлечения пользователей\n",
        "print('Минимальная дата привлечения пользователей:', costs['dt'].min())\n",
        "print('Максимальная дата привлечения пользователей:', costs['dt'].max())"
      ]
    },
    {
      "cell_type": "markdown",
      "metadata": {
        "id": "vI5U4jcXiHYj"
      },
      "source": [
        "Даты соответствуют ТЗ, продолжим анализ</div>"
      ]
    },
    {
      "cell_type": "code",
      "execution_count": null,
      "metadata": {
        "id": "oaBUYNtAiHYj",
        "outputId": "02d1cf99-37f3-4ed9-f54d-bbd8dbf6bc2e"
      },
      "outputs": [
        {
          "data": {
            "text/html": [
              "<div>\n",
              "<style scoped>\n",
              "    .dataframe tbody tr th:only-of-type {\n",
              "        vertical-align: middle;\n",
              "    }\n",
              "\n",
              "    .dataframe tbody tr th {\n",
              "        vertical-align: top;\n",
              "    }\n",
              "\n",
              "    .dataframe thead th {\n",
              "        text-align: right;\n",
              "    }\n",
              "</style>\n",
              "<table border=\"1\" class=\"dataframe\">\n",
              "  <thead>\n",
              "    <tr style=\"text-align: right;\">\n",
              "      <th></th>\n",
              "      <th>user_id</th>\n",
              "      <th>first_ts</th>\n",
              "      <th>channel</th>\n",
              "      <th>device</th>\n",
              "      <th>region</th>\n",
              "      <th>dt</th>\n",
              "      <th>month</th>\n",
              "      <th>payer</th>\n",
              "      <th>acquisition_cost</th>\n",
              "    </tr>\n",
              "  </thead>\n",
              "  <tbody>\n",
              "    <tr>\n",
              "      <th>0</th>\n",
              "      <td>599326</td>\n",
              "      <td>2019-05-07 20:58:57</td>\n",
              "      <td>FaceBoom</td>\n",
              "      <td>Mac</td>\n",
              "      <td>United States</td>\n",
              "      <td>2019-05-07</td>\n",
              "      <td>2019-05-01</td>\n",
              "      <td>True</td>\n",
              "      <td>1.088172</td>\n",
              "    </tr>\n",
              "    <tr>\n",
              "      <th>1</th>\n",
              "      <td>4919697</td>\n",
              "      <td>2019-07-09 12:46:07</td>\n",
              "      <td>FaceBoom</td>\n",
              "      <td>iPhone</td>\n",
              "      <td>United States</td>\n",
              "      <td>2019-07-09</td>\n",
              "      <td>2019-07-01</td>\n",
              "      <td>False</td>\n",
              "      <td>1.107237</td>\n",
              "    </tr>\n",
              "    <tr>\n",
              "      <th>2</th>\n",
              "      <td>6085896</td>\n",
              "      <td>2019-10-01 09:58:33</td>\n",
              "      <td>organic</td>\n",
              "      <td>iPhone</td>\n",
              "      <td>France</td>\n",
              "      <td>2019-10-01</td>\n",
              "      <td>2019-10-01</td>\n",
              "      <td>False</td>\n",
              "      <td>0.000000</td>\n",
              "    </tr>\n",
              "    <tr>\n",
              "      <th>3</th>\n",
              "      <td>22593348</td>\n",
              "      <td>2019-08-22 21:35:48</td>\n",
              "      <td>AdNonSense</td>\n",
              "      <td>PC</td>\n",
              "      <td>Germany</td>\n",
              "      <td>2019-08-22</td>\n",
              "      <td>2019-08-01</td>\n",
              "      <td>False</td>\n",
              "      <td>0.988235</td>\n",
              "    </tr>\n",
              "    <tr>\n",
              "      <th>4</th>\n",
              "      <td>31989216</td>\n",
              "      <td>2019-10-02 00:07:44</td>\n",
              "      <td>YRabbit</td>\n",
              "      <td>iPhone</td>\n",
              "      <td>United States</td>\n",
              "      <td>2019-10-02</td>\n",
              "      <td>2019-10-01</td>\n",
              "      <td>False</td>\n",
              "      <td>0.230769</td>\n",
              "    </tr>\n",
              "  </tbody>\n",
              "</table>\n",
              "</div>"
            ],
            "text/plain": [
              "    user_id            first_ts     channel  device         region  \\\n",
              "0    599326 2019-05-07 20:58:57    FaceBoom     Mac  United States   \n",
              "1   4919697 2019-07-09 12:46:07    FaceBoom  iPhone  United States   \n",
              "2   6085896 2019-10-01 09:58:33     organic  iPhone         France   \n",
              "3  22593348 2019-08-22 21:35:48  AdNonSense      PC        Germany   \n",
              "4  31989216 2019-10-02 00:07:44     YRabbit  iPhone  United States   \n",
              "\n",
              "           dt      month  payer  acquisition_cost  \n",
              "0  2019-05-07 2019-05-01   True          1.088172  \n",
              "1  2019-07-09 2019-07-01  False          1.107237  \n",
              "2  2019-10-01 2019-10-01  False          0.000000  \n",
              "3  2019-08-22 2019-08-01  False          0.988235  \n",
              "4  2019-10-02 2019-10-01  False          0.230769  "
            ]
          },
          "execution_count": 28,
          "metadata": {},
          "output_type": "execute_result"
        }
      ],
      "source": [
        "# построим профили пользователей\n",
        "profiles = get_profiles(visits, orders, costs)\n",
        "profiles.head()"
      ]
    },
    {
      "cell_type": "code",
      "execution_count": null,
      "metadata": {
        "id": "2NNdWQyWiHYj",
        "outputId": "a310fa3d-b9e5-44df-9dd7-b4d841b0f809"
      },
      "outputs": [
        {
          "data": {
            "text/html": [
              "<style type=\"text/css\">\n",
              "</style>\n",
              "<table id=\"T_33243\">\n",
              "  <thead>\n",
              "    <tr>\n",
              "      <th class=\"blank level0\" >&nbsp;</th>\n",
              "      <th id=\"T_33243_level0_col0\" class=\"col_heading level0 col0\" >Пользователи</th>\n",
              "      <th id=\"T_33243_level0_col1\" class=\"col_heading level0 col1\" >Платящие пользователи</th>\n",
              "      <th id=\"T_33243_level0_col2\" class=\"col_heading level0 col2\" >% платящих пользователей</th>\n",
              "    </tr>\n",
              "    <tr>\n",
              "      <th class=\"index_name level0\" >region</th>\n",
              "      <th class=\"blank col0\" >&nbsp;</th>\n",
              "      <th class=\"blank col1\" >&nbsp;</th>\n",
              "      <th class=\"blank col2\" >&nbsp;</th>\n",
              "    </tr>\n",
              "  </thead>\n",
              "  <tbody>\n",
              "    <tr>\n",
              "      <th id=\"T_33243_level0_row0\" class=\"row_heading level0 row0\" >United States</th>\n",
              "      <td id=\"T_33243_row0_col0\" class=\"data row0 col0\" >100002</td>\n",
              "      <td id=\"T_33243_row0_col1\" class=\"data row0 col1\" >6902</td>\n",
              "      <td id=\"T_33243_row0_col2\" class=\"data row0 col2\" >6.902%</td>\n",
              "    </tr>\n",
              "    <tr>\n",
              "      <th id=\"T_33243_level0_row1\" class=\"row_heading level0 row1\" >Germany</th>\n",
              "      <td id=\"T_33243_row1_col0\" class=\"data row1 col0\" >14981</td>\n",
              "      <td id=\"T_33243_row1_col1\" class=\"data row1 col1\" >616</td>\n",
              "      <td id=\"T_33243_row1_col2\" class=\"data row1 col2\" >4.112%</td>\n",
              "    </tr>\n",
              "    <tr>\n",
              "      <th id=\"T_33243_level0_row2\" class=\"row_heading level0 row2\" >UK</th>\n",
              "      <td id=\"T_33243_row2_col0\" class=\"data row2 col0\" >17575</td>\n",
              "      <td id=\"T_33243_row2_col1\" class=\"data row2 col1\" >700</td>\n",
              "      <td id=\"T_33243_row2_col2\" class=\"data row2 col2\" >3.983%</td>\n",
              "    </tr>\n",
              "    <tr>\n",
              "      <th id=\"T_33243_level0_row3\" class=\"row_heading level0 row3\" >France</th>\n",
              "      <td id=\"T_33243_row3_col0\" class=\"data row3 col0\" >17450</td>\n",
              "      <td id=\"T_33243_row3_col1\" class=\"data row3 col1\" >663</td>\n",
              "      <td id=\"T_33243_row3_col2\" class=\"data row3 col2\" >3.799%</td>\n",
              "    </tr>\n",
              "  </tbody>\n",
              "</table>\n"
            ],
            "text/plain": [
              "<pandas.io.formats.style.Styler at 0x7fdb8ed36f40>"
            ]
          },
          "execution_count": 29,
          "metadata": {},
          "output_type": "execute_result"
        }
      ],
      "source": [
        "# смотрим страны и платящих пользователей\n",
        "report_region = profiles.groupby('region').agg({'user_id': 'count', 'payer':['sum', 'mean']})\n",
        "report_region.columns = ['Пользователи', 'Платящие пользователи', '% платящих пользователей']\n",
        "report_region['% платящих пользователей'] = 100*report_region['% платящих пользователей']\n",
        "report_region.sort_values(by='% платящих пользователей', ascending=False).style.format({'Платящие пользователи': '{:.0f}',\n",
        "                                                                    '% платящих пользователей': '{:.3f}%'})"
      ]
    },
    {
      "cell_type": "code",
      "execution_count": null,
      "metadata": {
        "id": "xaSFHilCiHYj",
        "outputId": "10e4b89d-dc93-4876-f643-430bc7450171"
      },
      "outputs": [
        {
          "data": {
            "text/html": [
              "<style type=\"text/css\">\n",
              "</style>\n",
              "<table id=\"T_b3ae3\">\n",
              "  <thead>\n",
              "    <tr>\n",
              "      <th class=\"blank level0\" >&nbsp;</th>\n",
              "      <th id=\"T_b3ae3_level0_col0\" class=\"col_heading level0 col0\" >Пользователи</th>\n",
              "      <th id=\"T_b3ae3_level0_col1\" class=\"col_heading level0 col1\" >Платящие пользователи</th>\n",
              "      <th id=\"T_b3ae3_level0_col2\" class=\"col_heading level0 col2\" >% платящих пользователей</th>\n",
              "    </tr>\n",
              "    <tr>\n",
              "      <th class=\"index_name level0\" >device</th>\n",
              "      <th class=\"blank col0\" >&nbsp;</th>\n",
              "      <th class=\"blank col1\" >&nbsp;</th>\n",
              "      <th class=\"blank col2\" >&nbsp;</th>\n",
              "    </tr>\n",
              "  </thead>\n",
              "  <tbody>\n",
              "    <tr>\n",
              "      <th id=\"T_b3ae3_level0_row0\" class=\"row_heading level0 row0\" >Mac</th>\n",
              "      <td id=\"T_b3ae3_row0_col0\" class=\"data row0 col0\" >30042</td>\n",
              "      <td id=\"T_b3ae3_row0_col1\" class=\"data row0 col1\" >1912</td>\n",
              "      <td id=\"T_b3ae3_row0_col2\" class=\"data row0 col2\" >6.364%</td>\n",
              "    </tr>\n",
              "    <tr>\n",
              "      <th id=\"T_b3ae3_level0_row1\" class=\"row_heading level0 row1\" >iPhone</th>\n",
              "      <td id=\"T_b3ae3_row1_col0\" class=\"data row1 col0\" >54479</td>\n",
              "      <td id=\"T_b3ae3_row1_col1\" class=\"data row1 col1\" >3382</td>\n",
              "      <td id=\"T_b3ae3_row1_col2\" class=\"data row1 col2\" >6.208%</td>\n",
              "    </tr>\n",
              "    <tr>\n",
              "      <th id=\"T_b3ae3_level0_row2\" class=\"row_heading level0 row2\" >Android</th>\n",
              "      <td id=\"T_b3ae3_row2_col0\" class=\"data row2 col0\" >35032</td>\n",
              "      <td id=\"T_b3ae3_row2_col1\" class=\"data row2 col1\" >2050</td>\n",
              "      <td id=\"T_b3ae3_row2_col2\" class=\"data row2 col2\" >5.852%</td>\n",
              "    </tr>\n",
              "    <tr>\n",
              "      <th id=\"T_b3ae3_level0_row3\" class=\"row_heading level0 row3\" >PC</th>\n",
              "      <td id=\"T_b3ae3_row3_col0\" class=\"data row3 col0\" >30455</td>\n",
              "      <td id=\"T_b3ae3_row3_col1\" class=\"data row3 col1\" >1537</td>\n",
              "      <td id=\"T_b3ae3_row3_col2\" class=\"data row3 col2\" >5.047%</td>\n",
              "    </tr>\n",
              "  </tbody>\n",
              "</table>\n"
            ],
            "text/plain": [
              "<pandas.io.formats.style.Styler at 0x7fdb70bd3fd0>"
            ]
          },
          "execution_count": 30,
          "metadata": {},
          "output_type": "execute_result"
        }
      ],
      "source": [
        "# смотрим разбивку по устройствам и платящих пользователей\n",
        "report_device = profiles.groupby('device').agg({'user_id': 'count', 'payer': ['sum', 'mean']})\n",
        "report_device.columns = ['Пользователи', 'Платящие пользователи', '% платящих пользователей']\n",
        "report_device['% платящих пользователей'] = 100*report_device['% платящих пользователей']\n",
        "report_device.sort_values(by='% платящих пользователей', ascending=False).style.format({'Платящие пользователи': '{:.0f}',\n",
        "                                                                    '% платящих пользователей': '{:.3f}%'})\n"
      ]
    },
    {
      "cell_type": "code",
      "execution_count": null,
      "metadata": {
        "id": "TU1ilMQTiHYj",
        "outputId": "9c40c333-7393-4fd2-e36c-0d207b0052ea"
      },
      "outputs": [
        {
          "data": {
            "text/html": [
              "<style type=\"text/css\">\n",
              "</style>\n",
              "<table id=\"T_6d80a\">\n",
              "  <thead>\n",
              "    <tr>\n",
              "      <th class=\"blank level0\" >&nbsp;</th>\n",
              "      <th id=\"T_6d80a_level0_col0\" class=\"col_heading level0 col0\" >Пользователи</th>\n",
              "      <th id=\"T_6d80a_level0_col1\" class=\"col_heading level0 col1\" >Платящие пользователи</th>\n",
              "      <th id=\"T_6d80a_level0_col2\" class=\"col_heading level0 col2\" >% платящих пользователей</th>\n",
              "    </tr>\n",
              "    <tr>\n",
              "      <th class=\"index_name level0\" >channel</th>\n",
              "      <th class=\"blank col0\" >&nbsp;</th>\n",
              "      <th class=\"blank col1\" >&nbsp;</th>\n",
              "      <th class=\"blank col2\" >&nbsp;</th>\n",
              "    </tr>\n",
              "  </thead>\n",
              "  <tbody>\n",
              "    <tr>\n",
              "      <th id=\"T_6d80a_level0_row0\" class=\"row_heading level0 row0\" >FaceBoom</th>\n",
              "      <td id=\"T_6d80a_row0_col0\" class=\"data row0 col0\" >29144</td>\n",
              "      <td id=\"T_6d80a_row0_col1\" class=\"data row0 col1\" >3557</td>\n",
              "      <td id=\"T_6d80a_row0_col2\" class=\"data row0 col2\" >12.205%</td>\n",
              "    </tr>\n",
              "    <tr>\n",
              "      <th id=\"T_6d80a_level0_row1\" class=\"row_heading level0 row1\" >AdNonSense</th>\n",
              "      <td id=\"T_6d80a_row1_col0\" class=\"data row1 col0\" >3880</td>\n",
              "      <td id=\"T_6d80a_row1_col1\" class=\"data row1 col1\" >440</td>\n",
              "      <td id=\"T_6d80a_row1_col2\" class=\"data row1 col2\" >11.340%</td>\n",
              "    </tr>\n",
              "    <tr>\n",
              "      <th id=\"T_6d80a_level0_row2\" class=\"row_heading level0 row2\" >lambdaMediaAds</th>\n",
              "      <td id=\"T_6d80a_row2_col0\" class=\"data row2 col0\" >2149</td>\n",
              "      <td id=\"T_6d80a_row2_col1\" class=\"data row2 col1\" >225</td>\n",
              "      <td id=\"T_6d80a_row2_col2\" class=\"data row2 col2\" >10.470%</td>\n",
              "    </tr>\n",
              "    <tr>\n",
              "      <th id=\"T_6d80a_level0_row3\" class=\"row_heading level0 row3\" >TipTop</th>\n",
              "      <td id=\"T_6d80a_row3_col0\" class=\"data row3 col0\" >19561</td>\n",
              "      <td id=\"T_6d80a_row3_col1\" class=\"data row3 col1\" >1878</td>\n",
              "      <td id=\"T_6d80a_row3_col2\" class=\"data row3 col2\" >9.601%</td>\n",
              "    </tr>\n",
              "    <tr>\n",
              "      <th id=\"T_6d80a_level0_row4\" class=\"row_heading level0 row4\" >RocketSuperAds</th>\n",
              "      <td id=\"T_6d80a_row4_col0\" class=\"data row4 col0\" >4448</td>\n",
              "      <td id=\"T_6d80a_row4_col1\" class=\"data row4 col1\" >352</td>\n",
              "      <td id=\"T_6d80a_row4_col2\" class=\"data row4 col2\" >7.914%</td>\n",
              "    </tr>\n",
              "    <tr>\n",
              "      <th id=\"T_6d80a_level0_row5\" class=\"row_heading level0 row5\" >WahooNetBanner</th>\n",
              "      <td id=\"T_6d80a_row5_col0\" class=\"data row5 col0\" >8553</td>\n",
              "      <td id=\"T_6d80a_row5_col1\" class=\"data row5 col1\" >453</td>\n",
              "      <td id=\"T_6d80a_row5_col2\" class=\"data row5 col2\" >5.296%</td>\n",
              "    </tr>\n",
              "    <tr>\n",
              "      <th id=\"T_6d80a_level0_row6\" class=\"row_heading level0 row6\" >YRabbit</th>\n",
              "      <td id=\"T_6d80a_row6_col0\" class=\"data row6 col0\" >4312</td>\n",
              "      <td id=\"T_6d80a_row6_col1\" class=\"data row6 col1\" >165</td>\n",
              "      <td id=\"T_6d80a_row6_col2\" class=\"data row6 col2\" >3.827%</td>\n",
              "    </tr>\n",
              "    <tr>\n",
              "      <th id=\"T_6d80a_level0_row7\" class=\"row_heading level0 row7\" >MediaTornado</th>\n",
              "      <td id=\"T_6d80a_row7_col0\" class=\"data row7 col0\" >4364</td>\n",
              "      <td id=\"T_6d80a_row7_col1\" class=\"data row7 col1\" >156</td>\n",
              "      <td id=\"T_6d80a_row7_col2\" class=\"data row7 col2\" >3.575%</td>\n",
              "    </tr>\n",
              "    <tr>\n",
              "      <th id=\"T_6d80a_level0_row8\" class=\"row_heading level0 row8\" >LeapBob</th>\n",
              "      <td id=\"T_6d80a_row8_col0\" class=\"data row8 col0\" >8553</td>\n",
              "      <td id=\"T_6d80a_row8_col1\" class=\"data row8 col1\" >262</td>\n",
              "      <td id=\"T_6d80a_row8_col2\" class=\"data row8 col2\" >3.063%</td>\n",
              "    </tr>\n",
              "    <tr>\n",
              "      <th id=\"T_6d80a_level0_row9\" class=\"row_heading level0 row9\" >OppleCreativeMedia</th>\n",
              "      <td id=\"T_6d80a_row9_col0\" class=\"data row9 col0\" >8605</td>\n",
              "      <td id=\"T_6d80a_row9_col1\" class=\"data row9 col1\" >233</td>\n",
              "      <td id=\"T_6d80a_row9_col2\" class=\"data row9 col2\" >2.708%</td>\n",
              "    </tr>\n",
              "    <tr>\n",
              "      <th id=\"T_6d80a_level0_row10\" class=\"row_heading level0 row10\" >organic</th>\n",
              "      <td id=\"T_6d80a_row10_col0\" class=\"data row10 col0\" >56439</td>\n",
              "      <td id=\"T_6d80a_row10_col1\" class=\"data row10 col1\" >1160</td>\n",
              "      <td id=\"T_6d80a_row10_col2\" class=\"data row10 col2\" >2.055%</td>\n",
              "    </tr>\n",
              "  </tbody>\n",
              "</table>\n"
            ],
            "text/plain": [
              "<pandas.io.formats.style.Styler at 0x7fdb6fc482b0>"
            ]
          },
          "execution_count": 31,
          "metadata": {},
          "output_type": "execute_result"
        }
      ],
      "source": [
        "# смотрим разбивку по каналам и платящих пользователей\n",
        "report_channel = profiles.groupby('channel').agg({'user_id': 'count', 'payer': ['sum', 'mean']})\n",
        "report_channel.columns = ['Пользователи', 'Платящие пользователи', '% платящих пользователей']\n",
        "report_channel['% платящих пользователей'] = 100*report_channel['% платящих пользователей']\n",
        "report_channel.sort_values(by='% платящих пользователей', ascending=False).style.format({'Платящие пользователи': '{:.0f}',\n",
        "                                                                    '% платящих пользователей': '{:.3f}%'})"
      ]
    },
    {
      "cell_type": "markdown",
      "metadata": {
        "id": "4JM_wxP2iHYj"
      },
      "source": [
        "#### Вывод\n",
        "\n",
        "Мы посмотрели на базовые значения конверсии пользователей в покупатели по регионам, устройствам и каналу привлечения:\n",
        "\n",
        "Больше всего приходит пользователей из США и они лучше других конвертируется (почти 7%);\n",
        "Наибольшая конверсия у Macоводов, но в целом пользователи iphone и android отстали не сильно (у всех почти 6%), у PC всего 5%;\n",
        "Самые активные каналы привлечения FaceBoom, AdNonSense и lambdaMediaAds, у них платящих пользователей более 10%, органические клиенты - самые неплатящие, всего около 2%)"
      ]
    },
    {
      "cell_type": "markdown",
      "metadata": {
        "id": "80LRB5-eWVwm"
      },
      "source": [
        "### Маркетинг\n",
        "\n",
        "- Посчитайте общую сумму расходов на маркетинг.\n",
        "- Выясните, как траты распределены по рекламным источникам, то есть сколько денег потратили на каждый источник.\n",
        "- Постройте визуализацию динамики изменения расходов во времени (по неделям и месяцам) по каждому источнику. Постарайтесь отразить это на одном графике.\n",
        "- Узнайте, сколько в среднем стоило привлечение одного пользователя (CAC) из каждого источника. Используйте профили пользователей.\n",
        "\n",
        "Напишите промежуточные выводы."
      ]
    },
    {
      "cell_type": "markdown",
      "metadata": {
        "id": "489uqEvuiHYk"
      },
      "source": [
        "#### Общая сумму расходов на маркетинг"
      ]
    },
    {
      "cell_type": "code",
      "execution_count": null,
      "metadata": {
        "id": "-5ZVryzAiHYk",
        "outputId": "f8e2d73e-d183-4991-88ab-e92eccbdd49b"
      },
      "outputs": [
        {
          "data": {
            "text/plain": [
              "105497"
            ]
          },
          "execution_count": 32,
          "metadata": {},
          "output_type": "execute_result"
        }
      ],
      "source": [
        "# всего потрачено денег\n",
        "round(costs.costs.sum())"
      ]
    },
    {
      "cell_type": "code",
      "execution_count": null,
      "metadata": {
        "id": "DQE9emXqWVwm",
        "outputId": "33902265-2bb9-41d7-8087-82e81c87ccbc"
      },
      "outputs": [
        {
          "data": {
            "text/html": [
              "<style type=\"text/css\">\n",
              "</style>\n",
              "<table id=\"T_fa57a\">\n",
              "  <thead>\n",
              "    <tr>\n",
              "      <th class=\"blank level0\" >&nbsp;</th>\n",
              "      <th id=\"T_fa57a_level0_col0\" class=\"col_heading level0 col0\" >channel</th>\n",
              "      <th id=\"T_fa57a_level0_col1\" class=\"col_heading level0 col1\" >Пользователи</th>\n",
              "      <th id=\"T_fa57a_level0_col2\" class=\"col_heading level0 col2\" >Всего израсходовано</th>\n",
              "      <th id=\"T_fa57a_level0_col3\" class=\"col_heading level0 col3\" >В среднем на пользователя</th>\n",
              "      <th id=\"T_fa57a_level0_col4\" class=\"col_heading level0 col4\" >% от общих затрат</th>\n",
              "    </tr>\n",
              "  </thead>\n",
              "  <tbody>\n",
              "    <tr>\n",
              "      <th id=\"T_fa57a_level0_row0\" class=\"row_heading level0 row0\" >0</th>\n",
              "      <td id=\"T_fa57a_row0_col0\" class=\"data row0 col0\" >TipTop</td>\n",
              "      <td id=\"T_fa57a_row0_col1\" class=\"data row0 col1\" >19561</td>\n",
              "      <td id=\"T_fa57a_row0_col2\" class=\"data row0 col2\" >54751.300000</td>\n",
              "      <td id=\"T_fa57a_row0_col3\" class=\"data row0 col3\" >2.80</td>\n",
              "      <td id=\"T_fa57a_row0_col4\" class=\"data row0 col4\" >51.90</td>\n",
              "    </tr>\n",
              "    <tr>\n",
              "      <th id=\"T_fa57a_level0_row1\" class=\"row_heading level0 row1\" >1</th>\n",
              "      <td id=\"T_fa57a_row1_col0\" class=\"data row1 col0\" >FaceBoom</td>\n",
              "      <td id=\"T_fa57a_row1_col1\" class=\"data row1 col1\" >29144</td>\n",
              "      <td id=\"T_fa57a_row1_col2\" class=\"data row1 col2\" >32445.600000</td>\n",
              "      <td id=\"T_fa57a_row1_col3\" class=\"data row1 col3\" >1.11</td>\n",
              "      <td id=\"T_fa57a_row1_col4\" class=\"data row1 col4\" >30.75</td>\n",
              "    </tr>\n",
              "    <tr>\n",
              "      <th id=\"T_fa57a_level0_row2\" class=\"row_heading level0 row2\" >2</th>\n",
              "      <td id=\"T_fa57a_row2_col0\" class=\"data row2 col0\" >WahooNetBanner</td>\n",
              "      <td id=\"T_fa57a_row2_col1\" class=\"data row2 col1\" >8553</td>\n",
              "      <td id=\"T_fa57a_row2_col2\" class=\"data row2 col2\" >5151.000000</td>\n",
              "      <td id=\"T_fa57a_row2_col3\" class=\"data row2 col3\" >0.60</td>\n",
              "      <td id=\"T_fa57a_row2_col4\" class=\"data row2 col4\" >4.88</td>\n",
              "    </tr>\n",
              "    <tr>\n",
              "      <th id=\"T_fa57a_level0_row3\" class=\"row_heading level0 row3\" >3</th>\n",
              "      <td id=\"T_fa57a_row3_col0\" class=\"data row3 col0\" >AdNonSense</td>\n",
              "      <td id=\"T_fa57a_row3_col1\" class=\"data row3 col1\" >3880</td>\n",
              "      <td id=\"T_fa57a_row3_col2\" class=\"data row3 col2\" >3911.250000</td>\n",
              "      <td id=\"T_fa57a_row3_col3\" class=\"data row3 col3\" >1.01</td>\n",
              "      <td id=\"T_fa57a_row3_col4\" class=\"data row3 col4\" >3.71</td>\n",
              "    </tr>\n",
              "    <tr>\n",
              "      <th id=\"T_fa57a_level0_row4\" class=\"row_heading level0 row4\" >4</th>\n",
              "      <td id=\"T_fa57a_row4_col0\" class=\"data row4 col0\" >OppleCreativeMedia</td>\n",
              "      <td id=\"T_fa57a_row4_col1\" class=\"data row4 col1\" >8605</td>\n",
              "      <td id=\"T_fa57a_row4_col2\" class=\"data row4 col2\" >2151.250000</td>\n",
              "      <td id=\"T_fa57a_row4_col3\" class=\"data row4 col3\" >0.25</td>\n",
              "      <td id=\"T_fa57a_row4_col4\" class=\"data row4 col4\" >2.04</td>\n",
              "    </tr>\n",
              "    <tr>\n",
              "      <th id=\"T_fa57a_level0_row5\" class=\"row_heading level0 row5\" >5</th>\n",
              "      <td id=\"T_fa57a_row5_col0\" class=\"data row5 col0\" >RocketSuperAds</td>\n",
              "      <td id=\"T_fa57a_row5_col1\" class=\"data row5 col1\" >4448</td>\n",
              "      <td id=\"T_fa57a_row5_col2\" class=\"data row5 col2\" >1833.000000</td>\n",
              "      <td id=\"T_fa57a_row5_col3\" class=\"data row5 col3\" >0.41</td>\n",
              "      <td id=\"T_fa57a_row5_col4\" class=\"data row5 col4\" >1.74</td>\n",
              "    </tr>\n",
              "    <tr>\n",
              "      <th id=\"T_fa57a_level0_row6\" class=\"row_heading level0 row6\" >6</th>\n",
              "      <td id=\"T_fa57a_row6_col0\" class=\"data row6 col0\" >LeapBob</td>\n",
              "      <td id=\"T_fa57a_row6_col1\" class=\"data row6 col1\" >8553</td>\n",
              "      <td id=\"T_fa57a_row6_col2\" class=\"data row6 col2\" >1797.600000</td>\n",
              "      <td id=\"T_fa57a_row6_col3\" class=\"data row6 col3\" >0.21</td>\n",
              "      <td id=\"T_fa57a_row6_col4\" class=\"data row6 col4\" >1.70</td>\n",
              "    </tr>\n",
              "    <tr>\n",
              "      <th id=\"T_fa57a_level0_row7\" class=\"row_heading level0 row7\" >7</th>\n",
              "      <td id=\"T_fa57a_row7_col0\" class=\"data row7 col0\" >lambdaMediaAds</td>\n",
              "      <td id=\"T_fa57a_row7_col1\" class=\"data row7 col1\" >2149</td>\n",
              "      <td id=\"T_fa57a_row7_col2\" class=\"data row7 col2\" >1557.600000</td>\n",
              "      <td id=\"T_fa57a_row7_col3\" class=\"data row7 col3\" >0.72</td>\n",
              "      <td id=\"T_fa57a_row7_col4\" class=\"data row7 col4\" >1.48</td>\n",
              "    </tr>\n",
              "    <tr>\n",
              "      <th id=\"T_fa57a_level0_row8\" class=\"row_heading level0 row8\" >8</th>\n",
              "      <td id=\"T_fa57a_row8_col0\" class=\"data row8 col0\" >MediaTornado</td>\n",
              "      <td id=\"T_fa57a_row8_col1\" class=\"data row8 col1\" >4364</td>\n",
              "      <td id=\"T_fa57a_row8_col2\" class=\"data row8 col2\" >954.480000</td>\n",
              "      <td id=\"T_fa57a_row8_col3\" class=\"data row8 col3\" >0.22</td>\n",
              "      <td id=\"T_fa57a_row8_col4\" class=\"data row8 col4\" >0.90</td>\n",
              "    </tr>\n",
              "    <tr>\n",
              "      <th id=\"T_fa57a_level0_row9\" class=\"row_heading level0 row9\" >9</th>\n",
              "      <td id=\"T_fa57a_row9_col0\" class=\"data row9 col0\" >YRabbit</td>\n",
              "      <td id=\"T_fa57a_row9_col1\" class=\"data row9 col1\" >4312</td>\n",
              "      <td id=\"T_fa57a_row9_col2\" class=\"data row9 col2\" >944.220000</td>\n",
              "      <td id=\"T_fa57a_row9_col3\" class=\"data row9 col3\" >0.22</td>\n",
              "      <td id=\"T_fa57a_row9_col4\" class=\"data row9 col4\" >0.90</td>\n",
              "    </tr>\n",
              "    <tr>\n",
              "      <th id=\"T_fa57a_level0_row10\" class=\"row_heading level0 row10\" >10</th>\n",
              "      <td id=\"T_fa57a_row10_col0\" class=\"data row10 col0\" >organic</td>\n",
              "      <td id=\"T_fa57a_row10_col1\" class=\"data row10 col1\" >56439</td>\n",
              "      <td id=\"T_fa57a_row10_col2\" class=\"data row10 col2\" >0.000000</td>\n",
              "      <td id=\"T_fa57a_row10_col3\" class=\"data row10 col3\" >0.00</td>\n",
              "      <td id=\"T_fa57a_row10_col4\" class=\"data row10 col4\" >0.00</td>\n",
              "    </tr>\n",
              "  </tbody>\n",
              "</table>\n"
            ],
            "text/plain": [
              "<pandas.io.formats.style.Styler at 0x7fdb6fc3f6d0>"
            ]
          },
          "execution_count": 33,
          "metadata": {},
          "output_type": "execute_result"
        }
      ],
      "source": [
        "# потрачено денег на каждый источник\n",
        "report_costs = profiles.groupby('channel').agg({'user_id': 'nunique', 'acquisition_cost': ['sum', 'mean']})\n",
        "report_costs.columns = ['Пользователи', 'Всего израсходовано', 'В среднем на пользователя']\n",
        "report_costs['% от общих затрат'] = report_costs['Всего израсходовано'] / report_costs['Всего израсходовано'].sum() * 100\n",
        "\n",
        "report_costs = report_costs.sort_values(by='% от общих затрат', ascending=False).reset_index().style.format(\n",
        "    {'В среднем на пользователя': '{:.2f}',\n",
        "    '% от общих затрат': '{:.2f}'})\n",
        "\n",
        "report_costs"
      ]
    },
    {
      "cell_type": "code",
      "execution_count": null,
      "metadata": {
        "id": "5jMMnEp3iHYk",
        "outputId": "f779494c-c9f4-4474-bde1-7bee575bc85e"
      },
      "outputs": [
        {
          "name": "stdout",
          "output_type": "stream",
          "text": [
            "Средняя стоимость привлечения одного пользователя: 1.13\n"
          ]
        }
      ],
      "source": [
        "print('Средняя стоимость привлечения одного пользователя:', \n",
        "      round(profiles.query('channel != \"organic\"')['acquisition_cost'].mean(), 2))"
      ]
    },
    {
      "cell_type": "code",
      "execution_count": null,
      "metadata": {
        "id": "hzZ3a9uGiHYk"
      },
      "outputs": [],
      "source": [
        "# визуализация изменений трат во времени\n",
        "costs.pivot_table(\n",
        "    index='dt',  # даты \n",
        "    columns='channel',  # источники переходов\n",
        "    values='costs',  \n",
        "    aggfunc='sum',  \n",
        ").plot(figsize=(15, 10), grid=True)\n",
        "\n",
        "plt.title('Изменение трат по времени')\n",
        "plt.xlabel('Месяц')\n",
        "plt.ylabel('Расходы')\n",
        "plt.show()"
      ]
    },
    {
      "cell_type": "code",
      "execution_count": null,
      "metadata": {
        "id": "vy554sCKiHYl"
      },
      "outputs": [],
      "source": [
        "profiles.pivot_table(index='channel', \n",
        "    columns='month', \n",
        "    values='acquisition_cost', \n",
        "    aggfunc='sum'\n",
        ").T.plot(figsize=(10, 5), grid=True)\n",
        "\n",
        "plt.legend()\n",
        "plt.xlabel('Месяц')\n",
        "plt.title('Затраты на рекламу')\n",
        "plt.show()"
      ]
    },
    {
      "cell_type": "code",
      "execution_count": null,
      "metadata": {
        "id": "XNLgyGaoiHYl"
      },
      "outputs": [],
      "source": [
        "# Стоимость привлечения одного покупателя из каждого источника в среднем\n",
        "profiles.pivot_table(\n",
        "    index='dt', columns='channel', values='acquisition_cost', aggfunc='mean'\n",
        ").plot(grid=True, figsize=(15, 10))\n",
        "plt.ylabel('CAC')\n",
        "plt.xlabel('Дата привлечения')\n",
        "plt.title('Динамика САС по каналам привлечения')\n",
        "plt.legend(bbox_to_anchor=(1.02, 1.0), loc='best')\n",
        "plt.show()"
      ]
    },
    {
      "cell_type": "markdown",
      "metadata": {
        "id": "WE1njG7piHYl"
      },
      "source": [
        "#### Вывод\n",
        "\n",
        " По затратам на рекламу лидирует канал TipTop  (затраты на маркетинг более половины от общей суммы). Почти треть затрат приходится на канал FaceBoom, но стоимость привлечения пользователя заметно ниже, чем у лидера. По остальным каналам траты не такие большие, и в отличие от лидеров незначительно изменялись со временем.  \n",
        " Стоимость привлечения пользователя также самая высокая у TipTop и составляет 2,8 у.е., все остальные затрачивают существенно меньшее количество денег на одного пользователя, в среднем от 0,22 до 1,11 у.е."
      ]
    },
    {
      "cell_type": "markdown",
      "metadata": {
        "id": "poDjrQVHWVwn"
      },
      "source": [
        "### Оцените окупаемость рекламы\n",
        "\n",
        "Используя графики LTV, ROI и CAC, проанализируйте окупаемость рекламы. Считайте, что на календаре 1 ноября 2019 года, а в бизнес-плане заложено, что пользователи должны окупаться не позднее чем через две недели после привлечения. Необходимость включения в анализ органических пользователей определите самостоятельно.\n",
        "\n",
        "- Проанализируйте окупаемость рекламы c помощью графиков LTV и ROI, а также графики динамики LTV, CAC и ROI.\n",
        "- Проверьте конверсию пользователей и динамику её изменения. То же самое сделайте с удержанием пользователей. Постройте и изучите графики конверсии и удержания.\n",
        "- Проанализируйте окупаемость рекламы с разбивкой по устройствам. Постройте графики LTV и ROI, а также графики динамики LTV, CAC и ROI.\n",
        "- Проанализируйте окупаемость рекламы с разбивкой по странам. Постройте графики LTV и ROI, а также графики динамики LTV, CAC и ROI.\n",
        "- Проанализируйте окупаемость рекламы с разбивкой по рекламным каналам. Постройте графики LTV и ROI, а также графики динамики LTV, CAC и ROI.\n",
        "- Ответьте на такие вопросы:\n",
        "    - Окупается ли реклама, направленная на привлечение пользователей в целом?\n",
        "    - Какие устройства, страны и рекламные каналы могут оказывать негативное влияние на окупаемость рекламы?\n",
        "    - Чем могут быть вызваны проблемы окупаемости?\n",
        "\n",
        "Напишите вывод, опишите возможные причины обнаруженных проблем и промежуточные рекомендации для рекламного отдела."
      ]
    },
    {
      "cell_type": "code",
      "execution_count": null,
      "metadata": {
        "id": "hbNu9EXeWVwo"
      },
      "outputs": [],
      "source": [
        "# исключим органических пользователей из таблицы\n",
        "profiles_ads = profiles.query('channel != \"organic\"')"
      ]
    },
    {
      "cell_type": "code",
      "execution_count": null,
      "metadata": {
        "id": "67NnUgBgiHYl"
      },
      "outputs": [],
      "source": [
        "# посчитаем LTV и ROI\n",
        "ltv_raw, ltv_grouped, ltv_history, roi_grouped, roi_history = get_ltv(\n",
        "    profiles_ads, orders, observation_date, horizon_days\n",
        ")\n",
        "\n",
        "# построим графики\n",
        "plot_ltv_roi(ltv_grouped, ltv_history, roi_grouped, roi_history, horizon_days)"
      ]
    },
    {
      "cell_type": "markdown",
      "metadata": {
        "id": "LwdnDzUiiHYl"
      },
      "source": [
        "По графикам можно сделать такие выводы:\n",
        "- Реклама не окупается, ROI находится ниже уровня окупаемости\n",
        "- С июля пользователь перестали окупаться\n",
        "- LTV постепенно растет, что радует\n",
        "- САС также постоянно растет, не радует"
      ]
    },
    {
      "cell_type": "markdown",
      "metadata": {
        "id": "UuUNEixMiHYm"
      },
      "source": [
        "### Анализ окупаемости рекламы с разбивкой по устройствам"
      ]
    },
    {
      "cell_type": "code",
      "execution_count": null,
      "metadata": {
        "id": "7hQuloCKiHYm"
      },
      "outputs": [],
      "source": [
        "# смотрим окупаемость с разбивкой по устройствам\n",
        "\n",
        "dimensions = ['device']\n",
        "\n",
        "ltv_raw, ltv_grouped, ltv_history, roi_grouped, roi_history = get_ltv(\n",
        "    profiles_ads, orders, observation_date, horizon_days, dimensions=dimensions\n",
        ")\n",
        "\n",
        "plot_ltv_roi(\n",
        "    ltv_grouped, ltv_history, roi_grouped, roi_history, horizon_days, window=14\n",
        ")"
      ]
    },
    {
      "cell_type": "markdown",
      "metadata": {
        "id": "-ZWy6v9liHYm"
      },
      "source": [
        "LTV стабильно растет на всех устройствах  \n",
        "Окупаются только пользователи PC. На графике заметно снижение динамики ROI у всех устройств при росте стоимости привлечения пользователей.  \n",
        "К сентябрю пользователи всех устройств перестали и приносить прибыль"
      ]
    },
    {
      "cell_type": "markdown",
      "metadata": {
        "id": "ub90b7BtiHYm"
      },
      "source": [
        "### Анализ окупаемости рекламы с разбивкой по странам"
      ]
    },
    {
      "cell_type": "code",
      "execution_count": null,
      "metadata": {
        "id": "vXTExeFCiHYm"
      },
      "outputs": [],
      "source": [
        "dimensions = ['region']\n",
        "\n",
        "ltv_raw, ltv_grouped, ltv_history, roi_grouped, roi_history = get_ltv(\n",
        "    profiles_ads, orders, observation_date, horizon_days, dimensions=dimensions\n",
        ")\n",
        "\n",
        "plot_ltv_roi(\n",
        "    ltv_grouped, ltv_history, roi_grouped, roi_history, horizon_days, window=14\n",
        ")"
      ]
    },
    {
      "cell_type": "markdown",
      "metadata": {
        "id": "5YyqzkzxiHYm"
      },
      "source": [
        "Выручка пользователей США стабильно выше пользователей других стран но, в то же время только у США ROI не достигает уровня окупаемости.  \n",
        "Динамика стоимости привлечения пользователей показывает огромный разрыв расходов в США по сравнению с другими странами, стоимость в США в разы выше.  \n",
        "Динамика LTV подвержена сезонности и стабильна. LTV в США выше, чем в других странах."
      ]
    },
    {
      "cell_type": "markdown",
      "metadata": {
        "id": "OO3ANehziHYm"
      },
      "source": [
        "### Окупаемость рекламы с разбивкой по рекламным каналам"
      ]
    },
    {
      "cell_type": "code",
      "execution_count": null,
      "metadata": {
        "id": "ZBzjR_2miHYn"
      },
      "outputs": [],
      "source": [
        "dimensions = ['channel']\n",
        "\n",
        "ltv_raw, ltv_grouped, ltv_history, roi_grouped, roi_history = get_ltv(\n",
        "    profiles_ads, orders, observation_date, horizon_days, dimensions=dimensions\n",
        ")\n",
        "\n",
        "plot_ltv_roi(\n",
        "    ltv_grouped, ltv_history, roi_grouped, roi_history, horizon_days, window=14\n",
        ") "
      ]
    },
    {
      "cell_type": "markdown",
      "metadata": {
        "id": "iFZb24UUiHYn"
      },
      "source": [
        "Не окупилась реклама 3 каналов: TipTop, FaceBoom и AdNonSense  \n",
        "Затраты на рекламу в TipTop постоянно растут, но не окупаются  \n",
        "По стоимости привлечения сильно выбивается канал Tip Top, как видим большие расходы не были оправданы"
      ]
    },
    {
      "cell_type": "code",
      "execution_count": null,
      "metadata": {
        "id": "9VXyr0UAiHYn"
      },
      "outputs": [],
      "source": [
        "# конверсия с разбивкой по устройствам\n",
        "conversion_raw, conversion, conversion_history = get_conversion(\n",
        "    profiles_ads,\n",
        "    orders,\n",
        "    observation_date,\n",
        "    horizon_days,\n",
        "    dimensions=['device'],\n",
        "    ignore_horizon=False,\n",
        ")\n",
        "plot_conversion(conversion, conversion_history, horizon_days, window=7)"
      ]
    },
    {
      "cell_type": "code",
      "execution_count": null,
      "metadata": {
        "id": "OG3vKRBSiHYn"
      },
      "outputs": [],
      "source": [
        "# удержание с разбивкой по устройствам\n",
        "retention_raw, retention, retention_history = get_retention(\n",
        "    profiles_ads,\n",
        "    visits,\n",
        "    observation_date,\n",
        "    horizon_days,\n",
        "    dimensions=['device'],\n",
        "    ignore_horizon=False,\n",
        ")\n",
        "plot_retention(retention, retention_history, horizon_days, window=7)"
      ]
    },
    {
      "cell_type": "markdown",
      "metadata": {
        "id": "rp72PpY2iHYs"
      },
      "source": [
        "Лучшая конверсия у maca и iphone. Конверсия пользователей PC заметно ниже остальных, в то время, как удержание - наоборот самое высокое."
      ]
    },
    {
      "cell_type": "code",
      "execution_count": null,
      "metadata": {
        "id": "1bx7xpvbiHYs"
      },
      "outputs": [],
      "source": [
        "# конверсия с разбивкой по регионам\n",
        "conversion_raw, conversion, conversion_history = get_conversion(\n",
        "    profiles_ads,\n",
        "    orders,\n",
        "    observation_date,\n",
        "    horizon_days,\n",
        "    dimensions=['region'],\n",
        "    ignore_horizon=False,\n",
        ")\n",
        "plot_conversion(conversion, conversion_history, horizon_days, window=7)"
      ]
    },
    {
      "cell_type": "code",
      "execution_count": null,
      "metadata": {
        "id": "sxpsoYzwiHYs"
      },
      "outputs": [],
      "source": [
        "# удержание с разбивкой по регионам\n",
        "retention_raw, retention, retention_history = get_retention(\n",
        "    profiles_ads,\n",
        "    visits,\n",
        "    observation_date,\n",
        "    horizon_days,\n",
        "    dimensions=['region'],\n",
        "    ignore_horizon=False,\n",
        ")\n",
        "plot_retention(retention, retention_history, horizon_days, window=7)"
      ]
    },
    {
      "cell_type": "markdown",
      "metadata": {
        "id": "B04WnVSHiHYs"
      },
      "source": [
        "Конверсия у пользователи США почти в 2 раза выше остальных, но удержание худшее из всех. Европейцы стабильно конвертируются и удерживаются"
      ]
    },
    {
      "cell_type": "code",
      "execution_count": null,
      "metadata": {
        "id": "N5030lxWiHYs"
      },
      "outputs": [],
      "source": [
        "# конверсия с разбивкой по каналам\n",
        "conversion_raw, conversion, conversion_history = get_conversion(\n",
        "    profiles_ads,\n",
        "    orders,\n",
        "    observation_date,\n",
        "    horizon_days,\n",
        "    dimensions=['channel'],\n",
        "    ignore_horizon=False,\n",
        ")\n",
        "plot_conversion(conversion, conversion_history, horizon_days, window=7)"
      ]
    },
    {
      "cell_type": "code",
      "execution_count": null,
      "metadata": {
        "id": "cbxURffUiHYt"
      },
      "outputs": [],
      "source": [
        "# удержание с разбивкой по каналам\n",
        "retention_raw, retention, retention_history = get_retention(\n",
        "    profiles_ads,\n",
        "    visits,\n",
        "    observation_date,\n",
        "    horizon_days,\n",
        "    dimensions=['channel'],\n",
        "    ignore_horizon=False,\n",
        ")\n",
        "plot_retention(retention, retention_history, horizon_days, window=7)"
      ]
    },
    {
      "cell_type": "markdown",
      "metadata": {
        "id": "ejm5nxhGiHYt"
      },
      "source": [
        "Cамая высокая конверсия у пользователей канала FaceBoom и AdNonSense, в то же время график показывает худшее удержание.  \n",
        "Пользователи TipTop конвертируются хуже, но хорошо удерживаются. В остальных каналах нет проблем с конверсией и удержанием"
      ]
    },
    {
      "cell_type": "markdown",
      "metadata": {
        "id": "iRsZyev9iHYt"
      },
      "source": [
        "Удержание неплатящих пользователей из разных каналов, стран, платформ ровное, а удержание платящих сильно отличается. Вероятно, количество платящих пользователей существенно ниже и этим объясняется различие в \"поведении\" графиков."
      ]
    },
    {
      "cell_type": "markdown",
      "metadata": {
        "id": "Jn9XBfZCWVwo"
      },
      "source": [
        "### Выводы\n",
        "\n",
        "Чаще всего приложением пользуются пользователи из США, пришедшие через TipTop и FaceBoom, на привлечение которых было потрачено 80% от общей суммы всех затрат на рекламу, а также жители Германии, Франции и Великобритании. Приложение доступно на таких устройствах как Mac, iPhone, Android, PC.\n",
        "\n",
        "В результате исследования было выявлено, что реклама не окупается в США. Неэффективными оказались каналы TipTop, FaceBoom и AdNonSense. Выручка от пользователей, пришедших через TipTop не компенсировала затраты на рекламу, которые постоянно росли в течение всего периода. LTV пользователей, пришедших через FaceBoom и AdNonSense стабильно, но они стабильно плохо удерживались. Вид устройства никак не повлиял на окупаемость.  \n",
        "\n",
        "Рекламному отделу развлекательного приложения Procrastinate Pro+ рекомендуется сократить финансирование на маркетинг там, где стоимость привлечения слишком большая - это расходы на пользователей из США и канал TipTop и FaceBoom.\n",
        "Рассмотреть возможность привлечения большего количества пользователей стран Европы, где реклама стабильно окупается"
      ]
    },
    {
      "cell_type": "markdown",
      "metadata": {
        "id": "qXMhmz9NiHYt"
      },
      "source": [
        "По `Yrabbit` видим лучшую окупаемость, средненьку конверсию и слабоватое удержание платящих пользователей, ltv растет слабо, а затраты на рекламу минимальны, можно поработать, возможные доп вливания в рекламу вероятно поднимут нужные нам метрики.  \n",
        "    \n",
        "У `RocketSuperAds` аналогично ROI позитвное, по конверсии крепкий середнячок, удержание одно из лучших, стоимость привлечения не самая высокая, можно чуть увеличить рекламный бюджет</div>"
      ]
    }
  ],
  "metadata": {
    "ExecuteTimeLog": [
      {
        "duration": 1901,
        "start_time": "2022-11-16T22:01:32.653Z"
      },
      {
        "duration": 12,
        "start_time": "2022-11-16T22:01:34.556Z"
      },
      {
        "duration": 23,
        "start_time": "2022-11-16T22:01:34.570Z"
      },
      {
        "duration": 18,
        "start_time": "2022-11-16T22:01:34.596Z"
      },
      {
        "duration": 104,
        "start_time": "2022-11-16T22:01:34.616Z"
      },
      {
        "duration": 80,
        "start_time": "2022-11-16T22:01:34.721Z"
      },
      {
        "duration": 275,
        "start_time": "2022-11-16T22:01:34.803Z"
      },
      {
        "duration": 5,
        "start_time": "2022-11-16T22:01:35.080Z"
      },
      {
        "duration": 172,
        "start_time": "2022-11-16T22:01:35.086Z"
      },
      {
        "duration": 37,
        "start_time": "2022-11-16T22:01:35.262Z"
      },
      {
        "duration": 40,
        "start_time": "2022-11-16T22:01:35.300Z"
      },
      {
        "duration": 39,
        "start_time": "2022-11-16T22:01:35.342Z"
      },
      {
        "duration": 43,
        "start_time": "2022-11-16T22:01:35.382Z"
      },
      {
        "duration": 29,
        "start_time": "2022-11-16T22:01:35.426Z"
      },
      {
        "duration": 21,
        "start_time": "2022-11-16T22:01:35.457Z"
      },
      {
        "duration": 27,
        "start_time": "2022-11-16T22:01:35.480Z"
      },
      {
        "duration": 27,
        "start_time": "2022-11-16T22:01:35.508Z"
      },
      {
        "duration": 32,
        "start_time": "2022-11-16T22:01:35.537Z"
      },
      {
        "duration": 31,
        "start_time": "2022-11-16T22:01:35.571Z"
      },
      {
        "duration": 27,
        "start_time": "2022-11-16T22:01:35.605Z"
      },
      {
        "duration": 28,
        "start_time": "2022-11-16T22:01:35.634Z"
      },
      {
        "duration": 37,
        "start_time": "2022-11-16T22:01:35.664Z"
      },
      {
        "duration": 35,
        "start_time": "2022-11-16T22:01:35.703Z"
      },
      {
        "duration": 21,
        "start_time": "2022-11-16T22:01:35.740Z"
      },
      {
        "duration": 37,
        "start_time": "2022-11-16T22:01:35.763Z"
      },
      {
        "duration": 17,
        "start_time": "2022-11-16T22:01:35.802Z"
      },
      {
        "duration": 38,
        "start_time": "2022-11-16T22:01:35.821Z"
      },
      {
        "duration": 21,
        "start_time": "2022-11-16T22:01:35.862Z"
      },
      {
        "duration": 519,
        "start_time": "2022-11-16T22:01:35.885Z"
      },
      {
        "duration": 68,
        "start_time": "2022-11-16T22:01:36.406Z"
      },
      {
        "duration": 25,
        "start_time": "2022-11-16T22:01:36.475Z"
      },
      {
        "duration": 47,
        "start_time": "2022-11-16T22:01:36.502Z"
      },
      {
        "duration": 5,
        "start_time": "2022-11-16T22:01:36.551Z"
      },
      {
        "duration": 53,
        "start_time": "2022-11-16T22:01:36.558Z"
      },
      {
        "duration": 453,
        "start_time": "2022-11-16T22:01:36.613Z"
      },
      {
        "duration": 431,
        "start_time": "2022-11-16T22:01:37.068Z"
      },
      {
        "duration": 15,
        "start_time": "2022-11-16T22:01:37.501Z"
      },
      {
        "duration": 1463,
        "start_time": "2022-11-16T22:01:37.518Z"
      },
      {
        "duration": 1829,
        "start_time": "2022-11-16T22:01:38.983Z"
      },
      {
        "duration": 1827,
        "start_time": "2022-11-16T22:01:40.814Z"
      },
      {
        "duration": 2428,
        "start_time": "2022-11-16T22:01:42.642Z"
      },
      {
        "duration": 915,
        "start_time": "2022-11-16T22:01:45.072Z"
      },
      {
        "duration": 1434,
        "start_time": "2022-11-16T22:01:45.989Z"
      },
      {
        "duration": 909,
        "start_time": "2022-11-16T22:01:47.425Z"
      },
      {
        "duration": 1353,
        "start_time": "2022-11-16T22:01:48.337Z"
      },
      {
        "duration": 1054,
        "start_time": "2022-11-16T22:01:49.692Z"
      },
      {
        "duration": 1764,
        "start_time": "2022-11-16T22:01:50.748Z"
      }
    ],
    "colab": {
      "provenance": []
    },
    "kernelspec": {
      "display_name": "Python 3 (ipykernel)",
      "language": "python",
      "name": "python3"
    },
    "language_info": {
      "codemirror_mode": {
        "name": "ipython",
        "version": 3
      },
      "file_extension": ".py",
      "mimetype": "text/x-python",
      "name": "python",
      "nbconvert_exporter": "python",
      "pygments_lexer": "ipython3",
      "version": "3.9.12"
    },
    "toc": {
      "base_numbering": 1,
      "nav_menu": {},
      "number_sections": true,
      "sideBar": true,
      "skip_h1_title": true,
      "title_cell": "Table of Contents",
      "title_sidebar": "Contents",
      "toc_cell": false,
      "toc_position": {},
      "toc_section_display": true,
      "toc_window_display": true
    }
  },
  "nbformat": 4,
  "nbformat_minor": 0
}