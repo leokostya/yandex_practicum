{
 "cells": [
  {
   "cell_type": "markdown",
   "id": "f9fde4f0",
   "metadata": {
    "deletable": false,
    "editable": false,
    "id": "f9fde4f0"
   },
   "source": [
    "# Исследование надежности заемщиков\n"
   ]
  },
  {
   "cell_type": "markdown",
   "id": "b9b1bc80",
   "metadata": {
    "deletable": false,
    "editable": false,
    "id": "b9b1bc80"
   },
   "source": [
    "## Откройте таблицу и изучите общую информацию о данных"
   ]
  },
  {
   "cell_type": "markdown",
   "id": "675731c7",
   "metadata": {
    "deletable": false,
    "editable": false,
    "id": "675731c7"
   },
   "source": [
    "**Задание 1. Импортируйте библиотеку pandas. Считайте данные из csv-файла в датафрейм и сохраните в переменную `data`. Путь к файлу:**\n",
    "\n",
    "`/datasets/data.csv`"
   ]
  },
  {
   "cell_type": "code",
   "execution_count": 1,
   "id": "75c18761",
   "metadata": {
    "deletable": false,
    "id": "75c18761"
   },
   "outputs": [],
   "source": [
    "import pandas as pd\n",
    "\n",
    "try:\n",
    "    data = pd.read_csv('/datasets/data.csv')\n",
    "except:\n",
    "    data = pd.read_csv('https://code.s3.yandex.net/datasets/data.csv')"
   ]
  },
  {
   "cell_type": "markdown",
   "id": "20dab85a",
   "metadata": {
    "deletable": false,
    "editable": false,
    "id": "20dab85a"
   },
   "source": [
    "**Задание 2. Выведите первые 20 строчек датафрейма `data` на экран.**"
   ]
  },
  {
   "cell_type": "code",
   "execution_count": 2,
   "id": "47553b06",
   "metadata": {
    "deletable": false,
    "id": "47553b06"
   },
   "outputs": [
    {
     "data": {
      "text/html": [
       "<div>\n",
       "<style scoped>\n",
       "    .dataframe tbody tr th:only-of-type {\n",
       "        vertical-align: middle;\n",
       "    }\n",
       "\n",
       "    .dataframe tbody tr th {\n",
       "        vertical-align: top;\n",
       "    }\n",
       "\n",
       "    .dataframe thead th {\n",
       "        text-align: right;\n",
       "    }\n",
       "</style>\n",
       "<table border=\"1\" class=\"dataframe\">\n",
       "  <thead>\n",
       "    <tr style=\"text-align: right;\">\n",
       "      <th></th>\n",
       "      <th>children</th>\n",
       "      <th>days_employed</th>\n",
       "      <th>dob_years</th>\n",
       "      <th>education</th>\n",
       "      <th>education_id</th>\n",
       "      <th>family_status</th>\n",
       "      <th>family_status_id</th>\n",
       "      <th>gender</th>\n",
       "      <th>income_type</th>\n",
       "      <th>debt</th>\n",
       "      <th>total_income</th>\n",
       "      <th>purpose</th>\n",
       "    </tr>\n",
       "  </thead>\n",
       "  <tbody>\n",
       "    <tr>\n",
       "      <th>0</th>\n",
       "      <td>1</td>\n",
       "      <td>-8437.673028</td>\n",
       "      <td>42</td>\n",
       "      <td>высшее</td>\n",
       "      <td>0</td>\n",
       "      <td>женат / замужем</td>\n",
       "      <td>0</td>\n",
       "      <td>F</td>\n",
       "      <td>сотрудник</td>\n",
       "      <td>0</td>\n",
       "      <td>253875.639453</td>\n",
       "      <td>покупка жилья</td>\n",
       "    </tr>\n",
       "    <tr>\n",
       "      <th>1</th>\n",
       "      <td>1</td>\n",
       "      <td>-4024.803754</td>\n",
       "      <td>36</td>\n",
       "      <td>среднее</td>\n",
       "      <td>1</td>\n",
       "      <td>женат / замужем</td>\n",
       "      <td>0</td>\n",
       "      <td>F</td>\n",
       "      <td>сотрудник</td>\n",
       "      <td>0</td>\n",
       "      <td>112080.014102</td>\n",
       "      <td>приобретение автомобиля</td>\n",
       "    </tr>\n",
       "    <tr>\n",
       "      <th>2</th>\n",
       "      <td>0</td>\n",
       "      <td>-5623.422610</td>\n",
       "      <td>33</td>\n",
       "      <td>Среднее</td>\n",
       "      <td>1</td>\n",
       "      <td>женат / замужем</td>\n",
       "      <td>0</td>\n",
       "      <td>M</td>\n",
       "      <td>сотрудник</td>\n",
       "      <td>0</td>\n",
       "      <td>145885.952297</td>\n",
       "      <td>покупка жилья</td>\n",
       "    </tr>\n",
       "    <tr>\n",
       "      <th>3</th>\n",
       "      <td>3</td>\n",
       "      <td>-4124.747207</td>\n",
       "      <td>32</td>\n",
       "      <td>среднее</td>\n",
       "      <td>1</td>\n",
       "      <td>женат / замужем</td>\n",
       "      <td>0</td>\n",
       "      <td>M</td>\n",
       "      <td>сотрудник</td>\n",
       "      <td>0</td>\n",
       "      <td>267628.550329</td>\n",
       "      <td>дополнительное образование</td>\n",
       "    </tr>\n",
       "    <tr>\n",
       "      <th>4</th>\n",
       "      <td>0</td>\n",
       "      <td>340266.072047</td>\n",
       "      <td>53</td>\n",
       "      <td>среднее</td>\n",
       "      <td>1</td>\n",
       "      <td>гражданский брак</td>\n",
       "      <td>1</td>\n",
       "      <td>F</td>\n",
       "      <td>пенсионер</td>\n",
       "      <td>0</td>\n",
       "      <td>158616.077870</td>\n",
       "      <td>сыграть свадьбу</td>\n",
       "    </tr>\n",
       "    <tr>\n",
       "      <th>5</th>\n",
       "      <td>0</td>\n",
       "      <td>-926.185831</td>\n",
       "      <td>27</td>\n",
       "      <td>высшее</td>\n",
       "      <td>0</td>\n",
       "      <td>гражданский брак</td>\n",
       "      <td>1</td>\n",
       "      <td>M</td>\n",
       "      <td>компаньон</td>\n",
       "      <td>0</td>\n",
       "      <td>255763.565419</td>\n",
       "      <td>покупка жилья</td>\n",
       "    </tr>\n",
       "    <tr>\n",
       "      <th>6</th>\n",
       "      <td>0</td>\n",
       "      <td>-2879.202052</td>\n",
       "      <td>43</td>\n",
       "      <td>высшее</td>\n",
       "      <td>0</td>\n",
       "      <td>женат / замужем</td>\n",
       "      <td>0</td>\n",
       "      <td>F</td>\n",
       "      <td>компаньон</td>\n",
       "      <td>0</td>\n",
       "      <td>240525.971920</td>\n",
       "      <td>операции с жильем</td>\n",
       "    </tr>\n",
       "    <tr>\n",
       "      <th>7</th>\n",
       "      <td>0</td>\n",
       "      <td>-152.779569</td>\n",
       "      <td>50</td>\n",
       "      <td>СРЕДНЕЕ</td>\n",
       "      <td>1</td>\n",
       "      <td>женат / замужем</td>\n",
       "      <td>0</td>\n",
       "      <td>M</td>\n",
       "      <td>сотрудник</td>\n",
       "      <td>0</td>\n",
       "      <td>135823.934197</td>\n",
       "      <td>образование</td>\n",
       "    </tr>\n",
       "    <tr>\n",
       "      <th>8</th>\n",
       "      <td>2</td>\n",
       "      <td>-6929.865299</td>\n",
       "      <td>35</td>\n",
       "      <td>ВЫСШЕЕ</td>\n",
       "      <td>0</td>\n",
       "      <td>гражданский брак</td>\n",
       "      <td>1</td>\n",
       "      <td>F</td>\n",
       "      <td>сотрудник</td>\n",
       "      <td>0</td>\n",
       "      <td>95856.832424</td>\n",
       "      <td>на проведение свадьбы</td>\n",
       "    </tr>\n",
       "    <tr>\n",
       "      <th>9</th>\n",
       "      <td>0</td>\n",
       "      <td>-2188.756445</td>\n",
       "      <td>41</td>\n",
       "      <td>среднее</td>\n",
       "      <td>1</td>\n",
       "      <td>женат / замужем</td>\n",
       "      <td>0</td>\n",
       "      <td>M</td>\n",
       "      <td>сотрудник</td>\n",
       "      <td>0</td>\n",
       "      <td>144425.938277</td>\n",
       "      <td>покупка жилья для семьи</td>\n",
       "    </tr>\n",
       "    <tr>\n",
       "      <th>10</th>\n",
       "      <td>2</td>\n",
       "      <td>-4171.483647</td>\n",
       "      <td>36</td>\n",
       "      <td>высшее</td>\n",
       "      <td>0</td>\n",
       "      <td>женат / замужем</td>\n",
       "      <td>0</td>\n",
       "      <td>M</td>\n",
       "      <td>компаньон</td>\n",
       "      <td>0</td>\n",
       "      <td>113943.491460</td>\n",
       "      <td>покупка недвижимости</td>\n",
       "    </tr>\n",
       "    <tr>\n",
       "      <th>11</th>\n",
       "      <td>0</td>\n",
       "      <td>-792.701887</td>\n",
       "      <td>40</td>\n",
       "      <td>среднее</td>\n",
       "      <td>1</td>\n",
       "      <td>женат / замужем</td>\n",
       "      <td>0</td>\n",
       "      <td>F</td>\n",
       "      <td>сотрудник</td>\n",
       "      <td>0</td>\n",
       "      <td>77069.234271</td>\n",
       "      <td>покупка коммерческой недвижимости</td>\n",
       "    </tr>\n",
       "    <tr>\n",
       "      <th>12</th>\n",
       "      <td>0</td>\n",
       "      <td>NaN</td>\n",
       "      <td>65</td>\n",
       "      <td>среднее</td>\n",
       "      <td>1</td>\n",
       "      <td>гражданский брак</td>\n",
       "      <td>1</td>\n",
       "      <td>M</td>\n",
       "      <td>пенсионер</td>\n",
       "      <td>0</td>\n",
       "      <td>NaN</td>\n",
       "      <td>сыграть свадьбу</td>\n",
       "    </tr>\n",
       "    <tr>\n",
       "      <th>13</th>\n",
       "      <td>0</td>\n",
       "      <td>-1846.641941</td>\n",
       "      <td>54</td>\n",
       "      <td>неоконченное высшее</td>\n",
       "      <td>2</td>\n",
       "      <td>женат / замужем</td>\n",
       "      <td>0</td>\n",
       "      <td>F</td>\n",
       "      <td>сотрудник</td>\n",
       "      <td>0</td>\n",
       "      <td>130458.228857</td>\n",
       "      <td>приобретение автомобиля</td>\n",
       "    </tr>\n",
       "    <tr>\n",
       "      <th>14</th>\n",
       "      <td>0</td>\n",
       "      <td>-1844.956182</td>\n",
       "      <td>56</td>\n",
       "      <td>высшее</td>\n",
       "      <td>0</td>\n",
       "      <td>гражданский брак</td>\n",
       "      <td>1</td>\n",
       "      <td>F</td>\n",
       "      <td>компаньон</td>\n",
       "      <td>1</td>\n",
       "      <td>165127.911772</td>\n",
       "      <td>покупка жилой недвижимости</td>\n",
       "    </tr>\n",
       "    <tr>\n",
       "      <th>15</th>\n",
       "      <td>1</td>\n",
       "      <td>-972.364419</td>\n",
       "      <td>26</td>\n",
       "      <td>среднее</td>\n",
       "      <td>1</td>\n",
       "      <td>женат / замужем</td>\n",
       "      <td>0</td>\n",
       "      <td>F</td>\n",
       "      <td>сотрудник</td>\n",
       "      <td>0</td>\n",
       "      <td>116820.904450</td>\n",
       "      <td>строительство собственной недвижимости</td>\n",
       "    </tr>\n",
       "    <tr>\n",
       "      <th>16</th>\n",
       "      <td>0</td>\n",
       "      <td>-1719.934226</td>\n",
       "      <td>35</td>\n",
       "      <td>среднее</td>\n",
       "      <td>1</td>\n",
       "      <td>женат / замужем</td>\n",
       "      <td>0</td>\n",
       "      <td>F</td>\n",
       "      <td>сотрудник</td>\n",
       "      <td>0</td>\n",
       "      <td>289202.704229</td>\n",
       "      <td>недвижимость</td>\n",
       "    </tr>\n",
       "    <tr>\n",
       "      <th>17</th>\n",
       "      <td>0</td>\n",
       "      <td>-2369.999720</td>\n",
       "      <td>33</td>\n",
       "      <td>высшее</td>\n",
       "      <td>0</td>\n",
       "      <td>гражданский брак</td>\n",
       "      <td>1</td>\n",
       "      <td>M</td>\n",
       "      <td>сотрудник</td>\n",
       "      <td>0</td>\n",
       "      <td>90410.586745</td>\n",
       "      <td>строительство недвижимости</td>\n",
       "    </tr>\n",
       "    <tr>\n",
       "      <th>18</th>\n",
       "      <td>0</td>\n",
       "      <td>400281.136913</td>\n",
       "      <td>53</td>\n",
       "      <td>среднее</td>\n",
       "      <td>1</td>\n",
       "      <td>вдовец / вдова</td>\n",
       "      <td>2</td>\n",
       "      <td>F</td>\n",
       "      <td>пенсионер</td>\n",
       "      <td>0</td>\n",
       "      <td>56823.777243</td>\n",
       "      <td>на покупку подержанного автомобиля</td>\n",
       "    </tr>\n",
       "    <tr>\n",
       "      <th>19</th>\n",
       "      <td>0</td>\n",
       "      <td>-10038.818549</td>\n",
       "      <td>48</td>\n",
       "      <td>СРЕДНЕЕ</td>\n",
       "      <td>1</td>\n",
       "      <td>в разводе</td>\n",
       "      <td>3</td>\n",
       "      <td>F</td>\n",
       "      <td>сотрудник</td>\n",
       "      <td>0</td>\n",
       "      <td>242831.107982</td>\n",
       "      <td>на покупку своего автомобиля</td>\n",
       "    </tr>\n",
       "  </tbody>\n",
       "</table>\n",
       "</div>"
      ],
      "text/plain": [
       "    children  days_employed  dob_years            education  education_id  \\\n",
       "0          1   -8437.673028         42               высшее             0   \n",
       "1          1   -4024.803754         36              среднее             1   \n",
       "2          0   -5623.422610         33              Среднее             1   \n",
       "3          3   -4124.747207         32              среднее             1   \n",
       "4          0  340266.072047         53              среднее             1   \n",
       "5          0    -926.185831         27               высшее             0   \n",
       "6          0   -2879.202052         43               высшее             0   \n",
       "7          0    -152.779569         50              СРЕДНЕЕ             1   \n",
       "8          2   -6929.865299         35               ВЫСШЕЕ             0   \n",
       "9          0   -2188.756445         41              среднее             1   \n",
       "10         2   -4171.483647         36               высшее             0   \n",
       "11         0    -792.701887         40              среднее             1   \n",
       "12         0            NaN         65              среднее             1   \n",
       "13         0   -1846.641941         54  неоконченное высшее             2   \n",
       "14         0   -1844.956182         56               высшее             0   \n",
       "15         1    -972.364419         26              среднее             1   \n",
       "16         0   -1719.934226         35              среднее             1   \n",
       "17         0   -2369.999720         33               высшее             0   \n",
       "18         0  400281.136913         53              среднее             1   \n",
       "19         0  -10038.818549         48              СРЕДНЕЕ             1   \n",
       "\n",
       "       family_status  family_status_id gender income_type  debt  \\\n",
       "0    женат / замужем                 0      F   сотрудник     0   \n",
       "1    женат / замужем                 0      F   сотрудник     0   \n",
       "2    женат / замужем                 0      M   сотрудник     0   \n",
       "3    женат / замужем                 0      M   сотрудник     0   \n",
       "4   гражданский брак                 1      F   пенсионер     0   \n",
       "5   гражданский брак                 1      M   компаньон     0   \n",
       "6    женат / замужем                 0      F   компаньон     0   \n",
       "7    женат / замужем                 0      M   сотрудник     0   \n",
       "8   гражданский брак                 1      F   сотрудник     0   \n",
       "9    женат / замужем                 0      M   сотрудник     0   \n",
       "10   женат / замужем                 0      M   компаньон     0   \n",
       "11   женат / замужем                 0      F   сотрудник     0   \n",
       "12  гражданский брак                 1      M   пенсионер     0   \n",
       "13   женат / замужем                 0      F   сотрудник     0   \n",
       "14  гражданский брак                 1      F   компаньон     1   \n",
       "15   женат / замужем                 0      F   сотрудник     0   \n",
       "16   женат / замужем                 0      F   сотрудник     0   \n",
       "17  гражданский брак                 1      M   сотрудник     0   \n",
       "18    вдовец / вдова                 2      F   пенсионер     0   \n",
       "19         в разводе                 3      F   сотрудник     0   \n",
       "\n",
       "     total_income                                 purpose  \n",
       "0   253875.639453                           покупка жилья  \n",
       "1   112080.014102                 приобретение автомобиля  \n",
       "2   145885.952297                           покупка жилья  \n",
       "3   267628.550329              дополнительное образование  \n",
       "4   158616.077870                         сыграть свадьбу  \n",
       "5   255763.565419                           покупка жилья  \n",
       "6   240525.971920                       операции с жильем  \n",
       "7   135823.934197                             образование  \n",
       "8    95856.832424                   на проведение свадьбы  \n",
       "9   144425.938277                 покупка жилья для семьи  \n",
       "10  113943.491460                    покупка недвижимости  \n",
       "11   77069.234271       покупка коммерческой недвижимости  \n",
       "12            NaN                         сыграть свадьбу  \n",
       "13  130458.228857                 приобретение автомобиля  \n",
       "14  165127.911772              покупка жилой недвижимости  \n",
       "15  116820.904450  строительство собственной недвижимости  \n",
       "16  289202.704229                            недвижимость  \n",
       "17   90410.586745              строительство недвижимости  \n",
       "18   56823.777243      на покупку подержанного автомобиля  \n",
       "19  242831.107982            на покупку своего автомобиля  "
      ]
     },
     "execution_count": 2,
     "metadata": {},
     "output_type": "execute_result"
    }
   ],
   "source": [
    "data.head(20)"
   ]
  },
  {
   "cell_type": "markdown",
   "id": "ce5a9cfb",
   "metadata": {
    "deletable": false,
    "editable": false,
    "id": "ce5a9cfb"
   },
   "source": [
    "**Задание 3. Выведите основную информацию о датафрейме с помощью метода `info()`.**"
   ]
  },
  {
   "cell_type": "code",
   "execution_count": 3,
   "id": "da9132ab",
   "metadata": {
    "deletable": false,
    "id": "da9132ab"
   },
   "outputs": [
    {
     "name": "stdout",
     "output_type": "stream",
     "text": [
      "<class 'pandas.core.frame.DataFrame'>\n",
      "RangeIndex: 21525 entries, 0 to 21524\n",
      "Data columns (total 12 columns):\n",
      " #   Column            Non-Null Count  Dtype  \n",
      "---  ------            --------------  -----  \n",
      " 0   children          21525 non-null  int64  \n",
      " 1   days_employed     19351 non-null  float64\n",
      " 2   dob_years         21525 non-null  int64  \n",
      " 3   education         21525 non-null  object \n",
      " 4   education_id      21525 non-null  int64  \n",
      " 5   family_status     21525 non-null  object \n",
      " 6   family_status_id  21525 non-null  int64  \n",
      " 7   gender            21525 non-null  object \n",
      " 8   income_type       21525 non-null  object \n",
      " 9   debt              21525 non-null  int64  \n",
      " 10  total_income      19351 non-null  float64\n",
      " 11  purpose           21525 non-null  object \n",
      "dtypes: float64(2), int64(5), object(5)\n",
      "memory usage: 2.0+ MB\n"
     ]
    }
   ],
   "source": [
    "data.info()"
   ]
  },
  {
   "cell_type": "markdown",
   "id": "2dbb5fcb",
   "metadata": {
    "deletable": false,
    "editable": false,
    "id": "2dbb5fcb"
   },
   "source": [
    "## Предобработка данных"
   ]
  },
  {
   "cell_type": "markdown",
   "id": "5b532ca3",
   "metadata": {
    "deletable": false,
    "editable": false,
    "id": "5b532ca3"
   },
   "source": [
    "### Удаление пропусков"
   ]
  },
  {
   "cell_type": "markdown",
   "id": "84b3ca60",
   "metadata": {
    "deletable": false,
    "editable": false,
    "id": "84b3ca60"
   },
   "source": [
    "**Задание 4. Выведите количество пропущенных значений для каждого столбца. Используйте комбинацию двух методов.**"
   ]
  },
  {
   "cell_type": "code",
   "execution_count": 4,
   "id": "43069be4",
   "metadata": {
    "deletable": false,
    "id": "43069be4"
   },
   "outputs": [
    {
     "data": {
      "text/plain": [
       "children               0\n",
       "days_employed       2174\n",
       "dob_years              0\n",
       "education              0\n",
       "education_id           0\n",
       "family_status          0\n",
       "family_status_id       0\n",
       "gender                 0\n",
       "income_type            0\n",
       "debt                   0\n",
       "total_income        2174\n",
       "purpose                0\n",
       "dtype: int64"
      ]
     },
     "execution_count": 4,
     "metadata": {},
     "output_type": "execute_result"
    }
   ],
   "source": [
    "data.isna().sum()"
   ]
  },
  {
   "cell_type": "markdown",
   "id": "d9ba2a6c",
   "metadata": {
    "deletable": false,
    "editable": false,
    "id": "d9ba2a6c"
   },
   "source": [
    "**Задание 5. В двух столбцах есть пропущенные значения. Один из них — `days_employed`. Пропуски в этом столбце вы обработаете на следующем этапе. Другой столбец с пропущенными значениями — `total_income` — хранит данные о доходах. На сумму дохода сильнее всего влияет тип занятости, поэтому заполнить пропуски в этом столбце нужно медианным значением по каждому типу из столбца `income_type`. Например, у человека с типом занятости `сотрудник` пропуск в столбце `total_income` должен быть заполнен медианным доходом среди всех записей с тем же типом.**"
   ]
  },
  {
   "cell_type": "code",
   "execution_count": 5,
   "id": "05cb368f",
   "metadata": {
    "deletable": false,
    "id": "05cb368f"
   },
   "outputs": [],
   "source": [
    "for t in data['income_type'].unique():\n",
    "    data.loc[(data['income_type'] == t) & (data['total_income'].isna()), 'total_income'] = \\\n",
    "    data.loc[(data['income_type'] == t), 'total_income'].median()"
   ]
  },
  {
   "cell_type": "markdown",
   "id": "0a1da05b",
   "metadata": {
    "deletable": false,
    "editable": false,
    "id": "0a1da05b"
   },
   "source": [
    "### Обработка аномальных значений"
   ]
  },
  {
   "cell_type": "markdown",
   "id": "af4dff37",
   "metadata": {
    "deletable": false,
    "editable": false,
    "id": "af4dff37"
   },
   "source": [
    "**Задание 6. В данных могут встречаться артефакты (аномалии) — значения, которые не отражают действительность и появились по какой-то ошибке. таким артефактом будет отрицательное количество дней трудового стажа в столбце `days_employed`. Для реальных данных это нормально. Обработайте значения в этом столбце: замените все отрицательные значения положительными с помощью метода `abs()`.**"
   ]
  },
  {
   "cell_type": "code",
   "execution_count": 6,
   "id": "f1c02628",
   "metadata": {
    "deletable": false,
    "id": "f1c02628"
   },
   "outputs": [],
   "source": [
    "data['days_employed'] = data['days_employed'].abs()"
   ]
  },
  {
   "cell_type": "markdown",
   "id": "597b6483",
   "metadata": {
    "deletable": false,
    "editable": false,
    "id": "597b6483"
   },
   "source": [
    "**Задание 7. Для каждого типа занятости выведите медианное значение трудового стажа `days_employed` в днях.**"
   ]
  },
  {
   "cell_type": "code",
   "execution_count": 7,
   "id": "e4037fbe",
   "metadata": {
    "deletable": false,
    "id": "e4037fbe"
   },
   "outputs": [
    {
     "data": {
      "text/plain": [
       "income_type\n",
       "безработный        366413.652744\n",
       "в декрете            3296.759962\n",
       "госслужащий          2689.368353\n",
       "компаньон            1547.382223\n",
       "пенсионер          365213.306266\n",
       "предприниматель       520.848083\n",
       "сотрудник            1574.202821\n",
       "студент               578.751554\n",
       "Name: days_employed, dtype: float64"
      ]
     },
     "execution_count": 7,
     "metadata": {},
     "output_type": "execute_result"
    }
   ],
   "source": [
    "data.groupby('income_type')['days_employed'].agg('median')"
   ]
  },
  {
   "cell_type": "markdown",
   "id": "97da8f12",
   "metadata": {
    "deletable": false,
    "editable": false,
    "id": "97da8f12"
   },
   "source": [
    "У двух типов (безработные и пенсионеры) получатся аномально большие значения. Исправить такие значения сложно, поэтому оставьте их как есть. Тем более этот столбец не понадобится вам для исследования."
   ]
  },
  {
   "cell_type": "markdown",
   "id": "b6985e9f",
   "metadata": {
    "deletable": false,
    "editable": false,
    "id": "b6985e9f"
   },
   "source": [
    "**Задание 8. Выведите перечень уникальных значений столбца `children`.**"
   ]
  },
  {
   "cell_type": "code",
   "execution_count": 8,
   "id": "df429bad",
   "metadata": {
    "deletable": false,
    "id": "df429bad"
   },
   "outputs": [
    {
     "data": {
      "text/plain": [
       "array([ 1,  0,  3,  2, -1,  4, 20,  5])"
      ]
     },
     "execution_count": 8,
     "metadata": {},
     "output_type": "execute_result"
    }
   ],
   "source": [
    "data['children'].unique()"
   ]
  },
  {
   "cell_type": "markdown",
   "id": "087166ae",
   "metadata": {
    "deletable": false,
    "editable": false,
    "id": "087166ae"
   },
   "source": [
    "**Задание 9. В столбце `children` есть два аномальных значения. Удалите строки, в которых встречаются такие аномальные значения из датафрейма `data`.**"
   ]
  },
  {
   "cell_type": "code",
   "execution_count": 9,
   "id": "653edc24",
   "metadata": {
    "deletable": false,
    "id": "653edc24"
   },
   "outputs": [],
   "source": [
    "data = data[(data['children'] != -1) & (data['children'] != 20)]"
   ]
  },
  {
   "cell_type": "markdown",
   "id": "eaf391b0",
   "metadata": {
    "deletable": false,
    "editable": false,
    "id": "eaf391b0"
   },
   "source": [
    "**Задание 10. Ещё раз выведите перечень уникальных значений столбца `children`, чтобы убедиться, что артефакты удалены.**"
   ]
  },
  {
   "cell_type": "code",
   "execution_count": 10,
   "id": "3cefc710",
   "metadata": {
    "deletable": false,
    "id": "3cefc710"
   },
   "outputs": [
    {
     "data": {
      "text/plain": [
       "array([1, 0, 3, 2, 4, 5])"
      ]
     },
     "execution_count": 10,
     "metadata": {},
     "output_type": "execute_result"
    }
   ],
   "source": [
    "data['children'].unique()"
   ]
  },
  {
   "cell_type": "markdown",
   "id": "7046f98a",
   "metadata": {
    "deletable": false,
    "editable": false,
    "id": "7046f98a"
   },
   "source": [
    "### Удаление пропусков (продолжение)"
   ]
  },
  {
   "cell_type": "markdown",
   "id": "52ff8119",
   "metadata": {
    "deletable": false,
    "editable": false,
    "id": "52ff8119"
   },
   "source": [
    "**Задание 11. Заполните пропуски в столбце `days_employed` медианными значениями по каждого типа занятости `income_type`.**"
   ]
  },
  {
   "cell_type": "code",
   "execution_count": 11,
   "id": "265d1f2f",
   "metadata": {
    "deletable": false,
    "id": "265d1f2f"
   },
   "outputs": [],
   "source": [
    "for t in data['income_type'].unique():\n",
    "    data.loc[(data['income_type'] == t) & (data['days_employed'].isna()), 'days_employed'] = \\\n",
    "    data.loc[(data['income_type'] == t), 'days_employed'].median()"
   ]
  },
  {
   "cell_type": "markdown",
   "id": "785465a8",
   "metadata": {
    "deletable": false,
    "editable": false,
    "id": "785465a8"
   },
   "source": [
    "**Задание 12. Убедитесь, что все пропуски заполнены. Проверьте себя и ещё раз выведите количество пропущенных значений для каждого столбца с помощью двух методов.**"
   ]
  },
  {
   "cell_type": "code",
   "execution_count": 12,
   "id": "87574e1a",
   "metadata": {
    "deletable": false,
    "id": "87574e1a"
   },
   "outputs": [
    {
     "data": {
      "text/plain": [
       "children            0\n",
       "days_employed       0\n",
       "dob_years           0\n",
       "education           0\n",
       "education_id        0\n",
       "family_status       0\n",
       "family_status_id    0\n",
       "gender              0\n",
       "income_type         0\n",
       "debt                0\n",
       "total_income        0\n",
       "purpose             0\n",
       "dtype: int64"
      ]
     },
     "execution_count": 12,
     "metadata": {},
     "output_type": "execute_result"
    }
   ],
   "source": [
    "data.isna().sum()"
   ]
  },
  {
   "cell_type": "markdown",
   "id": "c5cb7b73",
   "metadata": {
    "deletable": false,
    "editable": false,
    "id": "c5cb7b73"
   },
   "source": [
    "### Изменение типов данных"
   ]
  },
  {
   "cell_type": "markdown",
   "id": "ef4e3ba9",
   "metadata": {
    "deletable": false,
    "editable": false,
    "id": "ef4e3ba9"
   },
   "source": [
    "**Задание 13. Замените вещественный тип данных в столбце `total_income` на целочисленный с помощью метода `astype()`.**"
   ]
  },
  {
   "cell_type": "code",
   "execution_count": 13,
   "id": "ba502cd7",
   "metadata": {
    "deletable": false,
    "id": "ba502cd7"
   },
   "outputs": [],
   "source": [
    "data['total_income'] = data['total_income'].astype(int)"
   ]
  },
  {
   "cell_type": "markdown",
   "id": "9a66d908",
   "metadata": {
    "deletable": false,
    "editable": false,
    "id": "9a66d908"
   },
   "source": [
    "### Обработка дубликатов"
   ]
  },
  {
   "cell_type": "markdown",
   "id": "be314c26",
   "metadata": {
    "deletable": false,
    "editable": false,
    "id": "be314c26"
   },
   "source": [
    "**Задание 14. Обработайте неявные дубликаты в столбце `education`. В этом столбце есть одни и те же значения, но записанные по-разному: с использованием заглавных и строчных букв. Приведите их к нижнему регистру. Проверьте остальные столбцы.**"
   ]
  },
  {
   "cell_type": "code",
   "execution_count": 14,
   "id": "6385250c",
   "metadata": {
    "deletable": false,
    "id": "6385250c",
    "outputId": "9ff1defe-fdaf-49aa-c411-3216b1f9fd06"
   },
   "outputs": [],
   "source": [
    "data['education'] = data['education'].str.lower()"
   ]
  },
  {
   "cell_type": "markdown",
   "id": "45950694",
   "metadata": {
    "deletable": false,
    "editable": false,
    "id": "45950694"
   },
   "source": [
    "**Задание 15. Выведите на экран количество строк-дубликатов в данных. Если такие строки присутствуют, удалите их.**"
   ]
  },
  {
   "cell_type": "code",
   "execution_count": 15,
   "id": "e6eeb4b2",
   "metadata": {
    "deletable": false,
    "id": "e6eeb4b2"
   },
   "outputs": [
    {
     "data": {
      "text/plain": [
       "71"
      ]
     },
     "execution_count": 15,
     "metadata": {},
     "output_type": "execute_result"
    }
   ],
   "source": [
    "data.duplicated().sum()"
   ]
  },
  {
   "cell_type": "code",
   "execution_count": 16,
   "id": "c61a233c",
   "metadata": {
    "deletable": false,
    "id": "c61a233c"
   },
   "outputs": [],
   "source": [
    "data = data.drop_duplicates()"
   ]
  },
  {
   "cell_type": "markdown",
   "id": "1ecafb7b",
   "metadata": {
    "deletable": false,
    "editable": false,
    "id": "1ecafb7b"
   },
   "source": [
    "### Категоризация данных"
   ]
  },
  {
   "cell_type": "markdown",
   "id": "c4bfd66a",
   "metadata": {
    "deletable": false,
    "editable": false,
    "id": "c4bfd66a"
   },
   "source": [
    "**Задание 16. На основании диапазонов, указанных ниже, создайте в датафрейме `data` столбец `total_income_category` с категориями:**\n",
    "\n",
    "- 0–30000 — `'E'`;\n",
    "- 30001–50000 — `'D'`;\n",
    "- 50001–200000 — `'C'`;\n",
    "- 200001–1000000 — `'B'`;\n",
    "- 1000001 и выше — `'A'`.\n",
    "\n",
    "\n",
    "**Например, кредитополучателю с доходом 25000 нужно назначить категорию `'E'`, а клиенту, получающему 235000, — `'B'`. Используйте собственную функцию с именем `categorize_income()` и метод `apply()`.**"
   ]
  },
  {
   "cell_type": "code",
   "execution_count": 17,
   "id": "1a0cc02e",
   "metadata": {
    "deletable": false,
    "id": "1a0cc02e"
   },
   "outputs": [],
   "source": [
    "def categorize_income(income):\n",
    "    try:\n",
    "        if 0 <= income <= 30000:\n",
    "            return 'E'\n",
    "        elif 30001 <= income <= 50000:\n",
    "            return 'D'\n",
    "        elif 50001 <= income <= 200000:\n",
    "            return 'C'\n",
    "        elif 200001 <= income <= 1000000:\n",
    "            return 'B'\n",
    "        elif income >= 1000001:\n",
    "            return 'A'\n",
    "    except:\n",
    "        pass"
   ]
  },
  {
   "cell_type": "code",
   "execution_count": 18,
   "id": "0d25ece6",
   "metadata": {
    "deletable": false,
    "id": "0d25ece6"
   },
   "outputs": [],
   "source": [
    "data['total_income_category'] = data['total_income'].apply(categorize_income)"
   ]
  },
  {
   "cell_type": "markdown",
   "id": "e1885dde",
   "metadata": {
    "deletable": false,
    "editable": false,
    "id": "e1885dde"
   },
   "source": [
    "**Задание 17. Выведите на экран перечень уникальных целей взятия кредита из столбца `purpose`.**"
   ]
  },
  {
   "cell_type": "code",
   "execution_count": 19,
   "id": "aa537572",
   "metadata": {
    "deletable": false,
    "id": "aa537572"
   },
   "outputs": [
    {
     "data": {
      "text/plain": [
       "array(['покупка жилья', 'приобретение автомобиля',\n",
       "       'дополнительное образование', 'сыграть свадьбу',\n",
       "       'операции с жильем', 'образование', 'на проведение свадьбы',\n",
       "       'покупка жилья для семьи', 'покупка недвижимости',\n",
       "       'покупка коммерческой недвижимости', 'покупка жилой недвижимости',\n",
       "       'строительство собственной недвижимости', 'недвижимость',\n",
       "       'строительство недвижимости', 'на покупку подержанного автомобиля',\n",
       "       'на покупку своего автомобиля',\n",
       "       'операции с коммерческой недвижимостью',\n",
       "       'строительство жилой недвижимости', 'жилье',\n",
       "       'операции со своей недвижимостью', 'автомобили',\n",
       "       'заняться образованием', 'сделка с подержанным автомобилем',\n",
       "       'получение образования', 'автомобиль', 'свадьба',\n",
       "       'получение дополнительного образования', 'покупка своего жилья',\n",
       "       'операции с недвижимостью', 'получение высшего образования',\n",
       "       'свой автомобиль', 'сделка с автомобилем',\n",
       "       'профильное образование', 'высшее образование',\n",
       "       'покупка жилья для сдачи', 'на покупку автомобиля', 'ремонт жилью',\n",
       "       'заняться высшим образованием'], dtype=object)"
      ]
     },
     "execution_count": 19,
     "metadata": {},
     "output_type": "execute_result"
    }
   ],
   "source": [
    "data['purpose'].unique()"
   ]
  },
  {
   "cell_type": "markdown",
   "id": "4442a0a6",
   "metadata": {
    "deletable": false,
    "editable": false,
    "id": "4442a0a6"
   },
   "source": [
    "**Задание 18. Создайте функцию, которая на основании данных из столбца `purpose` сформирует новый столбец `purpose_category`, в который войдут следующие категории:**\n",
    "\n",
    "- `'операции с автомобилем'`,\n",
    "- `'операции с недвижимостью'`,\n",
    "- `'проведение свадьбы'`,\n",
    "- `'получение образования'`.\n",
    "\n",
    "**Например, если в столбце `purpose` находится подстрока `'на покупку автомобиля'`, то в столбце `purpose_category` должна появиться строка `'операции с автомобилем'`.**\n",
    "\n",
    "**Используйте собственную функцию с именем `categorize_purpose()` и метод `apply()`. Изучите данные в столбце `purpose` и определите, какие подстроки помогут вам правильно определить категорию.**"
   ]
  },
  {
   "cell_type": "code",
   "execution_count": 20,
   "id": "c7845dc9",
   "metadata": {
    "deletable": false,
    "id": "c7845dc9"
   },
   "outputs": [],
   "source": [
    "def categorize_purpose(row):\n",
    "    try:\n",
    "        if 'автом' in row:\n",
    "            return 'операции с автомобилем'\n",
    "        elif 'жил' in row or 'недвиж' in row:\n",
    "            return 'операции с недвижимостью'\n",
    "        elif 'свад' in row:\n",
    "            return 'проведение свадьбы'\n",
    "        elif 'образов' in row:\n",
    "            return 'получение образования'\n",
    "    except:\n",
    "        return 'нет категории'"
   ]
  },
  {
   "cell_type": "code",
   "execution_count": 21,
   "id": "0451a88b",
   "metadata": {
    "deletable": false,
    "id": "0451a88b"
   },
   "outputs": [],
   "source": [
    "data['purpose_category'] = data['purpose'].apply(categorize_purpose)"
   ]
  },
  {
   "cell_type": "markdown",
   "id": "17eb1190",
   "metadata": {
    "deletable": false,
    "editable": false,
    "id": "17eb1190"
   },
   "source": [
    "### Шаг 3. Исследуйте данные и ответьте на вопросы"
   ]
  },
  {
   "cell_type": "markdown",
   "id": "be20f856",
   "metadata": {
    "deletable": false,
    "editable": false,
    "id": "be20f856"
   },
   "source": [
    "#### 3.1 Есть ли зависимость между количеством детей и возвратом кредита в срок?"
   ]
  },
  {
   "cell_type": "code",
   "execution_count": 22,
   "id": "010ad425",
   "metadata": {
    "deletable": false,
    "id": "010ad425"
   },
   "outputs": [
    {
     "data": {
      "text/html": [
       "<div>\n",
       "<style scoped>\n",
       "    .dataframe tbody tr th:only-of-type {\n",
       "        vertical-align: middle;\n",
       "    }\n",
       "\n",
       "    .dataframe tbody tr th {\n",
       "        vertical-align: top;\n",
       "    }\n",
       "\n",
       "    .dataframe thead tr th {\n",
       "        text-align: left;\n",
       "    }\n",
       "\n",
       "    .dataframe thead tr:last-of-type th {\n",
       "        text-align: right;\n",
       "    }\n",
       "</style>\n",
       "<table border=\"1\" class=\"dataframe\">\n",
       "  <thead>\n",
       "    <tr>\n",
       "      <th></th>\n",
       "      <th colspan=\"2\" halign=\"left\">debt</th>\n",
       "    </tr>\n",
       "    <tr>\n",
       "      <th></th>\n",
       "      <th>Количество строк</th>\n",
       "      <th>Среднее</th>\n",
       "    </tr>\n",
       "    <tr>\n",
       "      <th>children</th>\n",
       "      <th></th>\n",
       "      <th></th>\n",
       "    </tr>\n",
       "  </thead>\n",
       "  <tbody>\n",
       "    <tr>\n",
       "      <th>5</th>\n",
       "      <td>9</td>\n",
       "      <td>0.000000</td>\n",
       "    </tr>\n",
       "    <tr>\n",
       "      <th>0</th>\n",
       "      <td>14091</td>\n",
       "      <td>0.075438</td>\n",
       "    </tr>\n",
       "    <tr>\n",
       "      <th>3</th>\n",
       "      <td>330</td>\n",
       "      <td>0.081818</td>\n",
       "    </tr>\n",
       "    <tr>\n",
       "      <th>1</th>\n",
       "      <td>4808</td>\n",
       "      <td>0.092346</td>\n",
       "    </tr>\n",
       "    <tr>\n",
       "      <th>2</th>\n",
       "      <td>2052</td>\n",
       "      <td>0.094542</td>\n",
       "    </tr>\n",
       "    <tr>\n",
       "      <th>4</th>\n",
       "      <td>41</td>\n",
       "      <td>0.097561</td>\n",
       "    </tr>\n",
       "  </tbody>\n",
       "</table>\n",
       "</div>"
      ],
      "text/plain": [
       "                     debt          \n",
       "         Количество строк   Среднее\n",
       "children                           \n",
       "5                       9  0.000000\n",
       "0                   14091  0.075438\n",
       "3                     330  0.081818\n",
       "1                    4808  0.092346\n",
       "2                    2052  0.094542\n",
       "4                      41  0.097561"
      ]
     },
     "execution_count": 22,
     "metadata": {},
     "output_type": "execute_result"
    }
   ],
   "source": [
    "data_chi = data.groupby('children').agg({'debt': ['count', 'mean']})\n",
    "data_chi = data_chi.rename(columns={'count': 'Количество строк', 'mean': 'Среднее'})\n",
    "data_chi.sort_values(('debt','Среднее'), ascending=True)"
   ]
  },
  {
   "cell_type": "markdown",
   "id": "48ecef50",
   "metadata": {
    "deletable": false,
    "id": "48ecef50"
   },
   "source": [
    "***Вывод:\n",
    "    Из данной таблицы можно сделать вывод, что клиенты без детей - самые ответственные по выплате кредита в срок(максимально ответственные клиенты с 5ю детьми, но их ничтожно мало в выборке, поэтому можно данные по этим клиентам пропустить, не умаляя при этом заслуг этих ответсттвенных девяти клиентов), что впринципе логично, тк дети являются большой статьей расходов в семейном бюджете. \n",
    "    В целом заметна тенденция, чем больше детей, тем больше просроченной задолженности по платежам, однако клиенты с 3мя детьми более отвественны, чем остальные родители. Возможно данный \"всплеск\" связан с тем, что в выборке таких клиентов кратно меньше, чем в других категориях*** "
   ]
  },
  {
   "cell_type": "markdown",
   "id": "dbbda2b3",
   "metadata": {
    "deletable": false,
    "editable": false,
    "id": "dbbda2b3"
   },
   "source": [
    "#### 3.2 Есть ли зависимость между семейным положением и возвратом кредита в срок?"
   ]
  },
  {
   "cell_type": "code",
   "execution_count": 23,
   "id": "a2166752",
   "metadata": {
    "deletable": false,
    "id": "a2166752"
   },
   "outputs": [
    {
     "data": {
      "text/html": [
       "<div>\n",
       "<style scoped>\n",
       "    .dataframe tbody tr th:only-of-type {\n",
       "        vertical-align: middle;\n",
       "    }\n",
       "\n",
       "    .dataframe tbody tr th {\n",
       "        vertical-align: top;\n",
       "    }\n",
       "\n",
       "    .dataframe thead tr th {\n",
       "        text-align: left;\n",
       "    }\n",
       "\n",
       "    .dataframe thead tr:last-of-type th {\n",
       "        text-align: right;\n",
       "    }\n",
       "</style>\n",
       "<table border=\"1\" class=\"dataframe\">\n",
       "  <thead>\n",
       "    <tr>\n",
       "      <th></th>\n",
       "      <th colspan=\"2\" halign=\"left\">debt</th>\n",
       "    </tr>\n",
       "    <tr>\n",
       "      <th></th>\n",
       "      <th>Количество строк</th>\n",
       "      <th>Среднее</th>\n",
       "    </tr>\n",
       "    <tr>\n",
       "      <th>family_status</th>\n",
       "      <th></th>\n",
       "      <th></th>\n",
       "    </tr>\n",
       "  </thead>\n",
       "  <tbody>\n",
       "    <tr>\n",
       "      <th>вдовец / вдова</th>\n",
       "      <td>951</td>\n",
       "      <td>0.066246</td>\n",
       "    </tr>\n",
       "    <tr>\n",
       "      <th>в разводе</th>\n",
       "      <td>1189</td>\n",
       "      <td>0.070648</td>\n",
       "    </tr>\n",
       "    <tr>\n",
       "      <th>женат / замужем</th>\n",
       "      <td>12261</td>\n",
       "      <td>0.075606</td>\n",
       "    </tr>\n",
       "    <tr>\n",
       "      <th>гражданский брак</th>\n",
       "      <td>4134</td>\n",
       "      <td>0.093130</td>\n",
       "    </tr>\n",
       "    <tr>\n",
       "      <th>Не женат / не замужем</th>\n",
       "      <td>2796</td>\n",
       "      <td>0.097639</td>\n",
       "    </tr>\n",
       "  </tbody>\n",
       "</table>\n",
       "</div>"
      ],
      "text/plain": [
       "                                  debt          \n",
       "                      Количество строк   Среднее\n",
       "family_status                                   \n",
       "вдовец / вдова                     951  0.066246\n",
       "в разводе                         1189  0.070648\n",
       "женат / замужем                  12261  0.075606\n",
       "гражданский брак                  4134  0.093130\n",
       "Не женат / не замужем             2796  0.097639"
      ]
     },
     "execution_count": 23,
     "metadata": {},
     "output_type": "execute_result"
    }
   ],
   "source": [
    "data_fam = data.groupby('family_status').agg({'debt': ['count', 'mean']})\n",
    "data_fam = data_fam.rename(columns={'count': 'Количество строк', 'mean': 'Среднее'})\n",
    "data_fam.sort_values(('debt','Среднее'), ascending=True)"
   ]
  },
  {
   "cell_type": "markdown",
   "id": "a7194234",
   "metadata": {
    "deletable": false,
    "id": "a7194234"
   },
   "source": [
    "***Вывод: Здесь мы видим, что более ответственные плательщики - это вдовцы и разведенные клиенты, предположу, что у них есть понимание, что ответственность по платежам им разделить не с кем, как это было ранее, когда они не были одиноки, поэтому подходят более серьезно к этому делу. Женатые клиенты, которых большинство в нашей выборке являются этакой \"золотой серединой\", и заметно превосходят неженатых и людей живущих в гражданском браке по показателю просроченных платежей***"
   ]
  },
  {
   "cell_type": "markdown",
   "id": "f6882dfd",
   "metadata": {
    "deletable": false,
    "editable": false,
    "id": "f6882dfd"
   },
   "source": [
    "#### 3.3 Есть ли зависимость между уровнем дохода и возвратом кредита в срок?"
   ]
  },
  {
   "cell_type": "code",
   "execution_count": 24,
   "id": "59e66c15",
   "metadata": {
    "deletable": false,
    "id": "59e66c15"
   },
   "outputs": [
    {
     "data": {
      "text/html": [
       "<div>\n",
       "<style scoped>\n",
       "    .dataframe tbody tr th:only-of-type {\n",
       "        vertical-align: middle;\n",
       "    }\n",
       "\n",
       "    .dataframe tbody tr th {\n",
       "        vertical-align: top;\n",
       "    }\n",
       "\n",
       "    .dataframe thead tr th {\n",
       "        text-align: left;\n",
       "    }\n",
       "\n",
       "    .dataframe thead tr:last-of-type th {\n",
       "        text-align: right;\n",
       "    }\n",
       "</style>\n",
       "<table border=\"1\" class=\"dataframe\">\n",
       "  <thead>\n",
       "    <tr>\n",
       "      <th></th>\n",
       "      <th colspan=\"2\" halign=\"left\">debt</th>\n",
       "    </tr>\n",
       "    <tr>\n",
       "      <th></th>\n",
       "      <th>Количество строк</th>\n",
       "      <th>Среднее</th>\n",
       "    </tr>\n",
       "    <tr>\n",
       "      <th>total_income_category</th>\n",
       "      <th></th>\n",
       "      <th></th>\n",
       "    </tr>\n",
       "  </thead>\n",
       "  <tbody>\n",
       "    <tr>\n",
       "      <th>D</th>\n",
       "      <td>349</td>\n",
       "      <td>0.060172</td>\n",
       "    </tr>\n",
       "    <tr>\n",
       "      <th>B</th>\n",
       "      <td>5014</td>\n",
       "      <td>0.070602</td>\n",
       "    </tr>\n",
       "    <tr>\n",
       "      <th>A</th>\n",
       "      <td>25</td>\n",
       "      <td>0.080000</td>\n",
       "    </tr>\n",
       "    <tr>\n",
       "      <th>C</th>\n",
       "      <td>15921</td>\n",
       "      <td>0.084982</td>\n",
       "    </tr>\n",
       "    <tr>\n",
       "      <th>E</th>\n",
       "      <td>22</td>\n",
       "      <td>0.090909</td>\n",
       "    </tr>\n",
       "  </tbody>\n",
       "</table>\n",
       "</div>"
      ],
      "text/plain": [
       "                                  debt          \n",
       "                      Количество строк   Среднее\n",
       "total_income_category                           \n",
       "D                                  349  0.060172\n",
       "B                                 5014  0.070602\n",
       "A                                   25  0.080000\n",
       "C                                15921  0.084982\n",
       "E                                   22  0.090909"
      ]
     },
     "execution_count": 24,
     "metadata": {},
     "output_type": "execute_result"
    }
   ],
   "source": [
    "data_inc = data.groupby('total_income_category').agg({'debt': ['count', 'mean']})\n",
    "data_inc = data_inc.rename(columns={'count': 'Количество строк','mean': 'Среднее'})\n",
    "data_inc.sort_values(('debt','Среднее'), ascending=True)"
   ]
  },
  {
   "cell_type": "markdown",
   "id": "faeda335",
   "metadata": {
    "deletable": false,
    "id": "faeda335"
   },
   "source": [
    "***Вывод: Исходя из данной таблицы можно сделать вывод, что самые добросовестные плательщики это клиенты с небольшим доходом 30-50 т.р., это можно объяснить тем что данные клиенты стараются не испортить свою кредитную историю, т.к. наверняка кредиты являются для них достаточно удобным инструментом и им они пользуются часто. В то же время, если обратить внимание, что таких записей существенно меньше, чем в категории B(200-1000 т.р.) и С(50-200 т.р.), то выводы становятся не столь однозначными, и например, при объединении с категорией Е(доход до 30 т.р.) мы уже бы увидели снижение средних показателей по просрочке. С учетом вышесказанного, категорию B можно тоже причислить к лидерам, что вполне логично, так как клиенты имеют высокий доход и ответственно подходят к платежам. И получается, что клиенты с низкими(до 30 т.р., но ими можно пренебречь ввиду маленькой выборки в нашей таблице)и со средними доходами 50-200 т.р. самые \"неблагонадежные\", возможное объяснение этому вижу в том что у данной категории по нескольку кредитов сразу, и общая финансовая нагрузка растет***"
   ]
  },
  {
   "cell_type": "markdown",
   "id": "b9fb77ac",
   "metadata": {
    "deletable": false,
    "editable": false,
    "id": "b9fb77ac"
   },
   "source": [
    "#### 3.4 Как разные цели кредита влияют на его возврат в срок?"
   ]
  },
  {
   "cell_type": "code",
   "execution_count": 25,
   "id": "3d8d4c60",
   "metadata": {
    "deletable": false,
    "id": "3d8d4c60"
   },
   "outputs": [
    {
     "data": {
      "text/html": [
       "<div>\n",
       "<style scoped>\n",
       "    .dataframe tbody tr th:only-of-type {\n",
       "        vertical-align: middle;\n",
       "    }\n",
       "\n",
       "    .dataframe tbody tr th {\n",
       "        vertical-align: top;\n",
       "    }\n",
       "\n",
       "    .dataframe thead tr th {\n",
       "        text-align: left;\n",
       "    }\n",
       "\n",
       "    .dataframe thead tr:last-of-type th {\n",
       "        text-align: right;\n",
       "    }\n",
       "</style>\n",
       "<table border=\"1\" class=\"dataframe\">\n",
       "  <thead>\n",
       "    <tr>\n",
       "      <th></th>\n",
       "      <th colspan=\"2\" halign=\"left\">debt</th>\n",
       "    </tr>\n",
       "    <tr>\n",
       "      <th></th>\n",
       "      <th>Количество строк</th>\n",
       "      <th>Среднее</th>\n",
       "    </tr>\n",
       "    <tr>\n",
       "      <th>purpose_category</th>\n",
       "      <th></th>\n",
       "      <th></th>\n",
       "    </tr>\n",
       "  </thead>\n",
       "  <tbody>\n",
       "    <tr>\n",
       "      <th>операции с недвижимостью</th>\n",
       "      <td>10751</td>\n",
       "      <td>0.072551</td>\n",
       "    </tr>\n",
       "    <tr>\n",
       "      <th>проведение свадьбы</th>\n",
       "      <td>2313</td>\n",
       "      <td>0.079118</td>\n",
       "    </tr>\n",
       "    <tr>\n",
       "      <th>получение образования</th>\n",
       "      <td>3988</td>\n",
       "      <td>0.092528</td>\n",
       "    </tr>\n",
       "    <tr>\n",
       "      <th>операции с автомобилем</th>\n",
       "      <td>4279</td>\n",
       "      <td>0.093480</td>\n",
       "    </tr>\n",
       "  </tbody>\n",
       "</table>\n",
       "</div>"
      ],
      "text/plain": [
       "                                     debt          \n",
       "                         Количество строк   Среднее\n",
       "purpose_category                                   \n",
       "операции с недвижимостью            10751  0.072551\n",
       "проведение свадьбы                   2313  0.079118\n",
       "получение образования                3988  0.092528\n",
       "операции с автомобилем               4279  0.093480"
      ]
     },
     "execution_count": 25,
     "metadata": {},
     "output_type": "execute_result"
    }
   ],
   "source": [
    "data_pur = data.groupby('purpose_category').agg({'debt': ['count', 'mean']})\n",
    "data_pur = data_pur.rename(columns={'count': 'Количество строк','mean': 'Среднее'})\n",
    "data_pur.sort_values(('debt','Среднее'), ascending=True)"
   ]
  },
  {
   "cell_type": "markdown",
   "id": "6cda6d4f",
   "metadata": {
    "deletable": false,
    "id": "6cda6d4f"
   },
   "source": [
    "***Вывод: Чаще всего платят в срок по кредитам связанным с недвижимостью, это и понятно, ведь ипотека это большая отвественность, несмотря на большие в сравнении другими категориями платежи, по кредитам на свадьбу тоже неплохие результаты, возможно сказывается тот фактор, что новоиспеченные семьи хотят поскорее избавиться от долгов. Категории по кредитам на образование и автокредиты у нас являются аутсайдерами, по первым, вероятнее всего процент по просрочкам хуже, тк наверняка не все доучиваются до конца, или не находят достойную /не очень быстро находят работу, чтобы поскорее отдать кредит. Автомобилистов вероятно подводят дополнительные постоянные расходы на авто***"
   ]
  },
  {
   "cell_type": "markdown",
   "id": "199c1d65",
   "metadata": {
    "deletable": false,
    "editable": false,
    "id": "199c1d65"
   },
   "source": [
    "#### 3.5 Приведите возможные причины появления пропусков в исходных данных."
   ]
  },
  {
   "cell_type": "markdown",
   "id": "1b86a142",
   "metadata": {
    "deletable": false,
    "id": "1b86a142"
   },
   "source": [
    "***Ответ: Пропуски у нас были в столбце days_employed-общий трудовой стаж в днях и в столбце total_income - ежемесячный доход\n",
    "пропуски в первом столбце можно объяснить каким то техническим багом(возможно у отдельных категорий кто-то забыл перевести минуты в дни), тк значения сильно искажены. По второму столбцу причины более очевидны, не все хотят раскрывать свой ежемесячный доход, и поэтому он не был указан***"
   ]
  },
  {
   "cell_type": "markdown",
   "id": "29891bec",
   "metadata": {
    "deletable": false,
    "editable": false,
    "id": "29891bec"
   },
   "source": [
    "#### 3.6 Объясните, почему заполнить пропуски медианным значением — лучшее решение для количественных переменных."
   ]
  },
  {
   "cell_type": "markdown",
   "id": "e6c2e40f",
   "metadata": {
    "deletable": false,
    "id": "e6c2e40f"
   },
   "source": [
    "***Ответ: все зависит конечно от выборки, но в нашем проекте заполнение пропусков медианным значением обусловлено тем, что медиана гораздо точнее покажет ожидаемый результат, нежели средняя, тк имеются достаточно много выбросов в данных (например даже немногочисленная категория клиентов (около 0,1% от всей выборки) с доходом более 1 млн могут сильно повысить среднюю в целом, также как и совсем бедные (примерно те же 0,1% от выборки) ее резко снизить)***"
   ]
  },
  {
   "cell_type": "markdown",
   "id": "cf58c153",
   "metadata": {
    "deletable": false,
    "editable": false,
    "id": "cf58c153"
   },
   "source": [
    "### Шаг 4: общий вывод."
   ]
  },
  {
   "cell_type": "markdown",
   "id": "d035d3ee",
   "metadata": {
    "deletable": false,
    "id": "d035d3ee"
   },
   "source": [
    "Для анализа данных по просроченным кредитам нами был получен файл data. Данный файл не был идеальным, и содержал пропуски в двух столбцах. В столбец с общим трудовым стажем в днях закралась, вероятно, техническая ошибка и пропуски в этом столбце мы заполнили медианным значением. На вывод это в целом никак не повлияло, тк данный столбец в расчетах не принимал участие. Аналогично заполнили медианным значением пропуски в столбце \"ежемесячный доход\", здесь пропуски вероятней всего связаны с нежеланием некоторых клиентов раскрывать свой доход. Заполнили медианой, тк в выборке присутствует достаточно много выбросов данных, слишком больших и слишком маленьких значений, которые при расчете средней выдавали бы менее точные результаты.\n",
    "Продолжая обработку файла выявили в столбце \"Дети\" несколько аномальных значений, и успешно от них избавились Также привели в порядок столбец с ежемесячным доходом, данные в нем изначально не были записаны в числовом формате и столбец с образованием привели к единому регистру. После сделанных изменений мы проверили таблицу на наличие строк-дубликатов и убрали лишние данные.\n",
    "\n",
    "Перед началом анализа подготовили и сгруппировали данные по нескольким параметрам:\n",
    "\n",
    "Разбили клиентов на группы по доходу\n",
    "\n",
    "Отсортировали и выявили 4 цели, на которые клиенты берут кредиты\n",
    "\n",
    "Приведя файл в нормальный вид мы начали наш анализ.\n",
    "\n",
    "С помощью группировки и аггрегации по параметрам количества и средней мы вяснили некторые закономерности:\n",
    "\n",
    "Выяснили, что существует зависимость между количеством детей и возвратом кредита в срок, а именно, что чем больше детей, тем больше риск просрочки платежа (с небольшими погрешностями с семьями с 3мя детьми, но данных по этой категории клиентов в нашей выборке не так много, поэтому при выводе мы опускаем эти данные)\n",
    "\n",
    "Разница между максимальными и минимальными средними значениями по количеству детей составляет 20,2%\n",
    "Также обнаружилось влияние семейного положения на просрочку кредитов. Вдовцы и разведенные оказались самыми благонадежными клиентами, с очень большой разницей опережая незамужних и живущих в гражданском браке. По этому параметру самая большая разница между максимальными и минимальными средними значениями\n",
    "\n",
    "Разница между максимальными и минимальными средними значениям по семейному положению равна 32,1%\n",
    "На удивление самой минимальной оказалась зависимость между уровнем дохода и возвратом кредита в срок. Клиенты с высоким доходом, как и ожидалось, стали лидерами по этому показателю, но и остальные категории клиентов \"недалеко ушли\"\n",
    "\n",
    "Разница между максимальными и минимальными средними значениям по уровню дохода 16,8% \n",
    "И наконец изучение влияния цели кредита на возврат кредита нам показало, что люди, взявшие ипотеку наиболее ответственно подходят к погашению кредита, что в целом ожидаемо и объяснимо более строгим отбором заемщиков и более серьёзным отношением со стороны самих клиентов. Кредиторы на образование и авто в данном случае аутсайдеры\n",
    "\n",
    "Разница между максимальными и минимальными средними значениям по целям кредита 22,3%\n",
    "Исходя из изложенного выше можем сделать вывод, что все изученные категории в той или иной степени влияют на возврат кредита в срок, а самое большое влияние имеет параметр \"Семейное положение\"¶"
   ]
  }
 ],
 "metadata": {
  "ExecuteTimeLog": [
   {
    "duration": 483,
    "start_time": "2022-08-31T11:35:33.283Z"
   },
   {
    "duration": 30,
    "start_time": "2022-08-31T11:35:44.430Z"
   },
   {
    "duration": 15,
    "start_time": "2022-08-31T11:35:54.269Z"
   },
   {
    "duration": 10,
    "start_time": "2022-08-31T11:36:04.905Z"
   },
   {
    "duration": 34,
    "start_time": "2022-08-31T11:36:09.830Z"
   },
   {
    "duration": 38,
    "start_time": "2022-08-31T11:37:05.795Z"
   },
   {
    "duration": 4,
    "start_time": "2022-08-31T11:37:12.080Z"
   },
   {
    "duration": 8,
    "start_time": "2022-08-31T11:37:16.328Z"
   },
   {
    "duration": 4,
    "start_time": "2022-08-31T11:37:24.324Z"
   },
   {
    "duration": 5,
    "start_time": "2022-08-31T11:37:28.585Z"
   },
   {
    "duration": 49,
    "start_time": "2022-08-31T11:37:32.425Z"
   },
   {
    "duration": 9,
    "start_time": "2022-08-31T11:38:23.476Z"
   },
   {
    "duration": 4,
    "start_time": "2022-08-31T11:38:32.753Z"
   },
   {
    "duration": 11,
    "start_time": "2022-08-31T11:38:39.570Z"
   },
   {
    "duration": 21,
    "start_time": "2022-08-31T11:38:42.483Z"
   },
   {
    "duration": 18,
    "start_time": "2022-08-31T11:38:46.114Z"
   },
   {
    "duration": 4,
    "start_time": "2022-08-31T11:38:59.410Z"
   },
   {
    "duration": 9,
    "start_time": "2022-08-31T11:39:04.982Z"
   },
   {
    "duration": 6,
    "start_time": "2022-08-31T11:39:07.847Z"
   },
   {
    "duration": 3,
    "start_time": "2022-08-31T11:39:12.243Z"
   },
   {
    "duration": 8,
    "start_time": "2022-08-31T11:39:15.717Z"
   },
   {
    "duration": 47,
    "start_time": "2022-09-01T14:21:29.861Z"
   },
   {
    "duration": 457,
    "start_time": "2022-09-01T14:21:33.151Z"
   },
   {
    "duration": 21,
    "start_time": "2022-09-01T14:21:33.609Z"
   },
   {
    "duration": 15,
    "start_time": "2022-09-01T14:21:33.632Z"
   },
   {
    "duration": 14,
    "start_time": "2022-09-01T14:21:33.649Z"
   },
   {
    "duration": 54,
    "start_time": "2022-09-01T14:21:33.665Z"
   },
   {
    "duration": 3,
    "start_time": "2022-09-01T14:21:33.721Z"
   },
   {
    "duration": 10,
    "start_time": "2022-09-01T14:21:33.726Z"
   },
   {
    "duration": 8,
    "start_time": "2022-09-01T14:21:33.738Z"
   },
   {
    "duration": 11,
    "start_time": "2022-09-01T14:21:33.747Z"
   },
   {
    "duration": 26,
    "start_time": "2022-09-01T14:21:33.761Z"
   },
   {
    "duration": 38,
    "start_time": "2022-09-01T14:21:33.789Z"
   },
   {
    "duration": 11,
    "start_time": "2022-09-01T14:21:33.829Z"
   },
   {
    "duration": 7,
    "start_time": "2022-09-01T14:21:33.842Z"
   },
   {
    "duration": 38,
    "start_time": "2022-09-01T14:21:33.851Z"
   },
   {
    "duration": 27,
    "start_time": "2022-09-01T14:21:33.891Z"
   },
   {
    "duration": 22,
    "start_time": "2022-09-01T14:21:33.920Z"
   },
   {
    "duration": 3,
    "start_time": "2022-09-01T14:21:33.944Z"
   },
   {
    "duration": 15,
    "start_time": "2022-09-01T14:21:33.949Z"
   },
   {
    "duration": 25,
    "start_time": "2022-09-01T14:21:33.966Z"
   },
   {
    "duration": 4,
    "start_time": "2022-09-01T14:21:33.992Z"
   },
   {
    "duration": 13,
    "start_time": "2022-09-01T14:21:33.997Z"
   },
   {
    "duration": 20,
    "start_time": "2022-09-01T14:21:34.012Z"
   },
   {
    "duration": 15,
    "start_time": "2022-09-01T14:21:34.034Z"
   },
   {
    "duration": 34,
    "start_time": "2022-09-01T14:21:34.060Z"
   },
   {
    "duration": 15,
    "start_time": "2022-09-01T14:21:35.262Z"
   }
  ],
  "colab": {
   "collapsed_sections": [
    "0a1da05b",
    "7046f98a",
    "c5cb7b73",
    "9a66d908",
    "1ecafb7b",
    "17eb1190",
    "be20f856",
    "dbbda2b3",
    "f6882dfd",
    "b9fb77ac",
    "199c1d65",
    "29891bec",
    "cf58c153",
    "d035d3ee",
    "af64ddf2"
   ],
   "provenance": []
  },
  "kernelspec": {
   "display_name": "Python 3 (ipykernel)",
   "language": "python",
   "name": "python3"
  },
  "language_info": {
   "codemirror_mode": {
    "name": "ipython",
    "version": 3
   },
   "file_extension": ".py",
   "mimetype": "text/x-python",
   "name": "python",
   "nbconvert_exporter": "python",
   "pygments_lexer": "ipython3",
   "version": "3.9.12"
  },
  "toc": {
   "base_numbering": 1,
   "nav_menu": {},
   "number_sections": true,
   "sideBar": true,
   "skip_h1_title": true,
   "title_cell": "Table of Contents",
   "title_sidebar": "Contents",
   "toc_cell": false,
   "toc_position": {},
   "toc_section_display": true,
   "toc_window_display": false
  }
 },
 "nbformat": 4,
 "nbformat_minor": 5
}
