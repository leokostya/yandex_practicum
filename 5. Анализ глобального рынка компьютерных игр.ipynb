{
  "cells": [
    {
      "cell_type": "markdown",
      "metadata": {
        "id": "mFcKWFKxiZwu"
      },
      "source": [
        "### Описание проекта\n",
        "Мы работаем в интернет-магазине «Стримчик», который продаёт по всему миру компьютерные игры. Из открытых источников доступны исторические данные о продажах игр, оценки пользователей и экспертов, жанры и платформы. Выявим определяющие успешность игры закономерности. Это позволит сделать ставку на потенциально популярный продукт и спланировать рекламные кампании.  \n",
        "#### Описание данных:\n",
        "<b>Name — название игры  \n",
        "Platform — платформа  \n",
        "Year_of_Release — год выпуска  \n",
        "Genre — жанр игры  \n",
        "NA_sales — продажи в Северной Америке (миллионы проданных копий)  \n",
        "EU_sales — продажи в Европе (миллионы проданных копий)  \n",
        "JP_sales — продажи в Японии (миллионы проданных копий)  \n",
        "Other_sales — продажи в других странах (миллионы проданных копий)  \n",
        "Critic_Score — оценка критиков (максимум 100)  \n",
        "User_Score — оценка пользователей (максимум 10)  \n",
        "Rating — рейтинг от организации ESRB (англ. Entertainment Software Rating Board). Эта ассоциация определяет рейтинг компьютерных игр и присваивает им подходящую возрастную категорию.\n"
      ]
    },
    {
      "cell_type": "markdown",
      "metadata": {
        "id": "rqWy0wdHiZwv"
      },
      "source": [
        "<div class=\"alert alert-block alert-info\"> \n",
        "<b> Шаг 1. Откроем файл с данными и изучим общую информацию\n",
        "</div>"
      ]
    },
    {
      "cell_type": "markdown",
      "metadata": {
        "id": "5MunPob4iZwv"
      },
      "source": [
        "Откроем таблицу и проведем ее предобработку:"
      ]
    },
    {
      "cell_type": "code",
      "execution_count": null,
      "metadata": {
        "id": "fXvKD2SfiZww"
      },
      "outputs": [],
      "source": [
        "# Импортируем библиотеки\n",
        "import pandas as pd\n",
        "import numpy as np\n",
        "import matplotlib.pyplot as plt\n",
        "from scipy import stats as st\n",
        "import seaborn as sns"
      ]
    },
    {
      "cell_type": "code",
      "execution_count": null,
      "metadata": {
        "scrolled": true,
        "id": "99h8lKjFiZwz",
        "outputId": "3a8f1326-7084-4fc4-e4bf-5e46f09751c7"
      },
      "outputs": [
        {
          "data": {
            "text/html": [
              "<div>\n",
              "<style scoped>\n",
              "    .dataframe tbody tr th:only-of-type {\n",
              "        vertical-align: middle;\n",
              "    }\n",
              "\n",
              "    .dataframe tbody tr th {\n",
              "        vertical-align: top;\n",
              "    }\n",
              "\n",
              "    .dataframe thead th {\n",
              "        text-align: right;\n",
              "    }\n",
              "</style>\n",
              "<table border=\"1\" class=\"dataframe\">\n",
              "  <thead>\n",
              "    <tr style=\"text-align: right;\">\n",
              "      <th></th>\n",
              "      <th>Name</th>\n",
              "      <th>Platform</th>\n",
              "      <th>Year_of_Release</th>\n",
              "      <th>Genre</th>\n",
              "      <th>NA_sales</th>\n",
              "      <th>EU_sales</th>\n",
              "      <th>JP_sales</th>\n",
              "      <th>Other_sales</th>\n",
              "      <th>Critic_Score</th>\n",
              "      <th>User_Score</th>\n",
              "      <th>Rating</th>\n",
              "    </tr>\n",
              "  </thead>\n",
              "  <tbody>\n",
              "    <tr>\n",
              "      <th>0</th>\n",
              "      <td>Wii Sports</td>\n",
              "      <td>Wii</td>\n",
              "      <td>2006.0</td>\n",
              "      <td>Sports</td>\n",
              "      <td>41.36</td>\n",
              "      <td>28.96</td>\n",
              "      <td>3.77</td>\n",
              "      <td>8.45</td>\n",
              "      <td>76.0</td>\n",
              "      <td>8</td>\n",
              "      <td>E</td>\n",
              "    </tr>\n",
              "    <tr>\n",
              "      <th>1</th>\n",
              "      <td>Super Mario Bros.</td>\n",
              "      <td>NES</td>\n",
              "      <td>1985.0</td>\n",
              "      <td>Platform</td>\n",
              "      <td>29.08</td>\n",
              "      <td>3.58</td>\n",
              "      <td>6.81</td>\n",
              "      <td>0.77</td>\n",
              "      <td>NaN</td>\n",
              "      <td>NaN</td>\n",
              "      <td>NaN</td>\n",
              "    </tr>\n",
              "    <tr>\n",
              "      <th>2</th>\n",
              "      <td>Mario Kart Wii</td>\n",
              "      <td>Wii</td>\n",
              "      <td>2008.0</td>\n",
              "      <td>Racing</td>\n",
              "      <td>15.68</td>\n",
              "      <td>12.76</td>\n",
              "      <td>3.79</td>\n",
              "      <td>3.29</td>\n",
              "      <td>82.0</td>\n",
              "      <td>8.3</td>\n",
              "      <td>E</td>\n",
              "    </tr>\n",
              "    <tr>\n",
              "      <th>3</th>\n",
              "      <td>Wii Sports Resort</td>\n",
              "      <td>Wii</td>\n",
              "      <td>2009.0</td>\n",
              "      <td>Sports</td>\n",
              "      <td>15.61</td>\n",
              "      <td>10.93</td>\n",
              "      <td>3.28</td>\n",
              "      <td>2.95</td>\n",
              "      <td>80.0</td>\n",
              "      <td>8</td>\n",
              "      <td>E</td>\n",
              "    </tr>\n",
              "    <tr>\n",
              "      <th>4</th>\n",
              "      <td>Pokemon Red/Pokemon Blue</td>\n",
              "      <td>GB</td>\n",
              "      <td>1996.0</td>\n",
              "      <td>Role-Playing</td>\n",
              "      <td>11.27</td>\n",
              "      <td>8.89</td>\n",
              "      <td>10.22</td>\n",
              "      <td>1.00</td>\n",
              "      <td>NaN</td>\n",
              "      <td>NaN</td>\n",
              "      <td>NaN</td>\n",
              "    </tr>\n",
              "    <tr>\n",
              "      <th>5</th>\n",
              "      <td>Tetris</td>\n",
              "      <td>GB</td>\n",
              "      <td>1989.0</td>\n",
              "      <td>Puzzle</td>\n",
              "      <td>23.20</td>\n",
              "      <td>2.26</td>\n",
              "      <td>4.22</td>\n",
              "      <td>0.58</td>\n",
              "      <td>NaN</td>\n",
              "      <td>NaN</td>\n",
              "      <td>NaN</td>\n",
              "    </tr>\n",
              "    <tr>\n",
              "      <th>6</th>\n",
              "      <td>New Super Mario Bros.</td>\n",
              "      <td>DS</td>\n",
              "      <td>2006.0</td>\n",
              "      <td>Platform</td>\n",
              "      <td>11.28</td>\n",
              "      <td>9.14</td>\n",
              "      <td>6.50</td>\n",
              "      <td>2.88</td>\n",
              "      <td>89.0</td>\n",
              "      <td>8.5</td>\n",
              "      <td>E</td>\n",
              "    </tr>\n",
              "    <tr>\n",
              "      <th>7</th>\n",
              "      <td>Wii Play</td>\n",
              "      <td>Wii</td>\n",
              "      <td>2006.0</td>\n",
              "      <td>Misc</td>\n",
              "      <td>13.96</td>\n",
              "      <td>9.18</td>\n",
              "      <td>2.93</td>\n",
              "      <td>2.84</td>\n",
              "      <td>58.0</td>\n",
              "      <td>6.6</td>\n",
              "      <td>E</td>\n",
              "    </tr>\n",
              "    <tr>\n",
              "      <th>8</th>\n",
              "      <td>New Super Mario Bros. Wii</td>\n",
              "      <td>Wii</td>\n",
              "      <td>2009.0</td>\n",
              "      <td>Platform</td>\n",
              "      <td>14.44</td>\n",
              "      <td>6.94</td>\n",
              "      <td>4.70</td>\n",
              "      <td>2.24</td>\n",
              "      <td>87.0</td>\n",
              "      <td>8.4</td>\n",
              "      <td>E</td>\n",
              "    </tr>\n",
              "    <tr>\n",
              "      <th>9</th>\n",
              "      <td>Duck Hunt</td>\n",
              "      <td>NES</td>\n",
              "      <td>1984.0</td>\n",
              "      <td>Shooter</td>\n",
              "      <td>26.93</td>\n",
              "      <td>0.63</td>\n",
              "      <td>0.28</td>\n",
              "      <td>0.47</td>\n",
              "      <td>NaN</td>\n",
              "      <td>NaN</td>\n",
              "      <td>NaN</td>\n",
              "    </tr>\n",
              "  </tbody>\n",
              "</table>\n",
              "</div>"
            ],
            "text/plain": [
              "                        Name Platform  Year_of_Release         Genre  \\\n",
              "0                 Wii Sports      Wii           2006.0        Sports   \n",
              "1          Super Mario Bros.      NES           1985.0      Platform   \n",
              "2             Mario Kart Wii      Wii           2008.0        Racing   \n",
              "3          Wii Sports Resort      Wii           2009.0        Sports   \n",
              "4   Pokemon Red/Pokemon Blue       GB           1996.0  Role-Playing   \n",
              "5                     Tetris       GB           1989.0        Puzzle   \n",
              "6      New Super Mario Bros.       DS           2006.0      Platform   \n",
              "7                   Wii Play      Wii           2006.0          Misc   \n",
              "8  New Super Mario Bros. Wii      Wii           2009.0      Platform   \n",
              "9                  Duck Hunt      NES           1984.0       Shooter   \n",
              "\n",
              "   NA_sales  EU_sales  JP_sales  Other_sales  Critic_Score User_Score Rating  \n",
              "0     41.36     28.96      3.77         8.45          76.0          8      E  \n",
              "1     29.08      3.58      6.81         0.77           NaN        NaN    NaN  \n",
              "2     15.68     12.76      3.79         3.29          82.0        8.3      E  \n",
              "3     15.61     10.93      3.28         2.95          80.0          8      E  \n",
              "4     11.27      8.89     10.22         1.00           NaN        NaN    NaN  \n",
              "5     23.20      2.26      4.22         0.58           NaN        NaN    NaN  \n",
              "6     11.28      9.14      6.50         2.88          89.0        8.5      E  \n",
              "7     13.96      9.18      2.93         2.84          58.0        6.6      E  \n",
              "8     14.44      6.94      4.70         2.24          87.0        8.4      E  \n",
              "9     26.93      0.63      0.28         0.47           NaN        NaN    NaN  "
            ]
          },
          "execution_count": 2,
          "metadata": {},
          "output_type": "execute_result"
        }
      ],
      "source": [
        "# Откроем файл с данными и выведем первые 10 строк\n",
        "try:\n",
        "    games = pd.read_csv('/datasets/games.csv')\n",
        "except:\n",
        "    games = pd.read_csv('https://code.s3.yandex.net/datasets/games.csv')\n",
        "games.head(10)"
      ]
    },
    {
      "cell_type": "code",
      "execution_count": null,
      "metadata": {
        "id": "2DZG14zAiZw1",
        "outputId": "e3340801-dece-4a39-b111-8f6429ce32cc"
      },
      "outputs": [
        {
          "name": "stdout",
          "output_type": "stream",
          "text": [
            "Name                  2\n",
            "Platform              0\n",
            "Year_of_Release     269\n",
            "Genre                 2\n",
            "NA_sales              0\n",
            "EU_sales              0\n",
            "JP_sales              0\n",
            "Other_sales           0\n",
            "Critic_Score       8578\n",
            "User_Score         6701\n",
            "Rating             6766\n",
            "dtype: int64\n"
          ]
        }
      ],
      "source": [
        "# Посчитаем количество пустых значений.\n",
        "print(games.isna().sum())"
      ]
    },
    {
      "cell_type": "code",
      "execution_count": null,
      "metadata": {
        "id": "WsF1TpJEiZw2"
      },
      "outputs": [],
      "source": [
        "# И для наглядности построим график\n",
        "def percent_of_nan(df):\n",
        "    try:\n",
        "        (\n",
        "            (df.isna().mean()*100)\n",
        "            .to_frame()\n",
        "            .rename(columns = {0:'space'})\n",
        "            .query('space > 0')\n",
        "            .sort_values(by = 'space', ascending = True)\n",
        "            .plot(kind= 'barh', figsize=(15,6), legend = False, fontsize = 16, color='red')\n",
        "            .set_title('Пропуски в столбцах, %' + \"\\n\", fontsize = 22, color = 'Blue')    \n",
        "        );    \n",
        "    except:\n",
        "        print('пропусков не осталось :) ')"
      ]
    },
    {
      "cell_type": "code",
      "execution_count": null,
      "metadata": {
        "id": "640m-4U_iZw2",
        "outputId": "e5292c9e-0c10-45a4-947c-f2d629c4034f"
      },
      "outputs": [
        {
          "data": {
            "image/png": "[encoded data removed]",
            "text/plain": [
              "<Figure size 1080x432 with 1 Axes>"
            ]
          },
          "metadata": {
            "needs_background": "light"
          },
          "output_type": "display_data"
        }
      ],
      "source": [
        "percent_of_nan(games)"
      ]
    },
    {
      "cell_type": "code",
      "execution_count": null,
      "metadata": {
        "id": "XU_zd0nriZw3",
        "outputId": "2c481969-be7b-4114-99c9-c71440fdb043"
      },
      "outputs": [
        {
          "data": {
            "text/plain": [
              "0"
            ]
          },
          "execution_count": 6,
          "metadata": {},
          "output_type": "execute_result"
        }
      ],
      "source": [
        "# Ищем явные дубликаты\n",
        "games.duplicated().sum()"
      ]
    },
    {
      "cell_type": "markdown",
      "metadata": {
        "id": "GO_BljdNiZw3"
      },
      "source": [
        "<div class=\"alert alert-block alert-info\"> \n",
        "<b> Шаг 2. Подготовим данные\n",
        "</div>"
      ]
    },
    {
      "cell_type": "markdown",
      "metadata": {
        "id": "-SKhrJuJiZw4"
      },
      "source": [
        "<div class=\"alert alert-block alert-info\"> \n",
        "<b> 2.1 Заменим названия столбцов (приведем к нижнему регистру)\n",
        "</div>"
      ]
    },
    {
      "cell_type": "code",
      "execution_count": null,
      "metadata": {
        "id": "CV657v_SiZw4",
        "outputId": "7c586d7a-499a-4dbb-cc30-b27c0ed9aff1"
      },
      "outputs": [
        {
          "data": {
            "text/html": [
              "<div>\n",
              "<style scoped>\n",
              "    .dataframe tbody tr th:only-of-type {\n",
              "        vertical-align: middle;\n",
              "    }\n",
              "\n",
              "    .dataframe tbody tr th {\n",
              "        vertical-align: top;\n",
              "    }\n",
              "\n",
              "    .dataframe thead th {\n",
              "        text-align: right;\n",
              "    }\n",
              "</style>\n",
              "<table border=\"1\" class=\"dataframe\">\n",
              "  <thead>\n",
              "    <tr style=\"text-align: right;\">\n",
              "      <th></th>\n",
              "      <th>name</th>\n",
              "      <th>platform</th>\n",
              "      <th>year_of_release</th>\n",
              "      <th>genre</th>\n",
              "      <th>na_sales</th>\n",
              "      <th>eu_sales</th>\n",
              "      <th>jp_sales</th>\n",
              "      <th>other_sales</th>\n",
              "      <th>critic_score</th>\n",
              "      <th>user_score</th>\n",
              "      <th>rating</th>\n",
              "    </tr>\n",
              "  </thead>\n",
              "  <tbody>\n",
              "    <tr>\n",
              "      <th>0</th>\n",
              "      <td>Wii Sports</td>\n",
              "      <td>Wii</td>\n",
              "      <td>2006.0</td>\n",
              "      <td>Sports</td>\n",
              "      <td>41.36</td>\n",
              "      <td>28.96</td>\n",
              "      <td>3.77</td>\n",
              "      <td>8.45</td>\n",
              "      <td>76.0</td>\n",
              "      <td>8</td>\n",
              "      <td>E</td>\n",
              "    </tr>\n",
              "    <tr>\n",
              "      <th>1</th>\n",
              "      <td>Super Mario Bros.</td>\n",
              "      <td>NES</td>\n",
              "      <td>1985.0</td>\n",
              "      <td>Platform</td>\n",
              "      <td>29.08</td>\n",
              "      <td>3.58</td>\n",
              "      <td>6.81</td>\n",
              "      <td>0.77</td>\n",
              "      <td>NaN</td>\n",
              "      <td>NaN</td>\n",
              "      <td>NaN</td>\n",
              "    </tr>\n",
              "    <tr>\n",
              "      <th>2</th>\n",
              "      <td>Mario Kart Wii</td>\n",
              "      <td>Wii</td>\n",
              "      <td>2008.0</td>\n",
              "      <td>Racing</td>\n",
              "      <td>15.68</td>\n",
              "      <td>12.76</td>\n",
              "      <td>3.79</td>\n",
              "      <td>3.29</td>\n",
              "      <td>82.0</td>\n",
              "      <td>8.3</td>\n",
              "      <td>E</td>\n",
              "    </tr>\n",
              "    <tr>\n",
              "      <th>3</th>\n",
              "      <td>Wii Sports Resort</td>\n",
              "      <td>Wii</td>\n",
              "      <td>2009.0</td>\n",
              "      <td>Sports</td>\n",
              "      <td>15.61</td>\n",
              "      <td>10.93</td>\n",
              "      <td>3.28</td>\n",
              "      <td>2.95</td>\n",
              "      <td>80.0</td>\n",
              "      <td>8</td>\n",
              "      <td>E</td>\n",
              "    </tr>\n",
              "    <tr>\n",
              "      <th>4</th>\n",
              "      <td>Pokemon Red/Pokemon Blue</td>\n",
              "      <td>GB</td>\n",
              "      <td>1996.0</td>\n",
              "      <td>Role-Playing</td>\n",
              "      <td>11.27</td>\n",
              "      <td>8.89</td>\n",
              "      <td>10.22</td>\n",
              "      <td>1.00</td>\n",
              "      <td>NaN</td>\n",
              "      <td>NaN</td>\n",
              "      <td>NaN</td>\n",
              "    </tr>\n",
              "  </tbody>\n",
              "</table>\n",
              "</div>"
            ],
            "text/plain": [
              "                       name platform  year_of_release         genre  na_sales  \\\n",
              "0                Wii Sports      Wii           2006.0        Sports     41.36   \n",
              "1         Super Mario Bros.      NES           1985.0      Platform     29.08   \n",
              "2            Mario Kart Wii      Wii           2008.0        Racing     15.68   \n",
              "3         Wii Sports Resort      Wii           2009.0        Sports     15.61   \n",
              "4  Pokemon Red/Pokemon Blue       GB           1996.0  Role-Playing     11.27   \n",
              "\n",
              "   eu_sales  jp_sales  other_sales  critic_score user_score rating  \n",
              "0     28.96      3.77         8.45          76.0          8      E  \n",
              "1      3.58      6.81         0.77           NaN        NaN    NaN  \n",
              "2     12.76      3.79         3.29          82.0        8.3      E  \n",
              "3     10.93      3.28         2.95          80.0          8      E  \n",
              "4      8.89     10.22         1.00           NaN        NaN    NaN  "
            ]
          },
          "execution_count": 7,
          "metadata": {},
          "output_type": "execute_result"
        }
      ],
      "source": [
        "# Приведем названия стобцов к нижнему регистру\n",
        "games.columns = games.columns.str.lower()\n",
        "games.head()"
      ]
    },
    {
      "cell_type": "code",
      "execution_count": null,
      "metadata": {
        "id": "x7xUQ0SWiZw4",
        "outputId": "40122ca2-ad01-4fe4-918d-c100128a3eed"
      },
      "outputs": [
        {
          "name": "stdout",
          "output_type": "stream",
          "text": [
            "<class 'pandas.core.frame.DataFrame'>\n",
            "RangeIndex: 16715 entries, 0 to 16714\n",
            "Data columns (total 11 columns):\n",
            " #   Column           Non-Null Count  Dtype  \n",
            "---  ------           --------------  -----  \n",
            " 0   name             16713 non-null  object \n",
            " 1   platform         16715 non-null  object \n",
            " 2   year_of_release  16446 non-null  float64\n",
            " 3   genre            16713 non-null  object \n",
            " 4   na_sales         16715 non-null  float64\n",
            " 5   eu_sales         16715 non-null  float64\n",
            " 6   jp_sales         16715 non-null  float64\n",
            " 7   other_sales      16715 non-null  float64\n",
            " 8   critic_score     8137 non-null   float64\n",
            " 9   user_score       10014 non-null  object \n",
            " 10  rating           9949 non-null   object \n",
            "dtypes: float64(6), object(5)\n",
            "memory usage: 1.4+ MB\n"
          ]
        }
      ],
      "source": [
        "# Посмотрим информацию о нашей таблице\n",
        "games.info()"
      ]
    },
    {
      "cell_type": "markdown",
      "metadata": {
        "id": "EFSCTX-eiZw5"
      },
      "source": [
        "Датасет состоит из 16715 строк.\n",
        "\n",
        "Столбец <b>year_of_release</b> (год выпуска) - приведем к типу int, тк год у нас целое число\n",
        "\n",
        "Столбец <b>user_score</b> (оценка пользователей) - приведем к вещественному типу.\n",
        "\n",
        "Удалим строки с пустым значением <b>name и genre</b>, тк их ничтожно мало (всего по 2 шт), <b>year_of_release</b> тоже мало, чуть больше 1,5%, избавимся и от них.  \n",
        "Пустые строки <b>сritic_score и user_score</b>, удалять не будем, критично большой процент таких строк.  \n",
        "Оценки могуть быть пропущены по разным причинам, возможно какие-то игры слишком старые, и на тот момент еще не было сервисов с оценками, а возможно есть какая то другая причина, выясним на следующих этапах \n",
        "Пропуски в столбце <b>rating</b>. Google нам подсказывает, что ESRB была основана в 1994 году, вероятно, что оценок нет у тех игр, которые вышли ранее, изучим далее"
      ]
    },
    {
      "cell_type": "markdown",
      "metadata": {
        "id": "LGPAv5YliZw5"
      },
      "source": [
        "<div class=\"alert alert-block alert-info\"> \n",
        "<b>2.2 Преобразуем данные в нужные типы\n",
        "</div>"
      ]
    },
    {
      "cell_type": "code",
      "execution_count": null,
      "metadata": {
        "id": "EuCLqqvviZw5"
      },
      "outputs": [],
      "source": [
        "# Приводим к типу int\n",
        "games['year_of_release'] = games['year_of_release'].astype('Int64')"
      ]
    },
    {
      "cell_type": "code",
      "execution_count": null,
      "metadata": {
        "id": "iJ2FoaTDiZw6",
        "outputId": "61283a26-64b6-40e8-b44f-37eb0346bcb3"
      },
      "outputs": [
        {
          "data": {
            "text/plain": [
              "array(['8', nan, '8.3', '8.5', '6.6', '8.4', '8.6', '7.7', '6.3', '7.4',\n",
              "       '8.2', '9', '7.9', '8.1', '8.7', '7.1', '3.4', '5.3', '4.8', '3.2',\n",
              "       '8.9', '6.4', '7.8', '7.5', '2.6', '7.2', '9.2', '7', '7.3', '4.3',\n",
              "       '7.6', '5.7', '5', '9.1', '6.5', 'tbd', '8.8', '6.9', '9.4', '6.8',\n",
              "       '6.1', '6.7', '5.4', '4', '4.9', '4.5', '9.3', '6.2', '4.2', '6',\n",
              "       '3.7', '4.1', '5.8', '5.6', '5.5', '4.4', '4.6', '5.9', '3.9',\n",
              "       '3.1', '2.9', '5.2', '3.3', '4.7', '5.1', '3.5', '2.5', '1.9', '3',\n",
              "       '2.7', '2.2', '2', '9.5', '2.1', '3.6', '2.8', '1.8', '3.8', '0',\n",
              "       '1.6', '9.6', '2.4', '1.7', '1.1', '0.3', '1.5', '0.7', '1.2',\n",
              "       '2.3', '0.5', '1.3', '0.2', '0.6', '1.4', '0.9', '1', '9.7'],\n",
              "      dtype=object)"
            ]
          },
          "execution_count": 10,
          "metadata": {},
          "output_type": "execute_result"
        }
      ],
      "source": [
        "# Смотрим уникальные значения в столбце user_score\n",
        "games['user_score'].unique()"
      ]
    },
    {
      "cell_type": "markdown",
      "metadata": {
        "id": "tAm20VBriZw6"
      },
      "source": [
        "Видим, что помимо Nan у нас есть значение tbd, что означает \"To be determined\" - используется, если какая-то информация еще не определена, фактически это тот же Nan, объеденим их"
      ]
    },
    {
      "cell_type": "code",
      "execution_count": null,
      "metadata": {
        "id": "z_oLUN-YiZw6"
      },
      "outputs": [],
      "source": [
        "# Заменяем tbd на nan и приводим к типу float и \n",
        "games['user_score'] = games['user_score'].replace('tbd', np.nan, regex=True)\n",
        "games['user_score'] = games['user_score'].astype('float64')"
      ]
    },
    {
      "cell_type": "markdown",
      "metadata": {
        "id": "rsJhyTkyiZw7"
      },
      "source": [
        "<div class=\"alert alert-block alert-info\"> \n",
        "<b> 2.3 Обработаем пропуски\n",
        "</div>"
      ]
    },
    {
      "cell_type": "code",
      "execution_count": null,
      "metadata": {
        "id": "eRxAzvW0iZw7",
        "outputId": "0f7ab931-0293-427f-ad6d-d601f0d18809"
      },
      "outputs": [
        {
          "name": "stdout",
          "output_type": "stream",
          "text": [
            "<class 'pandas.core.frame.DataFrame'>\n",
            "Int64Index: 16444 entries, 0 to 16714\n",
            "Data columns (total 11 columns):\n",
            " #   Column           Non-Null Count  Dtype  \n",
            "---  ------           --------------  -----  \n",
            " 0   name             16444 non-null  object \n",
            " 1   platform         16444 non-null  object \n",
            " 2   year_of_release  16444 non-null  Int64  \n",
            " 3   genre            16444 non-null  object \n",
            " 4   na_sales         16444 non-null  float64\n",
            " 5   eu_sales         16444 non-null  float64\n",
            " 6   jp_sales         16444 non-null  float64\n",
            " 7   other_sales      16444 non-null  float64\n",
            " 8   critic_score     7983 non-null   float64\n",
            " 9   user_score       7463 non-null   float64\n",
            " 10  rating           9768 non-null   object \n",
            "dtypes: Int64(1), float64(6), object(4)\n",
            "memory usage: 1.5+ MB\n"
          ]
        }
      ],
      "source": [
        "# Удаляем пропуски в name и genre\n",
        "games.dropna(subset=['name', 'genre', 'year_of_release'], inplace=True)\n",
        "games.info()"
      ]
    },
    {
      "cell_type": "markdown",
      "metadata": {
        "id": "hou-shr4iZw7"
      },
      "source": [
        "Дойдя до пункта с влиянием оценок критиков и пользователей, выяснили, что пропуски нужно чем-то заполнить, но чтобы не искажать данные, поставим \"заглушку\" в виде отрицательного числа, тк отрицательной оценки в принципе быть не может. Заменим пропущенные значения в столбцах critic_score и user_score на -1"
      ]
    },
    {
      "cell_type": "code",
      "execution_count": null,
      "metadata": {
        "id": "MXE5QlOAiZw7"
      },
      "outputs": [],
      "source": [
        "games['critic_score'] = games['critic_score'].fillna(-1)\n",
        "games['user_score'] = games['user_score'].fillna(-1)"
      ]
    },
    {
      "cell_type": "markdown",
      "metadata": {
        "id": "31SoIIk5iZw8"
      },
      "source": [
        "Также установим заглушку для поля рейтинг, тк рейтинг ESRB предназначен только для игр США, Канады и Мексики"
      ]
    },
    {
      "cell_type": "code",
      "execution_count": null,
      "metadata": {
        "id": "H0M5S_13iZw8"
      },
      "outputs": [],
      "source": [
        "games['rating'] = games['rating'].fillna('рейтинг не определен')"
      ]
    },
    {
      "cell_type": "markdown",
      "metadata": {
        "id": "rte25DWjiZw9"
      },
      "source": [
        "<div class=\"alert alert-block alert-info\"> \n",
        "<b> 2.4 Посчитаем суммарные продажи во всех регионах и запишем их в отдельный столбец\n",
        "</div>"
      ]
    },
    {
      "cell_type": "code",
      "execution_count": null,
      "metadata": {
        "id": "J8v56ZVdiZw9",
        "outputId": "f5797043-9544-4263-b12c-4b0748d7ea06"
      },
      "outputs": [
        {
          "data": {
            "text/html": [
              "<div>\n",
              "<style scoped>\n",
              "    .dataframe tbody tr th:only-of-type {\n",
              "        vertical-align: middle;\n",
              "    }\n",
              "\n",
              "    .dataframe tbody tr th {\n",
              "        vertical-align: top;\n",
              "    }\n",
              "\n",
              "    .dataframe thead th {\n",
              "        text-align: right;\n",
              "    }\n",
              "</style>\n",
              "<table border=\"1\" class=\"dataframe\">\n",
              "  <thead>\n",
              "    <tr style=\"text-align: right;\">\n",
              "      <th></th>\n",
              "      <th>name</th>\n",
              "      <th>platform</th>\n",
              "      <th>year_of_release</th>\n",
              "      <th>genre</th>\n",
              "      <th>na_sales</th>\n",
              "      <th>eu_sales</th>\n",
              "      <th>jp_sales</th>\n",
              "      <th>other_sales</th>\n",
              "      <th>critic_score</th>\n",
              "      <th>user_score</th>\n",
              "      <th>rating</th>\n",
              "      <th>total_sales</th>\n",
              "    </tr>\n",
              "  </thead>\n",
              "  <tbody>\n",
              "    <tr>\n",
              "      <th>0</th>\n",
              "      <td>Wii Sports</td>\n",
              "      <td>Wii</td>\n",
              "      <td>2006</td>\n",
              "      <td>Sports</td>\n",
              "      <td>41.36</td>\n",
              "      <td>28.96</td>\n",
              "      <td>3.77</td>\n",
              "      <td>8.45</td>\n",
              "      <td>76.0</td>\n",
              "      <td>8.0</td>\n",
              "      <td>E</td>\n",
              "      <td>82.54</td>\n",
              "    </tr>\n",
              "    <tr>\n",
              "      <th>1</th>\n",
              "      <td>Super Mario Bros.</td>\n",
              "      <td>NES</td>\n",
              "      <td>1985</td>\n",
              "      <td>Platform</td>\n",
              "      <td>29.08</td>\n",
              "      <td>3.58</td>\n",
              "      <td>6.81</td>\n",
              "      <td>0.77</td>\n",
              "      <td>-1.0</td>\n",
              "      <td>-1.0</td>\n",
              "      <td>рейтинг не определен</td>\n",
              "      <td>40.24</td>\n",
              "    </tr>\n",
              "    <tr>\n",
              "      <th>2</th>\n",
              "      <td>Mario Kart Wii</td>\n",
              "      <td>Wii</td>\n",
              "      <td>2008</td>\n",
              "      <td>Racing</td>\n",
              "      <td>15.68</td>\n",
              "      <td>12.76</td>\n",
              "      <td>3.79</td>\n",
              "      <td>3.29</td>\n",
              "      <td>82.0</td>\n",
              "      <td>8.3</td>\n",
              "      <td>E</td>\n",
              "      <td>35.52</td>\n",
              "    </tr>\n",
              "    <tr>\n",
              "      <th>3</th>\n",
              "      <td>Wii Sports Resort</td>\n",
              "      <td>Wii</td>\n",
              "      <td>2009</td>\n",
              "      <td>Sports</td>\n",
              "      <td>15.61</td>\n",
              "      <td>10.93</td>\n",
              "      <td>3.28</td>\n",
              "      <td>2.95</td>\n",
              "      <td>80.0</td>\n",
              "      <td>8.0</td>\n",
              "      <td>E</td>\n",
              "      <td>32.77</td>\n",
              "    </tr>\n",
              "    <tr>\n",
              "      <th>4</th>\n",
              "      <td>Pokemon Red/Pokemon Blue</td>\n",
              "      <td>GB</td>\n",
              "      <td>1996</td>\n",
              "      <td>Role-Playing</td>\n",
              "      <td>11.27</td>\n",
              "      <td>8.89</td>\n",
              "      <td>10.22</td>\n",
              "      <td>1.00</td>\n",
              "      <td>-1.0</td>\n",
              "      <td>-1.0</td>\n",
              "      <td>рейтинг не определен</td>\n",
              "      <td>31.38</td>\n",
              "    </tr>\n",
              "  </tbody>\n",
              "</table>\n",
              "</div>"
            ],
            "text/plain": [
              "                       name platform  year_of_release         genre  na_sales  \\\n",
              "0                Wii Sports      Wii             2006        Sports     41.36   \n",
              "1         Super Mario Bros.      NES             1985      Platform     29.08   \n",
              "2            Mario Kart Wii      Wii             2008        Racing     15.68   \n",
              "3         Wii Sports Resort      Wii             2009        Sports     15.61   \n",
              "4  Pokemon Red/Pokemon Blue       GB             1996  Role-Playing     11.27   \n",
              "\n",
              "   eu_sales  jp_sales  other_sales  critic_score  user_score  \\\n",
              "0     28.96      3.77         8.45          76.0         8.0   \n",
              "1      3.58      6.81         0.77          -1.0        -1.0   \n",
              "2     12.76      3.79         3.29          82.0         8.3   \n",
              "3     10.93      3.28         2.95          80.0         8.0   \n",
              "4      8.89     10.22         1.00          -1.0        -1.0   \n",
              "\n",
              "                 rating  total_sales  \n",
              "0                     E        82.54  \n",
              "1  рейтинг не определен        40.24  \n",
              "2                     E        35.52  \n",
              "3                     E        32.77  \n",
              "4  рейтинг не определен        31.38  "
            ]
          },
          "execution_count": 15,
          "metadata": {},
          "output_type": "execute_result"
        }
      ],
      "source": [
        "# Посчитаем суммарные продажи во всех регионах и запишем их в отдельный столбец\n",
        "games['total_sales'] = games['na_sales'] + games['eu_sales'] + games['jp_sales'] + games['other_sales']\n",
        "games.head()"
      ]
    },
    {
      "cell_type": "markdown",
      "metadata": {
        "id": "Lctr-V2ciZw-"
      },
      "source": [
        "### Вывод 1\n",
        "Провели предобработку данных\n",
        "<b>year_of_release</b> - привели к целочисленному типу\n",
        "<b>user_score</b> - привели к вещественному типу, <b>'tbd'</b> приравняли к <b>NaN</b>\n",
        "удалили пропущенные значения в следующих столбцах <b>'name', 'genre', 'year_of_release'</b>, так как их ничтожно мало в нашей выборке.\n",
        "<b>critic_score, user_score и rating</b> пропущенные значение не удаляем так как процент пропусков огромен, заполнили их невлияющими значениями\n",
        "добавили столбец <b>total_sales</b> с суммой по всем регионам  \n",
        "\n",
        "\n",
        "\n"
      ]
    },
    {
      "cell_type": "markdown",
      "metadata": {
        "id": "af34b582"
      },
      "source": [
        "<div class=\"alert alert-block alert-success\">\n",
        "<b>✅Комментарий ревьюера:</b> Молодец ,что не забываешь о промежуточных выводах! </div>"
      ]
    },
    {
      "cell_type": "markdown",
      "metadata": {
        "id": "eNv39JgziZw_"
      },
      "source": [
        "\n",
        "~~Далее проведем исследовательский анализ данных и попробуем найти ответы на следующие вопросы:  \n",
        "-Посмотрите, сколько игр выпускалось в разные годы. Важны ли данные за все периоды?  \n",
        "-Посмотрите, как менялись продажи по платформам. Выберите платформы с наибольшими суммарными продажами и постройте распределение по годам. За какой характерный срок появляются новые и исчезают старые платформы?  \n",
        "-Какие платформы лидируют по продажам, растут или падают? Выберите несколько потенциально прибыльных платформ.  \n",
        "-Постройте график «ящик с усами» по глобальным продажам игр в разбивке по платформам. Опишите результат.  \n",
        "-Посмотрите, как влияют на продажи внутри одной популярной платформы отзывы пользователей и критиков. Постройте диаграмму рассеяния и посчитайте корреляцию между отзывами и продажами. Сформулируйте выводы.  \n",
        "-Соотнесите выводы с продажами игр на других платформах.  \n",
        "-Посмотрите на общее распределение игр по жанрам. Что можно сказать о самых прибыльных жанрах? Выделяются ли жанры с высокими и низкими продажами?~~\n"
      ]
    },
    {
      "cell_type": "markdown",
      "metadata": {
        "id": "rnUBNv5LiZw_"
      },
      "source": [
        "<div class=\"alert alert-block alert-info\"> \n",
        "<b> Шаг 3. Проведем исследовательский анализ данных\n",
        "</div>"
      ]
    },
    {
      "cell_type": "markdown",
      "metadata": {
        "id": "4a017a9c"
      },
      "source": [
        "<div class=\"alert alert-block alert-danger\">\n",
        "<b>❌Комментарий ревьюера:</b> \n",
        "    \n",
        "Давай все-таки будеи сохранять структуру проекта по аналогии с заданием. Пунктам нужны названия и нумерация. Кстати, хочу посоветовать [отличную шпаргалку по ячейкам Markdown](https://github.com/sandino/Markdown-Cheatsheet)\n",
        "</div>"
      ]
    },
    {
      "cell_type": "markdown",
      "metadata": {
        "id": "c3c24969"
      },
      "source": [
        "<div class=\"alert alert-block alert-success\">\n",
        "<b>✅Комментарий ревьюера 2:</b> Отлично, исправлено!👍  </div>"
      ]
    },
    {
      "cell_type": "markdown",
      "metadata": {
        "id": "snoMvR_0iZw_"
      },
      "source": [
        "<div class=\"alert alert-block alert-info\"> \n",
        "<b> 3.1 Посмотрим, сколько игр выпускалось в разные годы. \n",
        "</div>"
      ]
    },
    {
      "cell_type": "code",
      "execution_count": null,
      "metadata": {
        "id": "QuWKx7FfiZw_",
        "outputId": "9d7058b0-5ad0-465d-c1e8-15a0e2046595"
      },
      "outputs": [
        {
          "data": {
            "text/plain": [
              "<AxesSubplot:ylabel='Frequency'>"
            ]
          },
          "execution_count": 16,
          "metadata": {},
          "output_type": "execute_result"
        },
        {
          "data": {
            "image/png": "[encoded data removed]",
            "text/plain": [
              "<Figure size 1080x432 with 1 Axes>"
            ]
          },
          "metadata": {
            "needs_background": "light"
          },
          "output_type": "display_data"
        }
      ],
      "source": [
        "# Построим график продаж игр по годам \n",
        "games['year_of_release'].plot(kind = 'hist',figsize=(15,6), bins = 80, grid=True)"
      ]
    },
    {
      "cell_type": "markdown",
      "metadata": {
        "id": "ec5pu4mwiZxB"
      },
      "source": [
        "Из графика видим, что рост индустрии начинается после 1990г, и с каждым годом темп только увеличивается, можно объяснить это развитием технологий, увеличением количества владельцев консолей и постепенным улучшением игровой графики. Рост продолжался до 2008-2009гг, после чего наблюдаем заметный спад, возможно на это повлиял экономический кризис, но основным моментом я считаю появление конкурента в лице мобильных телефонов."
      ]
    },
    {
      "cell_type": "markdown",
      "metadata": {
        "id": "WooODyHsiZxB"
      },
      "source": [
        "<div class=\"alert alert-block alert-info\"> \n",
        "<b> 3.2 Посмотрим, как менялись продажи по платформам. Выберем платформы с наибольшими суммарными продажами\n",
        "</div>"
      ]
    },
    {
      "cell_type": "code",
      "execution_count": null,
      "metadata": {
        "id": "72R93aD8iZxB",
        "outputId": "e1a138d4-1fd9-4a0a-9b4f-73f1f0590572"
      },
      "outputs": [
        {
          "data": {
            "image/png": "[encoded data removed]",
            "text/plain": [
              "<Figure size 1080x360 with 1 Axes>"
            ]
          },
          "metadata": {
            "needs_background": "light"
          },
          "output_type": "display_data"
        }
      ],
      "source": [
        "games['platform'].value_counts().plot(kind='bar', figsize=(15,5))\n",
        "plt.title('Продажи по платформам')\n",
        "plt.xlabel('Платформа')\n",
        "plt.xticks(rotation = 45)\n",
        "plt.ylabel('Количество продаж');"
      ]
    },
    {
      "cell_type": "markdown",
      "metadata": {
        "id": "YDyXLV-GiZxB"
      },
      "source": [
        "Лидеры по количеству продаж Play Station 2 и 3 поколения и Nintendo DS и Wii. Детище Microsoft - Xbox 360 замыкает пятерку"
      ]
    },
    {
      "cell_type": "code",
      "execution_count": null,
      "metadata": {
        "id": "2xSSTQmRiZxB",
        "outputId": "638a4639-4335-4c6d-d025-3dccbe1a5aa0"
      },
      "outputs": [
        {
          "data": {
            "image/png": "[encoded data removed]",
            "text/plain": [
              "<Figure size 1080x360 with 1 Axes>"
            ]
          },
          "metadata": {
            "needs_background": "light"
          },
          "output_type": "display_data"
        }
      ],
      "source": [
        "# Посчитаем теперь в денежном значении\n",
        "(\n",
        "    games\n",
        "    .pivot_table(index='platform', values='total_sales', aggfunc = 'sum')\n",
        "    .sort_values(by='total_sales', ascending=False)\n",
        "    .plot(kind='bar', color='green', legend = False, figsize=(15,5))\n",
        ")\n",
        "plt.title('Суммы продаж по платформам')\n",
        "plt.xlabel('Платформа')\n",
        "plt.xticks(rotation = 45)\n",
        "plt.ylabel('Сумма продаж млн $');"
      ]
    },
    {
      "cell_type": "markdown",
      "metadata": {
        "id": "871fd744"
      },
      "source": [
        "<div class=\"alert alert-block alert-success\">\n",
        "<b>✅Комментарий ревьюера:</b> Молодец, что подписываешь названия для графиков и оси на них. </div>"
      ]
    },
    {
      "cell_type": "markdown",
      "metadata": {
        "id": "broLHKhjiZxC"
      },
      "source": [
        "Здесь видим тех же лидеров, но по продажам XBOX 360 вырвался на 2е место"
      ]
    },
    {
      "cell_type": "code",
      "execution_count": null,
      "metadata": {
        "id": "Cp6_RGmHiZxC",
        "outputId": "8aaad232-ae87-4db2-e094-e680f35e0f32"
      },
      "outputs": [
        {
          "data": {
            "text/html": [
              "<div>\n",
              "<style scoped>\n",
              "    .dataframe tbody tr th:only-of-type {\n",
              "        vertical-align: middle;\n",
              "    }\n",
              "\n",
              "    .dataframe tbody tr th {\n",
              "        vertical-align: top;\n",
              "    }\n",
              "\n",
              "    .dataframe thead th {\n",
              "        text-align: right;\n",
              "    }\n",
              "</style>\n",
              "<table border=\"1\" class=\"dataframe\">\n",
              "  <thead>\n",
              "    <tr style=\"text-align: right;\">\n",
              "      <th></th>\n",
              "      <th>platform</th>\n",
              "      <th>year_of_release</th>\n",
              "      <th>total_sales</th>\n",
              "    </tr>\n",
              "  </thead>\n",
              "  <tbody>\n",
              "    <tr>\n",
              "      <th>0</th>\n",
              "      <td>DS</td>\n",
              "      <td>1985</td>\n",
              "      <td>0.02</td>\n",
              "    </tr>\n",
              "    <tr>\n",
              "      <th>1</th>\n",
              "      <td>DS</td>\n",
              "      <td>2004</td>\n",
              "      <td>17.27</td>\n",
              "    </tr>\n",
              "    <tr>\n",
              "      <th>2</th>\n",
              "      <td>DS</td>\n",
              "      <td>2005</td>\n",
              "      <td>130.14</td>\n",
              "    </tr>\n",
              "    <tr>\n",
              "      <th>3</th>\n",
              "      <td>DS</td>\n",
              "      <td>2006</td>\n",
              "      <td>119.81</td>\n",
              "    </tr>\n",
              "    <tr>\n",
              "      <th>4</th>\n",
              "      <td>DS</td>\n",
              "      <td>2007</td>\n",
              "      <td>146.94</td>\n",
              "    </tr>\n",
              "    <tr>\n",
              "      <th>...</th>\n",
              "      <td>...</td>\n",
              "      <td>...</td>\n",
              "      <td>...</td>\n",
              "    </tr>\n",
              "    <tr>\n",
              "      <th>62</th>\n",
              "      <td>X360</td>\n",
              "      <td>2012</td>\n",
              "      <td>99.74</td>\n",
              "    </tr>\n",
              "    <tr>\n",
              "      <th>63</th>\n",
              "      <td>X360</td>\n",
              "      <td>2013</td>\n",
              "      <td>88.58</td>\n",
              "    </tr>\n",
              "    <tr>\n",
              "      <th>64</th>\n",
              "      <td>X360</td>\n",
              "      <td>2014</td>\n",
              "      <td>34.74</td>\n",
              "    </tr>\n",
              "    <tr>\n",
              "      <th>65</th>\n",
              "      <td>X360</td>\n",
              "      <td>2015</td>\n",
              "      <td>11.96</td>\n",
              "    </tr>\n",
              "    <tr>\n",
              "      <th>66</th>\n",
              "      <td>X360</td>\n",
              "      <td>2016</td>\n",
              "      <td>1.52</td>\n",
              "    </tr>\n",
              "  </tbody>\n",
              "</table>\n",
              "<p>67 rows × 3 columns</p>\n",
              "</div>"
            ],
            "text/plain": [
              "   platform  year_of_release  total_sales\n",
              "0        DS             1985         0.02\n",
              "1        DS             2004        17.27\n",
              "2        DS             2005       130.14\n",
              "3        DS             2006       119.81\n",
              "4        DS             2007       146.94\n",
              "..      ...              ...          ...\n",
              "62     X360             2012        99.74\n",
              "63     X360             2013        88.58\n",
              "64     X360             2014        34.74\n",
              "65     X360             2015        11.96\n",
              "66     X360             2016         1.52\n",
              "\n",
              "[67 rows x 3 columns]"
            ]
          },
          "execution_count": 19,
          "metadata": {},
          "output_type": "execute_result"
        }
      ],
      "source": [
        "# Посмотрим на топ-6 платформ по годам\n",
        "platform_year = pd.DataFrame(games.groupby(['platform','year_of_release'])['total_sales'].sum())\n",
        "platform_list = ['PS2', 'X360', 'PS3', 'Wii', 'DS', 'PS']\n",
        "platform_top = platform_year.query('platform in @platform_list').reset_index()\n",
        "platform_top"
      ]
    },
    {
      "cell_type": "code",
      "execution_count": null,
      "metadata": {
        "id": "SmFvXUuOiZxC",
        "outputId": "de97bb30-91a0-4753-8e8d-1125cee63e0f"
      },
      "outputs": [
        {
          "data": {
            "image/png": "[encoded data removed]",
            "text/plain": [
              "<Figure size 1080x720 with 6 Axes>"
            ]
          },
          "metadata": {
            "needs_background": "light"
          },
          "output_type": "display_data"
        }
      ],
      "source": [
        "# И для наглядности построим графики\n",
        "plt.figure(figsize = (15, 10)).suptitle('Распределение выручки платформ по годам', fontsize = 20, x = 0.5)\n",
        "plt.subplots_adjust(hspace=0.4, wspace=0.3)\n",
        "\n",
        "def draw_graph(i, plat):\n",
        "    plt.subplot(3, 2, i)\n",
        "    platform_top.query('platform == @plat')\\\n",
        "                 .groupby('year_of_release')['total_sales'].sum()\\\n",
        "                 .plot( kind='bar', color='green', alpha = 0.7)\n",
        "    plt.xlabel(plat)\n",
        "    plt.ylabel('Выручка млн$ в год')\n",
        "    plt.ylim(0, 230)\n",
        "\n",
        "def create_graphs():\n",
        "    i = 1\n",
        "    for name in platform_top['platform'].unique():\n",
        "        draw_graph(i, name)\n",
        "        i += 1\n",
        "        \n",
        "create_graphs()"
      ]
    },
    {
      "cell_type": "markdown",
      "metadata": {
        "id": "dfchO1H2iZxC"
      },
      "source": [
        "<div class=\"alert alert-block alert-success\">\n",
        "<b>✅Комментарий ревьюера:</b> Отлично!👍  </div>"
      ]
    },
    {
      "cell_type": "code",
      "execution_count": null,
      "metadata": {
        "id": "QO3_eEyIiZxC",
        "outputId": "a8f414f2-4e7f-4524-add0-e1dbd47ec7ed"
      },
      "outputs": [
        {
          "data": {
            "text/html": [
              "<div>\n",
              "<style scoped>\n",
              "    .dataframe tbody tr th:only-of-type {\n",
              "        vertical-align: middle;\n",
              "    }\n",
              "\n",
              "    .dataframe tbody tr th {\n",
              "        vertical-align: top;\n",
              "    }\n",
              "\n",
              "    .dataframe thead th {\n",
              "        text-align: right;\n",
              "    }\n",
              "</style>\n",
              "<table border=\"1\" class=\"dataframe\">\n",
              "  <thead>\n",
              "    <tr style=\"text-align: right;\">\n",
              "      <th></th>\n",
              "      <th>year_of_release</th>\n",
              "    </tr>\n",
              "    <tr>\n",
              "      <th>platform</th>\n",
              "      <th></th>\n",
              "    </tr>\n",
              "  </thead>\n",
              "  <tbody>\n",
              "    <tr>\n",
              "      <th>DS</th>\n",
              "      <td>28</td>\n",
              "    </tr>\n",
              "    <tr>\n",
              "      <th>PS</th>\n",
              "      <td>9</td>\n",
              "    </tr>\n",
              "    <tr>\n",
              "      <th>PS2</th>\n",
              "      <td>11</td>\n",
              "    </tr>\n",
              "    <tr>\n",
              "      <th>PS3</th>\n",
              "      <td>10</td>\n",
              "    </tr>\n",
              "    <tr>\n",
              "      <th>Wii</th>\n",
              "      <td>10</td>\n",
              "    </tr>\n",
              "    <tr>\n",
              "      <th>X360</th>\n",
              "      <td>11</td>\n",
              "    </tr>\n",
              "  </tbody>\n",
              "</table>\n",
              "</div>"
            ],
            "text/plain": [
              "          year_of_release\n",
              "platform                 \n",
              "DS                     28\n",
              "PS                      9\n",
              "PS2                    11\n",
              "PS3                    10\n",
              "Wii                    10\n",
              "X360                   11"
            ]
          },
          "execution_count": 21,
          "metadata": {},
          "output_type": "execute_result"
        }
      ],
      "source": [
        "platform_top.groupby('platform').agg({'year_of_release' : 'max'}) -  platform_top.groupby('platform').agg({'year_of_release' : 'min'})"
      ]
    },
    {
      "cell_type": "markdown",
      "metadata": {
        "id": "383m0YU8iZxD"
      },
      "source": [
        "<div class=\"alert alert-block alert-info\"> \n",
        "<b> 3.3 Определим актуальный период\n",
        "</div>"
      ]
    },
    {
      "cell_type": "markdown",
      "metadata": {
        "id": "c95RkqCbiZxD"
      },
      "source": [
        "Можно сделать вывод, что средний срок жизни платформы примерно 9-10 лет, а активная фаза составляет 5-6 лет, поэтому <b>актуальным</b> преиодом для построения прогноза на 2017й возьмем этап 2012-2016гг"
      ]
    },
    {
      "cell_type": "code",
      "execution_count": null,
      "metadata": {
        "id": "aMmlG9EciZxD",
        "outputId": "407db3dc-1f96-489f-c11f-99a892a69bdb"
      },
      "outputs": [
        {
          "name": "stdout",
          "output_type": "stream",
          "text": [
            "<class 'pandas.core.frame.DataFrame'>\n",
            "Int64Index: 2233 entries, 16 to 16714\n",
            "Data columns (total 12 columns):\n",
            " #   Column           Non-Null Count  Dtype  \n",
            "---  ------           --------------  -----  \n",
            " 0   name             2233 non-null   object \n",
            " 1   platform         2233 non-null   object \n",
            " 2   year_of_release  2233 non-null   Int64  \n",
            " 3   genre            2233 non-null   object \n",
            " 4   na_sales         2233 non-null   float64\n",
            " 5   eu_sales         2233 non-null   float64\n",
            " 6   jp_sales         2233 non-null   float64\n",
            " 7   other_sales      2233 non-null   float64\n",
            " 8   critic_score     2233 non-null   float64\n",
            " 9   user_score       2233 non-null   float64\n",
            " 10  rating           2233 non-null   object \n",
            " 11  total_sales      2233 non-null   float64\n",
            "dtypes: Int64(1), float64(7), object(4)\n",
            "memory usage: 229.0+ KB\n"
          ]
        }
      ],
      "source": [
        "period = games[games['year_of_release'] > 2012]\n",
        "period.info()"
      ]
    },
    {
      "cell_type": "markdown",
      "metadata": {
        "id": "VmUWiOJYiZxD"
      },
      "source": [
        "<div class=\"alert alert-block alert-success\">\n",
        "<b>✅Комментарий ревьюера:</b> Согласен с выбранным актуальным периодом! </div>"
      ]
    },
    {
      "cell_type": "markdown",
      "metadata": {
        "id": "JL5apDMoiZxD"
      },
      "source": [
        "Осталось всего 2233 записи, будем работать с ними. Повторим операции которые мы проводили ранее, посмотрим динамику для актуального периода"
      ]
    },
    {
      "cell_type": "code",
      "execution_count": null,
      "metadata": {
        "id": "Pbb40LbkiZxD",
        "outputId": "5c220e29-c3dd-47e9-a043-2bc597c8c347"
      },
      "outputs": [
        {
          "data": {
            "image/png": "[encoded data removed]",
            "text/plain": [
              "<Figure size 1080x360 with 1 Axes>"
            ]
          },
          "metadata": {
            "needs_background": "light"
          },
          "output_type": "display_data"
        }
      ],
      "source": [
        "period['platform'].value_counts().plot(kind='bar', figsize=(15,5))\n",
        "plt.title('Продажи по платформам')\n",
        "plt.xlabel('Платформа')\n",
        "plt.xticks(rotation = 45)\n",
        "plt.ylabel('Количество продаж');"
      ]
    },
    {
      "cell_type": "code",
      "execution_count": null,
      "metadata": {
        "id": "crA0-JbgiZxD",
        "outputId": "89b9ca6d-6fe4-4a55-d6c0-8a9838741aeb"
      },
      "outputs": [
        {
          "data": {
            "image/png": "[encoded data removed]",
            "text/plain": [
              "<Figure size 1080x360 with 1 Axes>"
            ]
          },
          "metadata": {
            "needs_background": "light"
          },
          "output_type": "display_data"
        }
      ],
      "source": [
        "(\n",
        "    period\n",
        "    .pivot_table(index='platform', values='total_sales', aggfunc = 'sum')\n",
        "    .sort_values(by='total_sales', ascending=False)\n",
        "    .plot(kind='bar', color='green', legend = False, figsize=(15,5))\n",
        ")\n",
        "plt.title('Суммы продаж по платформам')\n",
        "plt.xlabel('Платформа')\n",
        "plt.xticks(rotation = 45)\n",
        "plt.ylabel('Сумма продаж млн $');"
      ]
    },
    {
      "cell_type": "markdown",
      "metadata": {
        "id": "240e31f5"
      },
      "source": [
        "<div class=\"alert alert-block alert-warning\">\n",
        "<b>🔁Комментарий ревьюера:</b>\n",
        "\n",
        "Обрати внимание, что сумм продаж в деньгах у нас в данных нет </div>\n",
        "✔"
      ]
    },
    {
      "cell_type": "markdown",
      "metadata": {
        "id": "s93X2y7oiZxE"
      },
      "source": [
        "<div class=\"alert alert-block alert-info\"> \n",
        "<b> 3.4 Какие платформы лидируют по продажам, растут или падают? Выберем несколько потенциально прибыльных платформ.\n",
        "</div>"
      ]
    },
    {
      "cell_type": "markdown",
      "metadata": {
        "id": "J2OTSIh9iZxE"
      },
      "source": [
        "В лидерах по продажам за актуальный период снова представители SONY, Microsoft и консоль от Nintendo, но уже преимущественно новые модели.  Посмотрим на топ-5"
      ]
    },
    {
      "cell_type": "code",
      "execution_count": null,
      "metadata": {
        "id": "ev-lhOQwiZxE",
        "outputId": "db369255-c081-4da1-861e-75ce22b753e6"
      },
      "outputs": [
        {
          "data": {
            "text/html": [
              "<div>\n",
              "<style scoped>\n",
              "    .dataframe tbody tr th:only-of-type {\n",
              "        vertical-align: middle;\n",
              "    }\n",
              "\n",
              "    .dataframe tbody tr th {\n",
              "        vertical-align: top;\n",
              "    }\n",
              "\n",
              "    .dataframe thead th {\n",
              "        text-align: right;\n",
              "    }\n",
              "</style>\n",
              "<table border=\"1\" class=\"dataframe\">\n",
              "  <thead>\n",
              "    <tr style=\"text-align: right;\">\n",
              "      <th></th>\n",
              "      <th>platform</th>\n",
              "      <th>year_of_release</th>\n",
              "      <th>total_sales</th>\n",
              "    </tr>\n",
              "  </thead>\n",
              "  <tbody>\n",
              "    <tr>\n",
              "      <th>0</th>\n",
              "      <td>3DS</td>\n",
              "      <td>2013</td>\n",
              "      <td>56.57</td>\n",
              "    </tr>\n",
              "    <tr>\n",
              "      <th>1</th>\n",
              "      <td>3DS</td>\n",
              "      <td>2014</td>\n",
              "      <td>43.76</td>\n",
              "    </tr>\n",
              "    <tr>\n",
              "      <th>2</th>\n",
              "      <td>3DS</td>\n",
              "      <td>2015</td>\n",
              "      <td>27.78</td>\n",
              "    </tr>\n",
              "    <tr>\n",
              "      <th>3</th>\n",
              "      <td>3DS</td>\n",
              "      <td>2016</td>\n",
              "      <td>15.14</td>\n",
              "    </tr>\n",
              "    <tr>\n",
              "      <th>4</th>\n",
              "      <td>PS3</td>\n",
              "      <td>2013</td>\n",
              "      <td>113.25</td>\n",
              "    </tr>\n",
              "    <tr>\n",
              "      <th>5</th>\n",
              "      <td>PS3</td>\n",
              "      <td>2014</td>\n",
              "      <td>47.76</td>\n",
              "    </tr>\n",
              "    <tr>\n",
              "      <th>6</th>\n",
              "      <td>PS3</td>\n",
              "      <td>2015</td>\n",
              "      <td>16.82</td>\n",
              "    </tr>\n",
              "    <tr>\n",
              "      <th>7</th>\n",
              "      <td>PS3</td>\n",
              "      <td>2016</td>\n",
              "      <td>3.60</td>\n",
              "    </tr>\n",
              "    <tr>\n",
              "      <th>8</th>\n",
              "      <td>PS4</td>\n",
              "      <td>2013</td>\n",
              "      <td>25.99</td>\n",
              "    </tr>\n",
              "    <tr>\n",
              "      <th>9</th>\n",
              "      <td>PS4</td>\n",
              "      <td>2014</td>\n",
              "      <td>100.00</td>\n",
              "    </tr>\n",
              "    <tr>\n",
              "      <th>10</th>\n",
              "      <td>PS4</td>\n",
              "      <td>2015</td>\n",
              "      <td>118.90</td>\n",
              "    </tr>\n",
              "    <tr>\n",
              "      <th>11</th>\n",
              "      <td>PS4</td>\n",
              "      <td>2016</td>\n",
              "      <td>69.25</td>\n",
              "    </tr>\n",
              "    <tr>\n",
              "      <th>12</th>\n",
              "      <td>X360</td>\n",
              "      <td>2013</td>\n",
              "      <td>88.58</td>\n",
              "    </tr>\n",
              "    <tr>\n",
              "      <th>13</th>\n",
              "      <td>X360</td>\n",
              "      <td>2014</td>\n",
              "      <td>34.74</td>\n",
              "    </tr>\n",
              "    <tr>\n",
              "      <th>14</th>\n",
              "      <td>X360</td>\n",
              "      <td>2015</td>\n",
              "      <td>11.96</td>\n",
              "    </tr>\n",
              "    <tr>\n",
              "      <th>15</th>\n",
              "      <td>X360</td>\n",
              "      <td>2016</td>\n",
              "      <td>1.52</td>\n",
              "    </tr>\n",
              "    <tr>\n",
              "      <th>16</th>\n",
              "      <td>XOne</td>\n",
              "      <td>2013</td>\n",
              "      <td>18.96</td>\n",
              "    </tr>\n",
              "    <tr>\n",
              "      <th>17</th>\n",
              "      <td>XOne</td>\n",
              "      <td>2014</td>\n",
              "      <td>54.07</td>\n",
              "    </tr>\n",
              "    <tr>\n",
              "      <th>18</th>\n",
              "      <td>XOne</td>\n",
              "      <td>2015</td>\n",
              "      <td>60.14</td>\n",
              "    </tr>\n",
              "    <tr>\n",
              "      <th>19</th>\n",
              "      <td>XOne</td>\n",
              "      <td>2016</td>\n",
              "      <td>26.15</td>\n",
              "    </tr>\n",
              "  </tbody>\n",
              "</table>\n",
              "</div>"
            ],
            "text/plain": [
              "   platform  year_of_release  total_sales\n",
              "0       3DS             2013        56.57\n",
              "1       3DS             2014        43.76\n",
              "2       3DS             2015        27.78\n",
              "3       3DS             2016        15.14\n",
              "4       PS3             2013       113.25\n",
              "5       PS3             2014        47.76\n",
              "6       PS3             2015        16.82\n",
              "7       PS3             2016         3.60\n",
              "8       PS4             2013        25.99\n",
              "9       PS4             2014       100.00\n",
              "10      PS4             2015       118.90\n",
              "11      PS4             2016        69.25\n",
              "12     X360             2013        88.58\n",
              "13     X360             2014        34.74\n",
              "14     X360             2015        11.96\n",
              "15     X360             2016         1.52\n",
              "16     XOne             2013        18.96\n",
              "17     XOne             2014        54.07\n",
              "18     XOne             2015        60.14\n",
              "19     XOne             2016        26.15"
            ]
          },
          "execution_count": 25,
          "metadata": {},
          "output_type": "execute_result"
        }
      ],
      "source": [
        "platform_year_p = pd.DataFrame(period.groupby(['platform','year_of_release'])['total_sales'].sum())\n",
        "platform_list_p = ['PS4', 'PS3', 'XOne', '3DS', 'X360']\n",
        "platform_top_p = platform_year_p.query('platform in @platform_list_p').reset_index()\n",
        "platform_top_p"
      ]
    },
    {
      "cell_type": "code",
      "execution_count": null,
      "metadata": {
        "id": "sE8vHNOBiZxE",
        "outputId": "0a16f368-8010-4238-a3b4-d8497475b3c9"
      },
      "outputs": [
        {
          "data": {
            "image/png": "[encoded data removed]",
            "text/plain": [
              "<Figure size 1080x720 with 5 Axes>"
            ]
          },
          "metadata": {
            "needs_background": "light"
          },
          "output_type": "display_data"
        }
      ],
      "source": [
        "plt.figure(figsize = (15, 10)).suptitle('Распределение выручки платформ по годам', fontsize = 20, x = 0.5)\n",
        "plt.subplots_adjust(hspace=0.4, wspace=0.3)\n",
        "\n",
        "def draw_graph(i, plat):\n",
        "    plt.subplot(3, 2, i)\n",
        "    platform_top_p.query('platform == @plat')\\\n",
        "                 .groupby('year_of_release')['total_sales'].sum()\\\n",
        "                 .plot( kind='bar', grid=True, color='green', alpha = 0.7)\n",
        "    plt.xlabel(plat)\n",
        "    plt.ylabel('Выручка млн$ в год')\n",
        "    plt.ylim(0, 130)\n",
        "\n",
        "def create_graphs():\n",
        "    i = 1\n",
        "    for name in platform_top_p['platform'].unique():\n",
        "        draw_graph(i, name)\n",
        "        i += 1\n",
        "        \n",
        "create_graphs()"
      ]
    },
    {
      "cell_type": "markdown",
      "metadata": {
        "id": "IpudVya-iZxE"
      },
      "source": [
        "По всем компаниям наблюдаем снижение выручки, а ведь до новых приставок еще далеко, PS5, XBOX S и X выйдут только в 2020м только Nintendo Switch в 2017м"
      ]
    },
    {
      "cell_type": "code",
      "execution_count": null,
      "metadata": {
        "id": "z9uezwCmiZxF",
        "outputId": "c4490dbf-4553-4ef8-e40c-d29b7644a101"
      },
      "outputs": [
        {
          "data": {
            "text/html": [
              "<div>\n",
              "<style scoped>\n",
              "    .dataframe tbody tr th:only-of-type {\n",
              "        vertical-align: middle;\n",
              "    }\n",
              "\n",
              "    .dataframe tbody tr th {\n",
              "        vertical-align: top;\n",
              "    }\n",
              "\n",
              "    .dataframe thead th {\n",
              "        text-align: right;\n",
              "    }\n",
              "</style>\n",
              "<table border=\"1\" class=\"dataframe\">\n",
              "  <thead>\n",
              "    <tr style=\"text-align: right;\">\n",
              "      <th></th>\n",
              "      <th>count</th>\n",
              "      <th>mean</th>\n",
              "      <th>std</th>\n",
              "      <th>min</th>\n",
              "      <th>25%</th>\n",
              "      <th>50%</th>\n",
              "      <th>75%</th>\n",
              "      <th>max</th>\n",
              "    </tr>\n",
              "    <tr>\n",
              "      <th>platform</th>\n",
              "      <th></th>\n",
              "      <th></th>\n",
              "      <th></th>\n",
              "      <th></th>\n",
              "      <th></th>\n",
              "      <th></th>\n",
              "      <th></th>\n",
              "      <th></th>\n",
              "    </tr>\n",
              "  </thead>\n",
              "  <tbody>\n",
              "    <tr>\n",
              "      <th>3DS</th>\n",
              "      <td>303.0</td>\n",
              "      <td>0.472772</td>\n",
              "      <td>1.381347</td>\n",
              "      <td>0.01</td>\n",
              "      <td>0.0400</td>\n",
              "      <td>0.090</td>\n",
              "      <td>0.2800</td>\n",
              "      <td>14.60</td>\n",
              "    </tr>\n",
              "    <tr>\n",
              "      <th>DS</th>\n",
              "      <td>8.0</td>\n",
              "      <td>0.192500</td>\n",
              "      <td>0.172026</td>\n",
              "      <td>0.03</td>\n",
              "      <td>0.0675</td>\n",
              "      <td>0.150</td>\n",
              "      <td>0.2525</td>\n",
              "      <td>0.51</td>\n",
              "    </tr>\n",
              "    <tr>\n",
              "      <th>PC</th>\n",
              "      <td>189.0</td>\n",
              "      <td>0.208624</td>\n",
              "      <td>0.352304</td>\n",
              "      <td>0.01</td>\n",
              "      <td>0.0300</td>\n",
              "      <td>0.080</td>\n",
              "      <td>0.2300</td>\n",
              "      <td>3.05</td>\n",
              "    </tr>\n",
              "    <tr>\n",
              "      <th>PS3</th>\n",
              "      <td>345.0</td>\n",
              "      <td>0.525884</td>\n",
              "      <td>1.451939</td>\n",
              "      <td>0.01</td>\n",
              "      <td>0.0400</td>\n",
              "      <td>0.150</td>\n",
              "      <td>0.5100</td>\n",
              "      <td>21.05</td>\n",
              "    </tr>\n",
              "    <tr>\n",
              "      <th>PS4</th>\n",
              "      <td>392.0</td>\n",
              "      <td>0.801378</td>\n",
              "      <td>1.609456</td>\n",
              "      <td>0.01</td>\n",
              "      <td>0.0600</td>\n",
              "      <td>0.200</td>\n",
              "      <td>0.7300</td>\n",
              "      <td>14.63</td>\n",
              "    </tr>\n",
              "    <tr>\n",
              "      <th>PSP</th>\n",
              "      <td>67.0</td>\n",
              "      <td>0.052239</td>\n",
              "      <td>0.059768</td>\n",
              "      <td>0.01</td>\n",
              "      <td>0.0150</td>\n",
              "      <td>0.020</td>\n",
              "      <td>0.0700</td>\n",
              "      <td>0.24</td>\n",
              "    </tr>\n",
              "    <tr>\n",
              "      <th>PSV</th>\n",
              "      <td>358.0</td>\n",
              "      <td>0.092151</td>\n",
              "      <td>0.153816</td>\n",
              "      <td>0.01</td>\n",
              "      <td>0.0200</td>\n",
              "      <td>0.040</td>\n",
              "      <td>0.1100</td>\n",
              "      <td>1.96</td>\n",
              "    </tr>\n",
              "    <tr>\n",
              "      <th>Wii</th>\n",
              "      <td>23.0</td>\n",
              "      <td>0.593913</td>\n",
              "      <td>0.915432</td>\n",
              "      <td>0.01</td>\n",
              "      <td>0.0450</td>\n",
              "      <td>0.180</td>\n",
              "      <td>0.7550</td>\n",
              "      <td>3.58</td>\n",
              "    </tr>\n",
              "    <tr>\n",
              "      <th>WiiU</th>\n",
              "      <td>115.0</td>\n",
              "      <td>0.562000</td>\n",
              "      <td>1.038778</td>\n",
              "      <td>0.01</td>\n",
              "      <td>0.0600</td>\n",
              "      <td>0.200</td>\n",
              "      <td>0.5950</td>\n",
              "      <td>7.09</td>\n",
              "    </tr>\n",
              "    <tr>\n",
              "      <th>X360</th>\n",
              "      <td>186.0</td>\n",
              "      <td>0.735484</td>\n",
              "      <td>1.663275</td>\n",
              "      <td>0.01</td>\n",
              "      <td>0.0800</td>\n",
              "      <td>0.265</td>\n",
              "      <td>0.7950</td>\n",
              "      <td>16.27</td>\n",
              "    </tr>\n",
              "    <tr>\n",
              "      <th>XOne</th>\n",
              "      <td>247.0</td>\n",
              "      <td>0.645020</td>\n",
              "      <td>1.036139</td>\n",
              "      <td>0.01</td>\n",
              "      <td>0.0600</td>\n",
              "      <td>0.220</td>\n",
              "      <td>0.6850</td>\n",
              "      <td>7.39</td>\n",
              "    </tr>\n",
              "  </tbody>\n",
              "</table>\n",
              "</div>"
            ],
            "text/plain": [
              "          count      mean       std   min     25%    50%     75%    max\n",
              "platform                                                               \n",
              "3DS       303.0  0.472772  1.381347  0.01  0.0400  0.090  0.2800  14.60\n",
              "DS          8.0  0.192500  0.172026  0.03  0.0675  0.150  0.2525   0.51\n",
              "PC        189.0  0.208624  0.352304  0.01  0.0300  0.080  0.2300   3.05\n",
              "PS3       345.0  0.525884  1.451939  0.01  0.0400  0.150  0.5100  21.05\n",
              "PS4       392.0  0.801378  1.609456  0.01  0.0600  0.200  0.7300  14.63\n",
              "PSP        67.0  0.052239  0.059768  0.01  0.0150  0.020  0.0700   0.24\n",
              "PSV       358.0  0.092151  0.153816  0.01  0.0200  0.040  0.1100   1.96\n",
              "Wii        23.0  0.593913  0.915432  0.01  0.0450  0.180  0.7550   3.58\n",
              "WiiU      115.0  0.562000  1.038778  0.01  0.0600  0.200  0.5950   7.09\n",
              "X360      186.0  0.735484  1.663275  0.01  0.0800  0.265  0.7950  16.27\n",
              "XOne      247.0  0.645020  1.036139  0.01  0.0600  0.220  0.6850   7.39"
            ]
          },
          "execution_count": 27,
          "metadata": {},
          "output_type": "execute_result"
        }
      ],
      "source": [
        "period.groupby('platform')['total_sales'].describe()"
      ]
    },
    {
      "cell_type": "markdown",
      "metadata": {
        "id": "WbXn0IDFiZxF"
      },
      "source": [
        "<div class=\"alert alert-block alert-info\"> \n",
        "<b> 3.4 Построим график «ящик с усами» по глобальным продажам игр в разбивке по платформам\n",
        "</div>"
      ]
    },
    {
      "cell_type": "code",
      "execution_count": null,
      "metadata": {
        "id": "PbJjfCcuiZxF",
        "outputId": "12304fc6-27cd-4c95-d6de-996644e2774e"
      },
      "outputs": [
        {
          "data": {
            "image/png": "[encoded data removed]",
            "text/plain": [
              "<Figure size 864x720 with 1 Axes>"
            ]
          },
          "metadata": {
            "needs_background": "light"
          },
          "output_type": "display_data"
        }
      ],
      "source": [
        "plt.figure(figsize=(12,10))\n",
        "sns.boxplot(data=period, x='platform', y='total_sales')\n",
        "plt.ylim([0,2])\n",
        "plt.title('Ящик с усами', fontsize=15)\n",
        "plt.xlabel('Платформа', fontsize=12)\n",
        "plt.ylabel('Глобальные продажи',fontsize=12);"
      ]
    },
    {
      "cell_type": "markdown",
      "metadata": {
        "id": "t0zDHS69iZxF"
      },
      "source": [
        "<div class=\"alert alert-block alert-success\">\n",
        "<b>✅Комментарий ревьюера:</b> Отличные ящики получились! </div>"
      ]
    },
    {
      "cell_type": "markdown",
      "metadata": {
        "id": "jN3XrxFsiZxF"
      },
      "source": [
        "Медиана у топовых платформ находится в промежутке от 0,2 до 0,265 млн долларов прибыли за игру.\n",
        "Можно выделить четырех лидеров, у которых верхняя граница предела находится на уровне 1,6-1,75 млн долларов, это PS4, X360, Wii и Xbox One. WiiU и PS3 от 1 до 1,3 млн долл. и остальные менее 750 тыс. долл."
      ]
    },
    {
      "cell_type": "markdown",
      "metadata": {
        "id": "_duOYn6JiZxF"
      },
      "source": [
        "<div class=\"alert alert-block alert-info\"> \n",
        "<b> 3.5 Посмотрим, как влияют на продажи внутри одной популярной платформы отзывы пользователей и критиков. Построим диаграмму рассеяния и посчитаем корреляцию между отзывами и продажами.\n",
        "</div>"
      ]
    },
    {
      "cell_type": "markdown",
      "metadata": {
        "id": "l1RVL47xiZxF"
      },
      "source": [
        "Самый лидер - PS4. Средняя выручка на одну игру составляет 801 тыс.дол. Максимальная выручка 14.6 млн.дол.  \n",
        "Посмотрим, как влияют на продажи внутри этой платформы отзывы пользователей и критиков:"
      ]
    },
    {
      "cell_type": "code",
      "execution_count": null,
      "metadata": {
        "id": "Gjp5tr78iZxF",
        "outputId": "34be4bce-d5b8-4af8-d6c9-f35255c780b4"
      },
      "outputs": [
        {
          "data": {
            "text/html": [
              "<div>\n",
              "<style scoped>\n",
              "    .dataframe tbody tr th:only-of-type {\n",
              "        vertical-align: middle;\n",
              "    }\n",
              "\n",
              "    .dataframe tbody tr th {\n",
              "        vertical-align: top;\n",
              "    }\n",
              "\n",
              "    .dataframe thead th {\n",
              "        text-align: right;\n",
              "    }\n",
              "</style>\n",
              "<table border=\"1\" class=\"dataframe\">\n",
              "  <thead>\n",
              "    <tr style=\"text-align: right;\">\n",
              "      <th></th>\n",
              "      <th>name</th>\n",
              "      <th>platform</th>\n",
              "      <th>year_of_release</th>\n",
              "      <th>genre</th>\n",
              "      <th>na_sales</th>\n",
              "      <th>eu_sales</th>\n",
              "      <th>jp_sales</th>\n",
              "      <th>other_sales</th>\n",
              "      <th>critic_score</th>\n",
              "      <th>user_score</th>\n",
              "      <th>rating</th>\n",
              "      <th>total_sales</th>\n",
              "    </tr>\n",
              "  </thead>\n",
              "  <tbody>\n",
              "    <tr>\n",
              "      <th>42</th>\n",
              "      <td>Grand Theft Auto V</td>\n",
              "      <td>PS4</td>\n",
              "      <td>2014</td>\n",
              "      <td>Action</td>\n",
              "      <td>3.96</td>\n",
              "      <td>6.31</td>\n",
              "      <td>0.38</td>\n",
              "      <td>1.97</td>\n",
              "      <td>97.0</td>\n",
              "      <td>8.3</td>\n",
              "      <td>M</td>\n",
              "      <td>12.62</td>\n",
              "    </tr>\n",
              "    <tr>\n",
              "      <th>77</th>\n",
              "      <td>FIFA 16</td>\n",
              "      <td>PS4</td>\n",
              "      <td>2015</td>\n",
              "      <td>Sports</td>\n",
              "      <td>1.12</td>\n",
              "      <td>6.12</td>\n",
              "      <td>0.06</td>\n",
              "      <td>1.28</td>\n",
              "      <td>82.0</td>\n",
              "      <td>4.3</td>\n",
              "      <td>E</td>\n",
              "      <td>8.58</td>\n",
              "    </tr>\n",
              "    <tr>\n",
              "      <th>92</th>\n",
              "      <td>Call of Duty: Advanced Warfare</td>\n",
              "      <td>PS4</td>\n",
              "      <td>2014</td>\n",
              "      <td>Shooter</td>\n",
              "      <td>2.81</td>\n",
              "      <td>3.48</td>\n",
              "      <td>0.14</td>\n",
              "      <td>1.23</td>\n",
              "      <td>83.0</td>\n",
              "      <td>5.7</td>\n",
              "      <td>M</td>\n",
              "      <td>7.66</td>\n",
              "    </tr>\n",
              "    <tr>\n",
              "      <th>94</th>\n",
              "      <td>FIFA 17</td>\n",
              "      <td>PS4</td>\n",
              "      <td>2016</td>\n",
              "      <td>Sports</td>\n",
              "      <td>0.66</td>\n",
              "      <td>5.75</td>\n",
              "      <td>0.08</td>\n",
              "      <td>1.11</td>\n",
              "      <td>85.0</td>\n",
              "      <td>5.0</td>\n",
              "      <td>E</td>\n",
              "      <td>7.60</td>\n",
              "    </tr>\n",
              "    <tr>\n",
              "      <th>105</th>\n",
              "      <td>Fallout 4</td>\n",
              "      <td>PS4</td>\n",
              "      <td>2015</td>\n",
              "      <td>Role-Playing</td>\n",
              "      <td>2.53</td>\n",
              "      <td>3.27</td>\n",
              "      <td>0.24</td>\n",
              "      <td>1.13</td>\n",
              "      <td>87.0</td>\n",
              "      <td>6.5</td>\n",
              "      <td>M</td>\n",
              "      <td>7.17</td>\n",
              "    </tr>\n",
              "    <tr>\n",
              "      <th>143</th>\n",
              "      <td>FIFA 15</td>\n",
              "      <td>PS4</td>\n",
              "      <td>2014</td>\n",
              "      <td>Sports</td>\n",
              "      <td>0.80</td>\n",
              "      <td>4.33</td>\n",
              "      <td>0.05</td>\n",
              "      <td>0.90</td>\n",
              "      <td>82.0</td>\n",
              "      <td>5.7</td>\n",
              "      <td>E</td>\n",
              "      <td>6.08</td>\n",
              "    </tr>\n",
              "    <tr>\n",
              "      <th>154</th>\n",
              "      <td>Destiny</td>\n",
              "      <td>PS4</td>\n",
              "      <td>2014</td>\n",
              "      <td>Shooter</td>\n",
              "      <td>2.49</td>\n",
              "      <td>2.07</td>\n",
              "      <td>0.16</td>\n",
              "      <td>0.92</td>\n",
              "      <td>76.0</td>\n",
              "      <td>6.1</td>\n",
              "      <td>T</td>\n",
              "      <td>5.64</td>\n",
              "    </tr>\n",
              "    <tr>\n",
              "      <th>171</th>\n",
              "      <td>Uncharted 4: A Thief's End</td>\n",
              "      <td>PS4</td>\n",
              "      <td>2016</td>\n",
              "      <td>Shooter</td>\n",
              "      <td>1.85</td>\n",
              "      <td>2.50</td>\n",
              "      <td>0.19</td>\n",
              "      <td>0.85</td>\n",
              "      <td>93.0</td>\n",
              "      <td>7.9</td>\n",
              "      <td>T</td>\n",
              "      <td>5.39</td>\n",
              "    </tr>\n",
              "    <tr>\n",
              "      <th>231</th>\n",
              "      <td>Uncharted: The Nathan Drake Collection</td>\n",
              "      <td>PS4</td>\n",
              "      <td>2015</td>\n",
              "      <td>Action</td>\n",
              "      <td>2.07</td>\n",
              "      <td>1.71</td>\n",
              "      <td>0.08</td>\n",
              "      <td>0.76</td>\n",
              "      <td>86.0</td>\n",
              "      <td>8.1</td>\n",
              "      <td>T</td>\n",
              "      <td>4.62</td>\n",
              "    </tr>\n",
              "    <tr>\n",
              "      <th>245</th>\n",
              "      <td>Call of Duty: Infinite Warfare</td>\n",
              "      <td>PS4</td>\n",
              "      <td>2016</td>\n",
              "      <td>Shooter</td>\n",
              "      <td>1.61</td>\n",
              "      <td>2.00</td>\n",
              "      <td>0.15</td>\n",
              "      <td>0.71</td>\n",
              "      <td>77.0</td>\n",
              "      <td>3.4</td>\n",
              "      <td>M</td>\n",
              "      <td>4.47</td>\n",
              "    </tr>\n",
              "  </tbody>\n",
              "</table>\n",
              "</div>"
            ],
            "text/plain": [
              "                                       name platform  year_of_release  \\\n",
              "42                       Grand Theft Auto V      PS4             2014   \n",
              "77                                  FIFA 16      PS4             2015   \n",
              "92           Call of Duty: Advanced Warfare      PS4             2014   \n",
              "94                                  FIFA 17      PS4             2016   \n",
              "105                               Fallout 4      PS4             2015   \n",
              "143                                 FIFA 15      PS4             2014   \n",
              "154                                 Destiny      PS4             2014   \n",
              "171              Uncharted 4: A Thief's End      PS4             2016   \n",
              "231  Uncharted: The Nathan Drake Collection      PS4             2015   \n",
              "245          Call of Duty: Infinite Warfare      PS4             2016   \n",
              "\n",
              "            genre  na_sales  eu_sales  jp_sales  other_sales  critic_score  \\\n",
              "42         Action      3.96      6.31      0.38         1.97          97.0   \n",
              "77         Sports      1.12      6.12      0.06         1.28          82.0   \n",
              "92        Shooter      2.81      3.48      0.14         1.23          83.0   \n",
              "94         Sports      0.66      5.75      0.08         1.11          85.0   \n",
              "105  Role-Playing      2.53      3.27      0.24         1.13          87.0   \n",
              "143        Sports      0.80      4.33      0.05         0.90          82.0   \n",
              "154       Shooter      2.49      2.07      0.16         0.92          76.0   \n",
              "171       Shooter      1.85      2.50      0.19         0.85          93.0   \n",
              "231        Action      2.07      1.71      0.08         0.76          86.0   \n",
              "245       Shooter      1.61      2.00      0.15         0.71          77.0   \n",
              "\n",
              "     user_score rating  total_sales  \n",
              "42          8.3      M        12.62  \n",
              "77          4.3      E         8.58  \n",
              "92          5.7      M         7.66  \n",
              "94          5.0      E         7.60  \n",
              "105         6.5      M         7.17  \n",
              "143         5.7      E         6.08  \n",
              "154         6.1      T         5.64  \n",
              "171         7.9      T         5.39  \n",
              "231         8.1      T         4.62  \n",
              "245         3.4      M         4.47  "
            ]
          },
          "execution_count": 29,
          "metadata": {},
          "output_type": "execute_result"
        }
      ],
      "source": [
        "ps4 = period.query('platform == \"PS4\"')\n",
        "ps4=ps4.query('user_score != -1 and critic_score !=1')\n",
        "ps4.head(10)"
      ]
    },
    {
      "cell_type": "code",
      "execution_count": null,
      "metadata": {
        "scrolled": true,
        "id": "Q0mNGuJciZxG",
        "outputId": "0a6c6eef-9e03-4e3c-ca93-4d4a026494fe"
      },
      "outputs": [
        {
          "data": {
            "text/plain": [
              "-0.031957110204556376"
            ]
          },
          "execution_count": 30,
          "metadata": {},
          "output_type": "execute_result"
        }
      ],
      "source": [
        "ps4['user_score'].corr(ps4['total_sales'])"
      ]
    },
    {
      "cell_type": "markdown",
      "metadata": {
        "id": "RX0hlC5wiZxG"
      },
      "source": [
        "<div class=\"alert alert-block alert-info\"> \n",
        "<b> отфильтровали заглушки, корреляция заметно снизилась и стала обратной</div>"
      ]
    },
    {
      "cell_type": "markdown",
      "metadata": {
        "id": "cde6850a"
      },
      "source": [
        "<div class=\"alert alert-block alert-danger\">\n",
        "<b>❌Комментарий ревьюера:</b> \n",
        "    \n",
        "Ты забыл отфильтровать заглушки(\n",
        "    \n",
        "Вообще, любые заполнения вызывают искажения при расчете статистик, все основные методы pandas по-умолчанию убирают пропуски при расчетах (среднее, медиана, корреляция и тд). Поэтому их можно не заполнять, чтобы не делать лишних действий и избежать ошибок.\n",
        "    </div>"
      ]
    },
    {
      "cell_type": "markdown",
      "metadata": {
        "id": "X1WbA0FOiZxG"
      },
      "source": [
        "<div class=\"alert alert-block alert-success\">\n",
        "<b>✅Комментарий ревьюера 2:</b> Отлично, исправлено!👍  </div>"
      ]
    },
    {
      "cell_type": "code",
      "execution_count": null,
      "metadata": {
        "id": "c8LvkJY0iZxG",
        "outputId": "47900af1-f356-48f7-d329-5e44efbb8200"
      },
      "outputs": [
        {
          "data": {
            "image/png": "[encoded data removed]",
            "text/plain": [
              "<Figure size 1080x432 with 1 Axes>"
            ]
          },
          "metadata": {
            "needs_background": "light"
          },
          "output_type": "display_data"
        }
      ],
      "source": [
        "plt.figure(figsize=(15,6))\n",
        "sns.scatterplot(x='user_score', y='total_sales', data=ps4)\n",
        "plt.title('Корреляция оценок пользователей на продажи')\n",
        "plt.xlabel('Оценки пользователей')\n",
        "plt.ylabel('Продажи млн $');"
      ]
    },
    {
      "cell_type": "code",
      "execution_count": null,
      "metadata": {
        "id": "lIh_as1YiZxG",
        "outputId": "9e5d654c-8e2d-4a45-a4cc-37ec4e49bec6"
      },
      "outputs": [
        {
          "data": {
            "text/plain": [
              "0.3504074587850579"
            ]
          },
          "execution_count": 32,
          "metadata": {},
          "output_type": "execute_result"
        }
      ],
      "source": [
        "ps4['critic_score'].corr(ps4['total_sales'])"
      ]
    },
    {
      "cell_type": "markdown",
      "metadata": {
        "id": "ApouIpW1iZxG"
      },
      "source": [
        "<div class=\"alert alert-block alert-info\"> \n",
        "<b> после фильтрации заглушек влияние оценок критиков заметно увеличилось</div>"
      ]
    },
    {
      "cell_type": "markdown",
      "metadata": {
        "id": "VHpx5x1MiZxH"
      },
      "source": [
        "<div class=\"alert alert-block alert-danger\">\n",
        "<b>❌Комментарий ревьюера:</b> \n",
        "    \n",
        "Аналогично и здесь\n",
        "    </div>"
      ]
    },
    {
      "cell_type": "markdown",
      "metadata": {
        "id": "vlV7_rzWiZxH"
      },
      "source": [
        "<div class=\"alert alert-block alert-success\">\n",
        "<b>✅Комментарий ревьюера 2:</b> Отлично, исправлено!👍  </div>"
      ]
    },
    {
      "cell_type": "code",
      "execution_count": null,
      "metadata": {
        "id": "_DWrirhgiZxH",
        "outputId": "66e0e124-8db0-46ee-a1aa-ec0c21d8aa6d"
      },
      "outputs": [
        {
          "data": {
            "text/plain": [
              "count    257.000000\n",
              "mean      69.856031\n",
              "std       17.735213\n",
              "min       -1.000000\n",
              "25%       65.000000\n",
              "50%       73.000000\n",
              "75%       80.000000\n",
              "max       97.000000\n",
              "Name: critic_score, dtype: float64"
            ]
          },
          "execution_count": 33,
          "metadata": {},
          "output_type": "execute_result"
        }
      ],
      "source": [
        "ps4['critic_score'].describe()"
      ]
    },
    {
      "cell_type": "code",
      "execution_count": null,
      "metadata": {
        "id": "L-UEexNViZxH",
        "outputId": "fc4d00ac-0c1d-44dc-e1db-66bef3cb4e4f"
      },
      "outputs": [
        {
          "data": {
            "image/png": "[encoded data removed]",
            "text/plain": [
              "<Figure size 1080x432 with 1 Axes>"
            ]
          },
          "metadata": {
            "needs_background": "light"
          },
          "output_type": "display_data"
        }
      ],
      "source": [
        "plt.figure(figsize=(15,6))\n",
        "sns.scatterplot(x='critic_score', y='total_sales', data=ps4)\n",
        "plt.title('Корреляция оценок критиков на продажи')\n",
        "plt.xlabel('Оценки пользователей')\n",
        "plt.ylabel('Продажи млн $');"
      ]
    },
    {
      "cell_type": "markdown",
      "metadata": {
        "id": "nfrqA6s2iZxH"
      },
      "source": [
        "<div class=\"alert alert-block alert-info\"> \n",
        "<b> Корелляция оценок критиков на продажи в сильно выше корреляции оценок пользователей, но в целом оказывает не такое уж большое влияние \n",
        "    \n",
        "   \n",
        "   3.6 Взглянем на другие платформы: \n",
        "    </div>\n",
        "  \n",
        "\n"
      ]
    },
    {
      "cell_type": "code",
      "execution_count": null,
      "metadata": {
        "id": "9ug7_BS5iZxH",
        "outputId": "a10f1079-fb59-461a-fcfb-36ee5635597e"
      },
      "outputs": [
        {
          "data": {
            "image/png": "[encoded data removed]",
            "text/plain": [
              "<Figure size 576x360 with 1 Axes>"
            ]
          },
          "metadata": {
            "needs_background": "light"
          },
          "output_type": "display_data"
        },
        {
          "data": {
            "image/png": "[encoded data removed]",
            "text/plain": [
              "<Figure size 576x360 with 1 Axes>"
            ]
          },
          "metadata": {
            "needs_background": "light"
          },
          "output_type": "display_data"
        },
        {
          "data": {
            "image/png": "[encoded data removed]",
            "text/plain": [
              "<Figure size 576x360 with 1 Axes>"
            ]
          },
          "metadata": {
            "needs_background": "light"
          },
          "output_type": "display_data"
        },
        {
          "data": {
            "image/png": "[encoded data removed]",
            "text/plain": [
              "<Figure size 576x360 with 1 Axes>"
            ]
          },
          "metadata": {
            "needs_background": "light"
          },
          "output_type": "display_data"
        },
        {
          "data": {
            "image/png": "[encoded data removed]",
            "text/plain": [
              "<Figure size 576x360 with 1 Axes>"
            ]
          },
          "metadata": {
            "needs_background": "light"
          },
          "output_type": "display_data"
        }
      ],
      "source": [
        "# Построим графики корреляции по оценкам пользователей\n",
        "for platform in platform_list_p:\n",
        "    (\n",
        "    period\n",
        "    .query('platform == @platform and user_score != -1 and critic_score !=1')\n",
        "    .plot(x='user_score', y='total_sales', kind='scatter', title=platform, figsize=(8,5))\n",
        "    )\n",
        "    plt.ylim(0,10)"
      ]
    },
    {
      "cell_type": "code",
      "execution_count": null,
      "metadata": {
        "id": "8JjGVN4qiZxH",
        "outputId": "b7daa6e1-aefd-47d8-a844-72b9916e27bb"
      },
      "outputs": [
        {
          "data": {
            "image/png": "[encoded data removed]",
            "text/plain": [
              "<Figure size 576x360 with 1 Axes>"
            ]
          },
          "metadata": {
            "needs_background": "light"
          },
          "output_type": "display_data"
        },
        {
          "data": {
            "image/png": "[encoded data removed]",
            "text/plain": [
              "<Figure size 576x360 with 1 Axes>"
            ]
          },
          "metadata": {
            "needs_background": "light"
          },
          "output_type": "display_data"
        },
        {
          "data": {
            "image/png": "[encoded data removed]",
            "text/plain": [
              "<Figure size 576x360 with 1 Axes>"
            ]
          },
          "metadata": {
            "needs_background": "light"
          },
          "output_type": "display_data"
        },
        {
          "data": {
            "image/png": "[encoded data removed]",
            "text/plain": [
              "<Figure size 576x360 with 1 Axes>"
            ]
          },
          "metadata": {
            "needs_background": "light"
          },
          "output_type": "display_data"
        },
        {
          "data": {
            "image/png": "[encoded data removed]",
            "text/plain": [
              "<Figure size 576x360 with 1 Axes>"
            ]
          },
          "metadata": {
            "needs_background": "light"
          },
          "output_type": "display_data"
        }
      ],
      "source": [
        "# Построим графики корреляции по оценкам критиков\n",
        "for platform in platform_list_p:\n",
        "    (\n",
        "    period\n",
        "    .query('platform == @platform and user_score != -1 and critic_score !=1')\n",
        "    .plot(x='critic_score', y='total_sales', kind='scatter', title=platform, figsize=(8,5))\n",
        "    )\n",
        "    plt.ylim(0,10)"
      ]
    },
    {
      "cell_type": "code",
      "execution_count": null,
      "metadata": {
        "id": "aya8cuo-iZxI",
        "outputId": "240b943d-786d-4f4e-f438-e35c3e6bc08c"
      },
      "outputs": [
        {
          "data": {
            "text/plain": [
              "'PS4'"
            ]
          },
          "metadata": {},
          "output_type": "display_data"
        },
        {
          "data": {
            "text/html": [
              "<div>\n",
              "<style scoped>\n",
              "    .dataframe tbody tr th:only-of-type {\n",
              "        vertical-align: middle;\n",
              "    }\n",
              "\n",
              "    .dataframe tbody tr th {\n",
              "        vertical-align: top;\n",
              "    }\n",
              "\n",
              "    .dataframe thead th {\n",
              "        text-align: right;\n",
              "    }\n",
              "</style>\n",
              "<table border=\"1\" class=\"dataframe\">\n",
              "  <thead>\n",
              "    <tr style=\"text-align: right;\">\n",
              "      <th></th>\n",
              "      <th>total_sales</th>\n",
              "      <th>critic_score</th>\n",
              "      <th>user_score</th>\n",
              "    </tr>\n",
              "  </thead>\n",
              "  <tbody>\n",
              "    <tr>\n",
              "      <th>total_sales</th>\n",
              "      <td>1.000000</td>\n",
              "      <td>0.350407</td>\n",
              "      <td>-0.031957</td>\n",
              "    </tr>\n",
              "    <tr>\n",
              "      <th>critic_score</th>\n",
              "      <td>0.350407</td>\n",
              "      <td>1.000000</td>\n",
              "      <td>0.385579</td>\n",
              "    </tr>\n",
              "    <tr>\n",
              "      <th>user_score</th>\n",
              "      <td>-0.031957</td>\n",
              "      <td>0.385579</td>\n",
              "      <td>1.000000</td>\n",
              "    </tr>\n",
              "  </tbody>\n",
              "</table>\n",
              "</div>"
            ],
            "text/plain": [
              "              total_sales  critic_score  user_score\n",
              "total_sales      1.000000      0.350407   -0.031957\n",
              "critic_score     0.350407      1.000000    0.385579\n",
              "user_score      -0.031957      0.385579    1.000000"
            ]
          },
          "metadata": {},
          "output_type": "display_data"
        },
        {
          "name": "stdout",
          "output_type": "stream",
          "text": [
            "\n"
          ]
        },
        {
          "data": {
            "text/plain": [
              "'PS3'"
            ]
          },
          "metadata": {},
          "output_type": "display_data"
        },
        {
          "data": {
            "text/html": [
              "<div>\n",
              "<style scoped>\n",
              "    .dataframe tbody tr th:only-of-type {\n",
              "        vertical-align: middle;\n",
              "    }\n",
              "\n",
              "    .dataframe tbody tr th {\n",
              "        vertical-align: top;\n",
              "    }\n",
              "\n",
              "    .dataframe thead th {\n",
              "        text-align: right;\n",
              "    }\n",
              "</style>\n",
              "<table border=\"1\" class=\"dataframe\">\n",
              "  <thead>\n",
              "    <tr style=\"text-align: right;\">\n",
              "      <th></th>\n",
              "      <th>total_sales</th>\n",
              "      <th>critic_score</th>\n",
              "      <th>user_score</th>\n",
              "    </tr>\n",
              "  </thead>\n",
              "  <tbody>\n",
              "    <tr>\n",
              "      <th>total_sales</th>\n",
              "      <td>1.000000</td>\n",
              "      <td>0.191187</td>\n",
              "      <td>0.002394</td>\n",
              "    </tr>\n",
              "    <tr>\n",
              "      <th>critic_score</th>\n",
              "      <td>0.191187</td>\n",
              "      <td>1.000000</td>\n",
              "      <td>0.339011</td>\n",
              "    </tr>\n",
              "    <tr>\n",
              "      <th>user_score</th>\n",
              "      <td>0.002394</td>\n",
              "      <td>0.339011</td>\n",
              "      <td>1.000000</td>\n",
              "    </tr>\n",
              "  </tbody>\n",
              "</table>\n",
              "</div>"
            ],
            "text/plain": [
              "              total_sales  critic_score  user_score\n",
              "total_sales      1.000000      0.191187    0.002394\n",
              "critic_score     0.191187      1.000000    0.339011\n",
              "user_score       0.002394      0.339011    1.000000"
            ]
          },
          "metadata": {},
          "output_type": "display_data"
        },
        {
          "name": "stdout",
          "output_type": "stream",
          "text": [
            "\n"
          ]
        },
        {
          "data": {
            "text/plain": [
              "'XOne'"
            ]
          },
          "metadata": {},
          "output_type": "display_data"
        },
        {
          "data": {
            "text/html": [
              "<div>\n",
              "<style scoped>\n",
              "    .dataframe tbody tr th:only-of-type {\n",
              "        vertical-align: middle;\n",
              "    }\n",
              "\n",
              "    .dataframe tbody tr th {\n",
              "        vertical-align: top;\n",
              "    }\n",
              "\n",
              "    .dataframe thead th {\n",
              "        text-align: right;\n",
              "    }\n",
              "</style>\n",
              "<table border=\"1\" class=\"dataframe\">\n",
              "  <thead>\n",
              "    <tr style=\"text-align: right;\">\n",
              "      <th></th>\n",
              "      <th>total_sales</th>\n",
              "      <th>critic_score</th>\n",
              "      <th>user_score</th>\n",
              "    </tr>\n",
              "  </thead>\n",
              "  <tbody>\n",
              "    <tr>\n",
              "      <th>total_sales</th>\n",
              "      <td>1.000000</td>\n",
              "      <td>0.333579</td>\n",
              "      <td>-0.068925</td>\n",
              "    </tr>\n",
              "    <tr>\n",
              "      <th>critic_score</th>\n",
              "      <td>0.333579</td>\n",
              "      <td>1.000000</td>\n",
              "      <td>0.247230</td>\n",
              "    </tr>\n",
              "    <tr>\n",
              "      <th>user_score</th>\n",
              "      <td>-0.068925</td>\n",
              "      <td>0.247230</td>\n",
              "      <td>1.000000</td>\n",
              "    </tr>\n",
              "  </tbody>\n",
              "</table>\n",
              "</div>"
            ],
            "text/plain": [
              "              total_sales  critic_score  user_score\n",
              "total_sales      1.000000      0.333579   -0.068925\n",
              "critic_score     0.333579      1.000000    0.247230\n",
              "user_score      -0.068925      0.247230    1.000000"
            ]
          },
          "metadata": {},
          "output_type": "display_data"
        },
        {
          "name": "stdout",
          "output_type": "stream",
          "text": [
            "\n"
          ]
        },
        {
          "data": {
            "text/plain": [
              "'3DS'"
            ]
          },
          "metadata": {},
          "output_type": "display_data"
        },
        {
          "data": {
            "text/html": [
              "<div>\n",
              "<style scoped>\n",
              "    .dataframe tbody tr th:only-of-type {\n",
              "        vertical-align: middle;\n",
              "    }\n",
              "\n",
              "    .dataframe tbody tr th {\n",
              "        vertical-align: top;\n",
              "    }\n",
              "\n",
              "    .dataframe thead th {\n",
              "        text-align: right;\n",
              "    }\n",
              "</style>\n",
              "<table border=\"1\" class=\"dataframe\">\n",
              "  <thead>\n",
              "    <tr style=\"text-align: right;\">\n",
              "      <th></th>\n",
              "      <th>total_sales</th>\n",
              "      <th>critic_score</th>\n",
              "      <th>user_score</th>\n",
              "    </tr>\n",
              "  </thead>\n",
              "  <tbody>\n",
              "    <tr>\n",
              "      <th>total_sales</th>\n",
              "      <td>1.000000</td>\n",
              "      <td>0.277904</td>\n",
              "      <td>0.241504</td>\n",
              "    </tr>\n",
              "    <tr>\n",
              "      <th>critic_score</th>\n",
              "      <td>0.277904</td>\n",
              "      <td>1.000000</td>\n",
              "      <td>0.546697</td>\n",
              "    </tr>\n",
              "    <tr>\n",
              "      <th>user_score</th>\n",
              "      <td>0.241504</td>\n",
              "      <td>0.546697</td>\n",
              "      <td>1.000000</td>\n",
              "    </tr>\n",
              "  </tbody>\n",
              "</table>\n",
              "</div>"
            ],
            "text/plain": [
              "              total_sales  critic_score  user_score\n",
              "total_sales      1.000000      0.277904    0.241504\n",
              "critic_score     0.277904      1.000000    0.546697\n",
              "user_score       0.241504      0.546697    1.000000"
            ]
          },
          "metadata": {},
          "output_type": "display_data"
        },
        {
          "name": "stdout",
          "output_type": "stream",
          "text": [
            "\n"
          ]
        },
        {
          "data": {
            "text/plain": [
              "'X360'"
            ]
          },
          "metadata": {},
          "output_type": "display_data"
        },
        {
          "data": {
            "text/html": [
              "<div>\n",
              "<style scoped>\n",
              "    .dataframe tbody tr th:only-of-type {\n",
              "        vertical-align: middle;\n",
              "    }\n",
              "\n",
              "    .dataframe tbody tr th {\n",
              "        vertical-align: top;\n",
              "    }\n",
              "\n",
              "    .dataframe thead th {\n",
              "        text-align: right;\n",
              "    }\n",
              "</style>\n",
              "<table border=\"1\" class=\"dataframe\">\n",
              "  <thead>\n",
              "    <tr style=\"text-align: right;\">\n",
              "      <th></th>\n",
              "      <th>total_sales</th>\n",
              "      <th>critic_score</th>\n",
              "      <th>user_score</th>\n",
              "    </tr>\n",
              "  </thead>\n",
              "  <tbody>\n",
              "    <tr>\n",
              "      <th>total_sales</th>\n",
              "      <td>1.000000</td>\n",
              "      <td>0.256209</td>\n",
              "      <td>-0.011742</td>\n",
              "    </tr>\n",
              "    <tr>\n",
              "      <th>critic_score</th>\n",
              "      <td>0.256209</td>\n",
              "      <td>1.000000</td>\n",
              "      <td>0.320265</td>\n",
              "    </tr>\n",
              "    <tr>\n",
              "      <th>user_score</th>\n",
              "      <td>-0.011742</td>\n",
              "      <td>0.320265</td>\n",
              "      <td>1.000000</td>\n",
              "    </tr>\n",
              "  </tbody>\n",
              "</table>\n",
              "</div>"
            ],
            "text/plain": [
              "              total_sales  critic_score  user_score\n",
              "total_sales      1.000000      0.256209   -0.011742\n",
              "critic_score     0.256209      1.000000    0.320265\n",
              "user_score      -0.011742      0.320265    1.000000"
            ]
          },
          "metadata": {},
          "output_type": "display_data"
        },
        {
          "name": "stdout",
          "output_type": "stream",
          "text": [
            "\n"
          ]
        }
      ],
      "source": [
        "# Посмотрим на корреляцию в таблицах\n",
        "for platform in platform_list_p:\n",
        "    (\n",
        "    display(platform, period\n",
        "    .query('platform == @platform and user_score != -1 and critic_score !=1')[['total_sales', 'critic_score', 'user_score']]\n",
        "    .corr())\n",
        "    )\n",
        "    print()"
      ]
    },
    {
      "cell_type": "markdown",
      "metadata": {
        "id": "gm6vRAjLiZxI"
      },
      "source": [
        "#### Вывод по корреляции: \n",
        "В целом влияние оценок на продажи присутствует, но не такое уж и большое, особено слабо влияют оценки пользователей\n",
        "Оценки критиков сильнее всего влияют на продажи у платформ PS4 и XOne, наименьшее влияние на PS3\n",
        "Оценки пользователей больше всего влияют на 3DS с корреляцией 0.24"
      ]
    },
    {
      "cell_type": "markdown",
      "metadata": {
        "id": "g6dRWz2ziZxI"
      },
      "source": [
        "<div class=\"alert alert-block alert-warning\">\n",
        "<b>🔁Комментарий ревьюера:</b>\n",
        "\n",
        "Вывод в принципе верный, но коэффициенты корреляции расчитаны неправильно </div>\n",
        "<div class=\"alert alert-block alert-info\"> \n",
        "<b> пересчитал ✔ </div>"
      ]
    },
    {
      "cell_type": "markdown",
      "metadata": {
        "id": "vaFXjZVdiZxI"
      },
      "source": [
        "<div class=\"alert alert-block alert-success\">\n",
        "<b>✅Комментарий ревьюера 2:</b> Отлично, исправлено!👍  </div>"
      ]
    },
    {
      "cell_type": "markdown",
      "metadata": {
        "id": "mb8jnZpaiZxI"
      },
      "source": [
        "\n",
        "<div class=\"alert alert-block alert-info\"> \n",
        "<b> 3.8 Посмотритм на общее распределение игр по жанрам: </div>"
      ]
    },
    {
      "cell_type": "code",
      "execution_count": null,
      "metadata": {
        "id": "9ow---0EiZxI",
        "outputId": "849d033e-2b70-42f1-b8f2-219292731820"
      },
      "outputs": [
        {
          "data": {
            "text/html": [
              "<div>\n",
              "<style scoped>\n",
              "    .dataframe tbody tr th:only-of-type {\n",
              "        vertical-align: middle;\n",
              "    }\n",
              "\n",
              "    .dataframe tbody tr th {\n",
              "        vertical-align: top;\n",
              "    }\n",
              "\n",
              "    .dataframe thead th {\n",
              "        text-align: right;\n",
              "    }\n",
              "</style>\n",
              "<table border=\"1\" class=\"dataframe\">\n",
              "  <thead>\n",
              "    <tr style=\"text-align: right;\">\n",
              "      <th></th>\n",
              "      <th>genre</th>\n",
              "      <th>total_sales</th>\n",
              "    </tr>\n",
              "  </thead>\n",
              "  <tbody>\n",
              "    <tr>\n",
              "      <th>8</th>\n",
              "      <td>Shooter</td>\n",
              "      <td>1.245882</td>\n",
              "    </tr>\n",
              "    <tr>\n",
              "      <th>10</th>\n",
              "      <td>Sports</td>\n",
              "      <td>0.703972</td>\n",
              "    </tr>\n",
              "    <tr>\n",
              "      <th>4</th>\n",
              "      <td>Platform</td>\n",
              "      <td>0.576081</td>\n",
              "    </tr>\n",
              "    <tr>\n",
              "      <th>7</th>\n",
              "      <td>Role-Playing</td>\n",
              "      <td>0.499623</td>\n",
              "    </tr>\n",
              "    <tr>\n",
              "      <th>6</th>\n",
              "      <td>Racing</td>\n",
              "      <td>0.469294</td>\n",
              "    </tr>\n",
              "    <tr>\n",
              "      <th>2</th>\n",
              "      <td>Fighting</td>\n",
              "      <td>0.441375</td>\n",
              "    </tr>\n",
              "    <tr>\n",
              "      <th>0</th>\n",
              "      <td>Action</td>\n",
              "      <td>0.420196</td>\n",
              "    </tr>\n",
              "    <tr>\n",
              "      <th>3</th>\n",
              "      <td>Misc</td>\n",
              "      <td>0.405290</td>\n",
              "    </tr>\n",
              "    <tr>\n",
              "      <th>9</th>\n",
              "      <td>Simulation</td>\n",
              "      <td>0.350968</td>\n",
              "    </tr>\n",
              "    <tr>\n",
              "      <th>5</th>\n",
              "      <td>Puzzle</td>\n",
              "      <td>0.186471</td>\n",
              "    </tr>\n",
              "    <tr>\n",
              "      <th>11</th>\n",
              "      <td>Strategy</td>\n",
              "      <td>0.180000</td>\n",
              "    </tr>\n",
              "    <tr>\n",
              "      <th>1</th>\n",
              "      <td>Adventure</td>\n",
              "      <td>0.096490</td>\n",
              "    </tr>\n",
              "  </tbody>\n",
              "</table>\n",
              "</div>"
            ],
            "text/plain": [
              "           genre  total_sales\n",
              "8        Shooter     1.245882\n",
              "10        Sports     0.703972\n",
              "4       Platform     0.576081\n",
              "7   Role-Playing     0.499623\n",
              "6         Racing     0.469294\n",
              "2       Fighting     0.441375\n",
              "0         Action     0.420196\n",
              "3           Misc     0.405290\n",
              "9     Simulation     0.350968\n",
              "5         Puzzle     0.186471\n",
              "11      Strategy     0.180000\n",
              "1      Adventure     0.096490"
            ]
          },
          "execution_count": 38,
          "metadata": {},
          "output_type": "execute_result"
        }
      ],
      "source": [
        "genre = (\n",
        "    pd\n",
        "    .pivot_table(period, index='genre', values='total_sales', aggfunc='mean')\n",
        "    .reset_index()\n",
        "    .sort_values('total_sales', ascending=False)\n",
        ")\n",
        "genre"
      ]
    },
    {
      "cell_type": "code",
      "execution_count": null,
      "metadata": {
        "id": "ezxpwcyyiZxI",
        "outputId": "c79aad71-1fa7-40c7-f21b-b567f6f108ee"
      },
      "outputs": [
        {
          "data": {
            "image/png": "[encoded data removed]",
            "text/plain": [
              "<Figure size 864x432 with 1 Axes>"
            ]
          },
          "metadata": {
            "needs_background": "light"
          },
          "output_type": "display_data"
        }
      ],
      "source": [
        "# Для наглядности построим график\n",
        "plt.figure(figsize=(12,6))\n",
        "plt.title('Распределение игр по жанрам ',fontsize=15)\n",
        "sns.barplot(data=genre, x='genre', y='total_sales')\n",
        "plt.xlabel('Жанры игр',fontsize=12)\n",
        "plt.ylabel('Млн $',fontsize=12);"
      ]
    },
    {
      "cell_type": "markdown",
      "metadata": {
        "id": "wZWmUAygiZxJ"
      },
      "source": [
        "~~#### Вывод по жанрам:  \n",
        "В лидерах по выручке жанры Экшн и Шутер, следом идут спортивные и ролевые игры, в аутсайдерах стратегии и пазлы, но нужно иметь ввиду что производство лидеров в разы дороже остальных~~"
      ]
    },
    {
      "cell_type": "markdown",
      "metadata": {
        "id": "3Jekf7TbiZxJ"
      },
      "source": [
        "<div class=\"alert alert-block alert-danger\">\n",
        "<b>❌Комментарий ревьюера:</b> \n",
        "    \n",
        "А если посмотреть средние значения продаж на одну выпущенную игру? Изменится ли порядок лидеров?\n",
        "</div>"
      ]
    },
    {
      "cell_type": "markdown",
      "metadata": {
        "id": "lVNaLmtjiZxJ"
      },
      "source": [
        "<div class=\"alert alert-block alert-info\"> \n",
        "<b> Вывод по жанрам: Единоличный лидер теперь шутер, с 1,2 млн штук продаж, спорт на втором месте с отставанием более чем в полмиллина штук и Платфо́рмеры замыкают тройку лидеров </div>"
      ]
    },
    {
      "cell_type": "markdown",
      "metadata": {
        "id": "nggnz8isiZxJ"
      },
      "source": [
        "<div class=\"alert alert-block alert-success\">\n",
        "<b>✅Комментарий ревьюера 2:</b> Отлично, исправлено!👍  </div>"
      ]
    },
    {
      "cell_type": "markdown",
      "metadata": {
        "id": "UdUkA6FLiZxK"
      },
      "source": [
        "### ШАГ 4 Составим портрет пользователя каждого региона\n",
        "Определим для пользователя каждого региона (NA, EU, JP):  \n",
        "\n",
        "-Самые популярные платформы (топ-5)  \n",
        "-Самые популярные жанры (топ-5)  \n",
        "-Выясним, влияет ли рейтинг ESRB на продажи в отдельном регионе?"
      ]
    },
    {
      "cell_type": "code",
      "execution_count": null,
      "metadata": {
        "id": "8wYd8Hv0iZxK",
        "outputId": "2e6346ea-3845-46ec-9c5c-1058a0464e0e"
      },
      "outputs": [
        {
          "name": "stdout",
          "output_type": "stream",
          "text": [
            "Информация по Северной Америке\n"
          ]
        },
        {
          "data": {
            "image/png": "[encoded data removed]",
            "text/plain": [
              "<Figure size 720x432 with 1 Axes>"
            ]
          },
          "metadata": {
            "needs_background": "light"
          },
          "output_type": "display_data"
        },
        {
          "data": {
            "image/png": "[encoded data removed]",
            "text/plain": [
              "<Figure size 720x432 with 1 Axes>"
            ]
          },
          "metadata": {
            "needs_background": "light"
          },
          "output_type": "display_data"
        },
        {
          "data": {
            "image/png": "[encoded data removed]",
            "text/plain": [
              "<Figure size 720x504 with 1 Axes>"
            ]
          },
          "metadata": {
            "needs_background": "light"
          },
          "output_type": "display_data"
        }
      ],
      "source": [
        "print('Информация по Северной Америке')\n",
        "na = period.query('na_sales > 0')\n",
        "na_sales = (\n",
        "    pd.pivot_table(na, index='platform', values='na_sales',aggfunc='sum')\n",
        ".sort_values('na_sales', ascending=False)\n",
        ".reset_index()\n",
        ".head()\n",
        ")\n",
        "\n",
        "\n",
        "na_sales.plot(x='platform', y='na_sales', kind='bar', figsize=(10, 6))\n",
        "plt.title('Топ-5 популярных платформ в Северной Америке', size=14)\n",
        "plt.xlabel('Платформы')\n",
        "plt.ylabel('Продажи млн $');\n",
        "plt.show()\n",
        "\n",
        "\n",
        "(\n",
        "pd\n",
        ".pivot_table(na, index='genre', values='na_sales',aggfunc='sum')\n",
        ".sort_values('na_sales', ascending=False)\n",
        ".reset_index()\n",
        ".head()\n",
        ".plot(x='genre', y='na_sales', kind='bar', figsize=(10, 6))\n",
        ")\n",
        "plt.title('Самые популярные жанры в Северной Америке', size=14)\n",
        "plt.xlabel('Жанры')\n",
        "plt.ylabel('Продажи млн $')\n",
        "plt.show()\n",
        "\n",
        "# Влияние рейтинга на регион\n",
        "rating_na = (\n",
        "    pd\n",
        "    .pivot_table(na, index='rating', values='na_sales',aggfunc='sum')\n",
        "    .sort_values('na_sales', ascending=False)\n",
        "    .reset_index()\n",
        ")\n",
        "\n",
        "\n",
        "plt.figure(figsize=(10,7))\n",
        "sns.barplot(data=rating_na, x='rating', y='na_sales')\n",
        "plt.title('Продажи по рейтингу в Северной Америке')\n",
        "plt.ylabel('продажи млн $')\n",
        "plt.xlabel('рейтинг');"
      ]
    },
    {
      "cell_type": "markdown",
      "metadata": {
        "id": "fCQ9CdjQiZxK"
      },
      "source": [
        "##### Вывод по Америке:\n",
        "\n",
        "Самые популярные игровые платформы в Северной Америке: PS4, XOne, X360, PS3, 3DS.  \n",
        "Топ 5 жанров в Северной Америке : action, shooter, sports, Role-Playing, misc.  \n",
        "По влиянию рейтинга больше всего продаж у категории M - Игры предназначены только для лиц старше 17 лет. Что в целом объяснимо популярностью по жанрам.  \n",
        "Много продаж игр, у котрых рейтинга нет и замыкают тройку игры с категорией E (Everyone) — для всех"
      ]
    },
    {
      "cell_type": "code",
      "execution_count": null,
      "metadata": {
        "id": "mOWHqiQHiZxK",
        "outputId": "3dc52118-6790-450f-b0db-fe8773237102"
      },
      "outputs": [
        {
          "name": "stdout",
          "output_type": "stream",
          "text": [
            "Информация по Европе\n"
          ]
        },
        {
          "data": {
            "image/png": "[encoded data removed]",
            "text/plain": [
              "<Figure size 720x432 with 1 Axes>"
            ]
          },
          "metadata": {
            "needs_background": "light"
          },
          "output_type": "display_data"
        },
        {
          "data": {
            "image/png": "[encoded data removed]",
            "text/plain": [
              "<Figure size 720x432 with 1 Axes>"
            ]
          },
          "metadata": {
            "needs_background": "light"
          },
          "output_type": "display_data"
        },
        {
          "data": {
            "image/png": "[encoded data removed]",
            "text/plain": [
              "<Figure size 720x504 with 1 Axes>"
            ]
          },
          "metadata": {
            "needs_background": "light"
          },
          "output_type": "display_data"
        }
      ],
      "source": [
        "print('Информация по Европе')\n",
        "eu = period.query('eu_sales > 0')\n",
        "eu_sales = (\n",
        "    pd.pivot_table(na, index='platform', values='eu_sales',aggfunc='sum')\n",
        ".sort_values('eu_sales', ascending=False)\n",
        ".reset_index()\n",
        ".head()\n",
        ")\n",
        "\n",
        "eu_sales.plot(x='platform', y='eu_sales', kind='bar', figsize=(10, 6))\n",
        "plt.title('Топ-5 популярных платформ в Европе', size=14)\n",
        "plt.xlabel('Платформы')\n",
        "plt.ylabel('Продажи млн $')\n",
        "plt.show()\n",
        "\n",
        "(\n",
        "pd\n",
        ".pivot_table(eu, index='genre', values='eu_sales',aggfunc='sum')\n",
        ".sort_values('eu_sales', ascending=False)\n",
        ".reset_index()\n",
        ".head()\n",
        ".plot(x='genre', y='eu_sales', kind='bar', figsize=(10, 6))\n",
        ")\n",
        "plt.title('Самые популярные жанры в Европе', size=14)\n",
        "plt.xlabel('Жанры')\n",
        "plt.ylabel('Продажи млн $')\n",
        "plt.show()\n",
        "\n",
        "# Влияние рейтинга на регион\n",
        "rating_eu = (\n",
        "    pd\n",
        "    .pivot_table(eu, index='rating', values='eu_sales',aggfunc='sum')\n",
        "    .sort_values('eu_sales', ascending=False)\n",
        "    .reset_index()\n",
        ")\n",
        "\n",
        "\n",
        "plt.figure(figsize=(10,7))\n",
        "sns.barplot(data=rating_eu, x='rating', y='eu_sales')\n",
        "plt.title('Продажи по рейтингу в Европе')\n",
        "plt.ylabel('продажи млн $')\n",
        "plt.xlabel('рейтинг');"
      ]
    },
    {
      "cell_type": "markdown",
      "metadata": {
        "id": "BOp2qkyGiZxK"
      },
      "source": [
        "##### Вывод по Европе:\n",
        "Самые популярные игровые платформы в Европе все те же, что и в Америке, с небольшой ротацией:  \n",
        "с большим отрывом лидирует PS4, далее PS3, XOne, X360, и 3DS\n",
        "По жанрам значения также близки к Северной Америке, единственное отличие вместо Misc на 5м месте Racing  \n",
        "По влиянию рейтинга тройка лидеров та же, с рокировкой рейтинга E (Everyone) — для всех и играми без рейтинга"
      ]
    },
    {
      "cell_type": "code",
      "execution_count": null,
      "metadata": {
        "id": "hWTtlTrViZxL",
        "outputId": "009a6534-f9e3-4888-9660-7942957b56c6"
      },
      "outputs": [
        {
          "name": "stdout",
          "output_type": "stream",
          "text": [
            "Информация по Японии\n"
          ]
        },
        {
          "data": {
            "image/png": "[encoded data removed]",
            "text/plain": [
              "<Figure size 720x432 with 1 Axes>"
            ]
          },
          "metadata": {
            "needs_background": "light"
          },
          "output_type": "display_data"
        },
        {
          "data": {
            "image/png": "[encoded data removed]",
            "text/plain": [
              "<Figure size 720x432 with 1 Axes>"
            ]
          },
          "metadata": {
            "needs_background": "light"
          },
          "output_type": "display_data"
        },
        {
          "data": {
            "image/png": "[encoded data removed]",
            "text/plain": [
              "<Figure size 720x504 with 1 Axes>"
            ]
          },
          "metadata": {
            "needs_background": "light"
          },
          "output_type": "display_data"
        }
      ],
      "source": [
        "print('Информация по Японии')\n",
        "jp = period.query('jp_sales > 0')\n",
        "jp_sales = (\n",
        "    pd.pivot_table(na, index='platform', values='jp_sales',aggfunc='sum')\n",
        ".sort_values('jp_sales', ascending=False)\n",
        ".reset_index()\n",
        ".head()\n",
        ")\n",
        "\n",
        "jp_sales.plot(x='platform', y='jp_sales', kind='bar', figsize=(10, 6))\n",
        "plt.title('Топ-5 популярных платформ в Японии', size=14)\n",
        "plt.xlabel('Платформы')\n",
        "plt.ylabel('Продажи млн $')\n",
        "plt.show()\n",
        "\n",
        "(\n",
        "pd\n",
        ".pivot_table(jp, index='genre', values='jp_sales',aggfunc='sum')\n",
        ".sort_values('jp_sales', ascending=False)\n",
        ".reset_index()\n",
        ".head()\n",
        ".plot(x='genre', y='jp_sales', kind='bar', figsize=(10, 6))\n",
        ")\n",
        "plt.title('Самые популярные жанры в Японии', size=14)\n",
        "plt.xlabel('Жанры')\n",
        "plt.ylabel('Продажи млн $');\n",
        "plt.show()\n",
        "\n",
        "# Влияние рейтинга на регион\n",
        "rating_jp = (\n",
        "    pd\n",
        "    .pivot_table(jp, index='rating', values='jp_sales',aggfunc='sum')\n",
        "    .sort_values('jp_sales', ascending=False)\n",
        "    .reset_index()\n",
        ")\n",
        "\n",
        "\n",
        "plt.figure(figsize=(10,7))\n",
        "sns.barplot(data=rating_jp, x='rating', y='jp_sales')\n",
        "plt.title('Продажи по рейтингу в Японии')\n",
        "plt.ylabel('продажи млн $')\n",
        "plt.xlabel('рейтинг');"
      ]
    },
    {
      "cell_type": "markdown",
      "metadata": {
        "id": "jYVft6sRiZxL"
      },
      "source": [
        "##### Вывод по Японии:\n",
        "Предпочтения игроков в Японии сильно отличаются от европейцев и североамериканцев:  \n",
        "С огромным отрывом лидирует платформа 3DS, хотя и SONY и Nintendo - это компании из Японии, но как мне кажется Нинтендо большее внимание уделяет именно внутреннему рынку, и игры на 3DS в большинстве выпускаются в популярных именно в Японии жанрах.  \n",
        "В лидерах также PS3, PS4, WiiU и PSV\n",
        "По жанрам, как и предполагал выше у нас оказываются РПГ и Экшн, остальная тройка лидеров в лице Аркад, Файтингов и Шутеров сильно уступают. \n",
        "По рейтингу наблюдаем главенство игр без рейтинга, оно и понятно, как указывал ранее данный рейтинг предназначен для игр из Северной Америки На втором месте по продажам игры с рейтингом: T — для подростков 12+, далее уже знакомые нам E и M "
      ]
    },
    {
      "cell_type": "markdown",
      "metadata": {
        "id": "DvvdhMR1iZxL"
      },
      "source": [
        "### Вывод по регионам\n",
        "Изучив данные по регионам можем предположить, что, для 2017 года большую часть прибыли будут приносить игры жанра Action для платформы PS4 и с рейтингом M - от 17 и выше.  \n",
        "С поправками на регион конечно же. Северная Америка и Европа в целом схожи по своим предпочтениям, с незначительными отклонениями.  \n",
        "В Японии своя культура игровой индустрии, и здесь лидерами все же будет платформа 3DS (забегая в будущее Nintendo Switch все же обгонит по продажам устаревающую приставку), с жанром RPG без какого либо рейтинга."
      ]
    },
    {
      "cell_type": "markdown",
      "metadata": {
        "id": "m-KZdgWtiZxL"
      },
      "source": [
        "#### Шаг 5. Проверим гипотезы:\n",
        "<b>Средние пользовательские рейтинги платформ Xbox One и PC одинаковые  \n",
        "Средние пользовательские рейтинги жанров Action (англ. «действие», экшен-игры) и Sports (англ. «спортивные соревнования») разные.\n"
      ]
    },
    {
      "cell_type": "markdown",
      "metadata": {
        "id": "V0fz2vp3iZxL"
      },
      "source": [
        "Сформулируем нулевые гипотезы:\n",
        "\n",
        "Нулевая гипотеза H₀: Средние пользовательские рейтинги платформ Xbox One и PC одинаковые;  \n",
        "Альтернативная гипотеза H₁: Средние пользовательские рейтинги платформ Xbox One и PC различаются"
      ]
    },
    {
      "cell_type": "code",
      "execution_count": null,
      "metadata": {
        "id": "7lAIUjFEiZxL",
        "outputId": "6767b155-8f0d-427d-e3d2-a854c02a96bb"
      },
      "outputs": [
        {
          "name": "stdout",
          "output_type": "stream",
          "text": [
            "1.8965188383045526\n",
            "3.016306347554631\n"
          ]
        }
      ],
      "source": [
        "hypo=period[period['platform'].isin(['PC', 'XOne'])].dropna()\n",
        "hypo=hypo.query('user_score != -1')\n",
        "\n",
        "# Дисперсии\n",
        "print(np.var(hypo.query('platform ==\"XOne\"')['user_score']))\n",
        "print(np.var(hypo.query('platform ==\"PC\"')['user_score']))"
      ]
    },
    {
      "cell_type": "code",
      "execution_count": null,
      "metadata": {
        "id": "_CuSV1hyiZxM",
        "outputId": "d16a8b16-bf4b-45ee-b15a-a8581b219f00"
      },
      "outputs": [
        {
          "name": "stdout",
          "output_type": "stream",
          "text": [
            "p-значение: 0.14759594013430463\n",
            "Не получилось отвергнуть нулевую гипотезу так как cредние пользовательские рейтинги платформ XOne и PC одинаковые\n"
          ]
        }
      ],
      "source": [
        "alpha = 0.01\n",
        "\n",
        "results = st.ttest_ind(\n",
        "    hypo.query('platform ==\"XOne\"')['user_score'],\n",
        "    hypo.query('platform ==\"PC\"')['user_score'],\n",
        "    equal_var = False)\n",
        "\n",
        "# проверяем значение pvalue с некоторой точностью\n",
        "print('p-значение:', results.pvalue)\n",
        "\n",
        "# проверяем output\n",
        "if results.pvalue < alpha:\n",
        "    print(\"Отвергаем нулевую гипотезу, так как cредние пользовательские рейтинги платформ XOne и PC разные.\")\n",
        "else:\n",
        "    print(\"Не получилось отвергнуть нулевую гипотезу так как cредние пользовательские рейтинги платформ XOne и PC одинаковые\")"
      ]
    },
    {
      "cell_type": "markdown",
      "metadata": {
        "id": "sBxofAWpiZxM"
      },
      "source": [
        "Сформулируем нулевые гипотезы:\n",
        "\n",
        "Нулевая гипотеза H₀: Средние пользовательские рейтинги жанров Action и Sports одинаковые.\n",
        "Альтернативная гипотеза H₁: Средние пользовательские рейтинги жанров Action и Sports различаются."
      ]
    },
    {
      "cell_type": "code",
      "execution_count": null,
      "metadata": {
        "id": "4WncJ2UqiZxM",
        "outputId": "0425786d-0516-4e00-f063-3fa0f172d44f"
      },
      "outputs": [
        {
          "name": "stdout",
          "output_type": "stream",
          "text": [
            "16.249188487207633\n",
            "9.704826840772121\n"
          ]
        }
      ],
      "source": [
        "hypo=period[period['genre'].isin(['Sports', 'Action'])]\n",
        "\n",
        "# Дисперсии\n",
        "print(np.var(hypo.loc[hypo['genre']=='Action', 'user_score']))\n",
        "print(np.var(hypo.loc[hypo['genre']=='Sports', 'user_score']))"
      ]
    },
    {
      "cell_type": "code",
      "execution_count": null,
      "metadata": {
        "id": "R2TFMf1EiZxM",
        "outputId": "e9c064c7-4cc9-4bda-8d66-8d983021b4dd"
      },
      "outputs": [
        {
          "name": "stdout",
          "output_type": "stream",
          "text": [
            "p-значение: 0.008445505365573197\n",
            "Отвергаем нулевую гипотезу, так как cредние пользовательские рейтинги жанров Action и Sports разные.\n"
          ]
        }
      ],
      "source": [
        "alpha = 0.01\n",
        "\n",
        "results = st.ttest_ind(\n",
        "    hypo.query('genre ==\"Action\"')['user_score'],\n",
        "    hypo.query('genre ==\"Sports\"')['user_score'],\n",
        "    equal_var = False)\n",
        "\n",
        "# проверяем значение pvalue с некоторой точностью\n",
        "print('p-значение:', results.pvalue)\n",
        "\n",
        "# проверяем output\n",
        "if (results.pvalue < alpha):\n",
        "    print(\"Отвергаем нулевую гипотезу, так как cредние пользовательские рейтинги жанров Action и Sports разные.\")\n",
        "else:\n",
        "    print(\"Не получилось отвергнуть нулевую гипотезу так как cредние пользовательские рейтинги жанров Action и Sports одинаковые\")"
      ]
    },
    {
      "cell_type": "markdown",
      "metadata": {
        "id": "mNBFpYtaiZxM"
      },
      "source": [
        "## Шаг 6.  Общий вывод\n",
        "\n",
        "- Был проведен первичный анализ данных файла, отредактирован датасет путем удалениия некритичных данных, изменили типы некторых столбцов и заполнили пропуски\n",
        "- Далее добавили в таблицу новые столбцы и заполнили их данными для последующего анализа\n",
        "\n",
        "<b> По проведенному анализу: влияние оценок на выручку имеет место быть, оценки критиков сильнее оценок пользователей. Но в целом влияние не такое сильное.\n",
        "\n",
        "<b> В целом по игровой индустрии: рынок платформенных игр заметно снижается. Хотя, заглянув в будущее мы видим обновления устаревающих консолей, но динамика все же отрицательная. Вероятнее всего, что мобильный телефон начал побеждать в этом плане, но это уже совсем другая история, и хороший повод для нового анализа)\n",
        "\n",
        "<b> По жанрам глобально лидируют Shooter, и скорее всего продолжат доминирование, локально же в Японии в лидерах жанр RPG"
      ]
    }
  ],
  "metadata": {
    "ExecuteTimeLog": [
      {
        "duration": 1274,
        "start_time": "2022-10-10T13:28:10.051Z"
      },
      {
        "duration": 121,
        "start_time": "2022-10-10T13:28:11.327Z"
      },
      {
        "duration": 8,
        "start_time": "2022-10-10T13:28:11.449Z"
      },
      {
        "duration": 43,
        "start_time": "2022-10-10T13:28:11.459Z"
      },
      {
        "duration": 212,
        "start_time": "2022-10-10T13:28:11.504Z"
      },
      {
        "duration": 27,
        "start_time": "2022-10-10T13:28:11.718Z"
      },
      {
        "duration": 17,
        "start_time": "2022-10-10T13:28:11.747Z"
      },
      {
        "duration": 19,
        "start_time": "2022-10-10T13:28:11.766Z"
      },
      {
        "duration": 5,
        "start_time": "2022-10-10T13:28:11.787Z"
      },
      {
        "duration": 35,
        "start_time": "2022-10-10T13:28:11.794Z"
      },
      {
        "duration": 35,
        "start_time": "2022-10-10T13:28:11.830Z"
      },
      {
        "duration": 17,
        "start_time": "2022-10-10T13:28:11.867Z"
      },
      {
        "duration": 3,
        "start_time": "2022-10-10T13:28:11.886Z"
      },
      {
        "duration": 24,
        "start_time": "2022-10-10T13:28:11.891Z"
      },
      {
        "duration": 41,
        "start_time": "2022-10-10T13:28:11.916Z"
      },
      {
        "duration": 257,
        "start_time": "2022-10-10T13:28:11.959Z"
      },
      {
        "duration": 280,
        "start_time": "2022-10-10T13:28:12.218Z"
      },
      {
        "duration": 274,
        "start_time": "2022-10-10T13:28:12.500Z"
      },
      {
        "duration": 16,
        "start_time": "2022-10-10T13:28:12.776Z"
      },
      {
        "duration": 946,
        "start_time": "2022-10-10T13:28:12.794Z"
      },
      {
        "duration": 10,
        "start_time": "2022-10-10T13:28:13.742Z"
      },
      {
        "duration": 18,
        "start_time": "2022-10-10T13:28:13.754Z"
      },
      {
        "duration": 193,
        "start_time": "2022-10-10T13:28:13.774Z"
      },
      {
        "duration": 178,
        "start_time": "2022-10-10T13:28:13.969Z"
      },
      {
        "duration": 17,
        "start_time": "2022-10-10T13:28:14.149Z"
      },
      {
        "duration": 493,
        "start_time": "2022-10-10T13:28:14.168Z"
      },
      {
        "duration": 34,
        "start_time": "2022-10-10T13:28:14.662Z"
      },
      {
        "duration": 276,
        "start_time": "2022-10-10T13:28:14.699Z"
      },
      {
        "duration": 19,
        "start_time": "2022-10-10T13:28:14.976Z"
      },
      {
        "duration": 11,
        "start_time": "2022-10-10T13:28:14.996Z"
      },
      {
        "duration": 267,
        "start_time": "2022-10-10T13:28:15.009Z"
      },
      {
        "duration": 6,
        "start_time": "2022-10-10T13:28:15.277Z"
      },
      {
        "duration": 30,
        "start_time": "2022-10-10T13:28:15.284Z"
      },
      {
        "duration": 168,
        "start_time": "2022-10-10T13:28:15.315Z"
      },
      {
        "duration": 601,
        "start_time": "2022-10-10T13:28:15.485Z"
      },
      {
        "duration": 684,
        "start_time": "2022-10-10T13:28:16.087Z"
      },
      {
        "duration": 70,
        "start_time": "2022-10-10T13:28:16.773Z"
      },
      {
        "duration": 14,
        "start_time": "2022-10-10T13:28:16.845Z"
      },
      {
        "duration": 210,
        "start_time": "2022-10-10T13:28:16.861Z"
      },
      {
        "duration": 454,
        "start_time": "2022-10-10T13:28:17.073Z"
      },
      {
        "duration": 526,
        "start_time": "2022-10-10T13:28:17.532Z"
      },
      {
        "duration": 459,
        "start_time": "2022-10-10T13:28:18.060Z"
      },
      {
        "duration": 23,
        "start_time": "2022-10-10T13:28:18.520Z"
      },
      {
        "duration": 10,
        "start_time": "2022-10-10T13:28:18.545Z"
      },
      {
        "duration": 15,
        "start_time": "2022-10-10T13:28:18.557Z"
      },
      {
        "duration": 12,
        "start_time": "2022-10-10T13:28:18.573Z"
      },
      {
        "duration": 1121,
        "start_time": "2022-10-10T13:48:17.618Z"
      },
      {
        "duration": 71,
        "start_time": "2022-10-10T13:48:18.742Z"
      },
      {
        "duration": 8,
        "start_time": "2022-10-10T13:48:18.814Z"
      },
      {
        "duration": 8,
        "start_time": "2022-10-10T13:48:18.823Z"
      },
      {
        "duration": 173,
        "start_time": "2022-10-10T13:48:18.833Z"
      },
      {
        "duration": 25,
        "start_time": "2022-10-10T13:48:19.008Z"
      },
      {
        "duration": 14,
        "start_time": "2022-10-10T13:48:19.035Z"
      },
      {
        "duration": 15,
        "start_time": "2022-10-10T13:48:19.051Z"
      },
      {
        "duration": 4,
        "start_time": "2022-10-10T13:48:19.067Z"
      },
      {
        "duration": 7,
        "start_time": "2022-10-10T13:48:19.072Z"
      },
      {
        "duration": 26,
        "start_time": "2022-10-10T13:48:19.080Z"
      },
      {
        "duration": 30,
        "start_time": "2022-10-10T13:48:19.107Z"
      },
      {
        "duration": 5,
        "start_time": "2022-10-10T13:48:19.138Z"
      },
      {
        "duration": 5,
        "start_time": "2022-10-10T13:48:19.145Z"
      },
      {
        "duration": 20,
        "start_time": "2022-10-10T13:48:19.151Z"
      },
      {
        "duration": 270,
        "start_time": "2022-10-10T13:48:19.172Z"
      },
      {
        "duration": 282,
        "start_time": "2022-10-10T13:48:19.443Z"
      },
      {
        "duration": 282,
        "start_time": "2022-10-10T13:48:19.727Z"
      },
      {
        "duration": 23,
        "start_time": "2022-10-10T13:48:20.011Z"
      },
      {
        "duration": 961,
        "start_time": "2022-10-10T13:48:20.035Z"
      },
      {
        "duration": 11,
        "start_time": "2022-10-10T13:48:20.997Z"
      },
      {
        "duration": 14,
        "start_time": "2022-10-10T13:48:21.009Z"
      },
      {
        "duration": 179,
        "start_time": "2022-10-10T13:48:21.033Z"
      },
      {
        "duration": 192,
        "start_time": "2022-10-10T13:48:21.213Z"
      },
      {
        "duration": 16,
        "start_time": "2022-10-10T13:48:21.406Z"
      },
      {
        "duration": 514,
        "start_time": "2022-10-10T13:48:21.423Z"
      },
      {
        "duration": 36,
        "start_time": "2022-10-10T13:48:21.938Z"
      },
      {
        "duration": 291,
        "start_time": "2022-10-10T13:48:21.976Z"
      },
      {
        "duration": 19,
        "start_time": "2022-10-10T13:48:22.268Z"
      },
      {
        "duration": 6,
        "start_time": "2022-10-10T13:48:22.289Z"
      },
      {
        "duration": 177,
        "start_time": "2022-10-10T13:48:22.296Z"
      },
      {
        "duration": 5,
        "start_time": "2022-10-10T13:48:22.474Z"
      },
      {
        "duration": 11,
        "start_time": "2022-10-10T13:48:22.481Z"
      },
      {
        "duration": 265,
        "start_time": "2022-10-10T13:48:22.494Z"
      },
      {
        "duration": 620,
        "start_time": "2022-10-10T13:48:22.760Z"
      },
      {
        "duration": 620,
        "start_time": "2022-10-10T13:48:23.382Z"
      },
      {
        "duration": 60,
        "start_time": "2022-10-10T13:48:24.004Z"
      },
      {
        "duration": 14,
        "start_time": "2022-10-10T13:48:24.066Z"
      },
      {
        "duration": 234,
        "start_time": "2022-10-10T13:48:24.082Z"
      },
      {
        "duration": 455,
        "start_time": "2022-10-10T13:48:24.318Z"
      },
      {
        "duration": 559,
        "start_time": "2022-10-10T13:48:24.777Z"
      },
      {
        "duration": 459,
        "start_time": "2022-10-10T13:48:25.337Z"
      },
      {
        "duration": 14,
        "start_time": "2022-10-10T13:48:25.797Z"
      },
      {
        "duration": 23,
        "start_time": "2022-10-10T13:48:25.813Z"
      },
      {
        "duration": 16,
        "start_time": "2022-10-10T13:48:25.837Z"
      },
      {
        "duration": 20,
        "start_time": "2022-10-10T13:48:25.855Z"
      },
      {
        "duration": 1140,
        "start_time": "2022-10-12T15:11:35.856Z"
      },
      {
        "duration": 73,
        "start_time": "2022-10-12T15:11:36.999Z"
      },
      {
        "duration": 11,
        "start_time": "2022-10-12T15:11:37.074Z"
      },
      {
        "duration": 8,
        "start_time": "2022-10-12T15:11:37.087Z"
      },
      {
        "duration": 189,
        "start_time": "2022-10-12T15:11:37.097Z"
      },
      {
        "duration": 15,
        "start_time": "2022-10-12T15:11:37.288Z"
      },
      {
        "duration": 14,
        "start_time": "2022-10-12T15:11:37.304Z"
      },
      {
        "duration": 15,
        "start_time": "2022-10-12T15:11:37.319Z"
      },
      {
        "duration": 4,
        "start_time": "2022-10-12T15:11:37.335Z"
      },
      {
        "duration": 5,
        "start_time": "2022-10-12T15:11:37.341Z"
      },
      {
        "duration": 46,
        "start_time": "2022-10-12T15:11:37.348Z"
      },
      {
        "duration": 18,
        "start_time": "2022-10-12T15:11:37.395Z"
      },
      {
        "duration": 4,
        "start_time": "2022-10-12T15:11:37.414Z"
      },
      {
        "duration": 6,
        "start_time": "2022-10-12T15:11:37.420Z"
      },
      {
        "duration": 18,
        "start_time": "2022-10-12T15:11:37.428Z"
      },
      {
        "duration": 270,
        "start_time": "2022-10-12T15:11:37.448Z"
      },
      {
        "duration": 266,
        "start_time": "2022-10-12T15:11:37.719Z"
      },
      {
        "duration": 265,
        "start_time": "2022-10-12T15:11:37.986Z"
      },
      {
        "duration": 18,
        "start_time": "2022-10-12T15:11:38.253Z"
      },
      {
        "duration": 924,
        "start_time": "2022-10-12T15:11:38.273Z"
      },
      {
        "duration": 10,
        "start_time": "2022-10-12T15:11:39.198Z"
      },
      {
        "duration": 12,
        "start_time": "2022-10-12T15:11:39.210Z"
      },
      {
        "duration": 187,
        "start_time": "2022-10-12T15:11:39.223Z"
      },
      {
        "duration": 165,
        "start_time": "2022-10-12T15:11:39.411Z"
      },
      {
        "duration": 14,
        "start_time": "2022-10-12T15:11:39.584Z"
      },
      {
        "duration": 513,
        "start_time": "2022-10-12T15:11:39.600Z"
      },
      {
        "duration": 34,
        "start_time": "2022-10-12T15:11:40.115Z"
      },
      {
        "duration": 284,
        "start_time": "2022-10-12T15:11:40.152Z"
      },
      {
        "duration": 19,
        "start_time": "2022-10-12T15:11:40.438Z"
      },
      {
        "duration": 9,
        "start_time": "2022-10-12T15:11:40.459Z"
      },
      {
        "duration": 169,
        "start_time": "2022-10-12T15:11:40.469Z"
      },
      {
        "duration": 5,
        "start_time": "2022-10-12T15:11:40.639Z"
      },
      {
        "duration": 15,
        "start_time": "2022-10-12T15:11:40.645Z"
      },
      {
        "duration": 244,
        "start_time": "2022-10-12T15:11:40.662Z"
      },
      {
        "duration": 628,
        "start_time": "2022-10-12T15:11:40.907Z"
      },
      {
        "duration": 609,
        "start_time": "2022-10-12T15:11:41.536Z"
      },
      {
        "duration": 61,
        "start_time": "2022-10-12T15:11:42.147Z"
      },
      {
        "duration": 13,
        "start_time": "2022-10-12T15:11:42.210Z"
      },
      {
        "duration": 223,
        "start_time": "2022-10-12T15:11:42.224Z"
      },
      {
        "duration": 443,
        "start_time": "2022-10-12T15:11:42.448Z"
      },
      {
        "duration": 512,
        "start_time": "2022-10-12T15:11:42.892Z"
      },
      {
        "duration": 445,
        "start_time": "2022-10-12T15:11:43.405Z"
      },
      {
        "duration": 15,
        "start_time": "2022-10-12T15:11:43.854Z"
      },
      {
        "duration": 8,
        "start_time": "2022-10-12T15:11:43.871Z"
      },
      {
        "duration": 8,
        "start_time": "2022-10-12T15:11:43.885Z"
      },
      {
        "duration": 9,
        "start_time": "2022-10-12T15:11:43.895Z"
      },
      {
        "duration": 6,
        "start_time": "2022-10-12T15:14:48.271Z"
      },
      {
        "duration": 5,
        "start_time": "2022-10-12T15:14:55.206Z"
      },
      {
        "duration": 7,
        "start_time": "2022-10-12T15:15:06.247Z"
      }
    ],
    "kernelspec": {
      "display_name": "Python 3 (ipykernel)",
      "language": "python",
      "name": "python3"
    },
    "language_info": {
      "codemirror_mode": {
        "name": "ipython",
        "version": 3
      },
      "file_extension": ".py",
      "mimetype": "text/x-python",
      "name": "python",
      "nbconvert_exporter": "python",
      "pygments_lexer": "ipython3",
      "version": "3.9.5"
    },
    "toc": {
      "base_numbering": 1,
      "nav_menu": {},
      "number_sections": true,
      "sideBar": true,
      "skip_h1_title": true,
      "title_cell": "Table of Contents",
      "title_sidebar": "Contents",
      "toc_cell": false,
      "toc_position": {},
      "toc_section_display": true,
      "toc_window_display": false
    },
    "colab": {
      "provenance": [],
      "collapsed_sections": [
        "Lctr-V2ciZw-",
        "gm6vRAjLiZxI"
      ]
    }
  },
  "nbformat": 4,
  "nbformat_minor": 0
}