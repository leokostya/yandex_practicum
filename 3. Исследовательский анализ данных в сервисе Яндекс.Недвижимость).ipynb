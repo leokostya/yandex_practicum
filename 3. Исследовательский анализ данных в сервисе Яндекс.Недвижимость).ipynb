{
 "cells": [
  {
   "cell_type": "markdown",
   "metadata": {},
   "source": [
    "# Исследование объявлений о продаже квартир\n",
    "\n",
    "В нашем распоряжении данные сервиса Яндекс.Недвижимость — архив объявлений о продаже квартир в Санкт-Петербурге и соседних населённых пунктов за несколько лет. Нужно научиться определять рыночную стоимость объектов недвижимости. Ваша задача — установить параметры. Это позволит построить автоматизированную систему: она отследит аномалии и мошенническую деятельность. \n",
    "\n",
    "По каждой квартире на продажу доступны два вида данных. Первые вписаны пользователем, вторые — получены автоматически на основе картографических данных. Например, расстояние до центра, аэропорта, ближайшего парка и водоёма. "
   ]
  },
  {
   "cell_type": "markdown",
   "metadata": {},
   "source": [
    "### Откройте файл с данными и изучите общую информацию. "
   ]
  },
  {
   "cell_type": "markdown",
   "metadata": {},
   "source": [
    "## Описание данных\n",
    "<b>airports_nearest</b> — расстояние до ближайшего аэропорта в метрах (м)  \n",
    "<b>balcony</b> — число балконов  \n",
    "<b>ceiling_height</b> — высота потолков (м)  \n",
    "<b>cityCenters_nearest</b> — расстояние до центра города (м)  \n",
    "<b>days_exposition</b> — сколько дней было размещено объявление (от публикации до снятия)  \n",
    "<b>first_day_exposition</b> — дата публикации  \n",
    "<b>floor</b> — этаж  \n",
    "<b>floors_total</b> — всего этажей в доме  \n",
    "<b>is_apartment</b> — апартаменты (булев тип)  \n",
    "<b>kitchen_area</b> — площадь кухни в квадратных метрах (м²)  \n",
    "<b>last_price</b> — цена на момент снятия с публикации  \n",
    "<b>living_area</b> — жилая площадь в квадратных метрах(м²)  \n",
    "<b>locality_name</b> — название населённого пункта  \n",
    "<b>open_plan</b> — свободная планировка (булев тип)  \n",
    "<b>parks_around3000</b> — число парков в радиусе 3 км  \n",
    "<b>parks_nearest</b> — расстояние до ближайшего парка (м)  \n",
    "<b>ponds_around3000</b> — число водоёмов в радиусе 3 км  \n",
    "<b>ponds_nearest</b> — расстояние до ближайшего водоёма (м)  \n",
    "<b>rooms</b> — число комнат  \n",
    "<b>studio</b> — квартира-студия (булев тип)  \n",
    "<b>total_area</b> — площадь квартиры в квадратных метрах (м²)  \n",
    "<b>total_images</b> — число фотографий квартиры в объявлении  "
   ]
  },
  {
   "cell_type": "markdown",
   "metadata": {},
   "source": [
    "\n",
    "<b>    Изучим файл с данными\n",
    "    \n",
    "<b>   Выявим пропуски и аномалии и \"починим\" их  \n",
    "<b>   После предобработки займемся анализом датасета  \n",
    "<b>    Найдем ответы на поставленные вопросы:  \n",
    "<b>    -Сколько времени занимает продажа квартиры. Когда продажу можно назвать быстрой / долгой  \n",
    "    \n",
    "<b>    -Какие факторы больше всего влияют на стоимость квартиры  \n",
    "    \n",
    "<b>    -Какая средняя стоимость квартиры в 10 населённых пунктов с наибольшим числом объявлений  \n",
    "    \n",
    "<b>    -Как стоимость объектов зависит от расстояния до центра города в Санкт-Петербурге .\n"
   ]
  },
  {
   "cell_type": "code",
   "execution_count": 1,
   "metadata": {},
   "outputs": [],
   "source": [
    "# импортируем библиотеки\n",
    "import pandas as pd\n",
    "import matplotlib.pyplot as plt\n",
    "import seaborn as sns"
   ]
  },
  {
   "cell_type": "code",
   "execution_count": 2,
   "metadata": {},
   "outputs": [
    {
     "data": {
      "text/html": [
       "<div>\n",
       "<style scoped>\n",
       "    .dataframe tbody tr th:only-of-type {\n",
       "        vertical-align: middle;\n",
       "    }\n",
       "\n",
       "    .dataframe tbody tr th {\n",
       "        vertical-align: top;\n",
       "    }\n",
       "\n",
       "    .dataframe thead th {\n",
       "        text-align: right;\n",
       "    }\n",
       "</style>\n",
       "<table border=\"1\" class=\"dataframe\">\n",
       "  <thead>\n",
       "    <tr style=\"text-align: right;\">\n",
       "      <th></th>\n",
       "      <th>total_images</th>\n",
       "      <th>last_price</th>\n",
       "      <th>total_area</th>\n",
       "      <th>first_day_exposition</th>\n",
       "      <th>rooms</th>\n",
       "      <th>ceiling_height</th>\n",
       "      <th>floors_total</th>\n",
       "      <th>living_area</th>\n",
       "      <th>floor</th>\n",
       "      <th>is_apartment</th>\n",
       "      <th>...</th>\n",
       "      <th>kitchen_area</th>\n",
       "      <th>balcony</th>\n",
       "      <th>locality_name</th>\n",
       "      <th>airports_nearest</th>\n",
       "      <th>cityCenters_nearest</th>\n",
       "      <th>parks_around3000</th>\n",
       "      <th>parks_nearest</th>\n",
       "      <th>ponds_around3000</th>\n",
       "      <th>ponds_nearest</th>\n",
       "      <th>days_exposition</th>\n",
       "    </tr>\n",
       "  </thead>\n",
       "  <tbody>\n",
       "    <tr>\n",
       "      <th>0</th>\n",
       "      <td>20</td>\n",
       "      <td>13000000.0</td>\n",
       "      <td>108.00</td>\n",
       "      <td>2019-03-07T00:00:00</td>\n",
       "      <td>3</td>\n",
       "      <td>2.70</td>\n",
       "      <td>16.0</td>\n",
       "      <td>51.00</td>\n",
       "      <td>8</td>\n",
       "      <td>NaN</td>\n",
       "      <td>...</td>\n",
       "      <td>25.00</td>\n",
       "      <td>NaN</td>\n",
       "      <td>Санкт-Петербург</td>\n",
       "      <td>18863.0</td>\n",
       "      <td>16028.0</td>\n",
       "      <td>1.0</td>\n",
       "      <td>482.0</td>\n",
       "      <td>2.0</td>\n",
       "      <td>755.0</td>\n",
       "      <td>NaN</td>\n",
       "    </tr>\n",
       "    <tr>\n",
       "      <th>1</th>\n",
       "      <td>7</td>\n",
       "      <td>3350000.0</td>\n",
       "      <td>40.40</td>\n",
       "      <td>2018-12-04T00:00:00</td>\n",
       "      <td>1</td>\n",
       "      <td>NaN</td>\n",
       "      <td>11.0</td>\n",
       "      <td>18.60</td>\n",
       "      <td>1</td>\n",
       "      <td>NaN</td>\n",
       "      <td>...</td>\n",
       "      <td>11.00</td>\n",
       "      <td>2.0</td>\n",
       "      <td>посёлок Шушары</td>\n",
       "      <td>12817.0</td>\n",
       "      <td>18603.0</td>\n",
       "      <td>0.0</td>\n",
       "      <td>NaN</td>\n",
       "      <td>0.0</td>\n",
       "      <td>NaN</td>\n",
       "      <td>81.0</td>\n",
       "    </tr>\n",
       "    <tr>\n",
       "      <th>2</th>\n",
       "      <td>10</td>\n",
       "      <td>5196000.0</td>\n",
       "      <td>56.00</td>\n",
       "      <td>2015-08-20T00:00:00</td>\n",
       "      <td>2</td>\n",
       "      <td>NaN</td>\n",
       "      <td>5.0</td>\n",
       "      <td>34.30</td>\n",
       "      <td>4</td>\n",
       "      <td>NaN</td>\n",
       "      <td>...</td>\n",
       "      <td>8.30</td>\n",
       "      <td>0.0</td>\n",
       "      <td>Санкт-Петербург</td>\n",
       "      <td>21741.0</td>\n",
       "      <td>13933.0</td>\n",
       "      <td>1.0</td>\n",
       "      <td>90.0</td>\n",
       "      <td>2.0</td>\n",
       "      <td>574.0</td>\n",
       "      <td>558.0</td>\n",
       "    </tr>\n",
       "    <tr>\n",
       "      <th>3</th>\n",
       "      <td>0</td>\n",
       "      <td>64900000.0</td>\n",
       "      <td>159.00</td>\n",
       "      <td>2015-07-24T00:00:00</td>\n",
       "      <td>3</td>\n",
       "      <td>NaN</td>\n",
       "      <td>14.0</td>\n",
       "      <td>NaN</td>\n",
       "      <td>9</td>\n",
       "      <td>NaN</td>\n",
       "      <td>...</td>\n",
       "      <td>NaN</td>\n",
       "      <td>0.0</td>\n",
       "      <td>Санкт-Петербург</td>\n",
       "      <td>28098.0</td>\n",
       "      <td>6800.0</td>\n",
       "      <td>2.0</td>\n",
       "      <td>84.0</td>\n",
       "      <td>3.0</td>\n",
       "      <td>234.0</td>\n",
       "      <td>424.0</td>\n",
       "    </tr>\n",
       "    <tr>\n",
       "      <th>4</th>\n",
       "      <td>2</td>\n",
       "      <td>10000000.0</td>\n",
       "      <td>100.00</td>\n",
       "      <td>2018-06-19T00:00:00</td>\n",
       "      <td>2</td>\n",
       "      <td>3.03</td>\n",
       "      <td>14.0</td>\n",
       "      <td>32.00</td>\n",
       "      <td>13</td>\n",
       "      <td>NaN</td>\n",
       "      <td>...</td>\n",
       "      <td>41.00</td>\n",
       "      <td>NaN</td>\n",
       "      <td>Санкт-Петербург</td>\n",
       "      <td>31856.0</td>\n",
       "      <td>8098.0</td>\n",
       "      <td>2.0</td>\n",
       "      <td>112.0</td>\n",
       "      <td>1.0</td>\n",
       "      <td>48.0</td>\n",
       "      <td>121.0</td>\n",
       "    </tr>\n",
       "    <tr>\n",
       "      <th>5</th>\n",
       "      <td>10</td>\n",
       "      <td>2890000.0</td>\n",
       "      <td>30.40</td>\n",
       "      <td>2018-09-10T00:00:00</td>\n",
       "      <td>1</td>\n",
       "      <td>NaN</td>\n",
       "      <td>12.0</td>\n",
       "      <td>14.40</td>\n",
       "      <td>5</td>\n",
       "      <td>NaN</td>\n",
       "      <td>...</td>\n",
       "      <td>9.10</td>\n",
       "      <td>NaN</td>\n",
       "      <td>городской посёлок Янино-1</td>\n",
       "      <td>NaN</td>\n",
       "      <td>NaN</td>\n",
       "      <td>NaN</td>\n",
       "      <td>NaN</td>\n",
       "      <td>NaN</td>\n",
       "      <td>NaN</td>\n",
       "      <td>55.0</td>\n",
       "    </tr>\n",
       "    <tr>\n",
       "      <th>6</th>\n",
       "      <td>6</td>\n",
       "      <td>3700000.0</td>\n",
       "      <td>37.30</td>\n",
       "      <td>2017-11-02T00:00:00</td>\n",
       "      <td>1</td>\n",
       "      <td>NaN</td>\n",
       "      <td>26.0</td>\n",
       "      <td>10.60</td>\n",
       "      <td>6</td>\n",
       "      <td>NaN</td>\n",
       "      <td>...</td>\n",
       "      <td>14.40</td>\n",
       "      <td>1.0</td>\n",
       "      <td>посёлок Парголово</td>\n",
       "      <td>52996.0</td>\n",
       "      <td>19143.0</td>\n",
       "      <td>0.0</td>\n",
       "      <td>NaN</td>\n",
       "      <td>0.0</td>\n",
       "      <td>NaN</td>\n",
       "      <td>155.0</td>\n",
       "    </tr>\n",
       "    <tr>\n",
       "      <th>7</th>\n",
       "      <td>5</td>\n",
       "      <td>7915000.0</td>\n",
       "      <td>71.60</td>\n",
       "      <td>2019-04-18T00:00:00</td>\n",
       "      <td>2</td>\n",
       "      <td>NaN</td>\n",
       "      <td>24.0</td>\n",
       "      <td>NaN</td>\n",
       "      <td>22</td>\n",
       "      <td>NaN</td>\n",
       "      <td>...</td>\n",
       "      <td>18.90</td>\n",
       "      <td>2.0</td>\n",
       "      <td>Санкт-Петербург</td>\n",
       "      <td>23982.0</td>\n",
       "      <td>11634.0</td>\n",
       "      <td>0.0</td>\n",
       "      <td>NaN</td>\n",
       "      <td>0.0</td>\n",
       "      <td>NaN</td>\n",
       "      <td>NaN</td>\n",
       "    </tr>\n",
       "    <tr>\n",
       "      <th>8</th>\n",
       "      <td>20</td>\n",
       "      <td>2900000.0</td>\n",
       "      <td>33.16</td>\n",
       "      <td>2018-05-23T00:00:00</td>\n",
       "      <td>1</td>\n",
       "      <td>NaN</td>\n",
       "      <td>27.0</td>\n",
       "      <td>15.43</td>\n",
       "      <td>26</td>\n",
       "      <td>NaN</td>\n",
       "      <td>...</td>\n",
       "      <td>8.81</td>\n",
       "      <td>NaN</td>\n",
       "      <td>посёлок Мурино</td>\n",
       "      <td>NaN</td>\n",
       "      <td>NaN</td>\n",
       "      <td>NaN</td>\n",
       "      <td>NaN</td>\n",
       "      <td>NaN</td>\n",
       "      <td>NaN</td>\n",
       "      <td>189.0</td>\n",
       "    </tr>\n",
       "    <tr>\n",
       "      <th>9</th>\n",
       "      <td>18</td>\n",
       "      <td>5400000.0</td>\n",
       "      <td>61.00</td>\n",
       "      <td>2017-02-26T00:00:00</td>\n",
       "      <td>3</td>\n",
       "      <td>2.50</td>\n",
       "      <td>9.0</td>\n",
       "      <td>43.60</td>\n",
       "      <td>7</td>\n",
       "      <td>NaN</td>\n",
       "      <td>...</td>\n",
       "      <td>6.50</td>\n",
       "      <td>2.0</td>\n",
       "      <td>Санкт-Петербург</td>\n",
       "      <td>50898.0</td>\n",
       "      <td>15008.0</td>\n",
       "      <td>0.0</td>\n",
       "      <td>NaN</td>\n",
       "      <td>0.0</td>\n",
       "      <td>NaN</td>\n",
       "      <td>289.0</td>\n",
       "    </tr>\n",
       "  </tbody>\n",
       "</table>\n",
       "<p>10 rows × 22 columns</p>\n",
       "</div>"
      ],
      "text/plain": [
       "   total_images  last_price  total_area first_day_exposition  rooms  \\\n",
       "0            20  13000000.0      108.00  2019-03-07T00:00:00      3   \n",
       "1             7   3350000.0       40.40  2018-12-04T00:00:00      1   \n",
       "2            10   5196000.0       56.00  2015-08-20T00:00:00      2   \n",
       "3             0  64900000.0      159.00  2015-07-24T00:00:00      3   \n",
       "4             2  10000000.0      100.00  2018-06-19T00:00:00      2   \n",
       "5            10   2890000.0       30.40  2018-09-10T00:00:00      1   \n",
       "6             6   3700000.0       37.30  2017-11-02T00:00:00      1   \n",
       "7             5   7915000.0       71.60  2019-04-18T00:00:00      2   \n",
       "8            20   2900000.0       33.16  2018-05-23T00:00:00      1   \n",
       "9            18   5400000.0       61.00  2017-02-26T00:00:00      3   \n",
       "\n",
       "   ceiling_height  floors_total  living_area  floor is_apartment  ...  \\\n",
       "0            2.70          16.0        51.00      8          NaN  ...   \n",
       "1             NaN          11.0        18.60      1          NaN  ...   \n",
       "2             NaN           5.0        34.30      4          NaN  ...   \n",
       "3             NaN          14.0          NaN      9          NaN  ...   \n",
       "4            3.03          14.0        32.00     13          NaN  ...   \n",
       "5             NaN          12.0        14.40      5          NaN  ...   \n",
       "6             NaN          26.0        10.60      6          NaN  ...   \n",
       "7             NaN          24.0          NaN     22          NaN  ...   \n",
       "8             NaN          27.0        15.43     26          NaN  ...   \n",
       "9            2.50           9.0        43.60      7          NaN  ...   \n",
       "\n",
       "   kitchen_area  balcony              locality_name  airports_nearest  \\\n",
       "0         25.00      NaN            Санкт-Петербург           18863.0   \n",
       "1         11.00      2.0             посёлок Шушары           12817.0   \n",
       "2          8.30      0.0            Санкт-Петербург           21741.0   \n",
       "3           NaN      0.0            Санкт-Петербург           28098.0   \n",
       "4         41.00      NaN            Санкт-Петербург           31856.0   \n",
       "5          9.10      NaN  городской посёлок Янино-1               NaN   \n",
       "6         14.40      1.0          посёлок Парголово           52996.0   \n",
       "7         18.90      2.0            Санкт-Петербург           23982.0   \n",
       "8          8.81      NaN             посёлок Мурино               NaN   \n",
       "9          6.50      2.0            Санкт-Петербург           50898.0   \n",
       "\n",
       "  cityCenters_nearest  parks_around3000  parks_nearest  ponds_around3000  \\\n",
       "0             16028.0               1.0          482.0               2.0   \n",
       "1             18603.0               0.0            NaN               0.0   \n",
       "2             13933.0               1.0           90.0               2.0   \n",
       "3              6800.0               2.0           84.0               3.0   \n",
       "4              8098.0               2.0          112.0               1.0   \n",
       "5                 NaN               NaN            NaN               NaN   \n",
       "6             19143.0               0.0            NaN               0.0   \n",
       "7             11634.0               0.0            NaN               0.0   \n",
       "8                 NaN               NaN            NaN               NaN   \n",
       "9             15008.0               0.0            NaN               0.0   \n",
       "\n",
       "   ponds_nearest  days_exposition  \n",
       "0          755.0              NaN  \n",
       "1            NaN             81.0  \n",
       "2          574.0            558.0  \n",
       "3          234.0            424.0  \n",
       "4           48.0            121.0  \n",
       "5            NaN             55.0  \n",
       "6            NaN            155.0  \n",
       "7            NaN              NaN  \n",
       "8            NaN            189.0  \n",
       "9            NaN            289.0  \n",
       "\n",
       "[10 rows x 22 columns]"
      ]
     },
     "execution_count": 2,
     "metadata": {},
     "output_type": "execute_result"
    }
   ],
   "source": [
    "# откроем файл с данными и выведем первые 10 строк\n",
    "try:\n",
    "    data = pd.read_csv('/datasets/real_estate_data.csv', sep='\\t')\n",
    "except:\n",
    "    data = pd.read_csv('https://code.s3.yandex.net/datasets/real_estate_data.csv', sep='\\t')\n",
    "data.head(10)"
   ]
  },
  {
   "cell_type": "code",
   "execution_count": 3,
   "metadata": {
    "scrolled": false
   },
   "outputs": [
    {
     "name": "stdout",
     "output_type": "stream",
     "text": [
      "<class 'pandas.core.frame.DataFrame'>\n",
      "RangeIndex: 23699 entries, 0 to 23698\n",
      "Data columns (total 22 columns):\n",
      " #   Column                Non-Null Count  Dtype  \n",
      "---  ------                --------------  -----  \n",
      " 0   total_images          23699 non-null  int64  \n",
      " 1   last_price            23699 non-null  float64\n",
      " 2   total_area            23699 non-null  float64\n",
      " 3   first_day_exposition  23699 non-null  object \n",
      " 4   rooms                 23699 non-null  int64  \n",
      " 5   ceiling_height        14504 non-null  float64\n",
      " 6   floors_total          23613 non-null  float64\n",
      " 7   living_area           21796 non-null  float64\n",
      " 8   floor                 23699 non-null  int64  \n",
      " 9   is_apartment          2775 non-null   object \n",
      " 10  studio                23699 non-null  bool   \n",
      " 11  open_plan             23699 non-null  bool   \n",
      " 12  kitchen_area          21421 non-null  float64\n",
      " 13  balcony               12180 non-null  float64\n",
      " 14  locality_name         23650 non-null  object \n",
      " 15  airports_nearest      18157 non-null  float64\n",
      " 16  cityCenters_nearest   18180 non-null  float64\n",
      " 17  parks_around3000      18181 non-null  float64\n",
      " 18  parks_nearest         8079 non-null   float64\n",
      " 19  ponds_around3000      18181 non-null  float64\n",
      " 20  ponds_nearest         9110 non-null   float64\n",
      " 21  days_exposition       20518 non-null  float64\n",
      "dtypes: bool(2), float64(14), int64(3), object(3)\n",
      "memory usage: 3.7+ MB\n"
     ]
    },
    {
     "data": {
      "text/plain": [
       "is_apartment            88.3\n",
       "parks_nearest           65.9\n",
       "ponds_nearest           61.6\n",
       "balcony                 48.6\n",
       "ceiling_height          38.8\n",
       "airports_nearest        23.4\n",
       "cityCenters_nearest     23.3\n",
       "ponds_around3000        23.3\n",
       "parks_around3000        23.3\n",
       "days_exposition         13.4\n",
       "kitchen_area             9.6\n",
       "living_area              8.0\n",
       "floors_total             0.4\n",
       "locality_name            0.2\n",
       "total_images             0.0\n",
       "last_price               0.0\n",
       "studio                   0.0\n",
       "floor                    0.0\n",
       "rooms                    0.0\n",
       "first_day_exposition     0.0\n",
       "total_area               0.0\n",
       "open_plan                0.0\n",
       "dtype: float64"
      ]
     },
     "execution_count": 3,
     "metadata": {},
     "output_type": "execute_result"
    }
   ],
   "source": [
    "data.info() # изучим основноую информацию о датасете\n",
    "percent_of_null = (data.isna().sum()/len(data)*100).sort_values(ascending=False).round(1) # смотрим сколько пропусков в столбцах в процентах(округлим до одного знака после запятой)\n",
    "percent_of_null"
   ]
  },
  {
   "cell_type": "code",
   "execution_count": 4,
   "metadata": {},
   "outputs": [],
   "source": [
    "# check\n",
    "# пропущенные значения бары\n",
    "\n",
    "def pass_value_barh(df):\n",
    "    try:\n",
    "        (\n",
    "            (df.isna().mean()*100)\n",
    "            .to_frame()\n",
    "            .rename(columns = {0:'space'})\n",
    "            .query('space > 0')\n",
    "            .sort_values(by = 'space', ascending = True)\n",
    "            .plot(kind= 'barh', figsize=(19,6), rot = -5, legend = False, fontsize = 16)\n",
    "            .set_title('Пример' + \"\\n\", fontsize = 22, color = 'SteelBlue')    \n",
    "        );    \n",
    "    except:\n",
    "        print('пропусков не осталось :) ')"
   ]
  },
  {
   "cell_type": "markdown",
   "metadata": {},
   "source": [
    "По этим гистограмам пока мало что понятно, дальше более глубже изучим нужные нам столбцы"
   ]
  },
  {
   "cell_type": "code",
   "execution_count": 5,
   "metadata": {},
   "outputs": [
    {
     "data": {
      "image/png": "[encoded data removed]",
      "text/plain": [
       "<Figure size 1080x1440 with 20 Axes>"
      ]
     },
     "metadata": {
      "needs_background": "light"
     },
     "output_type": "display_data"
    }
   ],
   "source": [
    "data.hist(figsize=(15, 20)); # Строим общую гистограмму для всех столбцов таблицы"
   ]
  },
  {
   "cell_type": "markdown",
   "metadata": {},
   "source": [
    "### Вывод 1.\n",
    "Замечаем, что есть много пропусков  \n",
    "Можно выделить анти-топ 5 столбцов с максимальным значением пропусков  \n",
    "\n",
    "<b>is_apartment</b> - 88.3%. Можно предположить, что при добавлении объявления, пользователи, которые добавляли именно квартиру просто не указывали данный параметр, тк не все понимают разницу между квартирой и аппартаментами, владельцы аппартов как раз указывали тип, тк им эта разница как раз-таки ясна. Позже посмотрим, что будем делать с этими пропусками, изучив заполненные значения, но думаю, что будет логично заполнить их значением 0  \n",
    "<b>parks_nearest и ponds_nearest</b> - 65.9% и 61.6%. Данные о близлежащих парках и водоемах возможно по каким-то причинам не были выгружены системой. Имеяя ввиду, что это не критически важные параметры, и тот факт, что заполнить мы их приближенно к реальности никак не сможем - можно оставить эти пропуски, сделав анализ на основе имеющихся данных  \n",
    "<b>balcony</b> - 48.6%. Данные пропуски можно объяснить тем, что если не указано значение, значит балкон впринципе отсутствует. Нужно проверить заполненные значения  \n",
    "<b>ceiling_height</b> - 38.8%. Есть подозрение, что многие попросту не знают высоту потолков в своих квартирах, и поэтому решили пропустить этот параметр. Подумаем, какими значениями можно будет заполнить эти пропуски дальше  \n",
    "\n",
    "По другим пропускам можно тоже сделать предположения:  \n",
    "<b>airports_nearest и cityCenters_nearest</b> возможно не были выгружены системой из-за того, что расстояние до пунктов было ограничено каким то небольшим радиусом, так как адекватно заполнить не получится, думаю, что мы оставим эти пропуски как есть  \n",
    "<b>ponds_around3000 и parks_around3000</b> по аналогии с <b>parks_nearest и ponds_nearest</b> пропустим эти пустоты  \n",
    "<b>days_exposition</b> здесь пропуски возможно присутствуют из-за того, что сделка возможно была совершена, но объявление не было закрыто на сайте  \n",
    "<b>kitchen_area, living_area</b> возможно эти данные пропущены, тк не были обязательны к заполнению  \n",
    "то же самое и с <b>floors_total</b>  \n",
    "в <b>locality_name</b> есть небольшой процент пропусков, возможно данные пользователи не заполняли данные, тк думали, что их город стоит по умолчанию, пропустим эти значения, тк процент незаполненных данных ничтожно мал\n",
    "\n"
   ]
  },
  {
   "cell_type": "markdown",
   "metadata": {},
   "source": [
    "### Предобработка данных"
   ]
  },
  {
   "cell_type": "markdown",
   "metadata": {},
   "source": [
    "#### Заполним пропуски  \n",
    "<b>is_apartment:</b>"
   ]
  },
  {
   "cell_type": "code",
   "execution_count": 6,
   "metadata": {},
   "outputs": [
    {
     "data": {
      "text/plain": [
       "False    23699\n",
       "Name: is_apartment, dtype: int64"
      ]
     },
     "execution_count": 6,
     "metadata": {},
     "output_type": "execute_result"
    }
   ],
   "source": [
    "data['is_apartment'] = data['is_apartment'].fillna(False)# Заполним пустые значения параметром False  \n",
    "data['is_apartment'].isnull().value_counts()"
   ]
  },
  {
   "cell_type": "markdown",
   "metadata": {},
   "source": [
    "Значений с аппартаментами очень мало, но возможно это связано с тем, что датасет старенький и на тот момент было реально малое количество таких позиций на рынке"
   ]
  },
  {
   "cell_type": "markdown",
   "metadata": {},
   "source": [
    "<b>parks_nearest и ponds_nearest</b> и <b>ponds_around3000 и parks_around3000</b> трогать не будем"
   ]
  },
  {
   "cell_type": "markdown",
   "metadata": {},
   "source": [
    "<b>balcony:</b> пустые значения заполним нулями"
   ]
  },
  {
   "cell_type": "code",
   "execution_count": 7,
   "metadata": {},
   "outputs": [
    {
     "data": {
      "text/plain": [
       "False    23699\n",
       "Name: balcony, dtype: int64"
      ]
     },
     "execution_count": 7,
     "metadata": {},
     "output_type": "execute_result"
    }
   ],
   "source": [
    "data['balcony'] = data['balcony'].fillna(0)\n",
    "data['balcony'].isnull().value_counts()"
   ]
  },
  {
   "cell_type": "markdown",
   "metadata": {},
   "source": [
    "<b>ceiling_height:</b> Изучим высоту потолков в квартирах"
   ]
  },
  {
   "cell_type": "code",
   "execution_count": 8,
   "metadata": {},
   "outputs": [
    {
     "name": "stdout",
     "output_type": "stream",
     "text": [
      "1.5902618088658058\n"
     ]
    },
    {
     "data": {
      "text/html": [
       "<div>\n",
       "<style scoped>\n",
       "    .dataframe tbody tr th:only-of-type {\n",
       "        vertical-align: middle;\n",
       "    }\n",
       "\n",
       "    .dataframe tbody tr th {\n",
       "        vertical-align: top;\n",
       "    }\n",
       "\n",
       "    .dataframe thead th {\n",
       "        text-align: right;\n",
       "    }\n",
       "</style>\n",
       "<table border=\"1\" class=\"dataframe\">\n",
       "  <thead>\n",
       "    <tr style=\"text-align: right;\">\n",
       "      <th></th>\n",
       "      <th>total_images</th>\n",
       "      <th>last_price</th>\n",
       "      <th>total_area</th>\n",
       "      <th>rooms</th>\n",
       "      <th>ceiling_height</th>\n",
       "      <th>floors_total</th>\n",
       "      <th>living_area</th>\n",
       "      <th>floor</th>\n",
       "      <th>is_apartment</th>\n",
       "      <th>studio</th>\n",
       "      <th>open_plan</th>\n",
       "      <th>kitchen_area</th>\n",
       "      <th>balcony</th>\n",
       "      <th>airports_nearest</th>\n",
       "      <th>cityCenters_nearest</th>\n",
       "      <th>parks_around3000</th>\n",
       "      <th>parks_nearest</th>\n",
       "      <th>ponds_around3000</th>\n",
       "      <th>ponds_nearest</th>\n",
       "      <th>days_exposition</th>\n",
       "    </tr>\n",
       "  </thead>\n",
       "  <tbody>\n",
       "    <tr>\n",
       "      <th>total_images</th>\n",
       "      <td>1.000000</td>\n",
       "      <td>0.104473</td>\n",
       "      <td>0.115352</td>\n",
       "      <td>0.099288</td>\n",
       "      <td>-0.001987</td>\n",
       "      <td>0.010427</td>\n",
       "      <td>0.104780</td>\n",
       "      <td>0.031340</td>\n",
       "      <td>0.010532</td>\n",
       "      <td>-0.029303</td>\n",
       "      <td>-0.024407</td>\n",
       "      <td>0.104756</td>\n",
       "      <td>0.048903</td>\n",
       "      <td>-0.002298</td>\n",
       "      <td>-0.047666</td>\n",
       "      <td>0.021120</td>\n",
       "      <td>-0.008347</td>\n",
       "      <td>-0.011553</td>\n",
       "      <td>-0.003034</td>\n",
       "      <td>-0.026657</td>\n",
       "    </tr>\n",
       "    <tr>\n",
       "      <th>last_price</th>\n",
       "      <td>0.104473</td>\n",
       "      <td>1.000000</td>\n",
       "      <td>0.653675</td>\n",
       "      <td>0.363343</td>\n",
       "      <td>0.085430</td>\n",
       "      <td>-0.006984</td>\n",
       "      <td>0.566492</td>\n",
       "      <td>0.026576</td>\n",
       "      <td>0.026958</td>\n",
       "      <td>-0.025362</td>\n",
       "      <td>-0.008802</td>\n",
       "      <td>0.519869</td>\n",
       "      <td>0.008559</td>\n",
       "      <td>-0.026239</td>\n",
       "      <td>-0.206747</td>\n",
       "      <td>0.151058</td>\n",
       "      <td>-0.016414</td>\n",
       "      <td>0.159996</td>\n",
       "      <td>-0.084809</td>\n",
       "      <td>0.081146</td>\n",
       "    </tr>\n",
       "    <tr>\n",
       "      <th>total_area</th>\n",
       "      <td>0.115352</td>\n",
       "      <td>0.653675</td>\n",
       "      <td>1.000000</td>\n",
       "      <td>0.758344</td>\n",
       "      <td>0.095490</td>\n",
       "      <td>-0.075774</td>\n",
       "      <td>0.939537</td>\n",
       "      <td>-0.024754</td>\n",
       "      <td>0.029633</td>\n",
       "      <td>-0.072653</td>\n",
       "      <td>-0.034885</td>\n",
       "      <td>0.609121</td>\n",
       "      <td>0.009941</td>\n",
       "      <td>-0.030753</td>\n",
       "      <td>-0.231446</td>\n",
       "      <td>0.164689</td>\n",
       "      <td>-0.021497</td>\n",
       "      <td>0.162346</td>\n",
       "      <td>-0.097969</td>\n",
       "      <td>0.149675</td>\n",
       "    </tr>\n",
       "    <tr>\n",
       "      <th>rooms</th>\n",
       "      <td>0.099288</td>\n",
       "      <td>0.363343</td>\n",
       "      <td>0.758344</td>\n",
       "      <td>1.000000</td>\n",
       "      <td>0.054457</td>\n",
       "      <td>-0.228215</td>\n",
       "      <td>0.845977</td>\n",
       "      <td>-0.150862</td>\n",
       "      <td>0.000399</td>\n",
       "      <td>-0.147286</td>\n",
       "      <td>-0.087500</td>\n",
       "      <td>0.269945</td>\n",
       "      <td>-0.015519</td>\n",
       "      <td>-0.061199</td>\n",
       "      <td>-0.184864</td>\n",
       "      <td>0.137257</td>\n",
       "      <td>-0.054549</td>\n",
       "      <td>0.092693</td>\n",
       "      <td>-0.057689</td>\n",
       "      <td>0.126961</td>\n",
       "    </tr>\n",
       "    <tr>\n",
       "      <th>ceiling_height</th>\n",
       "      <td>-0.001987</td>\n",
       "      <td>0.085430</td>\n",
       "      <td>0.095490</td>\n",
       "      <td>0.054457</td>\n",
       "      <td>1.000000</td>\n",
       "      <td>-0.028732</td>\n",
       "      <td>0.090650</td>\n",
       "      <td>-0.011798</td>\n",
       "      <td>0.154959</td>\n",
       "      <td>0.001674</td>\n",
       "      <td>0.042777</td>\n",
       "      <td>0.087641</td>\n",
       "      <td>0.031216</td>\n",
       "      <td>-0.023947</td>\n",
       "      <td>-0.091689</td>\n",
       "      <td>0.065915</td>\n",
       "      <td>-0.019167</td>\n",
       "      <td>0.078209</td>\n",
       "      <td>-0.059090</td>\n",
       "      <td>0.019091</td>\n",
       "    </tr>\n",
       "    <tr>\n",
       "      <th>floors_total</th>\n",
       "      <td>0.010427</td>\n",
       "      <td>-0.006984</td>\n",
       "      <td>-0.075774</td>\n",
       "      <td>-0.228215</td>\n",
       "      <td>-0.028732</td>\n",
       "      <td>1.000000</td>\n",
       "      <td>-0.169311</td>\n",
       "      <td>0.678059</td>\n",
       "      <td>-0.026351</td>\n",
       "      <td>0.070151</td>\n",
       "      <td>0.050791</td>\n",
       "      <td>0.163944</td>\n",
       "      <td>0.172812</td>\n",
       "      <td>0.108288</td>\n",
       "      <td>0.019774</td>\n",
       "      <td>-0.252833</td>\n",
       "      <td>0.097527</td>\n",
       "      <td>-0.122735</td>\n",
       "      <td>0.038864</td>\n",
       "      <td>-0.052234</td>\n",
       "    </tr>\n",
       "    <tr>\n",
       "      <th>living_area</th>\n",
       "      <td>0.104780</td>\n",
       "      <td>0.566492</td>\n",
       "      <td>0.939537</td>\n",
       "      <td>0.845977</td>\n",
       "      <td>0.090650</td>\n",
       "      <td>-0.169311</td>\n",
       "      <td>1.000000</td>\n",
       "      <td>-0.097210</td>\n",
       "      <td>0.026969</td>\n",
       "      <td>-0.056231</td>\n",
       "      <td>-0.033711</td>\n",
       "      <td>0.428674</td>\n",
       "      <td>-0.014772</td>\n",
       "      <td>-0.057912</td>\n",
       "      <td>-0.231368</td>\n",
       "      <td>0.184453</td>\n",
       "      <td>-0.050167</td>\n",
       "      <td>0.148933</td>\n",
       "      <td>-0.081674</td>\n",
       "      <td>0.142454</td>\n",
       "    </tr>\n",
       "    <tr>\n",
       "      <th>floor</th>\n",
       "      <td>0.031340</td>\n",
       "      <td>0.026576</td>\n",
       "      <td>-0.024754</td>\n",
       "      <td>-0.150862</td>\n",
       "      <td>-0.011798</td>\n",
       "      <td>0.678059</td>\n",
       "      <td>-0.097210</td>\n",
       "      <td>1.000000</td>\n",
       "      <td>-0.013294</td>\n",
       "      <td>0.036940</td>\n",
       "      <td>0.035824</td>\n",
       "      <td>0.135531</td>\n",
       "      <td>0.168567</td>\n",
       "      <td>0.071597</td>\n",
       "      <td>0.009084</td>\n",
       "      <td>-0.163784</td>\n",
       "      <td>0.073045</td>\n",
       "      <td>-0.076312</td>\n",
       "      <td>0.024850</td>\n",
       "      <td>-0.039463</td>\n",
       "    </tr>\n",
       "    <tr>\n",
       "      <th>is_apartment</th>\n",
       "      <td>0.010532</td>\n",
       "      <td>0.026958</td>\n",
       "      <td>0.029633</td>\n",
       "      <td>0.000399</td>\n",
       "      <td>0.154959</td>\n",
       "      <td>-0.026351</td>\n",
       "      <td>0.026969</td>\n",
       "      <td>-0.013294</td>\n",
       "      <td>1.000000</td>\n",
       "      <td>-0.003657</td>\n",
       "      <td>-0.002448</td>\n",
       "      <td>0.049034</td>\n",
       "      <td>0.033022</td>\n",
       "      <td>0.016470</td>\n",
       "      <td>0.003732</td>\n",
       "      <td>0.020767</td>\n",
       "      <td>-0.033410</td>\n",
       "      <td>0.023989</td>\n",
       "      <td>0.003357</td>\n",
       "      <td>0.015262</td>\n",
       "    </tr>\n",
       "    <tr>\n",
       "      <th>studio</th>\n",
       "      <td>-0.029303</td>\n",
       "      <td>-0.025362</td>\n",
       "      <td>-0.072653</td>\n",
       "      <td>-0.147286</td>\n",
       "      <td>0.001674</td>\n",
       "      <td>0.070151</td>\n",
       "      <td>-0.056231</td>\n",
       "      <td>0.036940</td>\n",
       "      <td>-0.003657</td>\n",
       "      <td>1.000000</td>\n",
       "      <td>-0.004235</td>\n",
       "      <td>NaN</td>\n",
       "      <td>0.028899</td>\n",
       "      <td>-0.021876</td>\n",
       "      <td>-0.007029</td>\n",
       "      <td>-0.030202</td>\n",
       "      <td>0.009134</td>\n",
       "      <td>0.000939</td>\n",
       "      <td>0.002606</td>\n",
       "      <td>-0.022476</td>\n",
       "    </tr>\n",
       "    <tr>\n",
       "      <th>open_plan</th>\n",
       "      <td>-0.024407</td>\n",
       "      <td>-0.008802</td>\n",
       "      <td>-0.034885</td>\n",
       "      <td>-0.087500</td>\n",
       "      <td>0.042777</td>\n",
       "      <td>0.050791</td>\n",
       "      <td>-0.033711</td>\n",
       "      <td>0.035824</td>\n",
       "      <td>-0.002448</td>\n",
       "      <td>-0.004235</td>\n",
       "      <td>1.000000</td>\n",
       "      <td>NaN</td>\n",
       "      <td>0.032639</td>\n",
       "      <td>-0.013583</td>\n",
       "      <td>-0.004204</td>\n",
       "      <td>-0.010077</td>\n",
       "      <td>0.010612</td>\n",
       "      <td>0.008455</td>\n",
       "      <td>-0.003328</td>\n",
       "      <td>-0.024112</td>\n",
       "    </tr>\n",
       "    <tr>\n",
       "      <th>kitchen_area</th>\n",
       "      <td>0.104756</td>\n",
       "      <td>0.519869</td>\n",
       "      <td>0.609121</td>\n",
       "      <td>0.269945</td>\n",
       "      <td>0.087641</td>\n",
       "      <td>0.163944</td>\n",
       "      <td>0.428674</td>\n",
       "      <td>0.135531</td>\n",
       "      <td>0.049034</td>\n",
       "      <td>NaN</td>\n",
       "      <td>NaN</td>\n",
       "      <td>1.000000</td>\n",
       "      <td>0.045271</td>\n",
       "      <td>0.008200</td>\n",
       "      <td>-0.190049</td>\n",
       "      <td>0.087503</td>\n",
       "      <td>0.029641</td>\n",
       "      <td>0.150148</td>\n",
       "      <td>-0.105223</td>\n",
       "      <td>0.100586</td>\n",
       "    </tr>\n",
       "    <tr>\n",
       "      <th>balcony</th>\n",
       "      <td>0.048903</td>\n",
       "      <td>0.008559</td>\n",
       "      <td>0.009941</td>\n",
       "      <td>-0.015519</td>\n",
       "      <td>0.031216</td>\n",
       "      <td>0.172812</td>\n",
       "      <td>-0.014772</td>\n",
       "      <td>0.168567</td>\n",
       "      <td>0.033022</td>\n",
       "      <td>0.028899</td>\n",
       "      <td>0.032639</td>\n",
       "      <td>0.045271</td>\n",
       "      <td>1.000000</td>\n",
       "      <td>0.048984</td>\n",
       "      <td>0.065050</td>\n",
       "      <td>-0.077777</td>\n",
       "      <td>0.033256</td>\n",
       "      <td>-0.039604</td>\n",
       "      <td>0.020077</td>\n",
       "      <td>-0.027834</td>\n",
       "    </tr>\n",
       "    <tr>\n",
       "      <th>airports_nearest</th>\n",
       "      <td>-0.002298</td>\n",
       "      <td>-0.026239</td>\n",
       "      <td>-0.030753</td>\n",
       "      <td>-0.061199</td>\n",
       "      <td>-0.023947</td>\n",
       "      <td>0.108288</td>\n",
       "      <td>-0.057912</td>\n",
       "      <td>0.071597</td>\n",
       "      <td>0.016470</td>\n",
       "      <td>-0.021876</td>\n",
       "      <td>-0.013583</td>\n",
       "      <td>0.008200</td>\n",
       "      <td>0.048984</td>\n",
       "      <td>1.000000</td>\n",
       "      <td>0.272184</td>\n",
       "      <td>0.000759</td>\n",
       "      <td>-0.070058</td>\n",
       "      <td>-0.049583</td>\n",
       "      <td>0.014049</td>\n",
       "      <td>-0.018271</td>\n",
       "    </tr>\n",
       "    <tr>\n",
       "      <th>cityCenters_nearest</th>\n",
       "      <td>-0.047666</td>\n",
       "      <td>-0.206747</td>\n",
       "      <td>-0.231446</td>\n",
       "      <td>-0.184864</td>\n",
       "      <td>-0.091689</td>\n",
       "      <td>0.019774</td>\n",
       "      <td>-0.231368</td>\n",
       "      <td>0.009084</td>\n",
       "      <td>0.003732</td>\n",
       "      <td>-0.007029</td>\n",
       "      <td>-0.004204</td>\n",
       "      <td>-0.190049</td>\n",
       "      <td>0.065050</td>\n",
       "      <td>0.272184</td>\n",
       "      <td>1.000000</td>\n",
       "      <td>-0.161738</td>\n",
       "      <td>-0.040650</td>\n",
       "      <td>-0.074577</td>\n",
       "      <td>0.028903</td>\n",
       "      <td>-0.060714</td>\n",
       "    </tr>\n",
       "    <tr>\n",
       "      <th>parks_around3000</th>\n",
       "      <td>0.021120</td>\n",
       "      <td>0.151058</td>\n",
       "      <td>0.164689</td>\n",
       "      <td>0.137257</td>\n",
       "      <td>0.065915</td>\n",
       "      <td>-0.252833</td>\n",
       "      <td>0.184453</td>\n",
       "      <td>-0.163784</td>\n",
       "      <td>0.020767</td>\n",
       "      <td>-0.030202</td>\n",
       "      <td>-0.010077</td>\n",
       "      <td>0.087503</td>\n",
       "      <td>-0.077777</td>\n",
       "      <td>0.000759</td>\n",
       "      <td>-0.161738</td>\n",
       "      <td>1.000000</td>\n",
       "      <td>-0.259514</td>\n",
       "      <td>0.304316</td>\n",
       "      <td>-0.167103</td>\n",
       "      <td>0.060491</td>\n",
       "    </tr>\n",
       "    <tr>\n",
       "      <th>parks_nearest</th>\n",
       "      <td>-0.008347</td>\n",
       "      <td>-0.016414</td>\n",
       "      <td>-0.021497</td>\n",
       "      <td>-0.054549</td>\n",
       "      <td>-0.019167</td>\n",
       "      <td>0.097527</td>\n",
       "      <td>-0.050167</td>\n",
       "      <td>0.073045</td>\n",
       "      <td>-0.033410</td>\n",
       "      <td>0.009134</td>\n",
       "      <td>0.010612</td>\n",
       "      <td>0.029641</td>\n",
       "      <td>0.033256</td>\n",
       "      <td>-0.070058</td>\n",
       "      <td>-0.040650</td>\n",
       "      <td>-0.259514</td>\n",
       "      <td>1.000000</td>\n",
       "      <td>0.077280</td>\n",
       "      <td>0.000692</td>\n",
       "      <td>0.023254</td>\n",
       "    </tr>\n",
       "    <tr>\n",
       "      <th>ponds_around3000</th>\n",
       "      <td>-0.011553</td>\n",
       "      <td>0.159996</td>\n",
       "      <td>0.162346</td>\n",
       "      <td>0.092693</td>\n",
       "      <td>0.078209</td>\n",
       "      <td>-0.122735</td>\n",
       "      <td>0.148933</td>\n",
       "      <td>-0.076312</td>\n",
       "      <td>0.023989</td>\n",
       "      <td>0.000939</td>\n",
       "      <td>0.008455</td>\n",
       "      <td>0.150148</td>\n",
       "      <td>-0.039604</td>\n",
       "      <td>-0.049583</td>\n",
       "      <td>-0.074577</td>\n",
       "      <td>0.304316</td>\n",
       "      <td>0.077280</td>\n",
       "      <td>1.000000</td>\n",
       "      <td>-0.341840</td>\n",
       "      <td>0.073162</td>\n",
       "    </tr>\n",
       "    <tr>\n",
       "      <th>ponds_nearest</th>\n",
       "      <td>-0.003034</td>\n",
       "      <td>-0.084809</td>\n",
       "      <td>-0.097969</td>\n",
       "      <td>-0.057689</td>\n",
       "      <td>-0.059090</td>\n",
       "      <td>0.038864</td>\n",
       "      <td>-0.081674</td>\n",
       "      <td>0.024850</td>\n",
       "      <td>0.003357</td>\n",
       "      <td>0.002606</td>\n",
       "      <td>-0.003328</td>\n",
       "      <td>-0.105223</td>\n",
       "      <td>0.020077</td>\n",
       "      <td>0.014049</td>\n",
       "      <td>0.028903</td>\n",
       "      <td>-0.167103</td>\n",
       "      <td>0.000692</td>\n",
       "      <td>-0.341840</td>\n",
       "      <td>1.000000</td>\n",
       "      <td>-0.077879</td>\n",
       "    </tr>\n",
       "    <tr>\n",
       "      <th>days_exposition</th>\n",
       "      <td>-0.026657</td>\n",
       "      <td>0.081146</td>\n",
       "      <td>0.149675</td>\n",
       "      <td>0.126961</td>\n",
       "      <td>0.019091</td>\n",
       "      <td>-0.052234</td>\n",
       "      <td>0.142454</td>\n",
       "      <td>-0.039463</td>\n",
       "      <td>0.015262</td>\n",
       "      <td>-0.022476</td>\n",
       "      <td>-0.024112</td>\n",
       "      <td>0.100586</td>\n",
       "      <td>-0.027834</td>\n",
       "      <td>-0.018271</td>\n",
       "      <td>-0.060714</td>\n",
       "      <td>0.060491</td>\n",
       "      <td>0.023254</td>\n",
       "      <td>0.073162</td>\n",
       "      <td>-0.077879</td>\n",
       "      <td>1.000000</td>\n",
       "    </tr>\n",
       "  </tbody>\n",
       "</table>\n",
       "</div>"
      ],
      "text/plain": [
       "                     total_images  last_price  total_area     rooms  \\\n",
       "total_images             1.000000    0.104473    0.115352  0.099288   \n",
       "last_price               0.104473    1.000000    0.653675  0.363343   \n",
       "total_area               0.115352    0.653675    1.000000  0.758344   \n",
       "rooms                    0.099288    0.363343    0.758344  1.000000   \n",
       "ceiling_height          -0.001987    0.085430    0.095490  0.054457   \n",
       "floors_total             0.010427   -0.006984   -0.075774 -0.228215   \n",
       "living_area              0.104780    0.566492    0.939537  0.845977   \n",
       "floor                    0.031340    0.026576   -0.024754 -0.150862   \n",
       "is_apartment             0.010532    0.026958    0.029633  0.000399   \n",
       "studio                  -0.029303   -0.025362   -0.072653 -0.147286   \n",
       "open_plan               -0.024407   -0.008802   -0.034885 -0.087500   \n",
       "kitchen_area             0.104756    0.519869    0.609121  0.269945   \n",
       "balcony                  0.048903    0.008559    0.009941 -0.015519   \n",
       "airports_nearest        -0.002298   -0.026239   -0.030753 -0.061199   \n",
       "cityCenters_nearest     -0.047666   -0.206747   -0.231446 -0.184864   \n",
       "parks_around3000         0.021120    0.151058    0.164689  0.137257   \n",
       "parks_nearest           -0.008347   -0.016414   -0.021497 -0.054549   \n",
       "ponds_around3000        -0.011553    0.159996    0.162346  0.092693   \n",
       "ponds_nearest           -0.003034   -0.084809   -0.097969 -0.057689   \n",
       "days_exposition         -0.026657    0.081146    0.149675  0.126961   \n",
       "\n",
       "                     ceiling_height  floors_total  living_area     floor  \\\n",
       "total_images              -0.001987      0.010427     0.104780  0.031340   \n",
       "last_price                 0.085430     -0.006984     0.566492  0.026576   \n",
       "total_area                 0.095490     -0.075774     0.939537 -0.024754   \n",
       "rooms                      0.054457     -0.228215     0.845977 -0.150862   \n",
       "ceiling_height             1.000000     -0.028732     0.090650 -0.011798   \n",
       "floors_total              -0.028732      1.000000    -0.169311  0.678059   \n",
       "living_area                0.090650     -0.169311     1.000000 -0.097210   \n",
       "floor                     -0.011798      0.678059    -0.097210  1.000000   \n",
       "is_apartment               0.154959     -0.026351     0.026969 -0.013294   \n",
       "studio                     0.001674      0.070151    -0.056231  0.036940   \n",
       "open_plan                  0.042777      0.050791    -0.033711  0.035824   \n",
       "kitchen_area               0.087641      0.163944     0.428674  0.135531   \n",
       "balcony                    0.031216      0.172812    -0.014772  0.168567   \n",
       "airports_nearest          -0.023947      0.108288    -0.057912  0.071597   \n",
       "cityCenters_nearest       -0.091689      0.019774    -0.231368  0.009084   \n",
       "parks_around3000           0.065915     -0.252833     0.184453 -0.163784   \n",
       "parks_nearest             -0.019167      0.097527    -0.050167  0.073045   \n",
       "ponds_around3000           0.078209     -0.122735     0.148933 -0.076312   \n",
       "ponds_nearest             -0.059090      0.038864    -0.081674  0.024850   \n",
       "days_exposition            0.019091     -0.052234     0.142454 -0.039463   \n",
       "\n",
       "                     is_apartment    studio  open_plan  kitchen_area  \\\n",
       "total_images             0.010532 -0.029303  -0.024407      0.104756   \n",
       "last_price               0.026958 -0.025362  -0.008802      0.519869   \n",
       "total_area               0.029633 -0.072653  -0.034885      0.609121   \n",
       "rooms                    0.000399 -0.147286  -0.087500      0.269945   \n",
       "ceiling_height           0.154959  0.001674   0.042777      0.087641   \n",
       "floors_total            -0.026351  0.070151   0.050791      0.163944   \n",
       "living_area              0.026969 -0.056231  -0.033711      0.428674   \n",
       "floor                   -0.013294  0.036940   0.035824      0.135531   \n",
       "is_apartment             1.000000 -0.003657  -0.002448      0.049034   \n",
       "studio                  -0.003657  1.000000  -0.004235           NaN   \n",
       "open_plan               -0.002448 -0.004235   1.000000           NaN   \n",
       "kitchen_area             0.049034       NaN        NaN      1.000000   \n",
       "balcony                  0.033022  0.028899   0.032639      0.045271   \n",
       "airports_nearest         0.016470 -0.021876  -0.013583      0.008200   \n",
       "cityCenters_nearest      0.003732 -0.007029  -0.004204     -0.190049   \n",
       "parks_around3000         0.020767 -0.030202  -0.010077      0.087503   \n",
       "parks_nearest           -0.033410  0.009134   0.010612      0.029641   \n",
       "ponds_around3000         0.023989  0.000939   0.008455      0.150148   \n",
       "ponds_nearest            0.003357  0.002606  -0.003328     -0.105223   \n",
       "days_exposition          0.015262 -0.022476  -0.024112      0.100586   \n",
       "\n",
       "                      balcony  airports_nearest  cityCenters_nearest  \\\n",
       "total_images         0.048903         -0.002298            -0.047666   \n",
       "last_price           0.008559         -0.026239            -0.206747   \n",
       "total_area           0.009941         -0.030753            -0.231446   \n",
       "rooms               -0.015519         -0.061199            -0.184864   \n",
       "ceiling_height       0.031216         -0.023947            -0.091689   \n",
       "floors_total         0.172812          0.108288             0.019774   \n",
       "living_area         -0.014772         -0.057912            -0.231368   \n",
       "floor                0.168567          0.071597             0.009084   \n",
       "is_apartment         0.033022          0.016470             0.003732   \n",
       "studio               0.028899         -0.021876            -0.007029   \n",
       "open_plan            0.032639         -0.013583            -0.004204   \n",
       "kitchen_area         0.045271          0.008200            -0.190049   \n",
       "balcony              1.000000          0.048984             0.065050   \n",
       "airports_nearest     0.048984          1.000000             0.272184   \n",
       "cityCenters_nearest  0.065050          0.272184             1.000000   \n",
       "parks_around3000    -0.077777          0.000759            -0.161738   \n",
       "parks_nearest        0.033256         -0.070058            -0.040650   \n",
       "ponds_around3000    -0.039604         -0.049583            -0.074577   \n",
       "ponds_nearest        0.020077          0.014049             0.028903   \n",
       "days_exposition     -0.027834         -0.018271            -0.060714   \n",
       "\n",
       "                     parks_around3000  parks_nearest  ponds_around3000  \\\n",
       "total_images                 0.021120      -0.008347         -0.011553   \n",
       "last_price                   0.151058      -0.016414          0.159996   \n",
       "total_area                   0.164689      -0.021497          0.162346   \n",
       "rooms                        0.137257      -0.054549          0.092693   \n",
       "ceiling_height               0.065915      -0.019167          0.078209   \n",
       "floors_total                -0.252833       0.097527         -0.122735   \n",
       "living_area                  0.184453      -0.050167          0.148933   \n",
       "floor                       -0.163784       0.073045         -0.076312   \n",
       "is_apartment                 0.020767      -0.033410          0.023989   \n",
       "studio                      -0.030202       0.009134          0.000939   \n",
       "open_plan                   -0.010077       0.010612          0.008455   \n",
       "kitchen_area                 0.087503       0.029641          0.150148   \n",
       "balcony                     -0.077777       0.033256         -0.039604   \n",
       "airports_nearest             0.000759      -0.070058         -0.049583   \n",
       "cityCenters_nearest         -0.161738      -0.040650         -0.074577   \n",
       "parks_around3000             1.000000      -0.259514          0.304316   \n",
       "parks_nearest               -0.259514       1.000000          0.077280   \n",
       "ponds_around3000             0.304316       0.077280          1.000000   \n",
       "ponds_nearest               -0.167103       0.000692         -0.341840   \n",
       "days_exposition              0.060491       0.023254          0.073162   \n",
       "\n",
       "                     ponds_nearest  days_exposition  \n",
       "total_images             -0.003034        -0.026657  \n",
       "last_price               -0.084809         0.081146  \n",
       "total_area               -0.097969         0.149675  \n",
       "rooms                    -0.057689         0.126961  \n",
       "ceiling_height           -0.059090         0.019091  \n",
       "floors_total              0.038864        -0.052234  \n",
       "living_area              -0.081674         0.142454  \n",
       "floor                     0.024850        -0.039463  \n",
       "is_apartment              0.003357         0.015262  \n",
       "studio                    0.002606        -0.022476  \n",
       "open_plan                -0.003328        -0.024112  \n",
       "kitchen_area             -0.105223         0.100586  \n",
       "balcony                   0.020077        -0.027834  \n",
       "airports_nearest          0.014049        -0.018271  \n",
       "cityCenters_nearest       0.028903        -0.060714  \n",
       "parks_around3000         -0.167103         0.060491  \n",
       "parks_nearest             0.000692         0.023254  \n",
       "ponds_around3000         -0.341840         0.073162  \n",
       "ponds_nearest             1.000000        -0.077879  \n",
       "days_exposition          -0.077879         1.000000  "
      ]
     },
     "execution_count": 8,
     "metadata": {},
     "output_type": "execute_result"
    },
    {
     "data": {
      "image/png": "[encoded data removed]",
      "text/plain": [
       "<Figure size 432x288 with 1 Axes>"
      ]
     },
     "metadata": {
      "needs_background": "light"
     },
     "output_type": "display_data"
    }
   ],
   "source": [
    "data['ceiling_height'].sort_values().plot(y = 'ceiling_height', kind = 'hist', bins = 25, range=(2,5))\n",
    "print(data['ceiling_height'].var())\n",
    "data.corr()"
   ]
  },
  {
   "cell_type": "code",
   "execution_count": 9,
   "metadata": {},
   "outputs": [
    {
     "data": {
      "text/plain": [
       "count    14504.000000\n",
       "mean         2.771499\n",
       "std          1.261056\n",
       "min          1.000000\n",
       "25%          2.520000\n",
       "50%          2.650000\n",
       "75%          2.800000\n",
       "max        100.000000\n",
       "Name: ceiling_height, dtype: float64"
      ]
     },
     "execution_count": 9,
     "metadata": {},
     "output_type": "execute_result"
    }
   ],
   "source": [
    "data['ceiling_height'].describe()"
   ]
  },
  {
   "cell_type": "markdown",
   "metadata": {},
   "source": [
    "Разница между средним и медианным значением не существенна, думаю что можно заполнить пустоты медианным значением. Минимальные и максимальные аномальные значения 1м и 100м явно ошибочны, таких потолков не бывет."
   ]
  },
  {
   "cell_type": "code",
   "execution_count": 10,
   "metadata": {},
   "outputs": [
    {
     "name": "stdout",
     "output_type": "stream",
     "text": [
      "0.9767338560068911\n"
     ]
    },
    {
     "data": {
      "text/plain": [
       "count    23699.000000\n",
       "mean         2.724358\n",
       "std          0.988298\n",
       "min          1.000000\n",
       "25%          2.600000\n",
       "50%          2.650000\n",
       "75%          2.700000\n",
       "max        100.000000\n",
       "Name: ceiling_height, dtype: float64"
      ]
     },
     "execution_count": 10,
     "metadata": {},
     "output_type": "execute_result"
    }
   ],
   "source": [
    "data['ceiling_height'].fillna(data['ceiling_height'].median(), inplace=True)\n",
    "data['ceiling_height'].isnull().value_counts()\n",
    "data['ceiling_height'].describe()\n",
    "print(data['ceiling_height'].var())\n",
    "data['ceiling_height'].describe()"
   ]
  },
  {
   "cell_type": "markdown",
   "metadata": {},
   "source": [
    "   Дисперсия снизилась с 1,59 до 0,97, коррреляция высоты потолков ничтожно мала, ко всем другим столбцам, средняя снизилась на 5см."
   ]
  },
  {
   "cell_type": "markdown",
   "metadata": {},
   "source": [
    "<b>kitchen_area, living_area</b>  \n",
    "Заполним пустые значения жилой площади и площади кухни медианным значением отношения к общей площади:"
   ]
  },
  {
   "cell_type": "code",
   "execution_count": 11,
   "metadata": {},
   "outputs": [
    {
     "data": {
      "text/html": [
       "<div>\n",
       "<style scoped>\n",
       "    .dataframe tbody tr th:only-of-type {\n",
       "        vertical-align: middle;\n",
       "    }\n",
       "\n",
       "    .dataframe tbody tr th {\n",
       "        vertical-align: top;\n",
       "    }\n",
       "\n",
       "    .dataframe thead th {\n",
       "        text-align: right;\n",
       "    }\n",
       "</style>\n",
       "<table border=\"1\" class=\"dataframe\">\n",
       "  <thead>\n",
       "    <tr style=\"text-align: right;\">\n",
       "      <th></th>\n",
       "      <th>total_images</th>\n",
       "      <th>last_price</th>\n",
       "      <th>total_area</th>\n",
       "      <th>first_day_exposition</th>\n",
       "      <th>rooms</th>\n",
       "      <th>ceiling_height</th>\n",
       "      <th>floors_total</th>\n",
       "      <th>living_area</th>\n",
       "      <th>floor</th>\n",
       "      <th>is_apartment</th>\n",
       "      <th>...</th>\n",
       "      <th>kitchen_area</th>\n",
       "      <th>balcony</th>\n",
       "      <th>locality_name</th>\n",
       "      <th>airports_nearest</th>\n",
       "      <th>cityCenters_nearest</th>\n",
       "      <th>parks_around3000</th>\n",
       "      <th>parks_nearest</th>\n",
       "      <th>ponds_around3000</th>\n",
       "      <th>ponds_nearest</th>\n",
       "      <th>days_exposition</th>\n",
       "    </tr>\n",
       "  </thead>\n",
       "  <tbody>\n",
       "    <tr>\n",
       "      <th>41</th>\n",
       "      <td>16</td>\n",
       "      <td>7900000.0</td>\n",
       "      <td>74.0</td>\n",
       "      <td>2016-05-04T00:00:00</td>\n",
       "      <td>3</td>\n",
       "      <td>2.65</td>\n",
       "      <td>14.0</td>\n",
       "      <td>59.00</td>\n",
       "      <td>8</td>\n",
       "      <td>False</td>\n",
       "      <td>...</td>\n",
       "      <td>12.0000</td>\n",
       "      <td>5.0</td>\n",
       "      <td>Санкт-Петербург</td>\n",
       "      <td>37715.0</td>\n",
       "      <td>12612.0</td>\n",
       "      <td>1.0</td>\n",
       "      <td>725.0</td>\n",
       "      <td>1.0</td>\n",
       "      <td>759.0</td>\n",
       "      <td>179.0</td>\n",
       "    </tr>\n",
       "    <tr>\n",
       "      <th>171</th>\n",
       "      <td>6</td>\n",
       "      <td>3800000.0</td>\n",
       "      <td>49.0</td>\n",
       "      <td>2019-02-22T00:00:00</td>\n",
       "      <td>2</td>\n",
       "      <td>2.50</td>\n",
       "      <td>9.0</td>\n",
       "      <td>38.00</td>\n",
       "      <td>8</td>\n",
       "      <td>False</td>\n",
       "      <td>...</td>\n",
       "      <td>10.0000</td>\n",
       "      <td>1.0</td>\n",
       "      <td>посёлок Шушары</td>\n",
       "      <td>18471.0</td>\n",
       "      <td>24272.0</td>\n",
       "      <td>0.0</td>\n",
       "      <td>NaN</td>\n",
       "      <td>0.0</td>\n",
       "      <td>NaN</td>\n",
       "      <td>11.0</td>\n",
       "    </tr>\n",
       "    <tr>\n",
       "      <th>184</th>\n",
       "      <td>7</td>\n",
       "      <td>2600000.0</td>\n",
       "      <td>30.2</td>\n",
       "      <td>2018-02-14T00:00:00</td>\n",
       "      <td>1</td>\n",
       "      <td>2.65</td>\n",
       "      <td>9.0</td>\n",
       "      <td>26.10</td>\n",
       "      <td>5</td>\n",
       "      <td>False</td>\n",
       "      <td>...</td>\n",
       "      <td>6.2000</td>\n",
       "      <td>0.0</td>\n",
       "      <td>Санкт-Петербург</td>\n",
       "      <td>13952.0</td>\n",
       "      <td>15031.0</td>\n",
       "      <td>0.0</td>\n",
       "      <td>NaN</td>\n",
       "      <td>1.0</td>\n",
       "      <td>824.0</td>\n",
       "      <td>12.0</td>\n",
       "    </tr>\n",
       "    <tr>\n",
       "      <th>220</th>\n",
       "      <td>8</td>\n",
       "      <td>3890000.0</td>\n",
       "      <td>37.0</td>\n",
       "      <td>2018-07-09T00:00:00</td>\n",
       "      <td>1</td>\n",
       "      <td>2.50</td>\n",
       "      <td>25.0</td>\n",
       "      <td>28.00</td>\n",
       "      <td>6</td>\n",
       "      <td>False</td>\n",
       "      <td>...</td>\n",
       "      <td>9.0000</td>\n",
       "      <td>0.0</td>\n",
       "      <td>Санкт-Петербург</td>\n",
       "      <td>25408.0</td>\n",
       "      <td>16166.0</td>\n",
       "      <td>0.0</td>\n",
       "      <td>NaN</td>\n",
       "      <td>0.0</td>\n",
       "      <td>NaN</td>\n",
       "      <td>28.0</td>\n",
       "    </tr>\n",
       "    <tr>\n",
       "      <th>237</th>\n",
       "      <td>4</td>\n",
       "      <td>2438033.0</td>\n",
       "      <td>28.1</td>\n",
       "      <td>2016-11-23T00:00:00</td>\n",
       "      <td>1</td>\n",
       "      <td>2.65</td>\n",
       "      <td>NaN</td>\n",
       "      <td>20.75</td>\n",
       "      <td>1</td>\n",
       "      <td>False</td>\n",
       "      <td>...</td>\n",
       "      <td>4.9175</td>\n",
       "      <td>0.0</td>\n",
       "      <td>Санкт-Петербург</td>\n",
       "      <td>22041.0</td>\n",
       "      <td>17369.0</td>\n",
       "      <td>0.0</td>\n",
       "      <td>NaN</td>\n",
       "      <td>1.0</td>\n",
       "      <td>374.0</td>\n",
       "      <td>251.0</td>\n",
       "    </tr>\n",
       "    <tr>\n",
       "      <th>...</th>\n",
       "      <td>...</td>\n",
       "      <td>...</td>\n",
       "      <td>...</td>\n",
       "      <td>...</td>\n",
       "      <td>...</td>\n",
       "      <td>...</td>\n",
       "      <td>...</td>\n",
       "      <td>...</td>\n",
       "      <td>...</td>\n",
       "      <td>...</td>\n",
       "      <td>...</td>\n",
       "      <td>...</td>\n",
       "      <td>...</td>\n",
       "      <td>...</td>\n",
       "      <td>...</td>\n",
       "      <td>...</td>\n",
       "      <td>...</td>\n",
       "      <td>...</td>\n",
       "      <td>...</td>\n",
       "      <td>...</td>\n",
       "      <td>...</td>\n",
       "    </tr>\n",
       "    <tr>\n",
       "      <th>23297</th>\n",
       "      <td>10</td>\n",
       "      <td>1850000.0</td>\n",
       "      <td>48.2</td>\n",
       "      <td>2019-03-13T00:00:00</td>\n",
       "      <td>2</td>\n",
       "      <td>2.65</td>\n",
       "      <td>5.0</td>\n",
       "      <td>42.20</td>\n",
       "      <td>2</td>\n",
       "      <td>False</td>\n",
       "      <td>...</td>\n",
       "      <td>6.0000</td>\n",
       "      <td>1.0</td>\n",
       "      <td>Высоцк</td>\n",
       "      <td>NaN</td>\n",
       "      <td>NaN</td>\n",
       "      <td>NaN</td>\n",
       "      <td>NaN</td>\n",
       "      <td>NaN</td>\n",
       "      <td>NaN</td>\n",
       "      <td>45.0</td>\n",
       "    </tr>\n",
       "    <tr>\n",
       "      <th>23328</th>\n",
       "      <td>12</td>\n",
       "      <td>4299000.0</td>\n",
       "      <td>54.0</td>\n",
       "      <td>2016-11-25T00:00:00</td>\n",
       "      <td>2</td>\n",
       "      <td>2.65</td>\n",
       "      <td>14.0</td>\n",
       "      <td>40.00</td>\n",
       "      <td>8</td>\n",
       "      <td>False</td>\n",
       "      <td>...</td>\n",
       "      <td>10.0000</td>\n",
       "      <td>0.0</td>\n",
       "      <td>Колпино</td>\n",
       "      <td>25612.0</td>\n",
       "      <td>31399.0</td>\n",
       "      <td>0.0</td>\n",
       "      <td>NaN</td>\n",
       "      <td>0.0</td>\n",
       "      <td>NaN</td>\n",
       "      <td>343.0</td>\n",
       "    </tr>\n",
       "    <tr>\n",
       "      <th>23521</th>\n",
       "      <td>13</td>\n",
       "      <td>8500000.0</td>\n",
       "      <td>65.0</td>\n",
       "      <td>2018-11-01T00:00:00</td>\n",
       "      <td>2</td>\n",
       "      <td>2.65</td>\n",
       "      <td>4.0</td>\n",
       "      <td>44.00</td>\n",
       "      <td>2</td>\n",
       "      <td>False</td>\n",
       "      <td>...</td>\n",
       "      <td>15.3000</td>\n",
       "      <td>0.0</td>\n",
       "      <td>Санкт-Петербург</td>\n",
       "      <td>22276.0</td>\n",
       "      <td>3996.0</td>\n",
       "      <td>1.0</td>\n",
       "      <td>627.0</td>\n",
       "      <td>0.0</td>\n",
       "      <td>NaN</td>\n",
       "      <td>NaN</td>\n",
       "    </tr>\n",
       "    <tr>\n",
       "      <th>23579</th>\n",
       "      <td>7</td>\n",
       "      <td>2350000.0</td>\n",
       "      <td>24.8</td>\n",
       "      <td>2018-06-07T00:00:00</td>\n",
       "      <td>1</td>\n",
       "      <td>2.65</td>\n",
       "      <td>10.0</td>\n",
       "      <td>18.00</td>\n",
       "      <td>2</td>\n",
       "      <td>False</td>\n",
       "      <td>...</td>\n",
       "      <td>4.3400</td>\n",
       "      <td>0.0</td>\n",
       "      <td>Кудрово</td>\n",
       "      <td>NaN</td>\n",
       "      <td>NaN</td>\n",
       "      <td>NaN</td>\n",
       "      <td>NaN</td>\n",
       "      <td>NaN</td>\n",
       "      <td>NaN</td>\n",
       "      <td>89.0</td>\n",
       "    </tr>\n",
       "    <tr>\n",
       "      <th>23680</th>\n",
       "      <td>14</td>\n",
       "      <td>5000000.0</td>\n",
       "      <td>59.0</td>\n",
       "      <td>2019-04-04T00:00:00</td>\n",
       "      <td>3</td>\n",
       "      <td>2.50</td>\n",
       "      <td>5.0</td>\n",
       "      <td>52.00</td>\n",
       "      <td>1</td>\n",
       "      <td>False</td>\n",
       "      <td>...</td>\n",
       "      <td>7.0000</td>\n",
       "      <td>0.0</td>\n",
       "      <td>Санкт-Петербург</td>\n",
       "      <td>26835.0</td>\n",
       "      <td>11878.0</td>\n",
       "      <td>0.0</td>\n",
       "      <td>NaN</td>\n",
       "      <td>0.0</td>\n",
       "      <td>NaN</td>\n",
       "      <td>NaN</td>\n",
       "    </tr>\n",
       "  </tbody>\n",
       "</table>\n",
       "<p>662 rows × 22 columns</p>\n",
       "</div>"
      ],
      "text/plain": [
       "       total_images  last_price  total_area first_day_exposition  rooms  \\\n",
       "41               16   7900000.0        74.0  2016-05-04T00:00:00      3   \n",
       "171               6   3800000.0        49.0  2019-02-22T00:00:00      2   \n",
       "184               7   2600000.0        30.2  2018-02-14T00:00:00      1   \n",
       "220               8   3890000.0        37.0  2018-07-09T00:00:00      1   \n",
       "237               4   2438033.0        28.1  2016-11-23T00:00:00      1   \n",
       "...             ...         ...         ...                  ...    ...   \n",
       "23297            10   1850000.0        48.2  2019-03-13T00:00:00      2   \n",
       "23328            12   4299000.0        54.0  2016-11-25T00:00:00      2   \n",
       "23521            13   8500000.0        65.0  2018-11-01T00:00:00      2   \n",
       "23579             7   2350000.0        24.8  2018-06-07T00:00:00      1   \n",
       "23680            14   5000000.0        59.0  2019-04-04T00:00:00      3   \n",
       "\n",
       "       ceiling_height  floors_total  living_area  floor  is_apartment  ...  \\\n",
       "41               2.65          14.0        59.00      8         False  ...   \n",
       "171              2.50           9.0        38.00      8         False  ...   \n",
       "184              2.65           9.0        26.10      5         False  ...   \n",
       "220              2.50          25.0        28.00      6         False  ...   \n",
       "237              2.65           NaN        20.75      1         False  ...   \n",
       "...               ...           ...          ...    ...           ...  ...   \n",
       "23297            2.65           5.0        42.20      2         False  ...   \n",
       "23328            2.65          14.0        40.00      8         False  ...   \n",
       "23521            2.65           4.0        44.00      2         False  ...   \n",
       "23579            2.65          10.0        18.00      2         False  ...   \n",
       "23680            2.50           5.0        52.00      1         False  ...   \n",
       "\n",
       "       kitchen_area  balcony    locality_name  airports_nearest  \\\n",
       "41          12.0000      5.0  Санкт-Петербург           37715.0   \n",
       "171         10.0000      1.0   посёлок Шушары           18471.0   \n",
       "184          6.2000      0.0  Санкт-Петербург           13952.0   \n",
       "220          9.0000      0.0  Санкт-Петербург           25408.0   \n",
       "237          4.9175      0.0  Санкт-Петербург           22041.0   \n",
       "...             ...      ...              ...               ...   \n",
       "23297        6.0000      1.0           Высоцк               NaN   \n",
       "23328       10.0000      0.0          Колпино           25612.0   \n",
       "23521       15.3000      0.0  Санкт-Петербург           22276.0   \n",
       "23579        4.3400      0.0          Кудрово               NaN   \n",
       "23680        7.0000      0.0  Санкт-Петербург           26835.0   \n",
       "\n",
       "      cityCenters_nearest  parks_around3000  parks_nearest  ponds_around3000  \\\n",
       "41                12612.0               1.0          725.0               1.0   \n",
       "171               24272.0               0.0            NaN               0.0   \n",
       "184               15031.0               0.0            NaN               1.0   \n",
       "220               16166.0               0.0            NaN               0.0   \n",
       "237               17369.0               0.0            NaN               1.0   \n",
       "...                   ...               ...            ...               ...   \n",
       "23297                 NaN               NaN            NaN               NaN   \n",
       "23328             31399.0               0.0            NaN               0.0   \n",
       "23521              3996.0               1.0          627.0               0.0   \n",
       "23579                 NaN               NaN            NaN               NaN   \n",
       "23680             11878.0               0.0            NaN               0.0   \n",
       "\n",
       "       ponds_nearest  days_exposition  \n",
       "41             759.0            179.0  \n",
       "171              NaN             11.0  \n",
       "184            824.0             12.0  \n",
       "220              NaN             28.0  \n",
       "237            374.0            251.0  \n",
       "...              ...              ...  \n",
       "23297            NaN             45.0  \n",
       "23328            NaN            343.0  \n",
       "23521            NaN              NaN  \n",
       "23579            NaN             89.0  \n",
       "23680            NaN              NaN  \n",
       "\n",
       "[662 rows x 22 columns]"
      ]
     },
     "execution_count": 11,
     "metadata": {},
     "output_type": "execute_result"
    }
   ],
   "source": [
    "living_ratio = data['living_area'].median() / data['total_area'].median()\n",
    "kitchen_ratio = data['kitchen_area'].median() / data['total_area'].median()\n",
    "data['living_area'].fillna(living_ratio * data['total_area'], inplace=True)\n",
    "data['kitchen_area'].fillna(kitchen_ratio * data['total_area'], inplace=True)\n",
    "\n",
    "data[data['total_area']*0.9 <= data['living_area'] + data['kitchen_area']]"
   ]
  },
  {
   "cell_type": "markdown",
   "metadata": {},
   "source": [
    "На 23699 имеем всего 662 строчки в которых 90 процентов общей площади меньше суммы жилой и площади кухни, что сотавляет всего 2,79%, можно считать что это не критично и заполнение пропусков медианой приемлимо"
   ]
  },
  {
   "cell_type": "markdown",
   "metadata": {},
   "source": [
    "<b>floors_total</b>"
   ]
  },
  {
   "cell_type": "code",
   "execution_count": 12,
   "metadata": {},
   "outputs": [],
   "source": [
    "# Удаляем записи, где отсутствует локация и этажность\n",
    "data.dropna(subset=['floors_total'], inplace=True)\n",
    "data.dropna(subset=['locality_name'], inplace=True)"
   ]
  },
  {
   "cell_type": "markdown",
   "metadata": {},
   "source": [
    "#### С пропусками разобрались, теперь можно исправить тип данных в столбцах"
   ]
  },
  {
   "cell_type": "code",
   "execution_count": 13,
   "metadata": {},
   "outputs": [
    {
     "name": "stdout",
     "output_type": "stream",
     "text": [
      "<class 'pandas.core.frame.DataFrame'>\n",
      "Int64Index: 23565 entries, 0 to 23698\n",
      "Data columns (total 22 columns):\n",
      " #   Column                Non-Null Count  Dtype  \n",
      "---  ------                --------------  -----  \n",
      " 0   total_images          23565 non-null  int64  \n",
      " 1   last_price            23565 non-null  float64\n",
      " 2   total_area            23565 non-null  float64\n",
      " 3   first_day_exposition  23565 non-null  object \n",
      " 4   rooms                 23565 non-null  int64  \n",
      " 5   ceiling_height        23565 non-null  float64\n",
      " 6   floors_total          23565 non-null  float64\n",
      " 7   living_area           23565 non-null  float64\n",
      " 8   floor                 23565 non-null  int64  \n",
      " 9   is_apartment          23565 non-null  bool   \n",
      " 10  studio                23565 non-null  bool   \n",
      " 11  open_plan             23565 non-null  bool   \n",
      " 12  kitchen_area          23565 non-null  float64\n",
      " 13  balcony               23565 non-null  float64\n",
      " 14  locality_name         23565 non-null  object \n",
      " 15  airports_nearest      18041 non-null  float64\n",
      " 16  cityCenters_nearest   18064 non-null  float64\n",
      " 17  parks_around3000      18065 non-null  float64\n",
      " 18  parks_nearest         8030 non-null   float64\n",
      " 19  ponds_around3000      18065 non-null  float64\n",
      " 20  ponds_nearest         9036 non-null   float64\n",
      " 21  days_exposition       20394 non-null  float64\n",
      "dtypes: bool(3), float64(14), int64(3), object(2)\n",
      "memory usage: 3.7+ MB\n"
     ]
    }
   ],
   "source": [
    "data.info()"
   ]
  },
  {
   "cell_type": "markdown",
   "metadata": {},
   "source": [
    "<b> last_price</b> заменим на целочисленный тип  \n",
    "<b>first_day_exposition</b> меняем на формат даты  \n",
    "<b>floors_total, balcony</b> могут быть только целыми числами, в int  \n",
    "<b>days_axposition</b> тоже приведем к int"
   ]
  },
  {
   "cell_type": "code",
   "execution_count": 14,
   "metadata": {
    "scrolled": true
   },
   "outputs": [
    {
     "name": "stdout",
     "output_type": "stream",
     "text": [
      "<class 'pandas.core.frame.DataFrame'>\n",
      "Int64Index: 23565 entries, 0 to 23698\n",
      "Data columns (total 22 columns):\n",
      " #   Column                Non-Null Count  Dtype         \n",
      "---  ------                --------------  -----         \n",
      " 0   total_images          23565 non-null  int64         \n",
      " 1   last_price            23565 non-null  int64         \n",
      " 2   total_area            23565 non-null  float64       \n",
      " 3   first_day_exposition  23565 non-null  datetime64[ns]\n",
      " 4   rooms                 23565 non-null  int64         \n",
      " 5   ceiling_height        23565 non-null  float64       \n",
      " 6   floors_total          23565 non-null  int64         \n",
      " 7   living_area           23565 non-null  float64       \n",
      " 8   floor                 23565 non-null  int64         \n",
      " 9   is_apartment          23565 non-null  bool          \n",
      " 10  studio                23565 non-null  bool          \n",
      " 11  open_plan             23565 non-null  bool          \n",
      " 12  kitchen_area          23565 non-null  float64       \n",
      " 13  balcony               23565 non-null  int64         \n",
      " 14  locality_name         23565 non-null  object        \n",
      " 15  airports_nearest      18041 non-null  float64       \n",
      " 16  cityCenters_nearest   18064 non-null  float64       \n",
      " 17  parks_around3000      18065 non-null  float64       \n",
      " 18  parks_nearest         8030 non-null   float64       \n",
      " 19  ponds_around3000      18065 non-null  float64       \n",
      " 20  ponds_nearest         9036 non-null   float64       \n",
      " 21  days_exposition       20394 non-null  float64       \n",
      "dtypes: bool(3), datetime64[ns](1), float64(11), int64(6), object(1)\n",
      "memory usage: 3.7+ MB\n"
     ]
    }
   ],
   "source": [
    "data['last_price'] = data['last_price'].astype('int')\n",
    "data['first_day_exposition'] = pd.to_datetime(data['first_day_exposition'], format='%Y-%m-%dT%H:%M:%S')\n",
    "data['floors_total'] = data['floors_total'].astype('int')\n",
    "data['balcony'] = data['balcony'].astype('int')\n",
    "#data['days_exposition'] = data['days_exposition'].astype('int')\n",
    "data.info()"
   ]
  },
  {
   "cell_type": "markdown",
   "metadata": {},
   "source": [
    "#### Далее устраним неявные дубликаты в названиях населённых пунктов:"
   ]
  },
  {
   "cell_type": "code",
   "execution_count": 15,
   "metadata": {},
   "outputs": [
    {
     "data": {
      "text/plain": [
       "364"
      ]
     },
     "execution_count": 15,
     "metadata": {},
     "output_type": "execute_result"
    }
   ],
   "source": [
    "data['locality_name'].unique()# Смотрим какие уникальные названия впринципе присутствуют\n",
    "data['locality_name'].nunique()"
   ]
  },
  {
   "cell_type": "markdown",
   "metadata": {},
   "source": [
    "Чтобы убрать неявные дубликаты в названиях населённых пунктов напишем цикл, который убирает все названия, которые написаны не с заглавных букв, то есть не имена собственные."
   ]
  },
  {
   "cell_type": "code",
   "execution_count": 16,
   "metadata": {},
   "outputs": [],
   "source": [
    "unduplicate_name = [] # создаем пустой список,  куда будем складывать нужные нам названия населенных пунктов\n",
    "for row in data['locality_name']: # проходим по строкам, если строка начинается с заглавной буквы, то вносим в наш список\n",
    "    if row[0].isupper():\n",
    "        unduplicate_name.append(row)\n",
    "    else:\n",
    "        for i in range(len(row)): # в противном случае, идем по строке в поисках заглавной буквы\n",
    "            while row[i].islower() or row[i] == ' ':\n",
    "                i += 1\n",
    "            unduplicate_name.append(row[i:])# как только находим заглавную букву, записываем в список название, которое следует после индекса i\n",
    "            break;"
   ]
  },
  {
   "cell_type": "code",
   "execution_count": 17,
   "metadata": {},
   "outputs": [],
   "source": [
    "data['locality_name'] = unduplicate_name"
   ]
  },
  {
   "cell_type": "code",
   "execution_count": 18,
   "metadata": {},
   "outputs": [
    {
     "data": {
      "text/plain": [
       "305"
      ]
     },
     "execution_count": 18,
     "metadata": {},
     "output_type": "execute_result"
    }
   ],
   "source": [
    "# check\n",
    "data['locality_name'].nunique()"
   ]
  },
  {
   "cell_type": "markdown",
   "metadata": {},
   "source": [
    "#### Найдем редкие и выбивающиеся значения"
   ]
  },
  {
   "cell_type": "code",
   "execution_count": 19,
   "metadata": {},
   "outputs": [
    {
     "data": {
      "text/html": [
       "<div>\n",
       "<style scoped>\n",
       "    .dataframe tbody tr th:only-of-type {\n",
       "        vertical-align: middle;\n",
       "    }\n",
       "\n",
       "    .dataframe tbody tr th {\n",
       "        vertical-align: top;\n",
       "    }\n",
       "\n",
       "    .dataframe thead th {\n",
       "        text-align: right;\n",
       "    }\n",
       "</style>\n",
       "<table border=\"1\" class=\"dataframe\">\n",
       "  <thead>\n",
       "    <tr style=\"text-align: right;\">\n",
       "      <th></th>\n",
       "      <th>total_images</th>\n",
       "      <th>last_price</th>\n",
       "      <th>total_area</th>\n",
       "      <th>rooms</th>\n",
       "      <th>ceiling_height</th>\n",
       "      <th>floors_total</th>\n",
       "      <th>living_area</th>\n",
       "      <th>floor</th>\n",
       "      <th>kitchen_area</th>\n",
       "      <th>balcony</th>\n",
       "      <th>airports_nearest</th>\n",
       "      <th>cityCenters_nearest</th>\n",
       "      <th>parks_around3000</th>\n",
       "      <th>parks_nearest</th>\n",
       "      <th>ponds_around3000</th>\n",
       "      <th>ponds_nearest</th>\n",
       "      <th>days_exposition</th>\n",
       "    </tr>\n",
       "  </thead>\n",
       "  <tbody>\n",
       "    <tr>\n",
       "      <th>count</th>\n",
       "      <td>23565.000000</td>\n",
       "      <td>2.356500e+04</td>\n",
       "      <td>23565.000000</td>\n",
       "      <td>23565.000000</td>\n",
       "      <td>23565.000000</td>\n",
       "      <td>23565.000000</td>\n",
       "      <td>23565.000000</td>\n",
       "      <td>23565.000000</td>\n",
       "      <td>23565.000000</td>\n",
       "      <td>23565.000000</td>\n",
       "      <td>18041.000000</td>\n",
       "      <td>18064.000000</td>\n",
       "      <td>18065.000000</td>\n",
       "      <td>8030.000000</td>\n",
       "      <td>18065.000000</td>\n",
       "      <td>9036.000000</td>\n",
       "      <td>20394.000000</td>\n",
       "    </tr>\n",
       "    <tr>\n",
       "      <th>mean</th>\n",
       "      <td>9.878421</td>\n",
       "      <td>6.540058e+06</td>\n",
       "      <td>60.322824</td>\n",
       "      <td>2.070656</td>\n",
       "      <td>2.724530</td>\n",
       "      <td>10.675875</td>\n",
       "      <td>34.621108</td>\n",
       "      <td>5.878124</td>\n",
       "      <td>10.499499</td>\n",
       "      <td>0.593677</td>\n",
       "      <td>28797.082701</td>\n",
       "      <td>14192.656056</td>\n",
       "      <td>0.611569</td>\n",
       "      <td>490.580448</td>\n",
       "      <td>0.769499</td>\n",
       "      <td>518.289509</td>\n",
       "      <td>180.741395</td>\n",
       "    </tr>\n",
       "    <tr>\n",
       "      <th>std</th>\n",
       "      <td>5.681156</td>\n",
       "      <td>1.091093e+07</td>\n",
       "      <td>35.657060</td>\n",
       "      <td>1.078591</td>\n",
       "      <td>0.991026</td>\n",
       "      <td>6.594823</td>\n",
       "      <td>22.399827</td>\n",
       "      <td>4.871485</td>\n",
       "      <td>6.037444</td>\n",
       "      <td>0.960660</td>\n",
       "      <td>12632.499735</td>\n",
       "      <td>8613.348153</td>\n",
       "      <td>0.802088</td>\n",
       "      <td>341.572956</td>\n",
       "      <td>0.938669</td>\n",
       "      <td>278.009558</td>\n",
       "      <td>219.732782</td>\n",
       "    </tr>\n",
       "    <tr>\n",
       "      <th>min</th>\n",
       "      <td>0.000000</td>\n",
       "      <td>1.219000e+04</td>\n",
       "      <td>12.000000</td>\n",
       "      <td>0.000000</td>\n",
       "      <td>1.000000</td>\n",
       "      <td>1.000000</td>\n",
       "      <td>2.000000</td>\n",
       "      <td>1.000000</td>\n",
       "      <td>1.300000</td>\n",
       "      <td>0.000000</td>\n",
       "      <td>0.000000</td>\n",
       "      <td>181.000000</td>\n",
       "      <td>0.000000</td>\n",
       "      <td>1.000000</td>\n",
       "      <td>0.000000</td>\n",
       "      <td>13.000000</td>\n",
       "      <td>1.000000</td>\n",
       "    </tr>\n",
       "    <tr>\n",
       "      <th>25%</th>\n",
       "      <td>6.000000</td>\n",
       "      <td>3.400000e+06</td>\n",
       "      <td>40.000000</td>\n",
       "      <td>1.000000</td>\n",
       "      <td>2.600000</td>\n",
       "      <td>5.000000</td>\n",
       "      <td>19.000000</td>\n",
       "      <td>2.000000</td>\n",
       "      <td>7.000000</td>\n",
       "      <td>0.000000</td>\n",
       "      <td>18565.000000</td>\n",
       "      <td>9238.000000</td>\n",
       "      <td>0.000000</td>\n",
       "      <td>288.000000</td>\n",
       "      <td>0.000000</td>\n",
       "      <td>293.000000</td>\n",
       "      <td>45.000000</td>\n",
       "    </tr>\n",
       "    <tr>\n",
       "      <th>50%</th>\n",
       "      <td>9.000000</td>\n",
       "      <td>4.646000e+06</td>\n",
       "      <td>52.000000</td>\n",
       "      <td>2.000000</td>\n",
       "      <td>2.650000</td>\n",
       "      <td>9.000000</td>\n",
       "      <td>30.000000</td>\n",
       "      <td>4.000000</td>\n",
       "      <td>9.000000</td>\n",
       "      <td>0.000000</td>\n",
       "      <td>26757.000000</td>\n",
       "      <td>13096.500000</td>\n",
       "      <td>0.000000</td>\n",
       "      <td>455.000000</td>\n",
       "      <td>1.000000</td>\n",
       "      <td>503.000000</td>\n",
       "      <td>95.000000</td>\n",
       "    </tr>\n",
       "    <tr>\n",
       "      <th>75%</th>\n",
       "      <td>14.000000</td>\n",
       "      <td>6.790000e+06</td>\n",
       "      <td>69.700000</td>\n",
       "      <td>3.000000</td>\n",
       "      <td>2.700000</td>\n",
       "      <td>16.000000</td>\n",
       "      <td>42.115385</td>\n",
       "      <td>8.000000</td>\n",
       "      <td>12.000000</td>\n",
       "      <td>1.000000</td>\n",
       "      <td>37273.000000</td>\n",
       "      <td>16285.000000</td>\n",
       "      <td>1.000000</td>\n",
       "      <td>612.000000</td>\n",
       "      <td>1.000000</td>\n",
       "      <td>730.000000</td>\n",
       "      <td>231.000000</td>\n",
       "    </tr>\n",
       "    <tr>\n",
       "      <th>max</th>\n",
       "      <td>50.000000</td>\n",
       "      <td>7.630000e+08</td>\n",
       "      <td>900.000000</td>\n",
       "      <td>19.000000</td>\n",
       "      <td>100.000000</td>\n",
       "      <td>60.000000</td>\n",
       "      <td>409.700000</td>\n",
       "      <td>33.000000</td>\n",
       "      <td>112.000000</td>\n",
       "      <td>5.000000</td>\n",
       "      <td>84869.000000</td>\n",
       "      <td>65968.000000</td>\n",
       "      <td>3.000000</td>\n",
       "      <td>3190.000000</td>\n",
       "      <td>3.000000</td>\n",
       "      <td>1344.000000</td>\n",
       "      <td>1580.000000</td>\n",
       "    </tr>\n",
       "  </tbody>\n",
       "</table>\n",
       "</div>"
      ],
      "text/plain": [
       "       total_images    last_price    total_area         rooms  ceiling_height  \\\n",
       "count  23565.000000  2.356500e+04  23565.000000  23565.000000    23565.000000   \n",
       "mean       9.878421  6.540058e+06     60.322824      2.070656        2.724530   \n",
       "std        5.681156  1.091093e+07     35.657060      1.078591        0.991026   \n",
       "min        0.000000  1.219000e+04     12.000000      0.000000        1.000000   \n",
       "25%        6.000000  3.400000e+06     40.000000      1.000000        2.600000   \n",
       "50%        9.000000  4.646000e+06     52.000000      2.000000        2.650000   \n",
       "75%       14.000000  6.790000e+06     69.700000      3.000000        2.700000   \n",
       "max       50.000000  7.630000e+08    900.000000     19.000000      100.000000   \n",
       "\n",
       "       floors_total   living_area         floor  kitchen_area       balcony  \\\n",
       "count  23565.000000  23565.000000  23565.000000  23565.000000  23565.000000   \n",
       "mean      10.675875     34.621108      5.878124     10.499499      0.593677   \n",
       "std        6.594823     22.399827      4.871485      6.037444      0.960660   \n",
       "min        1.000000      2.000000      1.000000      1.300000      0.000000   \n",
       "25%        5.000000     19.000000      2.000000      7.000000      0.000000   \n",
       "50%        9.000000     30.000000      4.000000      9.000000      0.000000   \n",
       "75%       16.000000     42.115385      8.000000     12.000000      1.000000   \n",
       "max       60.000000    409.700000     33.000000    112.000000      5.000000   \n",
       "\n",
       "       airports_nearest  cityCenters_nearest  parks_around3000  parks_nearest  \\\n",
       "count      18041.000000         18064.000000      18065.000000    8030.000000   \n",
       "mean       28797.082701         14192.656056          0.611569     490.580448   \n",
       "std        12632.499735          8613.348153          0.802088     341.572956   \n",
       "min            0.000000           181.000000          0.000000       1.000000   \n",
       "25%        18565.000000          9238.000000          0.000000     288.000000   \n",
       "50%        26757.000000         13096.500000          0.000000     455.000000   \n",
       "75%        37273.000000         16285.000000          1.000000     612.000000   \n",
       "max        84869.000000         65968.000000          3.000000    3190.000000   \n",
       "\n",
       "       ponds_around3000  ponds_nearest  days_exposition  \n",
       "count      18065.000000    9036.000000     20394.000000  \n",
       "mean           0.769499     518.289509       180.741395  \n",
       "std            0.938669     278.009558       219.732782  \n",
       "min            0.000000      13.000000         1.000000  \n",
       "25%            0.000000     293.000000        45.000000  \n",
       "50%            1.000000     503.000000        95.000000  \n",
       "75%            1.000000     730.000000       231.000000  \n",
       "max            3.000000    1344.000000      1580.000000  "
      ]
     },
     "execution_count": 19,
     "metadata": {},
     "output_type": "execute_result"
    }
   ],
   "source": [
    "# Столбцы с выбросами\n",
    "data.describe()"
   ]
  },
  {
   "cell_type": "markdown",
   "metadata": {},
   "source": [
    "Есть выбивающиеся значения в <b>total_area, rooms, ceiling_height, kitchen_area</b>  \n",
    "Начнем с <b>ceiling_height</b>"
   ]
  },
  {
   "cell_type": "code",
   "execution_count": 20,
   "metadata": {},
   "outputs": [
    {
     "data": {
      "text/plain": [
       "count    23565.000000\n",
       "mean         2.724530\n",
       "std          0.991026\n",
       "min          1.000000\n",
       "25%          2.600000\n",
       "50%          2.650000\n",
       "75%          2.700000\n",
       "max        100.000000\n",
       "Name: ceiling_height, dtype: float64"
      ]
     },
     "execution_count": 20,
     "metadata": {},
     "output_type": "execute_result"
    },
    {
     "data": {
      "image/png": "[encoded data removed]",
      "text/plain": [
       "<Figure size 432x288 with 1 Axes>"
      ]
     },
     "metadata": {
      "needs_background": "light"
     },
     "output_type": "display_data"
    }
   ],
   "source": [
    "# Находим анаомально большие значения в высоте потолков\n",
    "#data[data['ceiling_height'] > 15].sort_values('ceiling_height').tail(10)\n",
    "data.boxplot(column='ceiling_height')\n",
    "plt.ylim(2, 3)\n",
    "data['ceiling_height'].describe()"
   ]
  },
  {
   "cell_type": "markdown",
   "metadata": {},
   "source": [
    "Возможно при внесении данных пользователи допускали ошибку. Поправим эти ошибки:"
   ]
  },
  {
   "cell_type": "markdown",
   "metadata": {},
   "source": [
    "   и уберем слишком маленькие нелогичные значения"
   ]
  },
  {
   "cell_type": "code",
   "execution_count": 21,
   "metadata": {},
   "outputs": [
    {
     "data": {
      "text/plain": [
       "23119"
      ]
     },
     "execution_count": 21,
     "metadata": {},
     "output_type": "execute_result"
    }
   ],
   "source": [
    "#data.loc[data[\"ceiling_height\"] > 13, \"ceiling_height\"] = data[\"ceiling_height\"] / 10\n",
    "#data[data['ceiling_height'] > 13].sort_values('ceiling_height').tail(10)\n",
    "data = data.query('3.5 > ceiling_height > 2') # понимая, что в реальности квартир, с потолками ниже 2х метров не бывает, убираем лишние значения\n",
    "data['ceiling_height'].describe()\n",
    "data['ceiling_height'].count()"
   ]
  },
  {
   "cell_type": "markdown",
   "metadata": {},
   "source": [
    "\n",
    "Избавившись от выбросов, в итоге средняя опустилась, и стала примерно как медиана"
   ]
  },
  {
   "cell_type": "markdown",
   "metadata": {},
   "source": [
    "Далее посмотрим <b>rooms</b>"
   ]
  },
  {
   "cell_type": "markdown",
   "metadata": {},
   "source": [
    "   Значения с 0 это скорее всего студиии, оставим их как есть, а вот квартиры с более чем 6ю комнатами отбросим, отталкиваясь от диаграммы размаха"
   ]
  },
  {
   "cell_type": "code",
   "execution_count": 22,
   "metadata": {},
   "outputs": [
    {
     "data": {
      "text/plain": [
       "23119"
      ]
     },
     "execution_count": 22,
     "metadata": {},
     "output_type": "execute_result"
    },
    {
     "data": {
      "image/png": "[encoded data removed]",
      "text/plain": [
       "<Figure size 432x288 with 1 Axes>"
      ]
     },
     "metadata": {
      "needs_background": "light"
     },
     "output_type": "display_data"
    }
   ],
   "source": [
    "data.boxplot(column='rooms')\n",
    "plt.ylim(0, 10)\n",
    "data['rooms'].describe()\n",
    "data['rooms'].value_counts()\n",
    "data['ceiling_height'].count()"
   ]
  },
  {
   "cell_type": "code",
   "execution_count": 23,
   "metadata": {},
   "outputs": [
    {
     "data": {
      "text/plain": [
       "23052"
      ]
     },
     "execution_count": 23,
     "metadata": {},
     "output_type": "execute_result"
    }
   ],
   "source": [
    "data = data.query('rooms <= 6')\n",
    "data['ceiling_height'].count()"
   ]
  },
  {
   "cell_type": "markdown",
   "metadata": {},
   "source": [
    "Посмотрим на распределение площадей квртир"
   ]
  },
  {
   "cell_type": "code",
   "execution_count": 24,
   "metadata": {},
   "outputs": [
    {
     "data": {
      "image/png": "[encoded data removed]",
      "text/plain": [
       "<Figure size 432x288 with 1 Axes>"
      ]
     },
     "metadata": {
      "needs_background": "light"
     },
     "output_type": "display_data"
    },
    {
     "data": {
      "image/png": "[encoded data removed]",
      "text/plain": [
       "<Figure size 432x288 with 1 Axes>"
      ]
     },
     "metadata": {
      "needs_background": "light"
     },
     "output_type": "display_data"
    }
   ],
   "source": [
    "data['total_area'].hist(bins=30, range=(0,200))\n",
    "plt.show()\n",
    "data.boxplot(column='total_area')\n",
    "plt.ylim(0, 150);"
   ]
  },
  {
   "cell_type": "markdown",
   "metadata": {},
   "source": [
    "Выборку по общей площади квартиры ограничим 150м2"
   ]
  },
  {
   "cell_type": "code",
   "execution_count": 25,
   "metadata": {},
   "outputs": [
    {
     "data": {
      "text/plain": [
       "22651"
      ]
     },
     "execution_count": 25,
     "metadata": {},
     "output_type": "execute_result"
    }
   ],
   "source": [
    "data = data.query('total_area <= 150 and total_area >= 10')\n",
    "data['ceiling_height'].count()"
   ]
  },
  {
   "cell_type": "markdown",
   "metadata": {},
   "source": [
    "Площадь кухни"
   ]
  },
  {
   "cell_type": "code",
   "execution_count": 26,
   "metadata": {},
   "outputs": [
    {
     "data": {
      "image/png": "[encoded data removed]",
      "text/plain": [
       "<Figure size 432x288 with 1 Axes>"
      ]
     },
     "metadata": {
      "needs_background": "light"
     },
     "output_type": "display_data"
    },
    {
     "data": {
      "image/png": "[encoded data removed]",
      "text/plain": [
       "<Figure size 432x288 with 1 Axes>"
      ]
     },
     "metadata": {
      "needs_background": "light"
     },
     "output_type": "display_data"
    }
   ],
   "source": [
    "data['kitchen_area'].hist(bins=30, range=(0,50))\n",
    "plt.show()\n",
    "data.boxplot(column='kitchen_area')\n",
    "plt.ylim(0, 20);"
   ]
  },
  {
   "cell_type": "code",
   "execution_count": 27,
   "metadata": {},
   "outputs": [
    {
     "data": {
      "text/plain": [
       "21912"
      ]
     },
     "execution_count": 27,
     "metadata": {},
     "output_type": "execute_result"
    }
   ],
   "source": [
    "data = data.query('kitchen_area <= 20 and total_area >= 4')# трудно представить с такой маленькой площадью кухню как 2м2, поэтому добавим немного реальности\n",
    "data['ceiling_height'].count()"
   ]
  },
  {
   "cell_type": "markdown",
   "metadata": {},
   "source": [
    "<b>kitchen_area</b> сильно зависима от общей площади, поэтому аномалии по этому пункту в основном ушли, превалирует площадь кухонь с площадью от 5 до 15 м2"
   ]
  },
  {
   "cell_type": "markdown",
   "metadata": {},
   "source": [
    "<b>days_exposition"
   ]
  },
  {
   "cell_type": "code",
   "execution_count": 28,
   "metadata": {},
   "outputs": [
    {
     "data": {
      "image/png": "[encoded data removed]",
      "text/plain": [
       "<Figure size 432x288 with 1 Axes>"
      ]
     },
     "metadata": {
      "needs_background": "light"
     },
     "output_type": "display_data"
    },
    {
     "data": {
      "image/png": "[encoded data removed]",
      "text/plain": [
       "<Figure size 432x288 with 1 Axes>"
      ]
     },
     "metadata": {
      "needs_background": "light"
     },
     "output_type": "display_data"
    }
   ],
   "source": [
    "data['days_exposition'].hist(bins=30, range=(0,1580))\n",
    "plt.show()\n",
    "data.boxplot(column='days_exposition')\n",
    "plt.ylim(0, 500);"
   ]
  },
  {
   "cell_type": "code",
   "execution_count": 29,
   "metadata": {},
   "outputs": [
    {
     "data": {
      "text/plain": [
       "21912"
      ]
     },
     "execution_count": 29,
     "metadata": {},
     "output_type": "execute_result"
    }
   ],
   "source": [
    "data['ceiling_height'].count()"
   ]
  },
  {
   "cell_type": "markdown",
   "metadata": {},
   "source": [
    "<b>last_price"
   ]
  },
  {
   "cell_type": "code",
   "execution_count": 30,
   "metadata": {},
   "outputs": [
    {
     "data": {
      "image/png": "[encoded data removed]",
      "text/plain": [
       "<Figure size 720x360 with 1 Axes>"
      ]
     },
     "metadata": {
      "needs_background": "light"
     },
     "output_type": "display_data"
    },
    {
     "data": {
      "image/png": "[encoded data removed]",
      "text/plain": [
       "<Figure size 432x288 with 1 Axes>"
      ]
     },
     "metadata": {
      "needs_background": "light"
     },
     "output_type": "display_data"
    }
   ],
   "source": [
    "data['last_price'].hist(bins=30, figsize = (10,5),range=(0,20000000))\n",
    "plt.gca().ticklabel_format(axis=\"x\", style='plain')\n",
    "plt.show()\n",
    "data.boxplot(column='last_price')\n",
    "plt.ylim(0, 20000000);"
   ]
  },
  {
   "cell_type": "code",
   "execution_count": 31,
   "metadata": {},
   "outputs": [
    {
     "data": {
      "text/plain": [
       "20352"
      ]
     },
     "execution_count": 31,
     "metadata": {},
     "output_type": "execute_result"
    }
   ],
   "source": [
    "data = data.query('50000 <= last_price <= 10000000')\n",
    "data['ceiling_height'].count()"
   ]
  },
  {
   "cell_type": "markdown",
   "metadata": {},
   "source": [
    "<b>living_area"
   ]
  },
  {
   "cell_type": "code",
   "execution_count": 32,
   "metadata": {},
   "outputs": [
    {
     "data": {
      "image/png": "[encoded data removed]",
      "text/plain": [
       "<Figure size 432x288 with 1 Axes>"
      ]
     },
     "metadata": {
      "needs_background": "light"
     },
     "output_type": "display_data"
    },
    {
     "data": {
      "image/png": "[encoded data removed]",
      "text/plain": [
       "<Figure size 432x288 with 1 Axes>"
      ]
     },
     "metadata": {
      "needs_background": "light"
     },
     "output_type": "display_data"
    }
   ],
   "source": [
    "data['living_area'].hist(bins=30, range=(2,80))\n",
    "plt.show()\n",
    "data.boxplot(column='living_area')\n",
    "plt.ylim(0, 120);"
   ]
  },
  {
   "cell_type": "code",
   "execution_count": 33,
   "metadata": {},
   "outputs": [
    {
     "data": {
      "text/plain": [
       "20317"
      ]
     },
     "execution_count": 33,
     "metadata": {},
     "output_type": "execute_result"
    }
   ],
   "source": [
    "data = data.query('5 <= living_area <= 80')\n",
    "data['ceiling_height'].count()"
   ]
  },
  {
   "cell_type": "markdown",
   "metadata": {},
   "source": [
    "<b>floor"
   ]
  },
  {
   "cell_type": "code",
   "execution_count": 34,
   "metadata": {},
   "outputs": [
    {
     "data": {
      "image/png": "[encoded data removed]",
      "text/plain": [
       "<Figure size 432x288 with 1 Axes>"
      ]
     },
     "metadata": {
      "needs_background": "light"
     },
     "output_type": "display_data"
    },
    {
     "data": {
      "image/png": "[encoded data removed]",
      "text/plain": [
       "<Figure size 432x288 with 1 Axes>"
      ]
     },
     "metadata": {
      "needs_background": "light"
     },
     "output_type": "display_data"
    }
   ],
   "source": [
    "data['floor'].hist(bins=30, range=(0,33))\n",
    "plt.show()\n",
    "data.boxplot(column='floor')\n",
    "plt.ylim(1, 33);"
   ]
  },
  {
   "cell_type": "code",
   "execution_count": 35,
   "metadata": {},
   "outputs": [
    {
     "data": {
      "text/plain": [
       "20284"
      ]
     },
     "execution_count": 35,
     "metadata": {},
     "output_type": "execute_result"
    }
   ],
   "source": [
    "data['etaj'] = data['floor']\n",
    "data = data.query('etaj <= 25')# по непонятной мне причине из столбца floor я не смог удалить лишние данные, \n",
    "data['floor'] = data['etaj']   # костыль с перезаписью в другой стобец мне помог\n",
    "data['floor'].value_counts()\n",
    "data['ceiling_height'].count()"
   ]
  },
  {
   "cell_type": "markdown",
   "metadata": {},
   "source": [
    "<b>floors_total"
   ]
  },
  {
   "cell_type": "code",
   "execution_count": 36,
   "metadata": {},
   "outputs": [
    {
     "data": {
      "image/png": "[encoded data removed]",
      "text/plain": [
       "<Figure size 432x288 with 1 Axes>"
      ]
     },
     "metadata": {
      "needs_background": "light"
     },
     "output_type": "display_data"
    },
    {
     "data": {
      "image/png": "[encoded data removed]",
      "text/plain": [
       "<Figure size 432x288 with 1 Axes>"
      ]
     },
     "metadata": {
      "needs_background": "light"
     },
     "output_type": "display_data"
    }
   ],
   "source": [
    "data['floors_total'].hist(bins=30, range=(0,60))\n",
    "plt.show()\n",
    "data.boxplot(column='floors_total')\n",
    "plt.ylim(1, 60);"
   ]
  },
  {
   "cell_type": "code",
   "execution_count": 37,
   "metadata": {},
   "outputs": [
    {
     "data": {
      "text/plain": [
       "20268"
      ]
     },
     "execution_count": 37,
     "metadata": {},
     "output_type": "execute_result"
    }
   ],
   "source": [
    "data = data.query('floors_total <= 30')\n",
    "data['ceiling_height'].count()"
   ]
  },
  {
   "cell_type": "markdown",
   "metadata": {},
   "source": [
    "### Вывод 2.\n",
    "Заканчивая предобработку данных можно сказать что данные в таблице были местами кривоваты, но важные пропущенные значения мы заполнили приближенными к реальности данными, избавились от аномальных значений и от неявных дублей"
   ]
  },
  {
   "cell_type": "code",
   "execution_count": 38,
   "metadata": {},
   "outputs": [
    {
     "data": {
      "text/html": [
       "<div>\n",
       "<style scoped>\n",
       "    .dataframe tbody tr th:only-of-type {\n",
       "        vertical-align: middle;\n",
       "    }\n",
       "\n",
       "    .dataframe tbody tr th {\n",
       "        vertical-align: top;\n",
       "    }\n",
       "\n",
       "    .dataframe thead th {\n",
       "        text-align: right;\n",
       "    }\n",
       "</style>\n",
       "<table border=\"1\" class=\"dataframe\">\n",
       "  <thead>\n",
       "    <tr style=\"text-align: right;\">\n",
       "      <th></th>\n",
       "      <th>rooms</th>\n",
       "    </tr>\n",
       "  </thead>\n",
       "  <tbody>\n",
       "    <tr>\n",
       "      <th>1</th>\n",
       "      <td>7794</td>\n",
       "    </tr>\n",
       "    <tr>\n",
       "      <th>2</th>\n",
       "      <td>7128</td>\n",
       "    </tr>\n",
       "    <tr>\n",
       "      <th>3</th>\n",
       "      <td>4484</td>\n",
       "    </tr>\n",
       "    <tr>\n",
       "      <th>4</th>\n",
       "      <td>613</td>\n",
       "    </tr>\n",
       "    <tr>\n",
       "      <th>0</th>\n",
       "      <td>186</td>\n",
       "    </tr>\n",
       "    <tr>\n",
       "      <th>5</th>\n",
       "      <td>60</td>\n",
       "    </tr>\n",
       "    <tr>\n",
       "      <th>6</th>\n",
       "      <td>3</td>\n",
       "    </tr>\n",
       "  </tbody>\n",
       "</table>\n",
       "</div>"
      ],
      "text/plain": [
       "   rooms\n",
       "1   7794\n",
       "2   7128\n",
       "3   4484\n",
       "4    613\n",
       "0    186\n",
       "5     60\n",
       "6      3"
      ]
     },
     "execution_count": 38,
     "metadata": {},
     "output_type": "execute_result"
    }
   ],
   "source": [
    "# check\n",
    "data.rooms.value_counts().to_frame()"
   ]
  },
  {
   "cell_type": "code",
   "execution_count": 39,
   "metadata": {
    "scrolled": true
   },
   "outputs": [
    {
     "data": {
      "image/png": "[encoded data removed]",
      "text/plain": [
       "<Figure size 1080x216 with 1 Axes>"
      ]
     },
     "metadata": {
      "needs_background": "light"
     },
     "output_type": "display_data"
    }
   ],
   "source": [
    "# check\n",
    "data.kitchen_area.hist(bins = 150, figsize = (15,3));"
   ]
  },
  {
   "cell_type": "code",
   "execution_count": 40,
   "metadata": {
    "scrolled": false
   },
   "outputs": [
    {
     "data": {
      "image/png": "[encoded data removed]",
      "text/plain": [
       "<Figure size 1080x216 with 1 Axes>"
      ]
     },
     "metadata": {
      "needs_background": "light"
     },
     "output_type": "display_data"
    }
   ],
   "source": [
    "# check\n",
    "data.kitchen_area.hist(bins = 150, figsize = (15,3), range = (20,80));"
   ]
  },
  {
   "cell_type": "code",
   "execution_count": 41,
   "metadata": {},
   "outputs": [
    {
     "data": {
      "text/html": [
       "<style type=\"text/css\">\n",
       "</style>\n",
       "<table id=\"T_57b15\">\n",
       "  <thead>\n",
       "    <tr>\n",
       "      <th class=\"blank level0\" >&nbsp;</th>\n",
       "      <th id=\"T_57b15_level0_col0\" class=\"col_heading level0 col0\" >rooms</th>\n",
       "      <th id=\"T_57b15_level0_col1\" class=\"col_heading level0 col1\" >total_area</th>\n",
       "      <th id=\"T_57b15_level0_col2\" class=\"col_heading level0 col2\" >ceiling_height</th>\n",
       "      <th id=\"T_57b15_level0_col3\" class=\"col_heading level0 col3\" >days_exposition</th>\n",
       "      <th id=\"T_57b15_level0_col4\" class=\"col_heading level0 col4\" >last_price</th>\n",
       "      <th id=\"T_57b15_level0_col5\" class=\"col_heading level0 col5\" >living_area</th>\n",
       "      <th id=\"T_57b15_level0_col6\" class=\"col_heading level0 col6\" >kitchen_area</th>\n",
       "      <th id=\"T_57b15_level0_col7\" class=\"col_heading level0 col7\" >floor</th>\n",
       "      <th id=\"T_57b15_level0_col8\" class=\"col_heading level0 col8\" >floors_total</th>\n",
       "    </tr>\n",
       "  </thead>\n",
       "  <tbody>\n",
       "    <tr>\n",
       "      <th id=\"T_57b15_level0_row0\" class=\"row_heading level0 row0\" >0.010000</th>\n",
       "      <td id=\"T_57b15_row0_col0\" class=\"data row0 col0\" >1.00</td>\n",
       "      <td id=\"T_57b15_row0_col1\" class=\"data row0 col1\" >25.00</td>\n",
       "      <td id=\"T_57b15_row0_col2\" class=\"data row0 col2\" >2.50</td>\n",
       "      <td id=\"T_57b15_row0_col3\" class=\"data row0 col3\" >4.00</td>\n",
       "      <td id=\"T_57b15_row0_col4\" class=\"data row0 col4\" >960,572.60</td>\n",
       "      <td id=\"T_57b15_row0_col5\" class=\"data row0 col5\" >13.00</td>\n",
       "      <td id=\"T_57b15_row0_col6\" class=\"data row0 col6\" >4.38</td>\n",
       "      <td id=\"T_57b15_row0_col7\" class=\"data row0 col7\" >1.00</td>\n",
       "      <td id=\"T_57b15_row0_col8\" class=\"data row0 col8\" >2.00</td>\n",
       "    </tr>\n",
       "    <tr>\n",
       "      <th id=\"T_57b15_level0_row1\" class=\"row_heading level0 row1\" >0.500000</th>\n",
       "      <td id=\"T_57b15_row1_col0\" class=\"data row1 col0\" >2.00</td>\n",
       "      <td id=\"T_57b15_row1_col1\" class=\"data row1 col1\" >47.80</td>\n",
       "      <td id=\"T_57b15_row1_col2\" class=\"data row1 col2\" >2.65</td>\n",
       "      <td id=\"T_57b15_row1_col3\" class=\"data row1 col3\" >90.00</td>\n",
       "      <td id=\"T_57b15_row1_col4\" class=\"data row1 col4\" >4,300,000.00</td>\n",
       "      <td id=\"T_57b15_row1_col5\" class=\"data row1 col5\" >28.70</td>\n",
       "      <td id=\"T_57b15_row1_col6\" class=\"data row1 col6\" >8.60</td>\n",
       "      <td id=\"T_57b15_row1_col7\" class=\"data row1 col7\" >4.00</td>\n",
       "      <td id=\"T_57b15_row1_col8\" class=\"data row1 col8\" >9.00</td>\n",
       "    </tr>\n",
       "    <tr>\n",
       "      <th id=\"T_57b15_level0_row2\" class=\"row_heading level0 row2\" >0.900000</th>\n",
       "      <td id=\"T_57b15_row2_col0\" class=\"data row2 col0\" >3.00</td>\n",
       "      <td id=\"T_57b15_row2_col1\" class=\"data row2 col1\" >75.00</td>\n",
       "      <td id=\"T_57b15_row2_col2\" class=\"data row2 col2\" >2.80</td>\n",
       "      <td id=\"T_57b15_row2_col3\" class=\"data row2 col3\" >432.00</td>\n",
       "      <td id=\"T_57b15_row2_col4\" class=\"data row2 col4\" >7,400,000.00</td>\n",
       "      <td id=\"T_57b15_row2_col5\" class=\"data row2 col5\" >46.15</td>\n",
       "      <td id=\"T_57b15_row2_col6\" class=\"data row2 col6\" >13.00</td>\n",
       "      <td id=\"T_57b15_row2_col7\" class=\"data row2 col7\" >13.00</td>\n",
       "      <td id=\"T_57b15_row2_col8\" class=\"data row2 col8\" >22.00</td>\n",
       "    </tr>\n",
       "    <tr>\n",
       "      <th id=\"T_57b15_level0_row3\" class=\"row_heading level0 row3\" >0.997600</th>\n",
       "      <td id=\"T_57b15_row3_col0\" class=\"data row3 col0\" >5.00</td>\n",
       "      <td id=\"T_57b15_row3_col1\" class=\"data row3 col1\" >114.00</td>\n",
       "      <td id=\"T_57b15_row3_col2\" class=\"data row3 col2\" >3.40</td>\n",
       "      <td id=\"T_57b15_row3_col3\" class=\"data row3 col3\" >1,223.38</td>\n",
       "      <td id=\"T_57b15_row3_col4\" class=\"data row3 col4\" >10,000,000.00</td>\n",
       "      <td id=\"T_57b15_row3_col5\" class=\"data row3 col5\" >73.00</td>\n",
       "      <td id=\"T_57b15_row3_col6\" class=\"data row3 col6\" >20.00</td>\n",
       "      <td id=\"T_57b15_row3_col7\" class=\"data row3 col7\" >24.00</td>\n",
       "      <td id=\"T_57b15_row3_col8\" class=\"data row3 col8\" >27.00</td>\n",
       "    </tr>\n",
       "  </tbody>\n",
       "</table>\n"
      ],
      "text/plain": [
       "<pandas.io.formats.style.Styler at 0x7f8dfd0bb700>"
      ]
     },
     "execution_count": 41,
     "metadata": {},
     "output_type": "execute_result"
    }
   ],
   "source": [
    "# check\n",
    "\n",
    "# Значения параметров объектов недвижимости на разных квантилях\n",
    "\n",
    "(\n",
    "    data[['rooms', 'total_area', 'ceiling_height', 'days_exposition', 'last_price', 'living_area',  \n",
    "        'kitchen_area', 'floor',   'floors_total']]\n",
    "    .quantile([0.01, .5, .90, .9976])  \n",
    "    .style.format(\"{:,.2f}\")\n",
    ")"
   ]
  },
  {
   "cell_type": "markdown",
   "metadata": {},
   "source": [
    "### Посчитайте и добавьте в таблицу новые столбцы"
   ]
  },
  {
   "cell_type": "code",
   "execution_count": 42,
   "metadata": {},
   "outputs": [],
   "source": [
    "# Добавляем новый столбец - цену за квадратный метр\n",
    "data['sq_m_price'] = data['last_price'] / data['total_area']\n",
    "data['sq_m_price'] = data['sq_m_price'].astype(int) # приведем его в целочисленный тип\n",
    "\n",
    "# Добавляем столбцы дня недели, месяца и года\n",
    "data['weekday'] = data['first_day_exposition'].dt.weekday\n",
    "data['month'] = data['first_day_exposition'].dt.month\n",
    "data['year'] = data['first_day_exposition'].dt.year\n",
    "\n",
    "# Создаём функцию для заполнения нового столбца по типу этажа\n",
    "def floor_group(row):\n",
    "    if row['floor'] == 1:\n",
    "        return 'первый'\n",
    "    elif row['floor'] == row['floors_total']:\n",
    "        return 'последний'\n",
    "    else:\n",
    "        return 'другой'\n",
    "data['floor_type'] = data.apply(floor_group, axis=1)\n",
    "\n",
    "# Добавляем столбец с расстоянием до центра в км, округляем до целого\n",
    "data['center_km'] = data['cityCenters_nearest'] / 1000\n",
    "data['center_km'] = data['center_km'].fillna(0).astype(int)"
   ]
  },
  {
   "cell_type": "markdown",
   "metadata": {},
   "source": [
    "### Проведите исследовательский анализ данных"
   ]
  },
  {
   "cell_type": "code",
   "execution_count": 43,
   "metadata": {},
   "outputs": [
    {
     "data": {
      "text/plain": [
       "count    20268.000000\n",
       "mean        51.464138\n",
       "std         16.932063\n",
       "min         12.000000\n",
       "25%         38.400000\n",
       "50%         47.800000\n",
       "75%         61.500000\n",
       "max        146.000000\n",
       "Name: total_area, dtype: float64"
      ]
     },
     "execution_count": 43,
     "metadata": {},
     "output_type": "execute_result"
    },
    {
     "data": {
      "image/png": "[encoded data removed]",
      "text/plain": [
       "<Figure size 576x360 with 1 Axes>"
      ]
     },
     "metadata": {
      "needs_background": "light"
     },
     "output_type": "display_data"
    }
   ],
   "source": [
    "# Изучим общую площадь\n",
    "data.plot(y = 'total_area', kind = 'hist', bins = 80, grid=True, figsize = (8,5), range = (0,130))\n",
    "plt.title('Площадь квартир')\n",
    "plt.xlabel('Квадратные метры')\n",
    "plt.ylabel('Количество квартир')\n",
    "data['total_area'].describe()"
   ]
  },
  {
   "cell_type": "markdown",
   "metadata": {},
   "source": [
    "Распределение в целом нормальное, больше всего квартир около 50 м2, что впринципе похоже на правду"
   ]
  },
  {
   "cell_type": "code",
   "execution_count": 44,
   "metadata": {},
   "outputs": [
    {
     "data": {
      "image/png": "[encoded data removed]",
      "text/plain": [
       "<Figure size 576x360 with 1 Axes>"
      ]
     },
     "metadata": {
      "needs_background": "light"
     },
     "output_type": "display_data"
    },
    {
     "data": {
      "text/plain": [
       "count    20268.000000\n",
       "mean        29.637141\n",
       "std         12.165457\n",
       "min          5.000000\n",
       "25%         18.110000\n",
       "50%         28.700000\n",
       "75%         38.000000\n",
       "max         80.000000\n",
       "Name: living_area, dtype: float64"
      ]
     },
     "execution_count": 44,
     "metadata": {},
     "output_type": "execute_result"
    }
   ],
   "source": [
    "# Жилая площадь\n",
    "data.plot(y = 'living_area', kind = 'hist', bins = 50, grid=True, figsize = (8,5), range = (0,90))\n",
    "plt.title('Жилая площадь')\n",
    "plt.xlabel('Квадратные метры')\n",
    "plt.ylabel('Количество квартир')\n",
    "plt.show()\n",
    "data['living_area'].describe()"
   ]
  },
  {
   "cell_type": "markdown",
   "metadata": {},
   "source": [
    "Есть выбросы, но они вполне объяснимы, всплески по площади вероятнее всего относятся к 1 и 2х комнатным квартирам"
   ]
  },
  {
   "cell_type": "code",
   "execution_count": 45,
   "metadata": {},
   "outputs": [
    {
     "data": {
      "image/png": "[encoded data removed]",
      "text/plain": [
       "<Figure size 576x360 with 1 Axes>"
      ]
     },
     "metadata": {
      "needs_background": "light"
     },
     "output_type": "display_data"
    },
    {
     "data": {
      "text/plain": [
       "count    20268.000000\n",
       "mean         9.057907\n",
       "std          2.954306\n",
       "min          1.300000\n",
       "25%          6.900000\n",
       "50%          8.600000\n",
       "75%         10.800000\n",
       "max         20.000000\n",
       "Name: kitchen_area, dtype: float64"
      ]
     },
     "execution_count": 45,
     "metadata": {},
     "output_type": "execute_result"
    }
   ],
   "source": [
    "# Площадь кухни\n",
    "data.plot(y = 'kitchen_area', kind = 'hist', bins = 50, grid=True, figsize = (8,5), range = (0,40))\n",
    "plt.title('Площадь кухни')\n",
    "plt.xlabel('Квадратные метры')\n",
    "plt.ylabel('Количество квартир')\n",
    "plt.show()\n",
    "data['kitchen_area'].describe()"
   ]
  },
  {
   "cell_type": "markdown",
   "metadata": {},
   "source": [
    "Площадь кухни практически повторяет предыдущий график, что вполне логично"
   ]
  },
  {
   "cell_type": "code",
   "execution_count": 46,
   "metadata": {},
   "outputs": [
    {
     "data": {
      "image/png": "[encoded data removed]",
      "text/plain": [
       "<Figure size 720x360 with 1 Axes>"
      ]
     },
     "metadata": {
      "needs_background": "light"
     },
     "output_type": "display_data"
    },
    {
     "data": {
      "text/plain": [
       "count      20268.000\n",
       "mean     4588609.769\n",
       "std      1929050.415\n",
       "min       430000.000\n",
       "25%      3250000.000\n",
       "50%      4300000.000\n",
       "75%      5700000.000\n",
       "max     10000000.000\n",
       "Name: last_price, dtype: float64"
      ]
     },
     "execution_count": 46,
     "metadata": {},
     "output_type": "execute_result"
    }
   ],
   "source": [
    "# Цена объекта\n",
    "data.plot(y = 'last_price', kind = 'hist', bins =80, grid=True, figsize = (10,5), range = (0,10000000))\n",
    "plt.gca().ticklabel_format(axis=\"x\", style='plain') #приводим в читабельный формат на графике\n",
    "plt.title('Стоимость квартир')\n",
    "plt.xlabel('Стоимость')\n",
    "plt.ylabel('Количество квартир')\n",
    "plt.show()\n",
    "pd.options.display.float_format = '{:.3f}'.format #приводим в читабельный формат\n",
    "data['last_price'].describe()"
   ]
  },
  {
   "cell_type": "markdown",
   "metadata": {},
   "source": [
    "В основном квартиры продаются в пределах 3-5 млн ₽ "
   ]
  },
  {
   "cell_type": "code",
   "execution_count": 47,
   "metadata": {},
   "outputs": [
    {
     "data": {
      "image/png": "[encoded data removed]",
      "text/plain": [
       "<Figure size 576x360 with 1 Axes>"
      ]
     },
     "metadata": {
      "needs_background": "light"
     },
     "output_type": "display_data"
    },
    {
     "data": {
      "text/plain": [
       "count   20268.000\n",
       "mean        1.888\n",
       "std         0.883\n",
       "min         0.000\n",
       "25%         1.000\n",
       "50%         2.000\n",
       "75%         3.000\n",
       "max         6.000\n",
       "Name: rooms, dtype: float64"
      ]
     },
     "execution_count": 47,
     "metadata": {},
     "output_type": "execute_result"
    }
   ],
   "source": [
    "# Количество комнат\n",
    "data.plot(y = 'rooms', kind = 'hist', bins =15, grid=True, figsize = (8,5), range = (0,7))\n",
    "plt.title('Комнаты')\n",
    "plt.xlabel('Количество комнат')\n",
    "plt.ylabel('Количество квартир')\n",
    "plt.show()\n",
    "data['rooms'].describe()"
   ]
  },
  {
   "cell_type": "markdown",
   "metadata": {},
   "source": [
    "Больше всего 1 и 2х комнатных квартир, все как в реальной жизни"
   ]
  },
  {
   "cell_type": "code",
   "execution_count": 48,
   "metadata": {},
   "outputs": [
    {
     "data": {
      "image/png": "[encoded data removed]",
      "text/plain": [
       "<Figure size 576x360 with 1 Axes>"
      ]
     },
     "metadata": {
      "needs_background": "light"
     },
     "output_type": "display_data"
    },
    {
     "data": {
      "text/plain": [
       "count   20268.000\n",
       "mean        2.657\n",
       "std         0.143\n",
       "min         2.200\n",
       "25%         2.600\n",
       "50%         2.650\n",
       "75%         2.650\n",
       "max         3.490\n",
       "Name: ceiling_height, dtype: float64"
      ]
     },
     "execution_count": 48,
     "metadata": {},
     "output_type": "execute_result"
    }
   ],
   "source": [
    "# Высота потолков\n",
    "data.plot(y = 'ceiling_height', kind = 'hist', bins =20, grid=True, figsize = (8,5), range = (2,4))\n",
    "plt.title('Высота потолков')\n",
    "plt.xlabel('Метры')\n",
    "plt.ylabel('Количество квартир')\n",
    "plt.show()\n",
    "data['ceiling_height'].describe()"
   ]
  },
  {
   "cell_type": "markdown",
   "metadata": {},
   "source": [
    "Большинство квартир высотой примерно 2,65м"
   ]
  },
  {
   "cell_type": "code",
   "execution_count": 49,
   "metadata": {},
   "outputs": [
    {
     "data": {
      "image/png": "[encoded data removed]",
      "text/plain": [
       "<Figure size 576x360 with 1 Axes>"
      ]
     },
     "metadata": {
      "needs_background": "light"
     },
     "output_type": "display_data"
    },
    {
     "data": {
      "text/plain": [
       "count   20268.000\n",
       "mean        5.826\n",
       "std         4.801\n",
       "min         1.000\n",
       "25%         2.000\n",
       "50%         4.000\n",
       "75%         8.000\n",
       "max        25.000\n",
       "Name: floor, dtype: float64"
      ]
     },
     "execution_count": 49,
     "metadata": {},
     "output_type": "execute_result"
    }
   ],
   "source": [
    "# Этаж квартиры\n",
    "data.plot(y = 'floor', kind = 'hist', bins =30, grid=True, figsize = (8,5), range = (1,30))\n",
    "plt.title('Этаж квартиры')\n",
    "plt.xlabel('Этаж')\n",
    "plt.ylabel('Количество квартир')\n",
    "plt.show()\n",
    "data['floor'].describe()"
   ]
  },
  {
   "cell_type": "markdown",
   "metadata": {},
   "source": [
    "Больше всего живут на первых пяти этажах, подозреваю, что это связано с тем, что больше всего зданий до 5 этажей, увидим это далее "
   ]
  },
  {
   "cell_type": "code",
   "execution_count": 50,
   "metadata": {},
   "outputs": [
    {
     "data": {
      "text/plain": [
       "Text(0, 0.5, 'Количество квартир')"
      ]
     },
     "execution_count": 50,
     "metadata": {},
     "output_type": "execute_result"
    },
    {
     "data": {
      "image/png": "[encoded data removed]",
      "text/plain": [
       "<Figure size 432x288 with 1 Axes>"
      ]
     },
     "metadata": {
      "needs_background": "light"
     },
     "output_type": "display_data"
    }
   ],
   "source": [
    "# Тип этажа квартиры\n",
    "data['floor_type'].value_counts().plot(y='median', kind='bar')\n",
    "plt.title('Тип этажа квартиры')\n",
    "plt.xlabel('Тип')\n",
    "plt.xticks(rotation = 5)\n",
    "plt.ylabel('Количество квартир')"
   ]
  },
  {
   "cell_type": "markdown",
   "metadata": {},
   "source": [
    "Все логично, не первых и не последних этажей в разы больше"
   ]
  },
  {
   "cell_type": "code",
   "execution_count": 51,
   "metadata": {},
   "outputs": [
    {
     "data": {
      "image/png": "[encoded data removed]",
      "text/plain": [
       "<Figure size 576x360 with 1 Axes>"
      ]
     },
     "metadata": {
      "needs_background": "light"
     },
     "output_type": "display_data"
    },
    {
     "data": {
      "text/plain": [
       "count   20268.000\n",
       "mean       10.721\n",
       "std         6.520\n",
       "min         1.000\n",
       "25%         5.000\n",
       "50%         9.000\n",
       "75%        16.000\n",
       "max        29.000\n",
       "Name: floors_total, dtype: float64"
      ]
     },
     "execution_count": 51,
     "metadata": {},
     "output_type": "execute_result"
    }
   ],
   "source": [
    "# Общее количество этажей квартиры\n",
    "data.plot(y = 'floors_total', kind = 'hist', bins =30, grid=True, figsize = (8,5), range = (1,30))\n",
    "plt.title('Этажность дома')\n",
    "plt.xlabel('Этажей в доме')\n",
    "plt.ylabel('Количество квартир')\n",
    "plt.show()\n",
    "data['floors_total'].describe()"
   ]
  },
  {
   "cell_type": "markdown",
   "metadata": {},
   "source": [
    "Как и предполагал выше, больше всего представлено пятиэтажек и девятиэтажек"
   ]
  },
  {
   "cell_type": "code",
   "execution_count": 52,
   "metadata": {},
   "outputs": [
    {
     "data": {
      "image/png": "[encoded data removed]",
      "text/plain": [
       "<Figure size 576x360 with 1 Axes>"
      ]
     },
     "metadata": {
      "needs_background": "light"
     },
     "output_type": "display_data"
    },
    {
     "data": {
      "text/plain": [
       "count   14940.000\n",
       "mean    15303.076\n",
       "std      8471.170\n",
       "min       287.000\n",
       "25%     10955.000\n",
       "50%     13841.500\n",
       "75%     16802.000\n",
       "max     65968.000\n",
       "Name: cityCenters_nearest, dtype: float64"
      ]
     },
     "execution_count": 52,
     "metadata": {},
     "output_type": "execute_result"
    }
   ],
   "source": [
    "# расстояние до центра города в метрах\n",
    "data.plot(y = 'cityCenters_nearest', kind = 'hist', bins = 80, grid=True, figsize = (8,5), range = (1,60000))\n",
    "plt.title('Расстояние до центра города в метрах')\n",
    "plt.xlabel('Метры')\n",
    "plt.ylabel('Количество квартир')\n",
    "plt.show()\n",
    "data['cityCenters_nearest'].describe()"
   ]
  },
  {
   "cell_type": "markdown",
   "metadata": {},
   "source": [
    "Большинство квартир располагается достаточно далеко от центра от 10 до 20км, но и до 5км от центра вполне много объектов"
   ]
  },
  {
   "cell_type": "code",
   "execution_count": 53,
   "metadata": {},
   "outputs": [
    {
     "data": {
      "image/png": "[encoded data removed]",
      "text/plain": [
       "<Figure size 576x360 with 1 Axes>"
      ]
     },
     "metadata": {
      "needs_background": "light"
     },
     "output_type": "display_data"
    },
    {
     "data": {
      "text/plain": [
       "count   14928.000\n",
       "mean    29012.999\n",
       "std     13111.435\n",
       "min         0.000\n",
       "25%     17837.750\n",
       "50%     27385.500\n",
       "75%     38092.000\n",
       "max     84869.000\n",
       "Name: airports_nearest, dtype: float64"
      ]
     },
     "execution_count": 53,
     "metadata": {},
     "output_type": "execute_result"
    }
   ],
   "source": [
    "# Расстояние до ближайшего аэропорта\n",
    "data.plot(y = 'airports_nearest', kind = 'hist', bins = 80, grid=True, figsize = (8,5), range = (0,80000))\n",
    "plt.title('Расстояние до аэропорта в метрах')\n",
    "plt.xlabel('Метры')\n",
    "plt.ylabel('Количество квартир')\n",
    "plt.show()\n",
    "data['airports_nearest'].describe()"
   ]
  },
  {
   "cell_type": "markdown",
   "metadata": {},
   "source": [
    "Эти данные мы не трогали, но гистограмма выглядит приемлимо, с редкими всплесками, которые можно объяснить плотными застройками некоторых районов"
   ]
  },
  {
   "cell_type": "code",
   "execution_count": 54,
   "metadata": {},
   "outputs": [
    {
     "data": {
      "image/png": "[encoded data removed]",
      "text/plain": [
       "<Figure size 576x360 with 1 Axes>"
      ]
     },
     "metadata": {
      "needs_background": "light"
     },
     "output_type": "display_data"
    },
    {
     "data": {
      "text/plain": [
       "count   6065.000\n",
       "mean     487.994\n",
       "std      323.214\n",
       "min        1.000\n",
       "25%      293.000\n",
       "50%      456.000\n",
       "75%      613.000\n",
       "max     3190.000\n",
       "Name: parks_nearest, dtype: float64"
      ]
     },
     "execution_count": 54,
     "metadata": {},
     "output_type": "execute_result"
    }
   ],
   "source": [
    "# Расстояние до ближайшего парка\n",
    "data.plot(y = 'parks_nearest', kind = 'hist', bins = 80, grid=True, figsize = (8,5), range = (0,3500))\n",
    "plt.title('Расстояние до парка в метрах')\n",
    "plt.xlabel('Метры')\n",
    "plt.ylabel('Количество квартир')\n",
    "plt.show()\n",
    "data['parks_nearest'].describe()"
   ]
  },
  {
   "cell_type": "markdown",
   "metadata": {},
   "source": [
    "С парками дела получше, большинство квартир, о которых есть данные находятся в 500 метрах от парков"
   ]
  },
  {
   "cell_type": "code",
   "execution_count": 55,
   "metadata": {},
   "outputs": [
    {
     "data": {
      "image/png": "[encoded data removed]",
      "text/plain": [
       "<Figure size 576x360 with 1 Axes>"
      ]
     },
     "metadata": {
      "needs_background": "light"
     },
     "output_type": "display_data"
    },
    {
     "data": {
      "image/png": "[encoded data removed]",
      "text/plain": [
       "<Figure size 576x360 with 1 Axes>"
      ]
     },
     "metadata": {
      "needs_background": "light"
     },
     "output_type": "display_data"
    }
   ],
   "source": [
    "# День и месяц публикации объявления\n",
    "data['month'].hist(bins = 30, grid=True, figsize = (8,5), range = (0,12))\n",
    "plt.title('Месяц публикации объявления')\n",
    "plt.xlabel('Месяц')\n",
    "plt.ylabel('Количество квартир')\n",
    "plt.show()\n",
    "data['weekday'].hist(bins = 30, grid=True, figsize = (8,5), range = (0,7))\n",
    "plt.title('День недели публикации объявления')\n",
    "plt.xlabel('День недели')\n",
    "plt.ylabel('Количество квартир')\n",
    "plt.show()"
   ]
  },
  {
   "cell_type": "markdown",
   "metadata": {},
   "source": [
    "   Наблюдаем сезонность по месяцам, с февраля по апрель наиболее активно выкладываются объявления, летом идет спад, наверняка все уезжают в отпуска, и до конца осени видим подъем.  \n",
    "   По дням недели пользователи активнее всего в буднни, а в выходные многим не до продаж квартир"
   ]
  },
  {
   "cell_type": "markdown",
   "metadata": {},
   "source": [
    "### Вывод 3.\n",
    "  - <b>общая площадь</b> - больше всего продаются квартиры с площадью 50-56м2, больших квартиир (более 100м2) сильно меньше остальных;\n",
    "  - <b>жилая площадь</b> - исходя из общей площади, здесь превалируют квартиры с 15-20м2 и 30-35м2, что объясняется размерами 1 и 2х комнатных квартир, квартир с жилой площадью более 50м2 достаточно мало;\n",
    "  - <b>площадь кухни</b> - также, как и жилая площадь, пропорционально распределилась по размерам и площадь кухни, болшая часть из них - кухни 7-12м2, кухонь, с площадью более 15м2 меньшинство;\n",
    "  - <b>цена объекта</b> - большая часть квартир стоит в пределах 2,5-6 млн ₽, есть небольшое количество квартир и сильно дешевле, есть и супердорогие стоимостью более 100 млн ₽, но их единицы;\n",
    "  - <b>количество комнат</b> - здесь самые популярные квартиры как и ожидалось это 1 и 2х комнатные квартиры, 3х комнатных сильно меньше, но их тоже достаточно много, остальных мизерное количество;\n",
    "  - <b>высота потолков</b> - после того как мы избавились от 100 метровых потолков, пришли к выводу, что в большинстве квартир потолки высотой от 2,5 до 2,75 м;\n",
    "  - <b>этаж квартиры</b> - большинство продаваемых квартир располагается до 5го этажа, что объяснимо большим количеством 5ти этажек, также есть достаточное количество до 9 этажей, более 10 этажей заметно меньше, чем выше этаж - тем меньше квартир  ;\n",
    "  - <b>тип этажа квартиры («первый», «последний», «другой»)</b> - здесь все логично, первых и последних этажей кратно меньше, чем остальных;\n",
    "  - <b>общее количество этажей в доме</b> - как отмечал выше, болше всего на рынке квартир пяти и девяти этажных зданий, есть мини пики на 12, 16 и 25 этажках;\n",
    "  - <b>расстояние до центра города в метрах</b> - основная масса квартир располагается на расстоянии 10-20 тысяч метров от центра, до 10 тоже есть немалое количество квартир, сильно больше, чем тех, которые за 20ю тысячами;\n",
    "  - <b>расстояние до ближайшего аэропорта</b> - основная масса квартир располагается от 10 до 30км от аэропорта, что в целом не так уж и много, добираться недолго, и шум самолетов не мешает;\n",
    "  - <b>расстояние до ближайшего парка</b> - эти данные, как и данные об аэропортах мы не трогали, тк они были выгружены системой, но в целом, думаю что на результаты это сильно не повлияло, у подавляющего большинства квартир парки не дальше 1го километра;\n",
    "  - <b>день и месяц публикации объявления</b> - тут мы выяснили, что чаще всего объявления выкладывались(именно выкладывались, а не продавались, тк мы работали со столбцом first_day_exposition — дата публикации) с февраля по апрель, летом пользовоталем не продаж и наблюдаем спад, а начиная с августа видим некоторый рост вплоть до декабря. Если исходить из дня недели, четверг - самый активный день, но в целом в будни примерно одинаково активно размещались объявления, в выходные заметно меньше активность"
   ]
  },
  {
   "cell_type": "markdown",
   "metadata": {},
   "source": [
    "<b>Изучим, как быстро продавались квартиры:</b>"
   ]
  },
  {
   "cell_type": "code",
   "execution_count": 56,
   "metadata": {},
   "outputs": [
    {
     "data": {
      "text/plain": [
       "count   17865.000\n",
       "mean      169.852\n",
       "std       207.441\n",
       "min         1.000\n",
       "25%        43.000\n",
       "50%        90.000\n",
       "75%       216.000\n",
       "max      1580.000\n",
       "Name: days_exposition, dtype: float64"
      ]
     },
     "execution_count": 56,
     "metadata": {},
     "output_type": "execute_result"
    }
   ],
   "source": [
    "data['days_exposition'].describe()"
   ]
  },
  {
   "cell_type": "markdown",
   "metadata": {},
   "source": [
    "Видим большую разницу между средней и медианой, средняя больше в 1,75 раз.  \n",
    "В среднем квартира продается 166 дней, по медиане почти 3 месяца\n",
    "Самая долгая продажа чуть больше 4х лет, возможно кто-то не очень то и хотел продавать свою недвижимость)  \n",
    "Самая быстрая - всего один день, но возможно это была не продажа, а просто пользователь снял объявление "
   ]
  },
  {
   "cell_type": "code",
   "execution_count": 57,
   "metadata": {},
   "outputs": [
    {
     "data": {
      "image/png": "[encoded data removed]",
      "text/plain": [
       "<Figure size 576x360 with 1 Axes>"
      ]
     },
     "metadata": {
      "needs_background": "light"
     },
     "output_type": "display_data"
    },
    {
     "data": {
      "image/png": "[encoded data removed]",
      "text/plain": [
       "<Figure size 576x360 with 1 Axes>"
      ]
     },
     "metadata": {
      "needs_background": "light"
     },
     "output_type": "display_data"
    }
   ],
   "source": [
    "data.plot(y = 'days_exposition', kind = 'hist', bins = 30, grid=True, figsize = (8,5), range = (0,1580))\n",
    "data.plot(y = 'days_exposition', kind = 'hist', bins = 30, grid=True, figsize = (8,5), range = (0,200))\n",
    "plt.title('Дней размещения объявления')\n",
    "plt.xlabel('Количество дней')\n",
    "plt.ylabel('Количество квартир')\n",
    "plt.show()"
   ]
  },
  {
   "cell_type": "markdown",
   "metadata": {},
   "source": [
    "При приближении графика видим 3 выброса в районе 90, 60 и 45 дней.  \n",
    "В правилах размещения объявлений https://yandex.ru/support/realty/paid.html видим, что в эти дни система автоматически закрывает объявления в зависимости от цены квартиры (Сейчас для Питера и Москвы другие правила, пик должен быть на 120 днях, но подозреваю что в 2015-2018гг правила были едины для всех)  \n",
    "Избавимся от этих выбросов"
   ]
  },
  {
   "cell_type": "code",
   "execution_count": 58,
   "metadata": {},
   "outputs": [
    {
     "data": {
      "image/png": "[encoded data removed]",
      "text/plain": [
       "<Figure size 576x360 with 1 Axes>"
      ]
     },
     "metadata": {
      "needs_background": "light"
     },
     "output_type": "display_data"
    },
    {
     "data": {
      "text/plain": [
       "count   17865.000\n",
       "mean      169.852\n",
       "std       207.441\n",
       "min         1.000\n",
       "25%        43.000\n",
       "50%        90.000\n",
       "75%       216.000\n",
       "max      1580.000\n",
       "Name: days_exposition, dtype: float64"
      ]
     },
     "execution_count": 58,
     "metadata": {},
     "output_type": "execute_result"
    }
   ],
   "source": [
    "data.plot(y = 'days_exposition', kind = 'hist', bins = 30, grid=True, figsize = (8,5), range = (0,550))\n",
    "plt.title('Дней размещения объявления')\n",
    "plt.xlabel('Количество дней')\n",
    "plt.ylabel('Количество квартир')\n",
    "plt.show()\n",
    "data['days_exposition'].describe()"
   ]
  },
  {
   "cell_type": "code",
   "execution_count": 59,
   "metadata": {},
   "outputs": [
    {
     "data": {
      "text/plain": [
       "count   17865.000\n",
       "mean      169.852\n",
       "std       207.441\n",
       "min         1.000\n",
       "25%        43.000\n",
       "50%        90.000\n",
       "75%       216.000\n",
       "max      1580.000\n",
       "Name: days_exposition, dtype: float64"
      ]
     },
     "execution_count": 59,
     "metadata": {},
     "output_type": "execute_result"
    }
   ],
   "source": [
    "#data = data.query('days_exposition <= 370')# Отбросим также сильно большие значения исходя из диаграммы размаха\n",
    "data['days_exposition'].describe()"
   ]
  },
  {
   "cell_type": "markdown",
   "metadata": {},
   "source": [
    "После очистки от аномалий значения почти вернулись к изначальным, в среднем квартира продается 4 месяца, по медиане 3 месяца  \n"
   ]
  },
  {
   "cell_type": "markdown",
   "metadata": {},
   "source": [
    "#### Попробуем ответить на вопрос \"какие факторы больше всего влияют на общую (полную) стоимость объекта?\""
   ]
  },
  {
   "cell_type": "code",
   "execution_count": 60,
   "metadata": {},
   "outputs": [
    {
     "data": {
      "image/png": "[encoded data removed]",
      "text/plain": [
       "<Figure size 720x504 with 1 Axes>"
      ]
     },
     "metadata": {
      "needs_background": "light"
     },
     "output_type": "display_data"
    },
    {
     "name": "stdout",
     "output_type": "stream",
     "text": [
      "Корреляция цены и площади:\n"
     ]
    },
    {
     "data": {
      "text/plain": [
       "0.6558503109130073"
      ]
     },
     "execution_count": 60,
     "metadata": {},
     "output_type": "execute_result"
    }
   ],
   "source": [
    "# Зависимость стоимости квартиры от общей площади\n",
    "(data\n",
    "     .pivot_table(index='total_area', values='last_price', aggfunc = ['mean'])\n",
    "     .plot(grid=True, style='o', figsize=(10, 7))\n",
    ")\n",
    "plt.gca().ticklabel_format(axis=\"y\", style='plain')\n",
    "plt.title('Зависимость стоимости квартиры от общей площади')\n",
    "plt.xlabel('Общая площадь')\n",
    "plt.ylabel('Стоимость квартиры')\n",
    "plt.show()\n",
    "print('Корреляция цены и площади:')\n",
    "data['total_area'].corr(data['last_price'])"
   ]
  },
  {
   "cell_type": "markdown",
   "metadata": {},
   "source": [
    "Логично высокая корреляция, чем больше квартира, тем больше ее стоимость"
   ]
  },
  {
   "cell_type": "code",
   "execution_count": 61,
   "metadata": {},
   "outputs": [
    {
     "data": {
      "image/png": "[encoded data removed]",
      "text/plain": [
       "<Figure size 720x504 with 1 Axes>"
      ]
     },
     "metadata": {
      "needs_background": "light"
     },
     "output_type": "display_data"
    },
    {
     "name": "stdout",
     "output_type": "stream",
     "text": [
      "Корреляция цены и жилой площади:\n"
     ]
    },
    {
     "data": {
      "text/plain": [
       "0.5455514221049946"
      ]
     },
     "execution_count": 61,
     "metadata": {},
     "output_type": "execute_result"
    }
   ],
   "source": [
    "# Зависимость стоимости квартиры от жилой площади\n",
    "(data\n",
    "     .pivot_table(index='living_area', values='last_price', aggfunc = ['mean'])\n",
    "     .plot(grid=True, style='o', figsize=(10, 7))\n",
    ")\n",
    "plt.gca().ticklabel_format(axis=\"y\", style='plain')\n",
    "plt.title('Зависимость стоимости квартиры от жилой площади')\n",
    "plt.xlabel('Жилая площадь')\n",
    "plt.ylabel('Стоимость квартиры')\n",
    "plt.show()\n",
    "print('Корреляция цены и жилой площади:')\n",
    "data['living_area'].corr(data['last_price'])"
   ]
  },
  {
   "cell_type": "markdown",
   "metadata": {},
   "source": [
    "Здесь корреляция чуть ниже, но все равно вполне высокая"
   ]
  },
  {
   "cell_type": "code",
   "execution_count": 62,
   "metadata": {},
   "outputs": [
    {
     "data": {
      "image/png": "[encoded data removed]",
      "text/plain": [
       "<Figure size 720x504 with 1 Axes>"
      ]
     },
     "metadata": {
      "needs_background": "light"
     },
     "output_type": "display_data"
    },
    {
     "name": "stdout",
     "output_type": "stream",
     "text": [
      "Корреляция цены и площади кухни:\n"
     ]
    },
    {
     "data": {
      "text/plain": [
       "0.4757816688726962"
      ]
     },
     "execution_count": 62,
     "metadata": {},
     "output_type": "execute_result"
    }
   ],
   "source": [
    "# Зависимость стоимости квартиры от площади кухни\n",
    "(data\n",
    "     .pivot_table(index='kitchen_area', values='last_price', aggfunc = ['mean'])\n",
    "     .plot(grid=True, style='o', figsize=(10, 7))\n",
    ")\n",
    "plt.gca().ticklabel_format(axis=\"y\", style='plain')\n",
    "plt.title('Зависимость стоимости квартиры от площади кухни')\n",
    "plt.xlabel('Площадь кухни')\n",
    "plt.ylabel('Стоимость квартиры')\n",
    "plt.show()\n",
    "print('Корреляция цены и площади кухни:')\n",
    "data['kitchen_area'].corr(data['last_price'])"
   ]
  },
  {
   "cell_type": "markdown",
   "metadata": {},
   "source": [
    "Есть немного шума, корреляция здесь средняя, зависимость незначительно меньше, чем у жилой площади"
   ]
  },
  {
   "cell_type": "code",
   "execution_count": 63,
   "metadata": {},
   "outputs": [
    {
     "data": {
      "image/png": "[encoded data removed]",
      "text/plain": [
       "<Figure size 432x288 with 1 Axes>"
      ]
     },
     "metadata": {
      "needs_background": "light"
     },
     "output_type": "display_data"
    },
    {
     "name": "stdout",
     "output_type": "stream",
     "text": [
      "Корреляция цены и количества комнат:\n"
     ]
    },
    {
     "data": {
      "text/plain": [
       "0.4222402892381839"
      ]
     },
     "execution_count": 63,
     "metadata": {},
     "output_type": "execute_result"
    }
   ],
   "source": [
    "# Зависимость стоимости квартиры от количества комнат\n",
    "(data\n",
    "     .pivot_table(index = 'rooms', values = 'last_price', aggfunc = ['mean'])\n",
    "     .plot(y = 'mean', kind = 'bar')\n",
    ")\n",
    "plt.gca().ticklabel_format(axis=\"y\", style='plain')\n",
    "plt.title('Зависимость стоимости квартиры от количества комнат')\n",
    "plt.xlabel('Количество комнат')\n",
    "plt.xticks(rotation = 0)\n",
    "plt.ylabel('Стоимость квартиры')\n",
    "plt.show()\n",
    "print('Корреляция цены и количества комнат:')\n",
    "data['rooms'].corr(data['last_price'])"
   ]
  },
  {
   "cell_type": "markdown",
   "metadata": {},
   "source": [
    "Видим на графике высокую корреляцию, что в принципе логично, больше комнат -> больше площадь -> больше цена, но в среднем кореляция  0,4 не такая уж и большая, тк большекомнатных квартир очень мало"
   ]
  },
  {
   "cell_type": "code",
   "execution_count": 64,
   "metadata": {},
   "outputs": [
    {
     "data": {
      "image/png": "[encoded data removed]",
      "text/plain": [
       "<Figure size 504x504 with 1 Axes>"
      ]
     },
     "metadata": {
      "needs_background": "light"
     },
     "output_type": "display_data"
    }
   ],
   "source": [
    "# Зависимость стоимости квартиры от типа этажа, на котором расположена квартира (первый, последний, другой)\n",
    "(\n",
    "    data.pivot_table(index='floor_type', values='last_price')\n",
    "    .plot(grid=True, style='o-', figsize=(7, 7))\n",
    ")\n",
    "plt.gca().ticklabel_format(axis=\"y\", style='plain')\n",
    "plt.title('Зависимость стоимости квартиры от типа этажа')\n",
    "plt.xlabel('Тип этажа')\n",
    "plt.ylabel('Стоимость квартиры')\n",
    "plt.show()"
   ]
  },
  {
   "cell_type": "markdown",
   "metadata": {},
   "source": [
    "первый этаж продается заметно хуже, поэтому владельцы снижают стоимость своих квартир, чтобы все таки продать квартиру, последние этажи не так сильно пугают потенциальных покупателей, но продаются дешевле, чем другие этажи"
   ]
  },
  {
   "cell_type": "code",
   "execution_count": 65,
   "metadata": {},
   "outputs": [
    {
     "data": {
      "image/png": "[encoded data removed]",
      "text/plain": [
       "<Figure size 504x504 with 1 Axes>"
      ]
     },
     "metadata": {
      "needs_background": "light"
     },
     "output_type": "display_data"
    },
    {
     "name": "stdout",
     "output_type": "stream",
     "text": [
      "Корреляция цены и дня недели:\n",
      "-0.013967308464039936\n"
     ]
    },
    {
     "data": {
      "image/png": "[encoded data removed]",
      "text/plain": [
       "<Figure size 720x504 with 1 Axes>"
      ]
     },
     "metadata": {
      "needs_background": "light"
     },
     "output_type": "display_data"
    },
    {
     "name": "stdout",
     "output_type": "stream",
     "text": [
      "Корреляция цены и месяца:\n",
      "0.0031009102052561117\n"
     ]
    },
    {
     "data": {
      "image/png": "[encoded data removed]",
      "text/plain": [
       "<Figure size 504x504 with 1 Axes>"
      ]
     },
     "metadata": {
      "needs_background": "light"
     },
     "output_type": "display_data"
    },
    {
     "name": "stdout",
     "output_type": "stream",
     "text": [
      "Корреляция цены и года:\n",
      "0.012258826662614917\n"
     ]
    }
   ],
   "source": [
    "# Зависимость стоимости квартиры от даты размещения (день недели, месяц, год)\n",
    "# Зависимость от дня размещения\n",
    "(\n",
    "    data.pivot_table(index='weekday', values='last_price', aggfunc = ['mean'])\n",
    "    .plot(grid=True, style='o-', figsize=(7, 7))\n",
    ")\n",
    "plt.gca().ticklabel_format(axis=\"y\", style='plain')\n",
    "plt.title('Зависимость стоимости квартиры от дня недели')\n",
    "plt.xlabel('День недели')\n",
    "plt.ylabel('Стоимость квартиры')\n",
    "plt.show()\n",
    "print('Корреляция цены и дня недели:')\n",
    "print(data['weekday'].corr(data['last_price']))\n",
    "\n",
    "# Зависимость от месяца размещения\n",
    "(\n",
    "    data.pivot_table(index='month', values='last_price', aggfunc = ['mean'])\n",
    "    .plot(grid=True, style='o-', xlim=(1,12), figsize=(10, 7))\n",
    ")\n",
    "plt.gca().ticklabel_format(axis=\"y\", style='plain')\n",
    "plt.title('Зависимость стоимости квартиры от месяца')\n",
    "plt.xlabel('Месяц')\n",
    "plt.ylabel('Стоимость квартиры')\n",
    "plt.show()\n",
    "print('Корреляция цены и месяца:')\n",
    "print(data['month'].corr(data['last_price']))\n",
    "\n",
    "# Зависимость от года размещения\n",
    "(\n",
    "    data.pivot_table(index='year', values='last_price', aggfunc = ['mean'])\n",
    "    .plot(grid=True, style='o-', figsize=(7, 7))\n",
    ")\n",
    "plt.gca().ticklabel_format(axis=\"y\", style='plain')\n",
    "plt.title('Зависимость стоимости квартиры от года')\n",
    "plt.xlabel('Год')\n",
    "plt.ylabel('Стоимость квартиры')\n",
    "plt.show()\n",
    "print('Корреляция цены и года:')\n",
    "print(data['year'].corr(data['last_price']))\n"
   ]
  },
  {
   "cell_type": "markdown",
   "metadata": {},
   "source": [
    "Временные параметры практически не влияют на стоимость квартиры, по четвергам квартира уходит дороже всего, месяцы январь и сентябрь тоже молодцы, немного удивило что с 2014го квартиры подешевели, но.."
   ]
  },
  {
   "cell_type": "code",
   "execution_count": 66,
   "metadata": {},
   "outputs": [
    {
     "data": {
      "text/html": [
       "<div>\n",
       "<style scoped>\n",
       "    .dataframe tbody tr th:only-of-type {\n",
       "        vertical-align: middle;\n",
       "    }\n",
       "\n",
       "    .dataframe tbody tr th {\n",
       "        vertical-align: top;\n",
       "    }\n",
       "\n",
       "    .dataframe thead th {\n",
       "        text-align: right;\n",
       "    }\n",
       "</style>\n",
       "<table border=\"1\" class=\"dataframe\">\n",
       "  <thead>\n",
       "    <tr style=\"text-align: right;\">\n",
       "      <th></th>\n",
       "      <th>mean</th>\n",
       "      <th>count</th>\n",
       "      <th>median</th>\n",
       "    </tr>\n",
       "    <tr>\n",
       "      <th>year</th>\n",
       "      <th></th>\n",
       "      <th></th>\n",
       "      <th></th>\n",
       "    </tr>\n",
       "  </thead>\n",
       "  <tbody>\n",
       "    <tr>\n",
       "      <th>2014</th>\n",
       "      <td>5249472.000</td>\n",
       "      <td>78</td>\n",
       "      <td>5120000</td>\n",
       "    </tr>\n",
       "    <tr>\n",
       "      <th>2019</th>\n",
       "      <td>4872342.074</td>\n",
       "      <td>2460</td>\n",
       "      <td>4700000</td>\n",
       "    </tr>\n",
       "    <tr>\n",
       "      <th>2015</th>\n",
       "      <td>4850564.260</td>\n",
       "      <td>909</td>\n",
       "      <td>4590000</td>\n",
       "    </tr>\n",
       "    <tr>\n",
       "      <th>2018</th>\n",
       "      <td>4538588.812</td>\n",
       "      <td>7447</td>\n",
       "      <td>4290000</td>\n",
       "    </tr>\n",
       "    <tr>\n",
       "      <th>2016</th>\n",
       "      <td>4548800.924</td>\n",
       "      <td>2346</td>\n",
       "      <td>4200000</td>\n",
       "    </tr>\n",
       "    <tr>\n",
       "      <th>2017</th>\n",
       "      <td>4514371.332</td>\n",
       "      <td>7028</td>\n",
       "      <td>4179000</td>\n",
       "    </tr>\n",
       "  </tbody>\n",
       "</table>\n",
       "</div>"
      ],
      "text/plain": [
       "            mean  count   median\n",
       "year                            \n",
       "2014 5249472.000     78  5120000\n",
       "2019 4872342.074   2460  4700000\n",
       "2015 4850564.260    909  4590000\n",
       "2018 4538588.812   7447  4290000\n",
       "2016 4548800.924   2346  4200000\n",
       "2017 4514371.332   7028  4179000"
      ]
     },
     "execution_count": 66,
     "metadata": {},
     "output_type": "execute_result"
    }
   ],
   "source": [
    "data1 = data.pivot_table(index = 'year', values = 'last_price', aggfunc = ['mean', 'count', 'median'])\n",
    "data1.columns = ['mean', 'count', 'median']\n",
    "data1.sort_values('median', ascending = False)"
   ]
  },
  {
   "cell_type": "markdown",
   "metadata": {},
   "source": [
    "Отсортировав по количеству продаж по годам, видим что выборка за 2014 крайне мала, отбросив в уме этот год, заметим, что сильного резкого спада и не было, но тенценция на снижение в 2016-2017 гг присутствует, и далее видим плавный рост цены."
   ]
  },
  {
   "cell_type": "markdown",
   "metadata": {},
   "source": [
    "### Вывод 4. \n",
    "\n",
    "  Из проведенного анализа мы видим, что наибольшее влияние на стоимость квартиры оказывает общая площадь, это само собой ожидаемо, чуть менее влияют жилая и кухонная площади, что так же логично, тк в основном общая площадь из них и состоит.  \n",
    "  Зависимость цены от количества комнат на удивление не такое большое,  хотя как мы понимаем, с увеличением количества комнат должна увеличиваться площадь и соответственно ее стоимость, но скорее всего большие квартиры все таки не так популярны, в большей массе квартиры покупают с площадью до 60м2 и поэтому, полагаю, мы и видим не столь впечатляющую корреляцию.  \n",
    "  Влияния этажности также присутствует, крайние этажи уступают всем остальным, особенно проигрывают первые этажи, мало кто захочет проживать с осознанием что любой прохожий может заглянуть, а нехороший прохожий и гипотетически пробраться в квартиру. Однако, если бы мы изучали коммерческую недвижимость, уверен, что первые этажи были бы в топе. Но это уже совсем другая история..  \n",
    "  Влияние дня, месяца и года на цену квартиры, практически отсутствует, хотя мы видим определенную сезонность по месяцам, и сильную разницу в будни и выходные. Года тоже бывают разные, и если убрать слишком маленькие выборки, то видим небольшой спад в 2016-17гг, и далее плавный рост стоимости квартир"
   ]
  },
  {
   "cell_type": "markdown",
   "metadata": {},
   "source": [
    "#### Посчитаем среднюю цену одного квадратного метра в 10 населённых пунктах с наибольшим числом объявлений"
   ]
  },
  {
   "cell_type": "code",
   "execution_count": 67,
   "metadata": {},
   "outputs": [
    {
     "data": {
      "text/html": [
       "<div>\n",
       "<style scoped>\n",
       "    .dataframe tbody tr th:only-of-type {\n",
       "        vertical-align: middle;\n",
       "    }\n",
       "\n",
       "    .dataframe tbody tr th {\n",
       "        vertical-align: top;\n",
       "    }\n",
       "\n",
       "    .dataframe thead th {\n",
       "        text-align: right;\n",
       "    }\n",
       "</style>\n",
       "<table border=\"1\" class=\"dataframe\">\n",
       "  <thead>\n",
       "    <tr style=\"text-align: right;\">\n",
       "      <th></th>\n",
       "      <th>count</th>\n",
       "      <th>mean</th>\n",
       "    </tr>\n",
       "    <tr>\n",
       "      <th>locality_name</th>\n",
       "      <th></th>\n",
       "      <th></th>\n",
       "    </tr>\n",
       "  </thead>\n",
       "  <tbody>\n",
       "    <tr>\n",
       "      <th>Санкт-Петербург</th>\n",
       "      <td>12652</td>\n",
       "      <td>104280.534</td>\n",
       "    </tr>\n",
       "    <tr>\n",
       "      <th>Мурино</th>\n",
       "      <td>566</td>\n",
       "      <td>86153.092</td>\n",
       "    </tr>\n",
       "    <tr>\n",
       "      <th>Кудрово</th>\n",
       "      <td>446</td>\n",
       "      <td>95320.148</td>\n",
       "    </tr>\n",
       "    <tr>\n",
       "      <th>Шушары</th>\n",
       "      <td>432</td>\n",
       "      <td>78475.882</td>\n",
       "    </tr>\n",
       "    <tr>\n",
       "      <th>Всеволожск</th>\n",
       "      <td>383</td>\n",
       "      <td>66628.123</td>\n",
       "    </tr>\n",
       "    <tr>\n",
       "      <th>Колпино</th>\n",
       "      <td>331</td>\n",
       "      <td>75237.402</td>\n",
       "    </tr>\n",
       "    <tr>\n",
       "      <th>Пушкин</th>\n",
       "      <td>318</td>\n",
       "      <td>99896.940</td>\n",
       "    </tr>\n",
       "    <tr>\n",
       "      <th>Парголово</th>\n",
       "      <td>310</td>\n",
       "      <td>90090.690</td>\n",
       "    </tr>\n",
       "    <tr>\n",
       "      <th>Гатчина</th>\n",
       "      <td>299</td>\n",
       "      <td>68415.679</td>\n",
       "    </tr>\n",
       "    <tr>\n",
       "      <th>Выборг</th>\n",
       "      <td>218</td>\n",
       "      <td>57829.826</td>\n",
       "    </tr>\n",
       "  </tbody>\n",
       "</table>\n",
       "</div>"
      ],
      "text/plain": [
       "                 count       mean\n",
       "locality_name                    \n",
       "Санкт-Петербург  12652 104280.534\n",
       "Мурино             566  86153.092\n",
       "Кудрово            446  95320.148\n",
       "Шушары             432  78475.882\n",
       "Всеволожск         383  66628.123\n",
       "Колпино            331  75237.402\n",
       "Пушкин             318  99896.940\n",
       "Парголово          310  90090.690\n",
       "Гатчина            299  68415.679\n",
       "Выборг             218  57829.826"
      ]
     },
     "metadata": {},
     "output_type": "display_data"
    },
    {
     "name": "stdout",
     "output_type": "stream",
     "text": [
      "Самая высокая стоимость за м2:\n"
     ]
    },
    {
     "data": {
      "text/html": [
       "<div>\n",
       "<style scoped>\n",
       "    .dataframe tbody tr th:only-of-type {\n",
       "        vertical-align: middle;\n",
       "    }\n",
       "\n",
       "    .dataframe tbody tr th {\n",
       "        vertical-align: top;\n",
       "    }\n",
       "\n",
       "    .dataframe thead th {\n",
       "        text-align: right;\n",
       "    }\n",
       "</style>\n",
       "<table border=\"1\" class=\"dataframe\">\n",
       "  <thead>\n",
       "    <tr style=\"text-align: right;\">\n",
       "      <th></th>\n",
       "      <th>count</th>\n",
       "      <th>mean</th>\n",
       "    </tr>\n",
       "    <tr>\n",
       "      <th>locality_name</th>\n",
       "      <th></th>\n",
       "      <th></th>\n",
       "    </tr>\n",
       "  </thead>\n",
       "  <tbody>\n",
       "    <tr>\n",
       "      <th>Санкт-Петербург</th>\n",
       "      <td>12652</td>\n",
       "      <td>104280.534</td>\n",
       "    </tr>\n",
       "  </tbody>\n",
       "</table>\n",
       "</div>"
      ],
      "text/plain": [
       "                 count       mean\n",
       "locality_name                    \n",
       "Санкт-Петербург  12652 104280.534"
      ]
     },
     "metadata": {},
     "output_type": "display_data"
    },
    {
     "name": "stdout",
     "output_type": "stream",
     "text": [
      "Самая низкая стоимость за м2:\n"
     ]
    },
    {
     "data": {
      "text/html": [
       "<div>\n",
       "<style scoped>\n",
       "    .dataframe tbody tr th:only-of-type {\n",
       "        vertical-align: middle;\n",
       "    }\n",
       "\n",
       "    .dataframe tbody tr th {\n",
       "        vertical-align: top;\n",
       "    }\n",
       "\n",
       "    .dataframe thead th {\n",
       "        text-align: right;\n",
       "    }\n",
       "</style>\n",
       "<table border=\"1\" class=\"dataframe\">\n",
       "  <thead>\n",
       "    <tr style=\"text-align: right;\">\n",
       "      <th></th>\n",
       "      <th>count</th>\n",
       "      <th>mean</th>\n",
       "    </tr>\n",
       "    <tr>\n",
       "      <th>locality_name</th>\n",
       "      <th></th>\n",
       "      <th></th>\n",
       "    </tr>\n",
       "  </thead>\n",
       "  <tbody>\n",
       "    <tr>\n",
       "      <th>Выборг</th>\n",
       "      <td>218</td>\n",
       "      <td>57829.826</td>\n",
       "    </tr>\n",
       "  </tbody>\n",
       "</table>\n",
       "</div>"
      ],
      "text/plain": [
       "               count      mean\n",
       "locality_name                 \n",
       "Выборг           218 57829.826"
      ]
     },
     "metadata": {},
     "output_type": "display_data"
    }
   ],
   "source": [
    "# Топ 10 по городам по количеству объявлений выглядит так:\n",
    "top_locality = data.pivot_table(index = 'locality_name', values = 'sq_m_price', aggfunc=['count', 'mean'])\n",
    "top_locality.columns = ['count', 'mean']\n",
    "top_locality = top_locality.sort_values('count', ascending = False).head(10)\n",
    "display(top_locality)\n",
    "# Самая высокая стоимость\n",
    "print('Самая высокая стоимость за м2:')\n",
    "display(top_locality[top_locality['mean']==top_locality['mean'].max()])\n",
    "print('Самая низкая стоимость за м2:')\n",
    "# Самая низкая стоимость\n",
    "display(top_locality[top_locality['mean']==top_locality['mean'].min()])"
   ]
  },
  {
   "cell_type": "markdown",
   "metadata": {},
   "source": [
    "Вывод. Самая высокая стоимость за квадратный метр ожидаемо в Санкт-Петербурге, Пушкин и Кудрово идут следом "
   ]
  },
  {
   "cell_type": "markdown",
   "metadata": {},
   "source": [
    "#### Выделим квартиры в Санкт-Петербурге по удаленности от центра и вычислим среднюю цену каждого километра"
   ]
  },
  {
   "cell_type": "code",
   "execution_count": 68,
   "metadata": {},
   "outputs": [
    {
     "data": {
      "image/png": "[encoded data removed]",
      "text/plain": [
       "<Figure size 720x360 with 1 Axes>"
      ]
     },
     "metadata": {
      "needs_background": "light"
     },
     "output_type": "display_data"
    }
   ],
   "source": [
    "(\n",
    "    data.query('locality_name == \"Санкт-Петербург\"')\n",
    "    .pivot_table(index='center_km', values='last_price')\n",
    "    .plot(grid=True, kind = 'bar', figsize=(10, 5))\n",
    ")\n",
    "plt.gca().ticklabel_format(axis=\"y\", style='plain')\n",
    "plt.show()"
   ]
  },
  {
   "cell_type": "markdown",
   "metadata": {},
   "source": [
    "Здесь мы наблюдаем логичную динамику, что чем дальше от центра, тем квартира дешевле, первые 7км цена примерно одинакова, и далее видим спад. Есть большой выброс на 27м километре, возможно там какой-то элитный поселок)"
   ]
  },
  {
   "cell_type": "markdown",
   "metadata": {},
   "source": [
    "## Общий вывод"
   ]
  },
  {
   "cell_type": "markdown",
   "metadata": {},
   "source": [
    "<b> - Был проведен первичный анализ данных файла, отредактирован датасет путем заполнения пропусков, исправления аномалии значений, и удалениия некритичных данных, изменили типы некторых столбцов  \n",
    "<b> - Далее добавили в таблицу новые столбцы и заполнили их данными для последующего анализа  \n",
    "<b> - Изучили разные характеристики квартир и убедились, что больше всего продаются:  \n",
    "    \n",
    "<b>    1 и 2х комнатные квартиры  \n",
    "<b>    с площадью от 30 до 60 м2,  \n",
    "<b>    средняя стоимость квартир примерно 5,7 млн ₽,  \n",
    "<b>    с высотой потолков в среднем 2,7 м  \n",
    "<b>    как правило они располагаются до 5го этажа, но существенная часть и до 10го, \n",
    "<b>    квартиры на крайних этажах по количеству кратно меньше, чем на всех других  \n",
    "<b>    большая часть квартир находится в пределах 10км от центра,  \n",
    "<b>    и в среднем почти в 30км от аэропорта  \n",
    "<b>    у многих квартир парки в пешей доступности  \n",
    "<b>    самый активный день, в который выкладывается объявление - это четверг, а месяц - февраль  \n",
    "### <b> Срок продажи квартиры  \n",
    "    \n",
    "<b>  В среднем квартира продается 138 дней или 4,5 месяца, но большая часть успевает уйти за 3 месяца. Есть супербыстрые продажи, которые либо прошли за считанные дни, либо владельцы передумали и сняли объявление, также есть и \"долгожители\", продающиеся более 2х лет, но таких единицы.  \n",
    "### <b> Факторы влияющие на стоимость  \n",
    "    \n",
    "<b> Наибольшее влияние на стоимость квартиры оказывает общая площадь квартиры, в отличии например от количества комнат  \n",
    "<b> Квартиры на крайних этажах сильно дешевле остальных квартир, особенно те, что на первом этаже\n",
    "<b> Дата размещения практически никак не влияет на стоимость квартир  \n",
    "    \n",
    "<b> Cамая высокая стоимость за квадратный метр в топ-10 населенных пунктах ожидаемо у Санкт-Петербурга и составляет 110384₽  \n",
    "<b> Самая низкая стоимость в том же топе у Выборга, почти в 2 раза ниже, чем в Питере - 56887₽  \n",
    "<b> Дороже всего квартира в центре, в пределах 7км, дальше, чем дальше, тем заметно дешевле   \n"
   ]
  }
 ],
 "metadata": {
  "ExecuteTimeLog": [
   {
    "duration": 41,
    "start_time": "2022-09-20T23:23:01.476Z"
   },
   {
    "duration": 1021,
    "start_time": "2022-09-20T23:24:50.673Z"
   },
   {
    "duration": 114,
    "start_time": "2022-09-20T23:24:51.696Z"
   },
   {
    "duration": 22,
    "start_time": "2022-09-20T23:24:51.811Z"
   },
   {
    "duration": 4,
    "start_time": "2022-09-20T23:24:51.834Z"
   },
   {
    "duration": 218,
    "start_time": "2022-09-20T23:24:51.839Z"
   },
   {
    "duration": 2100,
    "start_time": "2022-09-20T23:24:52.059Z"
   },
   {
    "duration": 7,
    "start_time": "2022-09-20T23:24:54.161Z"
   },
   {
    "duration": 56,
    "start_time": "2022-09-20T23:24:54.170Z"
   },
   {
    "duration": 234,
    "start_time": "2022-09-20T23:24:54.228Z"
   },
   {
    "duration": 7,
    "start_time": "2022-09-20T23:24:54.521Z"
   },
   {
    "duration": 20,
    "start_time": "2022-09-20T23:24:54.530Z"
   },
   {
    "duration": 22,
    "start_time": "2022-09-20T23:24:54.551Z"
   },
   {
    "duration": 59,
    "start_time": "2022-09-20T23:24:54.574Z"
   },
   {
    "duration": 19,
    "start_time": "2022-09-20T23:24:54.634Z"
   },
   {
    "duration": 72,
    "start_time": "2022-09-20T23:24:54.655Z"
   },
   {
    "duration": 6,
    "start_time": "2022-09-20T23:24:54.729Z"
   },
   {
    "duration": 17,
    "start_time": "2022-09-20T23:24:54.736Z"
   },
   {
    "duration": 8,
    "start_time": "2022-09-20T23:24:54.754Z"
   },
   {
    "duration": 58,
    "start_time": "2022-09-20T23:24:54.764Z"
   },
   {
    "duration": 109,
    "start_time": "2022-09-20T23:24:54.824Z"
   },
   {
    "duration": 24,
    "start_time": "2022-09-20T23:24:54.934Z"
   },
   {
    "duration": 13,
    "start_time": "2022-09-20T23:24:54.959Z"
   },
   {
    "duration": 4,
    "start_time": "2022-09-20T23:24:54.973Z"
   },
   {
    "duration": 8,
    "start_time": "2022-09-20T23:24:54.979Z"
   },
   {
    "duration": 170,
    "start_time": "2022-09-20T23:24:54.988Z"
   },
   {
    "duration": 7,
    "start_time": "2022-09-20T23:24:55.159Z"
   },
   {
    "duration": 141,
    "start_time": "2022-09-20T23:24:55.168Z"
   },
   {
    "duration": 69,
    "start_time": "2022-09-20T23:24:55.312Z"
   },
   {
    "duration": 7,
    "start_time": "2022-09-20T23:24:55.383Z"
   },
   {
    "duration": 265,
    "start_time": "2022-09-20T23:24:55.391Z"
   },
   {
    "duration": 251,
    "start_time": "2022-09-20T23:24:55.657Z"
   },
   {
    "duration": 21,
    "start_time": "2022-09-20T23:24:55.909Z"
   },
   {
    "duration": 409,
    "start_time": "2022-09-20T23:24:55.931Z"
   },
   {
    "duration": 243,
    "start_time": "2022-09-20T23:24:56.341Z"
   },
   {
    "duration": 183,
    "start_time": "2022-09-20T23:24:56.585Z"
   },
   {
    "duration": 203,
    "start_time": "2022-09-20T23:24:56.770Z"
   },
   {
    "duration": 257,
    "start_time": "2022-09-20T23:24:56.975Z"
   },
   {
    "duration": 169,
    "start_time": "2022-09-20T23:24:57.234Z"
   },
   {
    "duration": 265,
    "start_time": "2022-09-20T23:24:57.404Z"
   },
   {
    "duration": 215,
    "start_time": "2022-09-20T23:24:57.671Z"
   },
   {
    "duration": 130,
    "start_time": "2022-09-20T23:24:57.887Z"
   },
   {
    "duration": 187,
    "start_time": "2022-09-20T23:24:58.022Z"
   },
   {
    "duration": 271,
    "start_time": "2022-09-20T23:24:58.211Z"
   },
   {
    "duration": 246,
    "start_time": "2022-09-20T23:24:58.484Z"
   },
   {
    "duration": 241,
    "start_time": "2022-09-20T23:24:58.731Z"
   },
   {
    "duration": 420,
    "start_time": "2022-09-20T23:24:58.973Z"
   },
   {
    "duration": 7,
    "start_time": "2022-09-20T23:24:59.394Z"
   },
   {
    "duration": 369,
    "start_time": "2022-09-20T23:24:59.402Z"
   },
   {
    "duration": 176,
    "start_time": "2022-09-20T23:24:59.772Z"
   },
   {
    "duration": 10,
    "start_time": "2022-09-20T23:24:59.950Z"
   },
   {
    "duration": 260,
    "start_time": "2022-09-20T23:24:59.962Z"
   },
   {
    "duration": 14,
    "start_time": "2022-09-20T23:25:00.224Z"
   },
   {
    "duration": 196,
    "start_time": "2022-09-20T23:25:00.239Z"
   },
   {
    "duration": 185,
    "start_time": "2022-09-20T23:25:00.437Z"
   },
   {
    "duration": 165,
    "start_time": "2022-09-20T23:25:00.624Z"
   },
   {
    "duration": 158,
    "start_time": "2022-09-20T23:25:00.791Z"
   },
   {
    "duration": 176,
    "start_time": "2022-09-20T23:25:00.951Z"
   },
   {
    "duration": 575,
    "start_time": "2022-09-20T23:25:01.129Z"
   },
   {
    "duration": 27,
    "start_time": "2022-09-20T23:25:01.705Z"
   },
   {
    "duration": 27,
    "start_time": "2022-09-20T23:25:01.733Z"
   },
   {
    "duration": 243,
    "start_time": "2022-09-20T23:25:01.761Z"
   },
   {
    "duration": 236,
    "start_time": "2022-09-20T23:25:38.801Z"
   },
   {
    "duration": 259,
    "start_time": "2022-09-20T23:25:47.952Z"
   },
   {
    "duration": 333,
    "start_time": "2022-09-20T23:25:59.007Z"
   },
   {
    "duration": 1023,
    "start_time": "2022-09-20T23:30:33.852Z"
   },
   {
    "duration": 112,
    "start_time": "2022-09-20T23:30:34.877Z"
   },
   {
    "duration": 20,
    "start_time": "2022-09-20T23:30:34.991Z"
   },
   {
    "duration": 4,
    "start_time": "2022-09-20T23:30:35.022Z"
   },
   {
    "duration": 240,
    "start_time": "2022-09-20T23:30:35.027Z"
   },
   {
    "duration": 1783,
    "start_time": "2022-09-20T23:30:35.268Z"
   },
   {
    "duration": 9,
    "start_time": "2022-09-20T23:30:37.052Z"
   },
   {
    "duration": 7,
    "start_time": "2022-09-20T23:30:37.063Z"
   },
   {
    "duration": 170,
    "start_time": "2022-09-20T23:30:37.072Z"
   },
   {
    "duration": 8,
    "start_time": "2022-09-20T23:30:37.244Z"
   },
   {
    "duration": 8,
    "start_time": "2022-09-20T23:30:37.254Z"
   },
   {
    "duration": 9,
    "start_time": "2022-09-20T23:30:37.264Z"
   },
   {
    "duration": 15,
    "start_time": "2022-09-20T23:30:37.274Z"
   },
   {
    "duration": 40,
    "start_time": "2022-09-20T23:30:37.292Z"
   },
   {
    "duration": 22,
    "start_time": "2022-09-20T23:30:37.334Z"
   },
   {
    "duration": 7,
    "start_time": "2022-09-20T23:30:37.358Z"
   },
   {
    "duration": 21,
    "start_time": "2022-09-20T23:30:37.367Z"
   },
   {
    "duration": 33,
    "start_time": "2022-09-20T23:30:37.389Z"
   },
   {
    "duration": 12,
    "start_time": "2022-09-20T23:30:37.424Z"
   },
   {
    "duration": 78,
    "start_time": "2022-09-20T23:30:37.438Z"
   },
   {
    "duration": 30,
    "start_time": "2022-09-20T23:30:37.521Z"
   },
   {
    "duration": 17,
    "start_time": "2022-09-20T23:30:37.553Z"
   },
   {
    "duration": 5,
    "start_time": "2022-09-20T23:30:37.572Z"
   },
   {
    "duration": 8,
    "start_time": "2022-09-20T23:30:37.579Z"
   },
   {
    "duration": 195,
    "start_time": "2022-09-20T23:30:37.588Z"
   },
   {
    "duration": 8,
    "start_time": "2022-09-20T23:30:37.785Z"
   },
   {
    "duration": 155,
    "start_time": "2022-09-20T23:30:37.795Z"
   },
   {
    "duration": 45,
    "start_time": "2022-09-20T23:30:37.952Z"
   },
   {
    "duration": 7,
    "start_time": "2022-09-20T23:30:37.999Z"
   },
   {
    "duration": 275,
    "start_time": "2022-09-20T23:30:38.007Z"
   },
   {
    "duration": 274,
    "start_time": "2022-09-20T23:30:38.283Z"
   },
   {
    "duration": 16,
    "start_time": "2022-09-20T23:30:38.559Z"
   },
   {
    "duration": 395,
    "start_time": "2022-09-20T23:30:38.576Z"
   },
   {
    "duration": 245,
    "start_time": "2022-09-20T23:30:38.972Z"
   },
   {
    "duration": 209,
    "start_time": "2022-09-20T23:30:39.221Z"
   },
   {
    "duration": 225,
    "start_time": "2022-09-20T23:30:39.431Z"
   },
   {
    "duration": 268,
    "start_time": "2022-09-20T23:30:39.657Z"
   },
   {
    "duration": 168,
    "start_time": "2022-09-20T23:30:39.926Z"
   },
   {
    "duration": 274,
    "start_time": "2022-09-20T23:30:40.095Z"
   },
   {
    "duration": 194,
    "start_time": "2022-09-20T23:30:40.371Z"
   },
   {
    "duration": 118,
    "start_time": "2022-09-20T23:30:40.568Z"
   },
   {
    "duration": 173,
    "start_time": "2022-09-20T23:30:40.687Z"
   },
   {
    "duration": 251,
    "start_time": "2022-09-20T23:30:40.861Z"
   },
   {
    "duration": 262,
    "start_time": "2022-09-20T23:30:41.113Z"
   },
   {
    "duration": 292,
    "start_time": "2022-09-20T23:30:41.376Z"
   },
   {
    "duration": 426,
    "start_time": "2022-09-20T23:30:41.669Z"
   },
   {
    "duration": 7,
    "start_time": "2022-09-20T23:30:42.097Z"
   },
   {
    "duration": 379,
    "start_time": "2022-09-20T23:30:42.106Z"
   },
   {
    "duration": 199,
    "start_time": "2022-09-20T23:30:42.487Z"
   },
   {
    "duration": 10,
    "start_time": "2022-09-20T23:30:42.688Z"
   },
   {
    "duration": 277,
    "start_time": "2022-09-20T23:30:42.700Z"
   },
   {
    "duration": 13,
    "start_time": "2022-09-20T23:30:42.979Z"
   },
   {
    "duration": 193,
    "start_time": "2022-09-20T23:30:42.993Z"
   },
   {
    "duration": 198,
    "start_time": "2022-09-20T23:30:43.187Z"
   },
   {
    "duration": 162,
    "start_time": "2022-09-20T23:30:43.386Z"
   },
   {
    "duration": 154,
    "start_time": "2022-09-20T23:30:43.549Z"
   },
   {
    "duration": 157,
    "start_time": "2022-09-20T23:30:43.704Z"
   },
   {
    "duration": 584,
    "start_time": "2022-09-20T23:30:43.863Z"
   },
   {
    "duration": 22,
    "start_time": "2022-09-20T23:30:44.449Z"
   },
   {
    "duration": 30,
    "start_time": "2022-09-20T23:30:44.472Z"
   },
   {
    "duration": 252,
    "start_time": "2022-09-20T23:30:44.522Z"
   }
  ],
  "kernelspec": {
   "display_name": "Python 3 (ipykernel)",
   "language": "python",
   "name": "python3"
  },
  "language_info": {
   "codemirror_mode": {
    "name": "ipython",
    "version": 3
   },
   "file_extension": ".py",
   "mimetype": "text/x-python",
   "name": "python",
   "nbconvert_exporter": "python",
   "pygments_lexer": "ipython3",
   "version": "3.9.12"
  },
  "toc": {
   "base_numbering": 1,
   "nav_menu": {},
   "number_sections": true,
   "sideBar": true,
   "skip_h1_title": true,
   "title_cell": "Table of Contents",
   "title_sidebar": "Contents",
   "toc_cell": false,
   "toc_position": {},
   "toc_section_display": true,
   "toc_window_display": true
  }
 },
 "nbformat": 4,
 "nbformat_minor": 2
}
