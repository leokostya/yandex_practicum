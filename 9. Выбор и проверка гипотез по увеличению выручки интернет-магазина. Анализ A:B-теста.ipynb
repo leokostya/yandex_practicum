{
  "nbformat": 4,
  "nbformat_minor": 0,
  "metadata": {
    "colab": {
      "provenance": []
    },
    "kernelspec": {
      "name": "python3",
      "display_name": "Python 3"
    },
    "language_info": {
      "name": "python"
    }
  },
  "cells": [
    {
      "cell_type": "markdown",
      "source": [
        "## <b> Выбор и проверка гипотез по увеличению выручки интернет-магазина. Анализ A/B-теста </b>\n",
        "Имеем список  гипотез для увелечинеия выручки онлайн магазина.  \n",
        "Наши задачи:  \n",
        "1. Приоритизировать гипотезы. Файл со списком гипотез [hypotesys](https://code.s3.yandex.net/datasets/hypothesis.csv). В файле 9 гипотез по увеличению выручки интернет-магазина с указанными параметрами Reach, Impact, Confidence, Effort.\n",
        "2. Запустить A/B-тест и проанализировать результаты,  которые описаны в файлах [orders](https://code.s3.yandex.net/datasets/orders.csv) и [visitors](https://code.s3.yandex.net/datasets/visitors.csv).\n"
      ],
      "metadata": {
        "id": "OQoH_tpuqVqB"
      }
    },
    {
      "cell_type": "markdown",
      "source": [
        "Подключим библиотеки, изучим файл с гипотезами"
      ],
      "metadata": {
        "id": "6oQe5LUcB-Cv"
      }
    },
    {
      "cell_type": "code",
      "execution_count": null,
      "metadata": {
        "id": "fI3yVUEVnVB7"
      },
      "outputs": [],
      "source": [
        "# импорт библиотек\n",
        "import pandas as pd\n",
        "import numpy as np\n",
        "import matplotlib.pyplot as plt\n",
        "import seaborn as sns\n",
        "import datetime as dt\n",
        "from pandas.plotting import register_matplotlib_converters\n",
        "import scipy.stats as stats\n",
        "import warnings"
      ]
    },
    {
      "cell_type": "code",
      "source": [
        "# чтение файла с данными\n",
        "try:\n",
        "    hypothesis = pd.read_csv('/datasets/hypothesis.csv')\n",
        "except:\n",
        "    hypothesis = pd.read_csv('https://code.s3.yandex.net/datasets/hypothesis.csv')\n",
        "hypothesis"
      ],
      "metadata": {
        "colab": {
          "base_uri": "https://localhost:8080/",
          "height": 332
        },
        "id": "LiINIL_zncRr",
        "outputId": "c7a600e3-dc2b-452d-f116-0022a44bbd3f"
      },
      "execution_count": null,
      "outputs": [
        {
          "output_type": "execute_result",
          "data": {
            "text/plain": [
              "                                          Hypothesis  Reach  Impact  \\\n",
              "0  Добавить два новых канала привлечения трафика,...      3      10   \n",
              "1  Запустить собственную службу доставки, что сок...      2       5   \n",
              "2  Добавить блоки рекомендаций товаров на сайт ин...      8       3   \n",
              "3  Изменить структура категорий, что увеличит кон...      8       3   \n",
              "4  Изменить цвет фона главной страницы, чтобы уве...      3       1   \n",
              "5  Добавить страницу отзывов клиентов о магазине,...      3       2   \n",
              "6  Показать на главной странице баннеры с актуаль...      5       3   \n",
              "7  Добавить форму подписки на все основные страни...     10       7   \n",
              "8  Запустить акцию, дающую скидку на товар в день...      1       9   \n",
              "\n",
              "   Confidence  Efforts  \n",
              "0           8        6  \n",
              "1           4       10  \n",
              "2           7        3  \n",
              "3           3        8  \n",
              "4           1        1  \n",
              "5           2        3  \n",
              "6           8        3  \n",
              "7           8        5  \n",
              "8           9        5  "
            ],
            "text/html": [
              "\n",
              "  <div id=\"df-e33462eb-ae51-4832-9b18-297696668e33\">\n",
              "    <div class=\"colab-df-container\">\n",
              "      <div>\n",
              "<style scoped>\n",
              "    .dataframe tbody tr th:only-of-type {\n",
              "        vertical-align: middle;\n",
              "    }\n",
              "\n",
              "    .dataframe tbody tr th {\n",
              "        vertical-align: top;\n",
              "    }\n",
              "\n",
              "    .dataframe thead th {\n",
              "        text-align: right;\n",
              "    }\n",
              "</style>\n",
              "<table border=\"1\" class=\"dataframe\">\n",
              "  <thead>\n",
              "    <tr style=\"text-align: right;\">\n",
              "      <th></th>\n",
              "      <th>Hypothesis</th>\n",
              "      <th>Reach</th>\n",
              "      <th>Impact</th>\n",
              "      <th>Confidence</th>\n",
              "      <th>Efforts</th>\n",
              "    </tr>\n",
              "  </thead>\n",
              "  <tbody>\n",
              "    <tr>\n",
              "      <th>0</th>\n",
              "      <td>Добавить два новых канала привлечения трафика,...</td>\n",
              "      <td>3</td>\n",
              "      <td>10</td>\n",
              "      <td>8</td>\n",
              "      <td>6</td>\n",
              "    </tr>\n",
              "    <tr>\n",
              "      <th>1</th>\n",
              "      <td>Запустить собственную службу доставки, что сок...</td>\n",
              "      <td>2</td>\n",
              "      <td>5</td>\n",
              "      <td>4</td>\n",
              "      <td>10</td>\n",
              "    </tr>\n",
              "    <tr>\n",
              "      <th>2</th>\n",
              "      <td>Добавить блоки рекомендаций товаров на сайт ин...</td>\n",
              "      <td>8</td>\n",
              "      <td>3</td>\n",
              "      <td>7</td>\n",
              "      <td>3</td>\n",
              "    </tr>\n",
              "    <tr>\n",
              "      <th>3</th>\n",
              "      <td>Изменить структура категорий, что увеличит кон...</td>\n",
              "      <td>8</td>\n",
              "      <td>3</td>\n",
              "      <td>3</td>\n",
              "      <td>8</td>\n",
              "    </tr>\n",
              "    <tr>\n",
              "      <th>4</th>\n",
              "      <td>Изменить цвет фона главной страницы, чтобы уве...</td>\n",
              "      <td>3</td>\n",
              "      <td>1</td>\n",
              "      <td>1</td>\n",
              "      <td>1</td>\n",
              "    </tr>\n",
              "    <tr>\n",
              "      <th>5</th>\n",
              "      <td>Добавить страницу отзывов клиентов о магазине,...</td>\n",
              "      <td>3</td>\n",
              "      <td>2</td>\n",
              "      <td>2</td>\n",
              "      <td>3</td>\n",
              "    </tr>\n",
              "    <tr>\n",
              "      <th>6</th>\n",
              "      <td>Показать на главной странице баннеры с актуаль...</td>\n",
              "      <td>5</td>\n",
              "      <td>3</td>\n",
              "      <td>8</td>\n",
              "      <td>3</td>\n",
              "    </tr>\n",
              "    <tr>\n",
              "      <th>7</th>\n",
              "      <td>Добавить форму подписки на все основные страни...</td>\n",
              "      <td>10</td>\n",
              "      <td>7</td>\n",
              "      <td>8</td>\n",
              "      <td>5</td>\n",
              "    </tr>\n",
              "    <tr>\n",
              "      <th>8</th>\n",
              "      <td>Запустить акцию, дающую скидку на товар в день...</td>\n",
              "      <td>1</td>\n",
              "      <td>9</td>\n",
              "      <td>9</td>\n",
              "      <td>5</td>\n",
              "    </tr>\n",
              "  </tbody>\n",
              "</table>\n",
              "</div>\n",
              "      <button class=\"colab-df-convert\" onclick=\"convertToInteractive('df-e33462eb-ae51-4832-9b18-297696668e33')\"\n",
              "              title=\"Convert this dataframe to an interactive table.\"\n",
              "              style=\"display:none;\">\n",
              "        \n",
              "  <svg xmlns=\"http://www.w3.org/2000/svg\" height=\"24px\"viewBox=\"0 0 24 24\"\n",
              "       width=\"24px\">\n",
              "    <path d=\"M0 0h24v24H0V0z\" fill=\"none\"/>\n",
              "    <path d=\"M18.56 5.44l.94 2.06.94-2.06 2.06-.94-2.06-.94-.94-2.06-.94 2.06-2.06.94zm-11 1L8.5 8.5l.94-2.06 2.06-.94-2.06-.94L8.5 2.5l-.94 2.06-2.06.94zm10 10l.94 2.06.94-2.06 2.06-.94-2.06-.94-.94-2.06-.94 2.06-2.06.94z\"/><path d=\"M17.41 7.96l-1.37-1.37c-.4-.4-.92-.59-1.43-.59-.52 0-1.04.2-1.43.59L10.3 9.45l-7.72 7.72c-.78.78-.78 2.05 0 2.83L4 21.41c.39.39.9.59 1.41.59.51 0 1.02-.2 1.41-.59l7.78-7.78 2.81-2.81c.8-.78.8-2.07 0-2.86zM5.41 20L4 18.59l7.72-7.72 1.47 1.35L5.41 20z\"/>\n",
              "  </svg>\n",
              "      </button>\n",
              "      \n",
              "  <style>\n",
              "    .colab-df-container {\n",
              "      display:flex;\n",
              "      flex-wrap:wrap;\n",
              "      gap: 12px;\n",
              "    }\n",
              "\n",
              "    .colab-df-convert {\n",
              "      background-color: #E8F0FE;\n",
              "      border: none;\n",
              "      border-radius: 50%;\n",
              "      cursor: pointer;\n",
              "      display: none;\n",
              "      fill: #1967D2;\n",
              "      height: 32px;\n",
              "      padding: 0 0 0 0;\n",
              "      width: 32px;\n",
              "    }\n",
              "\n",
              "    .colab-df-convert:hover {\n",
              "      background-color: #E2EBFA;\n",
              "      box-shadow: 0px 1px 2px rgba(60, 64, 67, 0.3), 0px 1px 3px 1px rgba(60, 64, 67, 0.15);\n",
              "      fill: #174EA6;\n",
              "    }\n",
              "\n",
              "    [theme=dark] .colab-df-convert {\n",
              "      background-color: #3B4455;\n",
              "      fill: #D2E3FC;\n",
              "    }\n",
              "\n",
              "    [theme=dark] .colab-df-convert:hover {\n",
              "      background-color: #434B5C;\n",
              "      box-shadow: 0px 1px 3px 1px rgba(0, 0, 0, 0.15);\n",
              "      filter: drop-shadow(0px 1px 2px rgba(0, 0, 0, 0.3));\n",
              "      fill: #FFFFFF;\n",
              "    }\n",
              "  </style>\n",
              "\n",
              "      <script>\n",
              "        const buttonEl =\n",
              "          document.querySelector('#df-e33462eb-ae51-4832-9b18-297696668e33 button.colab-df-convert');\n",
              "        buttonEl.style.display =\n",
              "          google.colab.kernel.accessAllowed ? 'block' : 'none';\n",
              "\n",
              "        async function convertToInteractive(key) {\n",
              "          const element = document.querySelector('#df-e33462eb-ae51-4832-9b18-297696668e33');\n",
              "          const dataTable =\n",
              "            await google.colab.kernel.invokeFunction('convertToInteractive',\n",
              "                                                     [key], {});\n",
              "          if (!dataTable) return;\n",
              "\n",
              "          const docLinkHtml = 'Like what you see? Visit the ' +\n",
              "            '<a target=\"_blank\" href=https://colab.research.google.com/notebooks/data_table.ipynb>data table notebook</a>'\n",
              "            + ' to learn more about interactive tables.';\n",
              "          element.innerHTML = '';\n",
              "          dataTable['output_type'] = 'display_data';\n",
              "          await google.colab.output.renderOutput(dataTable, element);\n",
              "          const docLink = document.createElement('div');\n",
              "          docLink.innerHTML = docLinkHtml;\n",
              "          element.appendChild(docLink);\n",
              "        }\n",
              "      </script>\n",
              "    </div>\n",
              "  </div>\n",
              "  "
            ]
          },
          "metadata": {},
          "execution_count": 2
        }
      ]
    },
    {
      "cell_type": "code",
      "source": [
        "hypothesis.info()\n"
      ],
      "metadata": {
        "colab": {
          "base_uri": "https://localhost:8080/"
        },
        "id": "w6ZirvE5Smqa",
        "outputId": "e3ba3753-4178-430c-ecf9-1b3ef3e984f4"
      },
      "execution_count": null,
      "outputs": [
        {
          "output_type": "stream",
          "name": "stdout",
          "text": [
            "<class 'pandas.core.frame.DataFrame'>\n",
            "RangeIndex: 9 entries, 0 to 8\n",
            "Data columns (total 5 columns):\n",
            " #   Column      Non-Null Count  Dtype \n",
            "---  ------      --------------  ----- \n",
            " 0   Hypothesis  9 non-null      object\n",
            " 1   Reach       9 non-null      int64 \n",
            " 2   Impact      9 non-null      int64 \n",
            " 3   Confidence  9 non-null      int64 \n",
            " 4   Efforts     9 non-null      int64 \n",
            "dtypes: int64(4), object(1)\n",
            "memory usage: 488.0+ bytes\n"
          ]
        }
      ]
    },
    {
      "cell_type": "code",
      "source": [
        "#приведем названия стобцов к нижнем регистру:\n",
        "\n",
        "hypothesis.columns = hypothesis.columns.str.lower()\n"
      ],
      "metadata": {
        "id": "wbN-AAPlUHZB"
      },
      "execution_count": null,
      "outputs": []
    },
    {
      "cell_type": "markdown",
      "source": [
        "В таблице 'hypothesis' содержатся 9 гипотез со следующими столбцами:\n",
        "\n",
        "Hypothesis — описание гипотезы;  \n",
        "Reach — охват пользователей по 10-балльной шкале;  \n",
        "Impact — влияние на пользователей по 10-балльной шкале;  \n",
        "Confidence — уверенность в гипотезе по 10-балльной шкале;  \n",
        "Efforts — затраты ресурсов на проверку гипотезы по 10-балльной шкале."
      ],
      "metadata": {
        "id": "LBrx6N9i116l"
      }
    },
    {
      "cell_type": "markdown",
      "source": [
        "### <b>1. Проведем приоритизацию гипотез\n"
      ],
      "metadata": {
        "id": "lZHRcFRfC6gW"
      }
    },
    {
      "cell_type": "markdown",
      "source": [
        "### 1.1 Применим фреймворк ICE для приоритизации гипотез. Отсортируем их по убыванию приоритета."
      ],
      "metadata": {
        "id": "VmI6gXi0DTw5"
      }
    },
    {
      "cell_type": "code",
      "source": [
        "hypothesis['ICE'] = hypothesis['impact'] * hypothesis['confidence'] / hypothesis['efforts']\n",
        "hypothesis_ICE = hypothesis[['hypothesis', 'ICE']].sort_values(by='ICE', ascending=False).round(2)\n",
        "pd.set_option('max_colwidth', 150)\n",
        "hypothesis_ICE"
      ],
      "metadata": {
        "colab": {
          "base_uri": "https://localhost:8080/",
          "height": 332
        },
        "id": "ThhSPxDC1D3C",
        "outputId": "df9328f2-8136-489a-f4f6-d0113724738a"
      },
      "execution_count": null,
      "outputs": [
        {
          "output_type": "execute_result",
          "data": {
            "text/plain": [
              "                                                                                                     hypothesis  \\\n",
              "8                                                       Запустить акцию, дающую скидку на товар в день рождения   \n",
              "0            Добавить два новых канала привлечения трафика, что позволит привлекать на 30% больше пользователей   \n",
              "7              Добавить форму подписки на все основные страницы, чтобы собрать базу клиентов для email-рассылок   \n",
              "6          Показать на главной странице баннеры с актуальными акциями и распродажами, чтобы увеличить конверсию   \n",
              "2  Добавить блоки рекомендаций товаров на сайт интернет магазина, чтобы повысить конверсию и средний чек заказа   \n",
              "1                                     Запустить собственную службу доставки, что сократит срок доставки заказов   \n",
              "5                      Добавить страницу отзывов клиентов о магазине, что позволит увеличить количество заказов   \n",
              "3           Изменить структура категорий, что увеличит конверсию, т.к. пользователи быстрее найдут нужный товар   \n",
              "4                              Изменить цвет фона главной страницы, чтобы увеличить вовлеченность пользователей   \n",
              "\n",
              "     ICE  \n",
              "8  16.20  \n",
              "0  13.33  \n",
              "7  11.20  \n",
              "6   8.00  \n",
              "2   7.00  \n",
              "1   2.00  \n",
              "5   1.33  \n",
              "3   1.12  \n",
              "4   1.00  "
            ],
            "text/html": [
              "\n",
              "  <div id=\"df-bec46bd9-8ea0-4532-85e0-f406f7e99a0d\">\n",
              "    <div class=\"colab-df-container\">\n",
              "      <div>\n",
              "<style scoped>\n",
              "    .dataframe tbody tr th:only-of-type {\n",
              "        vertical-align: middle;\n",
              "    }\n",
              "\n",
              "    .dataframe tbody tr th {\n",
              "        vertical-align: top;\n",
              "    }\n",
              "\n",
              "    .dataframe thead th {\n",
              "        text-align: right;\n",
              "    }\n",
              "</style>\n",
              "<table border=\"1\" class=\"dataframe\">\n",
              "  <thead>\n",
              "    <tr style=\"text-align: right;\">\n",
              "      <th></th>\n",
              "      <th>hypothesis</th>\n",
              "      <th>ICE</th>\n",
              "    </tr>\n",
              "  </thead>\n",
              "  <tbody>\n",
              "    <tr>\n",
              "      <th>8</th>\n",
              "      <td>Запустить акцию, дающую скидку на товар в день рождения</td>\n",
              "      <td>16.20</td>\n",
              "    </tr>\n",
              "    <tr>\n",
              "      <th>0</th>\n",
              "      <td>Добавить два новых канала привлечения трафика, что позволит привлекать на 30% больше пользователей</td>\n",
              "      <td>13.33</td>\n",
              "    </tr>\n",
              "    <tr>\n",
              "      <th>7</th>\n",
              "      <td>Добавить форму подписки на все основные страницы, чтобы собрать базу клиентов для email-рассылок</td>\n",
              "      <td>11.20</td>\n",
              "    </tr>\n",
              "    <tr>\n",
              "      <th>6</th>\n",
              "      <td>Показать на главной странице баннеры с актуальными акциями и распродажами, чтобы увеличить конверсию</td>\n",
              "      <td>8.00</td>\n",
              "    </tr>\n",
              "    <tr>\n",
              "      <th>2</th>\n",
              "      <td>Добавить блоки рекомендаций товаров на сайт интернет магазина, чтобы повысить конверсию и средний чек заказа</td>\n",
              "      <td>7.00</td>\n",
              "    </tr>\n",
              "    <tr>\n",
              "      <th>1</th>\n",
              "      <td>Запустить собственную службу доставки, что сократит срок доставки заказов</td>\n",
              "      <td>2.00</td>\n",
              "    </tr>\n",
              "    <tr>\n",
              "      <th>5</th>\n",
              "      <td>Добавить страницу отзывов клиентов о магазине, что позволит увеличить количество заказов</td>\n",
              "      <td>1.33</td>\n",
              "    </tr>\n",
              "    <tr>\n",
              "      <th>3</th>\n",
              "      <td>Изменить структура категорий, что увеличит конверсию, т.к. пользователи быстрее найдут нужный товар</td>\n",
              "      <td>1.12</td>\n",
              "    </tr>\n",
              "    <tr>\n",
              "      <th>4</th>\n",
              "      <td>Изменить цвет фона главной страницы, чтобы увеличить вовлеченность пользователей</td>\n",
              "      <td>1.00</td>\n",
              "    </tr>\n",
              "  </tbody>\n",
              "</table>\n",
              "</div>\n",
              "      <button class=\"colab-df-convert\" onclick=\"convertToInteractive('df-bec46bd9-8ea0-4532-85e0-f406f7e99a0d')\"\n",
              "              title=\"Convert this dataframe to an interactive table.\"\n",
              "              style=\"display:none;\">\n",
              "        \n",
              "  <svg xmlns=\"http://www.w3.org/2000/svg\" height=\"24px\"viewBox=\"0 0 24 24\"\n",
              "       width=\"24px\">\n",
              "    <path d=\"M0 0h24v24H0V0z\" fill=\"none\"/>\n",
              "    <path d=\"M18.56 5.44l.94 2.06.94-2.06 2.06-.94-2.06-.94-.94-2.06-.94 2.06-2.06.94zm-11 1L8.5 8.5l.94-2.06 2.06-.94-2.06-.94L8.5 2.5l-.94 2.06-2.06.94zm10 10l.94 2.06.94-2.06 2.06-.94-2.06-.94-.94-2.06-.94 2.06-2.06.94z\"/><path d=\"M17.41 7.96l-1.37-1.37c-.4-.4-.92-.59-1.43-.59-.52 0-1.04.2-1.43.59L10.3 9.45l-7.72 7.72c-.78.78-.78 2.05 0 2.83L4 21.41c.39.39.9.59 1.41.59.51 0 1.02-.2 1.41-.59l7.78-7.78 2.81-2.81c.8-.78.8-2.07 0-2.86zM5.41 20L4 18.59l7.72-7.72 1.47 1.35L5.41 20z\"/>\n",
              "  </svg>\n",
              "      </button>\n",
              "      \n",
              "  <style>\n",
              "    .colab-df-container {\n",
              "      display:flex;\n",
              "      flex-wrap:wrap;\n",
              "      gap: 12px;\n",
              "    }\n",
              "\n",
              "    .colab-df-convert {\n",
              "      background-color: #E8F0FE;\n",
              "      border: none;\n",
              "      border-radius: 50%;\n",
              "      cursor: pointer;\n",
              "      display: none;\n",
              "      fill: #1967D2;\n",
              "      height: 32px;\n",
              "      padding: 0 0 0 0;\n",
              "      width: 32px;\n",
              "    }\n",
              "\n",
              "    .colab-df-convert:hover {\n",
              "      background-color: #E2EBFA;\n",
              "      box-shadow: 0px 1px 2px rgba(60, 64, 67, 0.3), 0px 1px 3px 1px rgba(60, 64, 67, 0.15);\n",
              "      fill: #174EA6;\n",
              "    }\n",
              "\n",
              "    [theme=dark] .colab-df-convert {\n",
              "      background-color: #3B4455;\n",
              "      fill: #D2E3FC;\n",
              "    }\n",
              "\n",
              "    [theme=dark] .colab-df-convert:hover {\n",
              "      background-color: #434B5C;\n",
              "      box-shadow: 0px 1px 3px 1px rgba(0, 0, 0, 0.15);\n",
              "      filter: drop-shadow(0px 1px 2px rgba(0, 0, 0, 0.3));\n",
              "      fill: #FFFFFF;\n",
              "    }\n",
              "  </style>\n",
              "\n",
              "      <script>\n",
              "        const buttonEl =\n",
              "          document.querySelector('#df-bec46bd9-8ea0-4532-85e0-f406f7e99a0d button.colab-df-convert');\n",
              "        buttonEl.style.display =\n",
              "          google.colab.kernel.accessAllowed ? 'block' : 'none';\n",
              "\n",
              "        async function convertToInteractive(key) {\n",
              "          const element = document.querySelector('#df-bec46bd9-8ea0-4532-85e0-f406f7e99a0d');\n",
              "          const dataTable =\n",
              "            await google.colab.kernel.invokeFunction('convertToInteractive',\n",
              "                                                     [key], {});\n",
              "          if (!dataTable) return;\n",
              "\n",
              "          const docLinkHtml = 'Like what you see? Visit the ' +\n",
              "            '<a target=\"_blank\" href=https://colab.research.google.com/notebooks/data_table.ipynb>data table notebook</a>'\n",
              "            + ' to learn more about interactive tables.';\n",
              "          element.innerHTML = '';\n",
              "          dataTable['output_type'] = 'display_data';\n",
              "          await google.colab.output.renderOutput(dataTable, element);\n",
              "          const docLink = document.createElement('div');\n",
              "          docLink.innerHTML = docLinkHtml;\n",
              "          element.appendChild(docLink);\n",
              "        }\n",
              "      </script>\n",
              "    </div>\n",
              "  </div>\n",
              "  "
            ]
          },
          "metadata": {},
          "execution_count": 5
        }
      ]
    },
    {
      "cell_type": "markdown",
      "source": [
        "Топ - 3 приоритетных гипотез по ICE:  \n",
        "-Запустить акцию, дающую скидку на товар в день рождения.  \n",
        "-Добавить два новых канала привлечения трафика, что позволит привлекать на 30% больше пользователей.  \n",
        "-Добавить форму подписки на все основные страницы, чтобы собрать базу клиентов для email-рассылок\n",
        "\n"
      ],
      "metadata": {
        "id": "8WRJPrTn7reQ"
      }
    },
    {
      "cell_type": "markdown",
      "source": [
        "### 1.2 Применим фреймворк RICE для приоритизации гипотез. Отсортируем их по убыванию приоритета."
      ],
      "metadata": {
        "id": "KcHEnClK2kf5"
      }
    },
    {
      "cell_type": "code",
      "source": [
        "hypothesis['RICE'] = hypothesis['reach'] * hypothesis['impact'] * hypothesis['confidence'] / hypothesis['efforts']\n",
        "hypothesis_RICE = hypothesis[['hypothesis', 'RICE']].sort_values(by='RICE', ascending=False)\n",
        "pd.set_option('max_colwidth', 150)\n",
        "hypothesis_RICE"
      ],
      "metadata": {
        "colab": {
          "base_uri": "https://localhost:8080/",
          "height": 332
        },
        "id": "HeaVHB3j2x8A",
        "outputId": "4d21566b-a931-4439-ed52-e2ded99dc376"
      },
      "execution_count": null,
      "outputs": [
        {
          "output_type": "execute_result",
          "data": {
            "text/plain": [
              "                                                                                                     hypothesis  \\\n",
              "7              Добавить форму подписки на все основные страницы, чтобы собрать базу клиентов для email-рассылок   \n",
              "2  Добавить блоки рекомендаций товаров на сайт интернет магазина, чтобы повысить конверсию и средний чек заказа   \n",
              "0            Добавить два новых канала привлечения трафика, что позволит привлекать на 30% больше пользователей   \n",
              "6          Показать на главной странице баннеры с актуальными акциями и распродажами, чтобы увеличить конверсию   \n",
              "8                                                       Запустить акцию, дающую скидку на товар в день рождения   \n",
              "3           Изменить структура категорий, что увеличит конверсию, т.к. пользователи быстрее найдут нужный товар   \n",
              "1                                     Запустить собственную службу доставки, что сократит срок доставки заказов   \n",
              "5                      Добавить страницу отзывов клиентов о магазине, что позволит увеличить количество заказов   \n",
              "4                              Изменить цвет фона главной страницы, чтобы увеличить вовлеченность пользователей   \n",
              "\n",
              "    RICE  \n",
              "7  112.0  \n",
              "2   56.0  \n",
              "0   40.0  \n",
              "6   40.0  \n",
              "8   16.2  \n",
              "3    9.0  \n",
              "1    4.0  \n",
              "5    4.0  \n",
              "4    3.0  "
            ],
            "text/html": [
              "\n",
              "  <div id=\"df-255b1fa5-10d3-4b85-ba7b-6ca880aee179\">\n",
              "    <div class=\"colab-df-container\">\n",
              "      <div>\n",
              "<style scoped>\n",
              "    .dataframe tbody tr th:only-of-type {\n",
              "        vertical-align: middle;\n",
              "    }\n",
              "\n",
              "    .dataframe tbody tr th {\n",
              "        vertical-align: top;\n",
              "    }\n",
              "\n",
              "    .dataframe thead th {\n",
              "        text-align: right;\n",
              "    }\n",
              "</style>\n",
              "<table border=\"1\" class=\"dataframe\">\n",
              "  <thead>\n",
              "    <tr style=\"text-align: right;\">\n",
              "      <th></th>\n",
              "      <th>hypothesis</th>\n",
              "      <th>RICE</th>\n",
              "    </tr>\n",
              "  </thead>\n",
              "  <tbody>\n",
              "    <tr>\n",
              "      <th>7</th>\n",
              "      <td>Добавить форму подписки на все основные страницы, чтобы собрать базу клиентов для email-рассылок</td>\n",
              "      <td>112.0</td>\n",
              "    </tr>\n",
              "    <tr>\n",
              "      <th>2</th>\n",
              "      <td>Добавить блоки рекомендаций товаров на сайт интернет магазина, чтобы повысить конверсию и средний чек заказа</td>\n",
              "      <td>56.0</td>\n",
              "    </tr>\n",
              "    <tr>\n",
              "      <th>0</th>\n",
              "      <td>Добавить два новых канала привлечения трафика, что позволит привлекать на 30% больше пользователей</td>\n",
              "      <td>40.0</td>\n",
              "    </tr>\n",
              "    <tr>\n",
              "      <th>6</th>\n",
              "      <td>Показать на главной странице баннеры с актуальными акциями и распродажами, чтобы увеличить конверсию</td>\n",
              "      <td>40.0</td>\n",
              "    </tr>\n",
              "    <tr>\n",
              "      <th>8</th>\n",
              "      <td>Запустить акцию, дающую скидку на товар в день рождения</td>\n",
              "      <td>16.2</td>\n",
              "    </tr>\n",
              "    <tr>\n",
              "      <th>3</th>\n",
              "      <td>Изменить структура категорий, что увеличит конверсию, т.к. пользователи быстрее найдут нужный товар</td>\n",
              "      <td>9.0</td>\n",
              "    </tr>\n",
              "    <tr>\n",
              "      <th>1</th>\n",
              "      <td>Запустить собственную службу доставки, что сократит срок доставки заказов</td>\n",
              "      <td>4.0</td>\n",
              "    </tr>\n",
              "    <tr>\n",
              "      <th>5</th>\n",
              "      <td>Добавить страницу отзывов клиентов о магазине, что позволит увеличить количество заказов</td>\n",
              "      <td>4.0</td>\n",
              "    </tr>\n",
              "    <tr>\n",
              "      <th>4</th>\n",
              "      <td>Изменить цвет фона главной страницы, чтобы увеличить вовлеченность пользователей</td>\n",
              "      <td>3.0</td>\n",
              "    </tr>\n",
              "  </tbody>\n",
              "</table>\n",
              "</div>\n",
              "      <button class=\"colab-df-convert\" onclick=\"convertToInteractive('df-255b1fa5-10d3-4b85-ba7b-6ca880aee179')\"\n",
              "              title=\"Convert this dataframe to an interactive table.\"\n",
              "              style=\"display:none;\">\n",
              "        \n",
              "  <svg xmlns=\"http://www.w3.org/2000/svg\" height=\"24px\"viewBox=\"0 0 24 24\"\n",
              "       width=\"24px\">\n",
              "    <path d=\"M0 0h24v24H0V0z\" fill=\"none\"/>\n",
              "    <path d=\"M18.56 5.44l.94 2.06.94-2.06 2.06-.94-2.06-.94-.94-2.06-.94 2.06-2.06.94zm-11 1L8.5 8.5l.94-2.06 2.06-.94-2.06-.94L8.5 2.5l-.94 2.06-2.06.94zm10 10l.94 2.06.94-2.06 2.06-.94-2.06-.94-.94-2.06-.94 2.06-2.06.94z\"/><path d=\"M17.41 7.96l-1.37-1.37c-.4-.4-.92-.59-1.43-.59-.52 0-1.04.2-1.43.59L10.3 9.45l-7.72 7.72c-.78.78-.78 2.05 0 2.83L4 21.41c.39.39.9.59 1.41.59.51 0 1.02-.2 1.41-.59l7.78-7.78 2.81-2.81c.8-.78.8-2.07 0-2.86zM5.41 20L4 18.59l7.72-7.72 1.47 1.35L5.41 20z\"/>\n",
              "  </svg>\n",
              "      </button>\n",
              "      \n",
              "  <style>\n",
              "    .colab-df-container {\n",
              "      display:flex;\n",
              "      flex-wrap:wrap;\n",
              "      gap: 12px;\n",
              "    }\n",
              "\n",
              "    .colab-df-convert {\n",
              "      background-color: #E8F0FE;\n",
              "      border: none;\n",
              "      border-radius: 50%;\n",
              "      cursor: pointer;\n",
              "      display: none;\n",
              "      fill: #1967D2;\n",
              "      height: 32px;\n",
              "      padding: 0 0 0 0;\n",
              "      width: 32px;\n",
              "    }\n",
              "\n",
              "    .colab-df-convert:hover {\n",
              "      background-color: #E2EBFA;\n",
              "      box-shadow: 0px 1px 2px rgba(60, 64, 67, 0.3), 0px 1px 3px 1px rgba(60, 64, 67, 0.15);\n",
              "      fill: #174EA6;\n",
              "    }\n",
              "\n",
              "    [theme=dark] .colab-df-convert {\n",
              "      background-color: #3B4455;\n",
              "      fill: #D2E3FC;\n",
              "    }\n",
              "\n",
              "    [theme=dark] .colab-df-convert:hover {\n",
              "      background-color: #434B5C;\n",
              "      box-shadow: 0px 1px 3px 1px rgba(0, 0, 0, 0.15);\n",
              "      filter: drop-shadow(0px 1px 2px rgba(0, 0, 0, 0.3));\n",
              "      fill: #FFFFFF;\n",
              "    }\n",
              "  </style>\n",
              "\n",
              "      <script>\n",
              "        const buttonEl =\n",
              "          document.querySelector('#df-255b1fa5-10d3-4b85-ba7b-6ca880aee179 button.colab-df-convert');\n",
              "        buttonEl.style.display =\n",
              "          google.colab.kernel.accessAllowed ? 'block' : 'none';\n",
              "\n",
              "        async function convertToInteractive(key) {\n",
              "          const element = document.querySelector('#df-255b1fa5-10d3-4b85-ba7b-6ca880aee179');\n",
              "          const dataTable =\n",
              "            await google.colab.kernel.invokeFunction('convertToInteractive',\n",
              "                                                     [key], {});\n",
              "          if (!dataTable) return;\n",
              "\n",
              "          const docLinkHtml = 'Like what you see? Visit the ' +\n",
              "            '<a target=\"_blank\" href=https://colab.research.google.com/notebooks/data_table.ipynb>data table notebook</a>'\n",
              "            + ' to learn more about interactive tables.';\n",
              "          element.innerHTML = '';\n",
              "          dataTable['output_type'] = 'display_data';\n",
              "          await google.colab.output.renderOutput(dataTable, element);\n",
              "          const docLink = document.createElement('div');\n",
              "          docLink.innerHTML = docLinkHtml;\n",
              "          element.appendChild(docLink);\n",
              "        }\n",
              "      </script>\n",
              "    </div>\n",
              "  </div>\n",
              "  "
            ]
          },
          "metadata": {},
          "execution_count": 6
        }
      ]
    },
    {
      "cell_type": "markdown",
      "source": [
        "Топ - 3 приоритетных гипотез по RICE:  \n",
        "-Добавить форму подписки на все основные страницы, чтобы собрать базу клиентов для email-рассылок.  \n",
        "-Добавить блоки рекомендаций товаров на сайт интернет магазина, чтобы повысить конверсию и средний чек заказа  \n",
        "-Добавить два новых канала привлечения трафика, что позволит привлекать на 30% больше пользователей\n"
      ],
      "metadata": {
        "id": "rcvhsIrE7_lJ"
      }
    },
    {
      "cell_type": "code",
      "source": [
        "hypothesis.set_index('hypothesis')[['ICE','RICE']].plot(kind='barh');"
      ],
      "metadata": {
        "colab": {
          "base_uri": "https://localhost:8080/",
          "height": 265
        },
        "id": "-a6EVJUy8did",
        "outputId": "9048094b-d8c8-44c1-a4a8-cab4784485e8"
      },
      "execution_count": null,
      "outputs": [
        {
          "output_type": "display_data",
          "data": {
            "text/plain": [
              "<Figure size 432x288 with 1 Axes>"
            ],
            "image/png": "[encoded data removed]"
          },
          "metadata": {
            "needs_background": "light"
          }
        }
      ]
    },
    {
      "cell_type": "markdown",
      "source": [
        "<b> Вывод:</b>   \n",
        "Первая пятерка гипотез совпадает у ICE и RICE, но в целом результаты сильно отличаются друг от друга. Приоритизация по RICE отличается от приоритизации по ICE тем, что также оценивает и охват пользователей. Лидеры среди гипотез фреймворка RICE являются наиболее приоритетными."
      ],
      "metadata": {
        "id": "nZsRImbf9CnW"
      }
    },
    {
      "cell_type": "markdown",
      "source": [
        "### <b> 2. Анализ A/B-теста"
      ],
      "metadata": {
        "id": "bkZ9vKr8DDzp"
      }
    },
    {
      "cell_type": "markdown",
      "source": [
        "Предобработка данных"
      ],
      "metadata": {
        "id": "77K211joHFpC"
      }
    },
    {
      "cell_type": "code",
      "source": [
        "# читаем файлы с данными\n",
        "try:\n",
        "    orders = pd.read_csv('/datasets/orders.csv')\n",
        "    visitors = pd.read_csv('/datasets/visitors.csv')\n",
        "except:\n",
        "    orders = pd.read_csv('https://code.s3.yandex.net/datasets/orders.csv')\n",
        "    visitors = pd.read_csv('https://code.s3.yandex.net/datasets/visitors.csv')\n",
        "print(orders)\n",
        "visitors"
      ],
      "metadata": {
        "colab": {
          "base_uri": "https://localhost:8080/",
          "height": 674
        },
        "id": "JF7dhgS1HIGG",
        "outputId": "aa467bc9-86a2-4fa5-c81a-f0e229edd6e0"
      },
      "execution_count": null,
      "outputs": [
        {
          "output_type": "stream",
          "name": "stdout",
          "text": [
            "      transactionId   visitorId        date  revenue group\n",
            "0        3667963787  3312258926  2019-08-15     1650     B\n",
            "1        2804400009  3642806036  2019-08-15      730     B\n",
            "2        2961555356  4069496402  2019-08-15      400     A\n",
            "3        3797467345  1196621759  2019-08-15     9759     B\n",
            "4        2282983706  2322279887  2019-08-15     2308     B\n",
            "...             ...         ...         ...      ...   ...\n",
            "1192     2662137336  3733762160  2019-08-14     6490     B\n",
            "1193     2203539145   370388673  2019-08-14     3190     A\n",
            "1194     1807773912   573423106  2019-08-14    10550     A\n",
            "1195     1947021204  1614305549  2019-08-14      100     A\n",
            "1196     3936777065  2108080724  2019-08-15   202740     B\n",
            "\n",
            "[1197 rows x 5 columns]\n"
          ]
        },
        {
          "output_type": "execute_result",
          "data": {
            "text/plain": [
              "          date group  visitors\n",
              "0   2019-08-01     A       719\n",
              "1   2019-08-02     A       619\n",
              "2   2019-08-03     A       507\n",
              "3   2019-08-04     A       717\n",
              "4   2019-08-05     A       756\n",
              "..         ...   ...       ...\n",
              "57  2019-08-27     B       720\n",
              "58  2019-08-28     B       654\n",
              "59  2019-08-29     B       531\n",
              "60  2019-08-30     B       490\n",
              "61  2019-08-31     B       718\n",
              "\n",
              "[62 rows x 3 columns]"
            ],
            "text/html": [
              "\n",
              "  <div id=\"df-94e02e34-3bfb-4d1d-9ecd-55160bd2c471\">\n",
              "    <div class=\"colab-df-container\">\n",
              "      <div>\n",
              "<style scoped>\n",
              "    .dataframe tbody tr th:only-of-type {\n",
              "        vertical-align: middle;\n",
              "    }\n",
              "\n",
              "    .dataframe tbody tr th {\n",
              "        vertical-align: top;\n",
              "    }\n",
              "\n",
              "    .dataframe thead th {\n",
              "        text-align: right;\n",
              "    }\n",
              "</style>\n",
              "<table border=\"1\" class=\"dataframe\">\n",
              "  <thead>\n",
              "    <tr style=\"text-align: right;\">\n",
              "      <th></th>\n",
              "      <th>date</th>\n",
              "      <th>group</th>\n",
              "      <th>visitors</th>\n",
              "    </tr>\n",
              "  </thead>\n",
              "  <tbody>\n",
              "    <tr>\n",
              "      <th>0</th>\n",
              "      <td>2019-08-01</td>\n",
              "      <td>A</td>\n",
              "      <td>719</td>\n",
              "    </tr>\n",
              "    <tr>\n",
              "      <th>1</th>\n",
              "      <td>2019-08-02</td>\n",
              "      <td>A</td>\n",
              "      <td>619</td>\n",
              "    </tr>\n",
              "    <tr>\n",
              "      <th>2</th>\n",
              "      <td>2019-08-03</td>\n",
              "      <td>A</td>\n",
              "      <td>507</td>\n",
              "    </tr>\n",
              "    <tr>\n",
              "      <th>3</th>\n",
              "      <td>2019-08-04</td>\n",
              "      <td>A</td>\n",
              "      <td>717</td>\n",
              "    </tr>\n",
              "    <tr>\n",
              "      <th>4</th>\n",
              "      <td>2019-08-05</td>\n",
              "      <td>A</td>\n",
              "      <td>756</td>\n",
              "    </tr>\n",
              "    <tr>\n",
              "      <th>...</th>\n",
              "      <td>...</td>\n",
              "      <td>...</td>\n",
              "      <td>...</td>\n",
              "    </tr>\n",
              "    <tr>\n",
              "      <th>57</th>\n",
              "      <td>2019-08-27</td>\n",
              "      <td>B</td>\n",
              "      <td>720</td>\n",
              "    </tr>\n",
              "    <tr>\n",
              "      <th>58</th>\n",
              "      <td>2019-08-28</td>\n",
              "      <td>B</td>\n",
              "      <td>654</td>\n",
              "    </tr>\n",
              "    <tr>\n",
              "      <th>59</th>\n",
              "      <td>2019-08-29</td>\n",
              "      <td>B</td>\n",
              "      <td>531</td>\n",
              "    </tr>\n",
              "    <tr>\n",
              "      <th>60</th>\n",
              "      <td>2019-08-30</td>\n",
              "      <td>B</td>\n",
              "      <td>490</td>\n",
              "    </tr>\n",
              "    <tr>\n",
              "      <th>61</th>\n",
              "      <td>2019-08-31</td>\n",
              "      <td>B</td>\n",
              "      <td>718</td>\n",
              "    </tr>\n",
              "  </tbody>\n",
              "</table>\n",
              "<p>62 rows × 3 columns</p>\n",
              "</div>\n",
              "      <button class=\"colab-df-convert\" onclick=\"convertToInteractive('df-94e02e34-3bfb-4d1d-9ecd-55160bd2c471')\"\n",
              "              title=\"Convert this dataframe to an interactive table.\"\n",
              "              style=\"display:none;\">\n",
              "        \n",
              "  <svg xmlns=\"http://www.w3.org/2000/svg\" height=\"24px\"viewBox=\"0 0 24 24\"\n",
              "       width=\"24px\">\n",
              "    <path d=\"M0 0h24v24H0V0z\" fill=\"none\"/>\n",
              "    <path d=\"M18.56 5.44l.94 2.06.94-2.06 2.06-.94-2.06-.94-.94-2.06-.94 2.06-2.06.94zm-11 1L8.5 8.5l.94-2.06 2.06-.94-2.06-.94L8.5 2.5l-.94 2.06-2.06.94zm10 10l.94 2.06.94-2.06 2.06-.94-2.06-.94-.94-2.06-.94 2.06-2.06.94z\"/><path d=\"M17.41 7.96l-1.37-1.37c-.4-.4-.92-.59-1.43-.59-.52 0-1.04.2-1.43.59L10.3 9.45l-7.72 7.72c-.78.78-.78 2.05 0 2.83L4 21.41c.39.39.9.59 1.41.59.51 0 1.02-.2 1.41-.59l7.78-7.78 2.81-2.81c.8-.78.8-2.07 0-2.86zM5.41 20L4 18.59l7.72-7.72 1.47 1.35L5.41 20z\"/>\n",
              "  </svg>\n",
              "      </button>\n",
              "      \n",
              "  <style>\n",
              "    .colab-df-container {\n",
              "      display:flex;\n",
              "      flex-wrap:wrap;\n",
              "      gap: 12px;\n",
              "    }\n",
              "\n",
              "    .colab-df-convert {\n",
              "      background-color: #E8F0FE;\n",
              "      border: none;\n",
              "      border-radius: 50%;\n",
              "      cursor: pointer;\n",
              "      display: none;\n",
              "      fill: #1967D2;\n",
              "      height: 32px;\n",
              "      padding: 0 0 0 0;\n",
              "      width: 32px;\n",
              "    }\n",
              "\n",
              "    .colab-df-convert:hover {\n",
              "      background-color: #E2EBFA;\n",
              "      box-shadow: 0px 1px 2px rgba(60, 64, 67, 0.3), 0px 1px 3px 1px rgba(60, 64, 67, 0.15);\n",
              "      fill: #174EA6;\n",
              "    }\n",
              "\n",
              "    [theme=dark] .colab-df-convert {\n",
              "      background-color: #3B4455;\n",
              "      fill: #D2E3FC;\n",
              "    }\n",
              "\n",
              "    [theme=dark] .colab-df-convert:hover {\n",
              "      background-color: #434B5C;\n",
              "      box-shadow: 0px 1px 3px 1px rgba(0, 0, 0, 0.15);\n",
              "      filter: drop-shadow(0px 1px 2px rgba(0, 0, 0, 0.3));\n",
              "      fill: #FFFFFF;\n",
              "    }\n",
              "  </style>\n",
              "\n",
              "      <script>\n",
              "        const buttonEl =\n",
              "          document.querySelector('#df-94e02e34-3bfb-4d1d-9ecd-55160bd2c471 button.colab-df-convert');\n",
              "        buttonEl.style.display =\n",
              "          google.colab.kernel.accessAllowed ? 'block' : 'none';\n",
              "\n",
              "        async function convertToInteractive(key) {\n",
              "          const element = document.querySelector('#df-94e02e34-3bfb-4d1d-9ecd-55160bd2c471');\n",
              "          const dataTable =\n",
              "            await google.colab.kernel.invokeFunction('convertToInteractive',\n",
              "                                                     [key], {});\n",
              "          if (!dataTable) return;\n",
              "\n",
              "          const docLinkHtml = 'Like what you see? Visit the ' +\n",
              "            '<a target=\"_blank\" href=https://colab.research.google.com/notebooks/data_table.ipynb>data table notebook</a>'\n",
              "            + ' to learn more about interactive tables.';\n",
              "          element.innerHTML = '';\n",
              "          dataTable['output_type'] = 'display_data';\n",
              "          await google.colab.output.renderOutput(dataTable, element);\n",
              "          const docLink = document.createElement('div');\n",
              "          docLink.innerHTML = docLinkHtml;\n",
              "          element.appendChild(docLink);\n",
              "        }\n",
              "      </script>\n",
              "    </div>\n",
              "  </div>\n",
              "  "
            ]
          },
          "metadata": {},
          "execution_count": 8
        }
      ]
    },
    {
      "cell_type": "code",
      "source": [
        "# смотрим инфо \n",
        "orders.info()\n",
        "visitors.info()"
      ],
      "metadata": {
        "colab": {
          "base_uri": "https://localhost:8080/"
        },
        "id": "1z1aVdeZjPRA",
        "outputId": "b1655394-8c99-42c7-d84c-9798423ba048"
      },
      "execution_count": null,
      "outputs": [
        {
          "output_type": "stream",
          "name": "stdout",
          "text": [
            "<class 'pandas.core.frame.DataFrame'>\n",
            "RangeIndex: 1197 entries, 0 to 1196\n",
            "Data columns (total 5 columns):\n",
            " #   Column         Non-Null Count  Dtype \n",
            "---  ------         --------------  ----- \n",
            " 0   transactionId  1197 non-null   int64 \n",
            " 1   visitorId      1197 non-null   int64 \n",
            " 2   date           1197 non-null   object\n",
            " 3   revenue        1197 non-null   int64 \n",
            " 4   group          1197 non-null   object\n",
            "dtypes: int64(3), object(2)\n",
            "memory usage: 46.9+ KB\n",
            "<class 'pandas.core.frame.DataFrame'>\n",
            "RangeIndex: 62 entries, 0 to 61\n",
            "Data columns (total 3 columns):\n",
            " #   Column    Non-Null Count  Dtype \n",
            "---  ------    --------------  ----- \n",
            " 0   date      62 non-null     object\n",
            " 1   group     62 non-null     object\n",
            " 2   visitors  62 non-null     int64 \n",
            "dtypes: int64(1), object(2)\n",
            "memory usage: 1.6+ KB\n"
          ]
        }
      ]
    },
    {
      "cell_type": "code",
      "source": [
        "# переименуем столбцы с учетом змеиного регистра\n",
        "orders.columns = ['transaction_id', 'visitor_id', 'date', 'revenue', 'group']\n"
      ],
      "metadata": {
        "id": "StDgbsa0ovY1"
      },
      "execution_count": null,
      "outputs": []
    },
    {
      "cell_type": "markdown",
      "source": [
        "Проверим наличие дубликатов"
      ],
      "metadata": {
        "id": "v-UdnnkmXU8x"
      }
    },
    {
      "cell_type": "code",
      "source": [
        "orders.duplicated().sum()"
      ],
      "metadata": {
        "colab": {
          "base_uri": "https://localhost:8080/"
        },
        "id": "w6E4tD31o_q2",
        "outputId": "11e08e46-3bb8-4761-9520-5c010c31e8fe"
      },
      "execution_count": null,
      "outputs": [
        {
          "output_type": "execute_result",
          "data": {
            "text/plain": [
              "0"
            ]
          },
          "metadata": {},
          "execution_count": 11
        }
      ]
    },
    {
      "cell_type": "code",
      "source": [
        "visitors.duplicated().sum()"
      ],
      "metadata": {
        "colab": {
          "base_uri": "https://localhost:8080/"
        },
        "id": "HuFgVdyXpFaQ",
        "outputId": "b644aad1-3638-47b3-a1ae-8228a5a9c4a4"
      },
      "execution_count": null,
      "outputs": [
        {
          "output_type": "execute_result",
          "data": {
            "text/plain": [
              "0"
            ]
          },
          "metadata": {},
          "execution_count": 12
        }
      ]
    },
    {
      "cell_type": "markdown",
      "source": [
        "Изменим тип данных столбцов date с object на datetime64"
      ],
      "metadata": {
        "id": "a-_VygjJWcHv"
      }
    },
    {
      "cell_type": "code",
      "source": [
        "visitors['date'] = visitors['date'].astype('datetime64')\n",
        "orders['date'] = orders['date'].astype('datetime64')"
      ],
      "metadata": {
        "id": "VxYS6ETlWJKP"
      },
      "execution_count": null,
      "outputs": []
    },
    {
      "cell_type": "markdown",
      "source": [
        "Проверим распределение по группам"
      ],
      "metadata": {
        "id": "UW-qn_A7ZiRk"
      }
    },
    {
      "cell_type": "code",
      "source": [
        "visitors['group'].value_counts()"
      ],
      "metadata": {
        "colab": {
          "base_uri": "https://localhost:8080/"
        },
        "id": "m_nP5LDuYZx_",
        "outputId": "09d6adb8-9e4c-47f2-c3f2-3a046b0141fc"
      },
      "execution_count": null,
      "outputs": [
        {
          "output_type": "execute_result",
          "data": {
            "text/plain": [
              "A    31\n",
              "B    31\n",
              "Name: group, dtype: int64"
            ]
          },
          "metadata": {},
          "execution_count": 14
        }
      ]
    },
    {
      "cell_type": "markdown",
      "source": [
        "Дубликатов не обнаружено, типы данных в столбцах со временем привели к нужному типу, наименования несколькив столбцов привели к более читабельному виду"
      ],
      "metadata": {
        "id": "orin-Bv5Z0Nv"
      }
    },
    {
      "cell_type": "markdown",
      "source": [
        "Подготовим файл для подсчета кумулятивной выручки по группам "
      ],
      "metadata": {
        "id": "Rze8RnKqpBa5"
      }
    },
    {
      "cell_type": "code",
      "source": [
        "#Создадим датафрейм с уникальными парами значений дат и групп тестаблицы orders. \n",
        "#и избавимся от дубликатов методомта методом drop_duplicates()\n",
        "dates_groups = orders[['date','group']].drop_duplicates()\n",
        "\n",
        "orders_aggregated = dates_groups.apply(\n",
        "    lambda x: orders[\n",
        "        np.logical_and(\n",
        "            orders['date'] <= x['date'], orders['group'] == x['group']\n",
        "        )\n",
        "    ].agg(\n",
        "        {\n",
        "            'date': 'max',\n",
        "            'group': 'max',\n",
        "            'transaction_id': 'nunique',\n",
        "            'visitor_id': 'nunique',\n",
        "            'revenue': 'sum',\n",
        "        }\n",
        "    ),\n",
        "    axis=1,\n",
        ").sort_values(by=['date', 'group'])\n",
        "\n",
        "visitors_aggregated = dates_groups.apply(\n",
        "    lambda x: visitors[\n",
        "        np.logical_and(\n",
        "            visitors['date'] <= x['date'], visitors['group'] == x['group']\n",
        "        )\n",
        "    ].agg({'date': 'max', 'group': 'max', 'visitors': 'sum'}),\n",
        "    axis=1,\n",
        ").sort_values(by=['date', 'group'])\n",
        "\n",
        "cumulative_data = orders_aggregated.merge(\n",
        "    visitors_aggregated, left_on=['date', 'group'], right_on=['date', 'group']\n",
        ")\n",
        "cumulative_data.columns = [\n",
        "    'date',\n",
        "    'group',\n",
        "    'orders',\n",
        "    'buyers',\n",
        "    'revenue',\n",
        "    'visitors',\n",
        "]\n",
        "# датафрейм с кумулятивным количеством заказов и кумулятивной выручкой по дням в группе A\n",
        "cumulative_revenue_a = cumulative_data[cumulative_data['group']=='A'][['date','revenue', 'orders']]\n",
        "# датафрейм с кумулятивным количеством заказов и кумулятивной выручкой по дням в группе B\n",
        "cumulative_revenue_b = cumulative_data[cumulative_data['group']=='B'][['date','revenue', 'orders']]"
      ],
      "metadata": {
        "id": "ClAhhfkaeIZQ"
      },
      "execution_count": null,
      "outputs": []
    },
    {
      "cell_type": "markdown",
      "source": [
        "### 2.1 Построим график кумулятивной выручки по группам."
      ],
      "metadata": {
        "id": "h80JGqYl4pIt"
      }
    },
    {
      "cell_type": "code",
      "source": [
        "plt.figure(figsize=(10, 7))\n",
        "# Строим график выручки группы А\n",
        "plt.plot(cumulative_revenue_a['date'], cumulative_revenue_a['revenue'], label='A')\n",
        "\n",
        "# Строим график выручки группы B\n",
        "plt.plot(cumulative_revenue_b['date'], cumulative_revenue_b['revenue'], label='B')\n",
        "plt.title('График кумулятивной выручки по группам')\n",
        "plt.ylabel(\"Выручка\")\n",
        "plt.xticks(rotation=45)\n",
        "plt.legend();"
      ],
      "metadata": {
        "colab": {
          "base_uri": "https://localhost:8080/",
          "height": 482
        },
        "id": "RdZrZpog4__c",
        "outputId": "891d5e8a-179c-48d8-9fa6-cecd90932b39"
      },
      "execution_count": null,
      "outputs": [
        {
          "output_type": "display_data",
          "data": {
            "text/plain": [
              "<Figure size 720x504 with 1 Axes>"
            ],
            "image/png": "[encoded data removed]"
          },
          "metadata": {
            "needs_background": "light"
          }
        }
      ]
    },
    {
      "cell_type": "markdown",
      "source": [
        "Выручка постоянно растет, но график выручки группы B резко растет в середине теста. На это могло повлиять резкое увеличение числа заказов, либо появление очень дорогих заказов в выборке."
      ],
      "metadata": {
        "id": "3t3eF3QP6CTA"
      }
    },
    {
      "cell_type": "markdown",
      "source": [
        "### 2.2 Построим график кумулятивного среднего чека по группам."
      ],
      "metadata": {
        "id": "LJVe0IYl9t2E"
      }
    },
    {
      "cell_type": "code",
      "source": [
        "plt.figure(figsize=(10, 7))\n",
        "# график среднего чека группы А\n",
        "plt.plot(cumulative_revenue_a['date'], cumulative_revenue_a['revenue']/cumulative_revenue_a['orders'], label='A')\n",
        "# график среднего чека группы B\n",
        "plt.plot(cumulative_revenue_b['date'], cumulative_revenue_b['revenue']/cumulative_revenue_b['orders'], label='B')\n",
        "plt.title('График кумулятивного среднего чека по группам')\n",
        "plt.ylabel(\"Выручка\")\n",
        "plt.xticks(rotation=45)\n",
        "plt.legend();"
      ],
      "metadata": {
        "colab": {
          "base_uri": "https://localhost:8080/",
          "height": 482
        },
        "id": "PGDCUgxn-GBE",
        "outputId": "679c10c3-4f9d-4f9a-d846-8a23ec2a4e92"
      },
      "execution_count": null,
      "outputs": [
        {
          "output_type": "display_data",
          "data": {
            "text/plain": [
              "<Figure size 720x504 with 1 Axes>"
            ],
            "image/png": "[encoded data removed]"
          },
          "metadata": {
            "needs_background": "light"
          }
        }
      ]
    },
    {
      "cell_type": "markdown",
      "source": [
        "График среднего чека выравнивается толлько к концу теста, немного увеличивается для группы A, и снижается для группы B. Для группы B снова видим резкий скачок в середине месяца. Предположим, что виной этому крупные заказы"
      ],
      "metadata": {
        "id": "tUHNOMwU_FrZ"
      }
    },
    {
      "cell_type": "markdown",
      "source": [
        "### 2.3 Построим график относительного изменения кумулятивного среднего чека группы B к группе A."
      ],
      "metadata": {
        "id": "dsMns5LcA8Am"
      }
    },
    {
      "cell_type": "code",
      "source": [
        "plt.figure(figsize=(10, 7))\n",
        "# собираем данные в одном датафрейме\n",
        "merged_cumulative_revenue = cumulative_revenue_a.merge(cumulative_revenue_b, left_on='date', right_on='date', how='left', suffixes=['A', 'B'])\n",
        "\n",
        "# cтроим отношение средних чеков\n",
        "plt.plot(merged_cumulative_revenue['date'], (merged_cumulative_revenue['revenueB']/merged_cumulative_revenue['ordersB'])/(merged_cumulative_revenue['revenueA']/merged_cumulative_revenue['ordersA'])-1)\n",
        "\n",
        "# добавляем ось X\n",
        "plt.axhline(y=0, color='black', linestyle='--')\n",
        "\n",
        "plt.title('График относительного изменения кумулятивного среднего чека группы B к группе A')\n",
        "plt.xticks(rotation=45)\n",
        "plt.xlabel('Дата');"
      ],
      "metadata": {
        "colab": {
          "base_uri": "https://localhost:8080/",
          "height": 496
        },
        "id": "iakqXfvqBC-r",
        "outputId": "6770ef96-51a3-41ea-9818-640c21190a15"
      },
      "execution_count": null,
      "outputs": [
        {
          "output_type": "display_data",
          "data": {
            "text/plain": [
              "<Figure size 720x504 with 1 Axes>"
            ],
            "image/png": "[encoded data removed]"
          },
          "metadata": {
            "needs_background": "light"
          }
        }
      ]
    },
    {
      "cell_type": "markdown",
      "source": [
        "Результаты теста значительно и резко менялись в несколько дат. В одну из дат как раз и были совершены аномальные заказы."
      ],
      "metadata": {
        "id": "MSjv4dZQEbxq"
      }
    },
    {
      "cell_type": "markdown",
      "source": [
        "### 2.4 Построим график кумулятивного среднего количества заказов на посетителя по группам."
      ],
      "metadata": {
        "id": "4GSft8pmEtKh"
      }
    },
    {
      "cell_type": "code",
      "source": [
        "plt.figure(figsize=(10, 7))\n",
        "# считаем кумулятивную конверсию\n",
        "cumulative_data['conversion'] = cumulative_data['orders']/cumulative_data['visitors']\n",
        "\n",
        "# отделяем данные по группе A\n",
        "cumulative_data_a = cumulative_data[cumulative_data['group']=='A']\n",
        "\n",
        "# отделяем данные по группе B\n",
        "cumulative_data_b = cumulative_data[cumulative_data['group']=='B']\n",
        "\n",
        "# строим графики\n",
        "plt.plot(cumulative_data_a['date'], cumulative_data_a['conversion'], label='A')\n",
        "plt.plot(cumulative_data_b['date'], cumulative_data_b['conversion'], label='B')\n",
        "\n",
        "# задаем масштаб осей\n",
        "plt.axis([dt.datetime(2019, 8, 1), dt.datetime(2019, 9, 1), 0.025, 0.04])\n",
        "\n",
        "plt.legend()\n",
        "plt.title('График кумулятивного среднего количества заказов на посетителя по группам')\n",
        "plt.xticks(rotation=45)\n",
        "plt.xlabel('Дата');"
      ],
      "metadata": {
        "colab": {
          "base_uri": "https://localhost:8080/",
          "height": 496
        },
        "id": "U8MucjKhE83X",
        "outputId": "0ad7893c-34cf-4199-aab7-dbc5e5181686"
      },
      "execution_count": null,
      "outputs": [
        {
          "output_type": "display_data",
          "data": {
            "text/plain": [
              "<Figure size 720x504 with 1 Axes>"
            ],
            "image/png": "[encoded data removed]"
          },
          "metadata": {
            "needs_background": "light"
          }
        }
      ]
    },
    {
      "cell_type": "markdown",
      "source": [
        "График ассиметричен, первоначально преобладала конверсия группы А, но затем конверсия группы В вырвалась вперёд и зафиксировалась, а конверсия группы А просела и также зафиксировалась."
      ],
      "metadata": {
        "id": "3i5fV3T_laup"
      }
    },
    {
      "cell_type": "markdown",
      "source": [
        "### 2.5 Построим график относительного изменения кумулятивного среднего количества заказов на посетителя группы B к группе A. "
      ],
      "metadata": {
        "id": "YDcgkFBhyIQP"
      }
    },
    {
      "cell_type": "code",
      "source": [
        "register_matplotlib_converters()\n",
        "merged_cumulative_conversions = cumulative_data_a[\n",
        "    ['date','conversion']].merge(cumulative_data_b[['date','conversion']], \n",
        "                                                           left_on='date', \n",
        "                                                           right_on='date', \n",
        "                                                           how='left', \n",
        "                                                           suffixes=['A', 'B'])\n",
        "plt.figure(figsize=(10, 7))\n",
        "plt.plot(merged_cumulative_conversions['date'], \n",
        "         merged_cumulative_conversions['conversionB']/merged_cumulative_conversions['conversionA']-1, \n",
        "         label=\"Относительный прирост конверсии группы B относительно группы A\")\n",
        "plt.legend()\n",
        "\n",
        "plt.axhline(y=0, color='black', linestyle='--')\n",
        "plt.axhline(y=0.2, color='grey', linestyle='--')\n",
        "plt.axis([\"2019-08-01\", '2019-09-01', -0.3, 0.4])\n",
        "\n",
        "plt.title('График относительного изменения кумулятивной конверсии группы B к группе A')\n",
        "plt.xlabel('Дата')\n",
        "plt.xticks(rotation=45);"
      ],
      "metadata": {
        "colab": {
          "base_uri": "https://localhost:8080/",
          "height": 496
        },
        "id": "NHJQaMLX3vht",
        "outputId": "7bf79688-b301-48a0-ac10-092c4196afd8"
      },
      "execution_count": null,
      "outputs": [
        {
          "output_type": "display_data",
          "data": {
            "text/plain": [
              "<Figure size 720x504 with 1 Axes>"
            ],
            "image/png": "[encoded data removed]"
          },
          "metadata": {
            "needs_background": "light"
          }
        }
      ]
    },
    {
      "cell_type": "markdown",
      "source": [
        "Мы построили график относительного различия конверсии между группами.\n",
        "Почти с самого начала теста группа В лидирует по конверсии: к середине месяца достигает пика, далее немного снижается, и к концу месяца составляет примерно 15% прироста относительно группы A."
      ],
      "metadata": {
        "id": "H3166UWs7wl-"
      }
    },
    {
      "cell_type": "markdown",
      "source": [
        "### 2.6 Построим точечный график количества заказов по пользователям."
      ],
      "metadata": {
        "id": "6msvH0uPDNrL"
      }
    },
    {
      "cell_type": "code",
      "source": [
        "orders_by_users = (\n",
        "    orders.groupby('visitor_id', as_index=False)\n",
        "    .agg({'transaction_id': 'nunique'})\n",
        ")\n",
        "orders_by_users.columns = ['visitor_id', 'orders']\n",
        "print(orders_by_users.sort_values(by='orders', ascending=False).head(10))\n",
        "\n",
        "# серия из чисел от 0 до количества наблюдений в orders_by_users\n",
        "plt.figure(figsize=(10, 7))\n",
        "x_values = pd.Series(range(0, len(orders_by_users)))\n",
        "plt.scatter(x_values, orders_by_users['orders'])\n",
        "plt.title('Точечный график количества заказов по пользователям')\n",
        "plt.ylabel('Количество заказов');"
      ],
      "metadata": {
        "colab": {
          "base_uri": "https://localhost:8080/",
          "height": 640
        },
        "id": "xHescDgPDy4g",
        "outputId": "abb31841-1601-43f4-8a86-e3758247a1ff"
      },
      "execution_count": null,
      "outputs": [
        {
          "output_type": "stream",
          "name": "stdout",
          "text": [
            "      visitor_id  orders\n",
            "1023  4256040402      11\n",
            "591   2458001652      11\n",
            "569   2378935119       9\n",
            "487   2038680547       8\n",
            "44     199603092       5\n",
            "744   3062433592       5\n",
            "55     237748145       5\n",
            "917   3803269165       5\n",
            "299   1230306981       5\n",
            "897   3717692402       5\n"
          ]
        },
        {
          "output_type": "display_data",
          "data": {
            "text/plain": [
              "<Figure size 720x504 with 1 Axes>"
            ],
            "image/png": "[encoded data removed]"
          },
          "metadata": {
            "needs_background": "light"
          }
        }
      ]
    },
    {
      "cell_type": "markdown",
      "source": [
        "Пользователей, которые сделали более двух заказов совсем мало. Есть определенное количество пользователей которые сделали два заказа. Для того, чтобы оценить насколько это много или мало, нужно посчитать выборочные перцентили."
      ],
      "metadata": {
        "id": "E96VIcccFIDH"
      }
    },
    {
      "cell_type": "markdown",
      "source": [
        "### 2.7 Посчитаем 95-й и 99-й перцентили количества заказов на пользователя."
      ],
      "metadata": {
        "id": "r2CvdPvuFkTi"
      }
    },
    {
      "cell_type": "code",
      "source": [
        "print(np.percentile(orders_by_users['orders'], [90, 95, 99])) "
      ],
      "metadata": {
        "colab": {
          "base_uri": "https://localhost:8080/"
        },
        "id": "_8cCS6_UFs90",
        "outputId": "70c04955-b607-489a-c349-1fc794b85080"
      },
      "execution_count": null,
      "outputs": [
        {
          "output_type": "stream",
          "name": "stdout",
          "text": [
            "[1. 2. 4.]\n"
          ]
        }
      ]
    },
    {
      "cell_type": "markdown",
      "source": [
        "Не более 5% пользователей совершали больше двух заказов. И не более 1% пользователей - больше 4 заказов.  \n",
        " Границу для определения аномальных пользователей логично было бы выбрать на отметке в 2 заказа на одного пользователя"
      ],
      "metadata": {
        "id": "WkHLALyMGhDN"
      }
    },
    {
      "cell_type": "markdown",
      "source": [
        "### 2.8 Построим точечный график стоимостей заказов."
      ],
      "metadata": {
        "id": "bTtw-jY8HLmT"
      }
    },
    {
      "cell_type": "code",
      "source": [
        "print(orders.sort_values(by='revenue', ascending=False).head(10))\n",
        "\n",
        "x_values = pd.Series(range(0, len(orders['revenue'])))\n",
        "plt.figure(figsize=(10, 7))\n",
        "plt.scatter(x_values, orders['revenue'])\n",
        "plt.title('Точечный график стоимостей заказов')\n",
        "plt.ylabel('Стоимость заказа в млн уе.');"
      ],
      "metadata": {
        "colab": {
          "base_uri": "https://localhost:8080/",
          "height": 640
        },
        "id": "-Zru_4EDHW8l",
        "outputId": "4e447ca0-b145-4dec-d7bd-2f18c4e7601c"
      },
      "execution_count": null,
      "outputs": [
        {
          "output_type": "stream",
          "name": "stdout",
          "text": [
            "      transaction_id  visitor_id       date  revenue group\n",
            "425        590470918  1920142716 2019-08-19  1294500     B\n",
            "1196      3936777065  2108080724 2019-08-15   202740     B\n",
            "858        192721366  1316129916 2019-08-27    93940     A\n",
            "1136       666610489  1307669133 2019-08-13    92550     A\n",
            "744       3668308183   888512513 2019-08-27    86620     B\n",
            "682       1216533772  4266935830 2019-08-29    78990     B\n",
            "662       1811671147  4266935830 2019-08-29    78990     A\n",
            "743       3603576309  4133034833 2019-08-09    67990     A\n",
            "1103      1348774318  1164614297 2019-08-12    66350     A\n",
            "1099       316924019   148427295 2019-08-12    65710     A\n"
          ]
        },
        {
          "output_type": "display_data",
          "data": {
            "text/plain": [
              "<Figure size 720x504 with 1 Axes>"
            ],
            "image/png": "[encoded data removed]"
          },
          "metadata": {
            "needs_background": "light"
          }
        }
      ]
    },
    {
      "cell_type": "markdown",
      "source": [
        "Видим явную аномалию в лице заказа стоимостью более 1,2 млн, вероятнее всего именно \"благодаря\" ему наблюдали резкие скачки на графиках ранее. также выбивается заказ стоимостью в районе 200 тысяч"
      ],
      "metadata": {
        "id": "gPy3Gc5JI8e4"
      }
    },
    {
      "cell_type": "markdown",
      "source": [
        "### 2.9 Посчитаем 95-й и 99-й перцентили стоимости заказов."
      ],
      "metadata": {
        "id": "upM1IX1HKmrb"
      }
    },
    {
      "cell_type": "code",
      "source": [
        "print(np.percentile(orders['revenue'], [95, 99]))"
      ],
      "metadata": {
        "colab": {
          "base_uri": "https://localhost:8080/"
        },
        "id": "fp8kgn4rKuNH",
        "outputId": "9585c015-c36b-4583-9c70-455f2b35d88c"
      },
      "execution_count": null,
      "outputs": [
        {
          "output_type": "stream",
          "name": "stdout",
          "text": [
            "[28000.  58233.2]\n"
          ]
        }
      ]
    },
    {
      "cell_type": "markdown",
      "source": [
        "Не более, чем у 5% заказов чек дороже 28 тыс. Не больше, чем у 1% - дороже 58233,2.  \n",
        " Границей для определения аномальных заказов следует обозначить 28 тыс. у.е."
      ],
      "metadata": {
        "id": "_kmIa0LgLDCF"
      }
    },
    {
      "cell_type": "markdown",
      "source": [
        "### 2.10 Посчитаем статистическую значимость различий в среднем количестве заказов на посетителя между группами по «сырым» данным."
      ],
      "metadata": {
        "id": "FeFfcVzYLuYe"
      }
    },
    {
      "cell_type": "markdown",
      "source": [
        "Нулевая гипотеза: различий в конверсии между группами нет.\n",
        "\n",
        "Альтернативная гипотеза: различия в конверсии между группами есть."
      ],
      "metadata": {
        "id": "Hb9YfOGYR8Qy"
      }
    },
    {
      "cell_type": "code",
      "source": [
        "visitors_a_daily = visitors[visitors['group'] == 'A'][['date', 'visitors']]\n",
        "visitors_a_daily.columns = ['date', 'visitorsPerDateA']\n",
        "\n",
        "visitors_a_cummulative = visitors_a_daily.apply(\n",
        "    lambda x: visitors_a_daily[visitors_a_daily['date'] <= x['date']].agg(\n",
        "        {'date': 'max', 'visitorsPerDateA': 'sum'}\n",
        "    ),\n",
        "    axis=1,\n",
        ")\n",
        "visitors_a_cummulative.columns = ['date', 'visitorsCummulativeA']\n",
        "\n",
        "visitors_b_daily = visitors[visitors['group'] == 'B'][['date', 'visitors']]\n",
        "visitors_b_daily.columns = ['date', 'visitorsPerDateB']\n",
        "\n",
        "visitors_b_cummulative = visitors_b_daily.apply(\n",
        "    lambda x: visitors_b_daily[visitors_b_daily['date'] <= x['date']].agg(\n",
        "        {'date': 'max', 'visitorsPerDateB': 'sum'}\n",
        "    ),\n",
        "    axis=1,\n",
        ")\n",
        "visitors_b_cummulative.columns = ['date', 'visitorsCummulativeB']\n",
        "\n",
        "orders_a_daily = (\n",
        "    orders[orders['group'] == 'A'][['date', 'transaction_id', 'visitor_id', 'revenue']]\n",
        "    .groupby('date', as_index=False)\n",
        "    .agg({'transaction_id': pd.Series.nunique, 'revenue': 'sum'})\n",
        ")\n",
        "orders_a_daily.columns = ['date', 'ordersPerDateA', 'revenuePerDateA']\n",
        "\n",
        "orders_a_cummulative = orders_a_daily.apply(\n",
        "    lambda x: orders_a_daily[orders_a_daily['date'] <= x['date']].agg(\n",
        "        {'date': 'max', 'ordersPerDateA': 'sum', 'revenuePerDateA': 'sum'}\n",
        "    ),\n",
        "    axis=1,\n",
        ").sort_values(by=['date'])\n",
        "orders_a_cummulative.columns = [\n",
        "    'date',\n",
        "    'ordersCummulativeA',\n",
        "    'revenueCummulativeA',\n",
        "]\n",
        "\n",
        "orders_b_daily = (\n",
        "    orders[orders['group'] == 'B'][['date', 'transaction_id', 'visitor_id', 'revenue']]\n",
        "    .groupby('date', as_index=False)\n",
        "    .agg({'transaction_id': pd.Series.nunique, 'revenue': 'sum'})\n",
        ")\n",
        "orders_b_daily.columns = ['date', 'ordersPerDateB', 'revenuePerDateB']\n",
        "\n",
        "orders_b_cummulative = orders_b_daily.apply(\n",
        "    lambda x: orders_b_daily[orders_b_daily['date'] <= x['date']].agg(\n",
        "        {'date': 'max', 'ordersPerDateB': 'sum', 'revenuePerDateB': 'sum'}\n",
        "    ),\n",
        "    axis=1,\n",
        ").sort_values(by=['date'])\n",
        "orders_b_cummulative.columns = [\n",
        "    'date',\n",
        "    'ordersCummulativeB',\n",
        "    'revenueCummulativeB',\n",
        "]\n",
        "\n",
        "data = (\n",
        "    orders_a_daily.merge(\n",
        "        orders_b_daily, left_on='date', right_on='date', how='left'\n",
        "    )\n",
        "    .merge(orders_a_cummulative, left_on='date', right_on='date', how='left')\n",
        "    .merge(orders_b_cummulative, left_on='date', right_on='date', how='left')\n",
        "    .merge(visitors_a_daily, left_on='date', right_on='date', how='left')\n",
        "    .merge(visitors_b_daily, left_on='date', right_on='date', how='left')\n",
        "    .merge(visitors_a_cummulative, left_on='date', right_on='date', how='left')\n",
        "    .merge(visitors_b_cummulative, left_on='date', right_on='date', how='left')\n",
        ")\n",
        "\n",
        "# для пользователей, совершивших хотя бы 1 заказ, будет указано число заказов\n",
        "orders_by_users_a = (\n",
        "    orders[orders['group'] == 'A']\n",
        "    .groupby('visitor_id', as_index=False)\n",
        "    .agg({'transaction_id': pd.Series.nunique})\n",
        ")\n",
        "orders_by_users_a.columns = ['user_id', 'orders']\n",
        "\n",
        "orders_by_users_b = (\n",
        "    orders[orders['group'] == 'B']\n",
        "    .groupby('visitor_id', as_index=False)\n",
        "    .agg({'transaction_id': pd.Series.nunique})\n",
        ")\n",
        "orders_by_users_b.columns = ['user_id', 'orders'] \n",
        "\n",
        "# пользователям с заказами будет соответствовать число заказов пользователя, а пользователям без заказов — нули\n",
        "sample_a = pd.concat([orders_by_users_a['orders'],pd.Series(0, index=np.arange(data['visitorsPerDateA'].sum() - len(orders_by_users_a['orders'])), name='orders')],axis=0)\n",
        "\n",
        "sample_b = pd.concat([orders_by_users_b['orders'],pd.Series(0, index=np.arange(data['visitorsPerDateB'].sum() - len(orders_by_users_b['orders'])), name='orders')],axis=0)\n",
        "\n",
        "print(\"{0:.3f}\".format(stats.mannwhitneyu(sample_a, sample_b)[1]))\n",
        "\n",
        "print(\"{0:.3f}\".format(sample_b.mean() / sample_a.mean() - 1))"
      ],
      "metadata": {
        "colab": {
          "base_uri": "https://localhost:8080/"
        },
        "id": "4_1Fh9_jMbtK",
        "outputId": "a5b03f45-ee5b-4fea-e511-d4943eb39030"
      },
      "execution_count": null,
      "outputs": [
        {
          "output_type": "stream",
          "name": "stdout",
          "text": [
            "0.017\n",
            "0.138\n"
          ]
        }
      ]
    },
    {
      "cell_type": "markdown",
      "source": [
        "  P-value = 0.017, что значительно меньше 0.05, поэтому нулевую гипотезу отвергаем. Анализ «сырых данных» сообщает, что в среднем количестве заказов между группами есть статистически значимые различия. Относительный прирост среднего группы В к конверсии группы А равен 13.8%. "
      ],
      "metadata": {
        "id": "woLRdPzzRIdm"
      }
    },
    {
      "cell_type": "markdown",
      "source": [
        "### 2.11 Посчитаем статистическую значимость различий в среднем чеке заказа между группами по «сырым» данным. "
      ],
      "metadata": {
        "id": "NU4aahYvS94F"
      }
    },
    {
      "cell_type": "markdown",
      "source": [
        "Нулевая гипотеза: различий в среднем чеке между группами нет.\n",
        "\n",
        "Альтернативная гипотеза: различия в среднем чеке между группами есть."
      ],
      "metadata": {
        "id": "3W4LxpEmTP3N"
      }
    },
    {
      "cell_type": "code",
      "source": [
        "print('{0:.3f}'.format(stats.mannwhitneyu(orders[orders['group']=='A']['revenue'], \n",
        "                                          orders[orders['group']=='B']['revenue'])[1]))\n",
        "print('{0:.3f}'.format(orders[orders['group']=='B']['revenue']\n",
        "                       .mean()/orders[orders['group']=='A']['revenue']\n",
        "                       .mean()-1)) "
      ],
      "metadata": {
        "colab": {
          "base_uri": "https://localhost:8080/"
        },
        "id": "JgUoXd_4TCEU",
        "outputId": "c2d22810-43be-482d-cc8e-c2355fbb1182"
      },
      "execution_count": null,
      "outputs": [
        {
          "output_type": "stream",
          "name": "stdout",
          "text": [
            "0.729\n",
            "0.259\n"
          ]
        }
      ]
    },
    {
      "cell_type": "markdown",
      "source": [
        "P-value больше 0.05  - статистически значимых отличий в среднем чеке между группами нет. Кроме того, относительное различие среднего чека между сегментами - 25,9%."
      ],
      "metadata": {
        "id": "S7z41mEWTlaI"
      }
    },
    {
      "cell_type": "markdown",
      "source": [
        "### 2.12 Посчитаем статистическую значимость различий в среднем количестве заказов на посетителя между группами по «очищенным» данным. "
      ],
      "metadata": {
        "id": "2JzyMvgWT7ZH"
      }
    },
    {
      "cell_type": "markdown",
      "source": [
        "За аномальных пользователей примем тех, кто совершил более 2х заказов или совершил заказ дороже 28 000 рублей. Так мы уберём 5% пользователей с наибольшим числом заказов и с дорогими заказами.\n",
        "\n",
        "Сделаем срезы пользователей с числом заказов больше 2 — users_with_many_orders и пользователей, совершивших заказы дороже 28 000 — users_with_expensive_orders. Объединим их в таблице abnormal_users."
      ],
      "metadata": {
        "id": "O9ZnkRdtUY7K"
      }
    },
    {
      "cell_type": "code",
      "source": [
        "users_with_many_orders = pd.concat(\n",
        "    [\n",
        "        orders_by_users_a[orders_by_users_a['orders'] > 2]['user_id'],\n",
        "        orders_by_users_b[orders_by_users_b['orders'] > 2]['user_id'],\n",
        "    ],\n",
        "    axis=0,\n",
        ")\n",
        "\n",
        "\n",
        "users_with_expensive_orders = orders[orders['revenue'] > 28000]['visitor_id']\n",
        "abnormal_users = (\n",
        "    pd.concat([users_with_many_orders, users_with_expensive_orders], axis=0)\n",
        "    .drop_duplicates()\n",
        "    .sort_values()\n",
        ")\n",
        "print(abnormal_users.head(5))"
      ],
      "metadata": {
        "colab": {
          "base_uri": "https://localhost:8080/"
        },
        "id": "YLU8P0jUVKZ6",
        "outputId": "28e867f8-18ea-4631-d7b3-964f58b11c5a"
      },
      "execution_count": null,
      "outputs": [
        {
          "output_type": "stream",
          "name": "stdout",
          "text": [
            "1099    148427295\n",
            "18      199603092\n",
            "928     204675465\n",
            "23      237748145\n",
            "37      249864742\n",
            "dtype: int64\n"
          ]
        }
      ]
    },
    {
      "cell_type": "code",
      "source": [
        "sample_a_filtered = pd.concat(\n",
        "    [\n",
        "        orders_by_users_a[\n",
        "            np.logical_not(orders_by_users_a['user_id'].isin(abnormal_users))\n",
        "        ]['orders'],\n",
        "        pd.Series(\n",
        "            0,\n",
        "            index=np.arange(\n",
        "                data['visitorsPerDateA'].sum() - len(orders_by_users_a['orders'])\n",
        "            ),\n",
        "            name='orders',\n",
        "        ),\n",
        "    ],\n",
        "    axis=0,\n",
        ")\n",
        "\n",
        "sample_b_filtered = pd.concat(\n",
        "    [\n",
        "        orders_by_users_b[\n",
        "            np.logical_not(orders_by_users_b['user_id'].isin(abnormal_users))\n",
        "        ]['orders'],\n",
        "        pd.Series(\n",
        "            0,\n",
        "            index=np.arange(\n",
        "                data['visitorsPerDateB'].sum() - len(orders_by_users_b['orders'])\n",
        "            ),\n",
        "            name='orders',\n",
        "        ),\n",
        "    ],\n",
        "    axis=0,\n",
        ")\n",
        "\n",
        "print('{0:.5f}'.format(stats.mannwhitneyu(sample_a_filtered, sample_b_filtered)[1]))\n",
        "print('{0:.3f}'.format(sample_b_filtered.mean()/sample_a_filtered.mean()-1)) "
      ],
      "metadata": {
        "colab": {
          "base_uri": "https://localhost:8080/"
        },
        "id": "_Rwpikz8WGag",
        "outputId": "3c8a670e-c9c5-4f0e-d7cd-2d96819336ee"
      },
      "execution_count": null,
      "outputs": [
        {
          "output_type": "stream",
          "name": "stdout",
          "text": [
            "0.01304\n",
            "0.173\n"
          ]
        }
      ]
    },
    {
      "cell_type": "markdown",
      "source": [
        "Как и в случае с сырыми данными, p-value не превысил 0,05, а значит, нулевую гипотезу отвергаем, статистическая значимость достигнута. Сегмент В значительно лучше сегмента A по конверсии на 17,3%, показетель лучше, чем до \"очистки\" данных."
      ],
      "metadata": {
        "id": "GS1qp00aW08s"
      }
    },
    {
      "cell_type": "markdown",
      "source": [
        "### 2.13 Посчитаем статистическую значимость различий в среднем чеке заказа между группами по «очищенным» данным."
      ],
      "metadata": {
        "id": "adFDI9meXZyW"
      }
    },
    {
      "cell_type": "code",
      "source": [
        "print(\n",
        "    '{0:.3f}'.format(\n",
        "        stats.mannwhitneyu(\n",
        "            orders[\n",
        "                np.logical_and(\n",
        "                    orders['group'] == 'A',\n",
        "                    np.logical_not(orders['visitor_id'].isin(abnormal_users)),\n",
        "                )\n",
        "            ]['revenue'],\n",
        "            orders[\n",
        "                np.logical_and(\n",
        "                    orders['group'] == 'B',\n",
        "                    np.logical_not(orders['visitor_id'].isin(abnormal_users)),\n",
        "                )\n",
        "            ]['revenue'],\n",
        "        )[1]\n",
        "    )\n",
        ")\n",
        "\n",
        "print(\n",
        "    \"{0:.3f}\".format(\n",
        "        orders[\n",
        "            np.logical_and(\n",
        "                orders['group'] == 'B',\n",
        "                np.logical_not(orders['visitor_id'].isin(abnormal_users)),\n",
        "            )\n",
        "        ]['revenue'].mean()\n",
        "        / orders[\n",
        "            np.logical_and(\n",
        "                orders['group'] == 'A',\n",
        "                np.logical_not(orders['visitor_id'].isin(abnormal_users)),\n",
        "            )\n",
        "        ]['revenue'].mean()\n",
        "        - 1\n",
        "    )\n",
        ")"
      ],
      "metadata": {
        "colab": {
          "base_uri": "https://localhost:8080/"
        },
        "id": "2l8Nu3jYX1GI",
        "outputId": "c9efe74a-d34d-4440-ce6f-124b7d984206"
      },
      "execution_count": null,
      "outputs": [
        {
          "output_type": "stream",
          "name": "stdout",
          "text": [
            "0.738\n",
            "-0.020\n"
          ]
        }
      ]
    },
    {
      "cell_type": "markdown",
      "source": [
        "P-value практически не изменился, нулевую гипотезу отвергнуть не можем. А средний чек заметно снизился, и стал даже меньше, чем у сегмента A, на 2%. Наблдюдаем, что после \"очистки\" данных, разница в среднем чеке между двумя группами сократилась до минимума."
      ],
      "metadata": {
        "id": "eAmyXpJ3YTea"
      }
    },
    {
      "cell_type": "markdown",
      "source": [
        "## <b> Вывод</b>\n",
        "- График различия конверсии между группами сообщает, что результаты группы b лучше группы a: имеют тенденцию к росту и практически зафиксировались около среднего значения;\n",
        "- Есть статистически значимое различие по конверсии между группами как по сырым данным, так и после фильтрации аномалий;\n",
        "- Нет статистически значимого различия по среднему чеку между группами как по сырым, так и по очищенным данным;\n",
        "- График различия среднего чека сильно колеблется, что свидетельствует о наличии аномалиий;\n",
        "\n",
        "\n",
        "\n",
        "<b>Исходя из полученных результатов рекомендуется остановить тест и зафиксировать победу группы b, так как есть статистически значимое различие по конверсии между группами, относительный прирост конверсии группы b составляет 17,3 %.  \n"
      ],
      "metadata": {
        "id": "IpX6ByfyZ6Xo"
      }
    }
  ]
}