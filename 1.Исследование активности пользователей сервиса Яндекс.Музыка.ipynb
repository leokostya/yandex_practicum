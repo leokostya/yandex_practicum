{
 "cells": [
  {
   "cell_type": "markdown",
   "metadata": {
    "deletable": false,
    "editable": false,
    "id": "E0vqbgi9ay0H"
   },
   "source": [
    "# Яндекс Музыка"
   ]
  },
  {
   "cell_type": "markdown",
   "metadata": {
    "deletable": false,
    "editable": false,
    "id": "VUC88oWjTJw2"
   },
   "source": [
    "Сравнение Москвы и Петербурга окружено мифами. Например:\n",
    " * Москва — мегаполис, подчинённый жёсткому ритму рабочей недели;\n",
    " * Петербург — культурная столица, со своими вкусами.\n",
    "\n",
    "На данных Яндекс Музыки вы сравните поведение пользователей двух столиц.\n",
    "\n",
    "**Цель исследования** — проверьте три гипотезы:\n",
    "1. Активность пользователей зависит от дня недели. Причём в Москве и Петербурге это проявляется по-разному.\n",
    "2. В понедельник утром в Москве преобладают одни жанры, а в Петербурге — другие. Так же и вечером пятницы преобладают разные жанры — в зависимости от города. \n",
    "3. Москва и Петербург предпочитают разные жанры музыки. В Москве чаще слушают поп-музыку, в Петербурге — русский рэп.\n",
    "\n",
    "**Ход исследования**\n",
    "\n",
    "Данные о поведении пользователей вы получите из файла `yandex_music_project.csv`. О качестве данных ничего не известно. Поэтому перед проверкой гипотез понадобится обзор данных. \n",
    "\n",
    "Вы проверите данные на ошибки и оцените их влияние на исследование. Затем, на этапе предобработки вы поищете возможность исправить самые критичные ошибки данных.\n",
    " \n",
    "Таким образом, исследование пройдёт в три этапа:\n",
    " 1. Обзор данных.\n",
    " 2. Предобработка данных.\n",
    " 3. Проверка гипотез.\n",
    "\n"
   ]
  },
  {
   "cell_type": "markdown",
   "metadata": {
    "deletable": false,
    "editable": false,
    "id": "Ml1hmfXC_Zcs"
   },
   "source": [
    "## Обзор данных\n",
    "\n",
    "Составьте первое представление о данных Яндекс Музыки.\n",
    "\n",
    "\n"
   ]
  },
  {
   "cell_type": "markdown",
   "metadata": {
    "deletable": false,
    "editable": false,
    "id": "57eAOGIz_Zcs",
    "tags": [
     "start_task"
    ]
   },
   "source": [
    "**Задание 1**\n",
    "\n",
    "Основной инструмент аналитика — `pandas`. Импортируйте эту библиотеку."
   ]
  },
  {
   "cell_type": "code",
   "execution_count": 1,
   "metadata": {
    "deletable": false,
    "id": "AXN7PHPN_Zcs"
   },
   "outputs": [],
   "source": [
    "import pandas as pd# импорт библиотеки pandas"
   ]
  },
  {
   "cell_type": "markdown",
   "metadata": {
    "deletable": false,
    "editable": false,
    "id": "SG23P8tt_Zcs",
    "tags": [
     "start_task"
    ]
   },
   "source": [
    "**Задание 2**\n",
    "\n",
    "Прочитайте файл `yandex_music_project.csv` из папки `/datasets` и сохраните его в переменной `df`:"
   ]
  },
  {
   "cell_type": "code",
   "execution_count": 2,
   "metadata": {
    "deletable": false,
    "id": "fFVu7vqh_Zct"
   },
   "outputs": [],
   "source": [
    "df = pd.read_csv('/datasets/yandex_music_project.csv')# чтение файла с данными и сохранение в df"
   ]
  },
  {
   "cell_type": "markdown",
   "metadata": {
    "deletable": false,
    "editable": false,
    "id": "rDoOMd3uTqnZ",
    "tags": [
     "start_task"
    ]
   },
   "source": [
    "**Задание 3**\n",
    "\n",
    "\n",
    "Выведите на экран первые десять строк таблицы:"
   ]
  },
  {
   "cell_type": "code",
   "execution_count": 3,
   "metadata": {
    "deletable": false,
    "id": "oWTVX3gW_Zct"
   },
   "outputs": [
    {
     "name": "stdout",
     "output_type": "stream",
     "text": [
      "     userID                        Track            artist   genre  \\\n",
      "0  FFB692EC            Kamigata To Boots  The Mass Missile    rock   \n",
      "1  55204538  Delayed Because of Accident  Andreas Rönnberg    rock   \n",
      "2    20EC38            Funiculì funiculà       Mario Lanza     pop   \n",
      "3  A3DD03C9        Dragons in the Sunset        Fire + Ice    folk   \n",
      "4  E2DC1FAE                  Soul People        Space Echo   dance   \n",
      "5  842029A1                    Преданная         IMPERVTOR  rusrap   \n",
      "6  4CB90AA5                         True      Roman Messer   dance   \n",
      "7  F03E1C1F             Feeling This Way   Polina Griffith   dance   \n",
      "8  8FA1D3BE     И вновь продолжается бой               NaN  ruspop   \n",
      "9  E772D5C0                    Pessimist               NaN   dance   \n",
      "\n",
      "             City        time        Day  \n",
      "0  Saint-Petersburg  20:28:33  Wednesday  \n",
      "1            Moscow  14:07:09     Friday  \n",
      "2  Saint-Petersburg  20:58:07  Wednesday  \n",
      "3  Saint-Petersburg  08:37:09     Monday  \n",
      "4            Moscow  08:34:34     Monday  \n",
      "5  Saint-Petersburg  13:09:41     Friday  \n",
      "6            Moscow  13:00:07  Wednesday  \n",
      "7            Moscow  20:47:49  Wednesday  \n",
      "8            Moscow  09:17:40     Friday  \n",
      "9  Saint-Petersburg  21:20:49  Wednesday  \n"
     ]
    }
   ],
   "source": [
    "print(df.head(10))# получение первых 10 строк таблицы df"
   ]
  },
  {
   "cell_type": "markdown",
   "metadata": {
    "deletable": false,
    "editable": false,
    "id": "EO73Kwic_Zct",
    "tags": [
     "start_task"
    ]
   },
   "source": [
    "**Задание 4**\n",
    "\n",
    "\n",
    "Одной командой получить общую информацию о таблице c помощью метода `info()`:"
   ]
  },
  {
   "cell_type": "code",
   "execution_count": 4,
   "metadata": {
    "deletable": false,
    "id": "DSf2kIb-_Zct"
   },
   "outputs": [
    {
     "name": "stdout",
     "output_type": "stream",
     "text": [
      "<class 'pandas.core.frame.DataFrame'>\n",
      "RangeIndex: 65079 entries, 0 to 65078\n",
      "Data columns (total 7 columns):\n",
      " #   Column    Non-Null Count  Dtype \n",
      "---  ------    --------------  ----- \n",
      " 0     userID  65079 non-null  object\n",
      " 1   Track     63848 non-null  object\n",
      " 2   artist    57876 non-null  object\n",
      " 3   genre     63881 non-null  object\n",
      " 4     City    65079 non-null  object\n",
      " 5   time      65079 non-null  object\n",
      " 6   Day       65079 non-null  object\n",
      "dtypes: object(7)\n",
      "memory usage: 3.5+ MB\n"
     ]
    }
   ],
   "source": [
    "df.info()# получение общей информации о данных в таблице df"
   ]
  },
  {
   "cell_type": "markdown",
   "metadata": {
    "deletable": false,
    "editable": false,
    "id": "TaQ2Iwbr_Zct"
   },
   "source": [
    "Итак, в таблице семь столбцов. Тип данных во всех столбцах — `object`.\n",
    "\n",
    "Согласно документации к данным:\n",
    "* `userID` — идентификатор пользователя;\n",
    "* `Track` — название трека;  \n",
    "* `artist` — имя исполнителя;\n",
    "* `genre` — название жанра;\n",
    "* `City` — город пользователя;\n",
    "* `time` — время начала прослушивания;\n",
    "* `Day` — день недели.\n",
    "\n",
    "Количество значений в столбцах различается. Значит, в данных есть пропущенные значения."
   ]
  },
  {
   "cell_type": "markdown",
   "metadata": {
    "deletable": false,
    "editable": false,
    "id": "rAfziTBDmf2h",
    "tags": [
     "start_task"
    ]
   },
   "source": [
    "**Задание 5**\n",
    "\n",
    "**Вопрос со свободной формой ответа**\n",
    "\n",
    "В названиях колонок видны нарушения стиля:\n",
    "* Строчные буквы сочетаются с прописными.\n",
    "* Встречаются пробелы.\n",
    "\n",
    "Какое третье нарушение?"
   ]
  },
  {
   "cell_type": "code",
   "execution_count": 5,
   "metadata": {
    "id": "jD8EXEIvmf2h"
   },
   "outputs": [],
   "source": [
    "#змеиный регистр Напишите ваш ответ здесь комментарием. Не удаляйте символ #. Не меняйте тип этой ячейки на Markdown."
   ]
  },
  {
   "cell_type": "markdown",
   "metadata": {
    "deletable": false,
    "editable": false,
    "id": "MCB6-dXG_Zct"
   },
   "source": [
    "**Выводы**\n",
    "\n",
    "В каждой строке таблицы — данные о прослушанном треке. Часть колонок описывает саму композицию: название, исполнителя и жанр. Остальные данные рассказывают о пользователе: из какого он города, когда он слушал музыку. \n",
    "\n",
    "Предварительно можно утверждать, что данных достаточно для проверки гипотез. Но встречаются пропуски в данных, а в названиях колонок — расхождения с хорошим стилем.\n",
    "\n",
    "Чтобы двигаться дальше, нужно устранить проблемы в данных."
   ]
  },
  {
   "cell_type": "markdown",
   "metadata": {
    "deletable": false,
    "editable": false,
    "id": "SjYF6Ub9_Zct"
   },
   "source": [
    "## Предобработка данных\n",
    "Исправьте стиль в заголовках столбцов, исключите пропуски. Затем проверьте данные на дубликаты."
   ]
  },
  {
   "cell_type": "markdown",
   "metadata": {
    "deletable": false,
    "editable": false,
    "id": "dIaKXr29_Zct",
    "tags": [
     "start_task"
    ]
   },
   "source": [
    "### Стиль заголовков\n",
    "\n",
    "**Задание 6**\n",
    "\n",
    "Выведите на экран названия столбцов:"
   ]
  },
  {
   "cell_type": "code",
   "execution_count": 6,
   "metadata": {
    "deletable": false,
    "id": "oKOTdF_Q_Zct"
   },
   "outputs": [
    {
     "name": "stdout",
     "output_type": "stream",
     "text": [
      "Index(['  userID', 'Track', 'artist', 'genre', '  City  ', 'time', 'Day'], dtype='object')\n"
     ]
    }
   ],
   "source": [
    "print(df.columns)# перечень названий столбцов таблицы df"
   ]
  },
  {
   "cell_type": "markdown",
   "metadata": {
    "deletable": false,
    "editable": false,
    "id": "zj5534cv_Zct",
    "tags": [
     "start_task"
    ]
   },
   "source": [
    "**Задание 7**\n",
    "\n",
    "\n",
    "Приведите названия в соответствие с хорошим стилем:\n",
    "* несколько слов в названии запишите в «змеином_регистре»,\n",
    "* все символы сделайте строчными,\n",
    "* устраните пробелы.\n",
    "\n",
    "Для этого переименуйте колонки так:\n",
    "* `'  userID'` → `'user_id'`;\n",
    "* `'Track'` → `'track'`;\n",
    "* `'  City  '` → `'city'`;\n",
    "* `'Day'` → `'day'`."
   ]
  },
  {
   "cell_type": "code",
   "execution_count": 7,
   "metadata": {
    "deletable": false,
    "id": "ISlFqs5y_Zct"
   },
   "outputs": [],
   "source": [
    "df = df.rename(\n",
    "columns={\n",
    "    '  userID' : 'user_id',\n",
    "    'Track' : 'track',\n",
    "    '  City  ' : 'city',\n",
    "    'Day' : 'day'\n",
    "})# переименование столбцов"
   ]
  },
  {
   "cell_type": "markdown",
   "metadata": {
    "deletable": false,
    "editable": false,
    "id": "1dqbh00J_Zct",
    "tags": [
     "start_task"
    ]
   },
   "source": [
    "**Задание 8**\n",
    "\n",
    "\n",
    "Проверьте результат. Для этого ещё раз выведите на экран названия столбцов:"
   ]
  },
  {
   "cell_type": "code",
   "execution_count": 8,
   "metadata": {
    "deletable": false,
    "id": "d4NOAmTW_Zct"
   },
   "outputs": [
    {
     "name": "stdout",
     "output_type": "stream",
     "text": [
      "Index(['user_id', 'track', 'artist', 'genre', 'city', 'time', 'day'], dtype='object')\n"
     ]
    }
   ],
   "source": [
    "print(df.columns)# проверка результатов - перечень названий столбцов"
   ]
  },
  {
   "cell_type": "markdown",
   "metadata": {
    "deletable": false,
    "editable": false,
    "id": "5ISfbcfY_Zct",
    "tags": [
     "start_task"
    ]
   },
   "source": [
    "### Пропуски значений\n",
    "\n",
    "**Задание 9**\n",
    "\n",
    "Сначала посчитайте, сколько в таблице пропущенных значений. Для этого достаточно двух методов `pandas`:"
   ]
  },
  {
   "cell_type": "code",
   "execution_count": 9,
   "metadata": {
    "deletable": false,
    "id": "RskX29qr_Zct"
   },
   "outputs": [
    {
     "data": {
      "text/plain": [
       "user_id       0\n",
       "track      1231\n",
       "artist     7203\n",
       "genre      1198\n",
       "city          0\n",
       "time          0\n",
       "day           0\n",
       "dtype: int64"
      ]
     },
     "execution_count": 9,
     "metadata": {},
     "output_type": "execute_result"
    }
   ],
   "source": [
    "df.isna().sum()# подсчёт пропусков"
   ]
  },
  {
   "cell_type": "markdown",
   "metadata": {
    "deletable": false,
    "editable": false,
    "id": "qubhgnlO_Zct"
   },
   "source": [
    "Не все пропущенные значения влияют на исследование. Так в `track` и `artist` пропуски не важны для вашей работы. Достаточно заменить их явными обозначениями.\n",
    "\n",
    "Но пропуски в `genre` могут помешать сравнению музыкальных вкусов в Москве и Санкт-Петербурге. На практике было бы правильно установить причину пропусков и восстановить данные. Такой возможности нет в учебном проекте. Придётся:\n",
    "* заполнить и эти пропуски явными обозначениями;\n",
    "* оценить, насколько они повредят расчётам. "
   ]
  },
  {
   "cell_type": "markdown",
   "metadata": {
    "deletable": false,
    "editable": false,
    "id": "fSv2laPA_Zct",
    "tags": [
     "start_task"
    ]
   },
   "source": [
    "**Задание 10**\n",
    "\n",
    "Замените пропущенные значения в столбцах `track`, `artist` и `genre` на строку `'unknown'`. Для этого создайте список `columns_to_replace`, переберите его элементы циклом `for` и для каждого столбца выполните замену пропущенных значений:"
   ]
  },
  {
   "cell_type": "code",
   "execution_count": 10,
   "metadata": {
    "deletable": false,
    "id": "KplB5qWs_Zct"
   },
   "outputs": [],
   "source": [
    "columns_to_replace = ['track', 'artist', 'genre']\n",
    "for column in columns_to_replace:\n",
    "    df[column] = df[column].fillna('unknown')# перебор названий столбцов в цикле и замена пропущенных значений на 'unknown'"
   ]
  },
  {
   "cell_type": "markdown",
   "metadata": {
    "deletable": false,
    "editable": false,
    "id": "Ilsm-MZo_Zct",
    "tags": [
     "start_task"
    ]
   },
   "source": [
    "**Задание 11**\n",
    "\n",
    "Убедитесь, что в таблице не осталось пропусков. Для этого ещё раз посчитайте пропущенные значения."
   ]
  },
  {
   "cell_type": "code",
   "execution_count": 11,
   "metadata": {
    "deletable": false,
    "id": "Tq4nYRX4_Zct"
   },
   "outputs": [
    {
     "data": {
      "text/plain": [
       "user_id    0\n",
       "track      0\n",
       "artist     0\n",
       "genre      0\n",
       "city       0\n",
       "time       0\n",
       "day        0\n",
       "dtype: int64"
      ]
     },
     "execution_count": 11,
     "metadata": {},
     "output_type": "execute_result"
    }
   ],
   "source": [
    "df.isna().sum()# подсчёт пропусков"
   ]
  },
  {
   "cell_type": "markdown",
   "metadata": {
    "deletable": false,
    "editable": false,
    "id": "BWKRtBJ3_Zct",
    "tags": [
     "start_task"
    ]
   },
   "source": [
    "### Дубликаты\n",
    "\n",
    "**Задание 12**\n",
    "\n",
    "Посчитайте явные дубликаты в таблице одной командой:"
   ]
  },
  {
   "cell_type": "code",
   "execution_count": 12,
   "metadata": {
    "deletable": false,
    "id": "36eES_S0_Zct"
   },
   "outputs": [
    {
     "data": {
      "text/plain": [
       "3826"
      ]
     },
     "execution_count": 12,
     "metadata": {},
     "output_type": "execute_result"
    }
   ],
   "source": [
    "df.duplicated().sum()# подсчёт явных дубликатов"
   ]
  },
  {
   "cell_type": "markdown",
   "metadata": {
    "deletable": false,
    "editable": false,
    "id": "Ot25h6XR_Zct",
    "tags": [
     "start_task"
    ]
   },
   "source": [
    "**Задание 13**\n",
    "\n",
    "Вызовите специальный метод `pandas`, чтобы удалить явные дубликаты:"
   ]
  },
  {
   "cell_type": "code",
   "execution_count": 13,
   "metadata": {
    "deletable": false,
    "id": "exFHq6tt_Zct"
   },
   "outputs": [],
   "source": [
    "df = df.drop_duplicates()# удаление явных дубликатов"
   ]
  },
  {
   "cell_type": "markdown",
   "metadata": {
    "deletable": false,
    "editable": false,
    "id": "Im2YwBEG_Zct",
    "tags": [
     "start_task"
    ]
   },
   "source": [
    "**Задание 14**\n",
    "\n",
    "Ещё раз посчитайте явные дубликаты в таблице — убедитесь, что полностью от них избавились:"
   ]
  },
  {
   "cell_type": "code",
   "execution_count": 14,
   "metadata": {
    "deletable": false,
    "id": "-8PuNWQ0_Zct"
   },
   "outputs": [
    {
     "data": {
      "text/plain": [
       "0"
      ]
     },
     "execution_count": 14,
     "metadata": {},
     "output_type": "execute_result"
    }
   ],
   "source": [
    "df.duplicated().sum()# проверка на отсутствие дубликатов"
   ]
  },
  {
   "cell_type": "markdown",
   "metadata": {
    "deletable": false,
    "editable": false,
    "id": "QlFBsxAr_Zct"
   },
   "source": [
    "Теперь избавьтесь от неявных дубликатов в колонке `genre`. Например, название одного и того же жанра может быть записано немного по-разному. Такие ошибки тоже повлияют на результат исследования."
   ]
  },
  {
   "cell_type": "markdown",
   "metadata": {
    "deletable": false,
    "editable": false,
    "id": "eSjWwsOh_Zct",
    "tags": [
     "start_task"
    ]
   },
   "source": [
    "**Задание 15**\n",
    "\n",
    "Выведите на экран список уникальных названий жанров, отсортированный в алфавитном порядке. Для этого:\n",
    "1. извлеките нужный столбец датафрейма; \n",
    "2. примените к нему метод сортировки;\n",
    "3. для отсортированного столбца вызовите метод, который вернёт уникальные значения из столбца."
   ]
  },
  {
   "cell_type": "code",
   "execution_count": 15,
   "metadata": {
    "deletable": false,
    "id": "JIUcqzZN_Zct"
   },
   "outputs": [
    {
     "data": {
      "text/plain": [
       "array(['acid', 'acoustic', 'action', 'adult', 'africa', 'afrikaans',\n",
       "       'alternative', 'alternativepunk', 'ambient', 'americana',\n",
       "       'animated', 'anime', 'arabesk', 'arabic', 'arena',\n",
       "       'argentinetango', 'art', 'audiobook', 'author', 'avantgarde',\n",
       "       'axé', 'baile', 'balkan', 'beats', 'bigroom', 'black', 'bluegrass',\n",
       "       'blues', 'bollywood', 'bossa', 'brazilian', 'breakbeat', 'breaks',\n",
       "       'broadway', 'cantautori', 'cantopop', 'canzone', 'caribbean',\n",
       "       'caucasian', 'celtic', 'chamber', 'chanson', 'children', 'chill',\n",
       "       'chinese', 'choral', 'christian', 'christmas', 'classical',\n",
       "       'classicmetal', 'club', 'colombian', 'comedy', 'conjazz',\n",
       "       'contemporary', 'country', 'cuban', 'dance', 'dancehall',\n",
       "       'dancepop', 'dark', 'death', 'deep', 'deutschrock', 'deutschspr',\n",
       "       'dirty', 'disco', 'dnb', 'documentary', 'downbeat', 'downtempo',\n",
       "       'drum', 'dub', 'dubstep', 'eastern', 'easy', 'electronic',\n",
       "       'electropop', 'emo', 'entehno', 'epicmetal', 'estrada', 'ethnic',\n",
       "       'eurofolk', 'european', 'experimental', 'extrememetal', 'fado',\n",
       "       'fairytail', 'film', 'fitness', 'flamenco', 'folk', 'folklore',\n",
       "       'folkmetal', 'folkrock', 'folktronica', 'forró', 'frankreich',\n",
       "       'französisch', 'french', 'funk', 'future', 'gangsta', 'garage',\n",
       "       'german', 'ghazal', 'gitarre', 'glitch', 'gospel', 'gothic',\n",
       "       'grime', 'grunge', 'gypsy', 'handsup', \"hard'n'heavy\", 'hardcore',\n",
       "       'hardstyle', 'hardtechno', 'hip', 'hip-hop', 'hiphop',\n",
       "       'historisch', 'holiday', 'hop', 'horror', 'house', 'hymn', 'idm',\n",
       "       'independent', 'indian', 'indie', 'indipop', 'industrial',\n",
       "       'inspirational', 'instrumental', 'international', 'irish', 'jam',\n",
       "       'japanese', 'jazz', 'jewish', 'jpop', 'jungle', 'k-pop',\n",
       "       'karadeniz', 'karaoke', 'kayokyoku', 'korean', 'laiko', 'latin',\n",
       "       'latino', 'leftfield', 'local', 'lounge', 'loungeelectronic',\n",
       "       'lovers', 'malaysian', 'mandopop', 'marschmusik', 'meditative',\n",
       "       'mediterranean', 'melodic', 'metal', 'metalcore', 'mexican',\n",
       "       'middle', 'minimal', 'miscellaneous', 'modern', 'mood', 'mpb',\n",
       "       'muslim', 'native', 'neoklassik', 'neue', 'new', 'newage',\n",
       "       'newwave', 'nu', 'nujazz', 'numetal', 'oceania', 'old', 'opera',\n",
       "       'orchestral', 'other', 'piano', 'podcasts', 'pop', 'popdance',\n",
       "       'popelectronic', 'popeurodance', 'poprussian', 'post',\n",
       "       'posthardcore', 'postrock', 'power', 'progmetal', 'progressive',\n",
       "       'psychedelic', 'punjabi', 'punk', 'quebecois', 'ragga', 'ram',\n",
       "       'rancheras', 'rap', 'rave', 'reggae', 'reggaeton', 'regional',\n",
       "       'relax', 'religious', 'retro', 'rhythm', 'rnb', 'rnr', 'rock',\n",
       "       'rockabilly', 'rockalternative', 'rockindie', 'rockother',\n",
       "       'romance', 'roots', 'ruspop', 'rusrap', 'rusrock', 'russian',\n",
       "       'salsa', 'samba', 'scenic', 'schlager', 'self', 'sertanejo',\n",
       "       'shanson', 'shoegazing', 'showtunes', 'singer', 'ska', 'skarock',\n",
       "       'slow', 'smooth', 'soft', 'soul', 'soulful', 'sound', 'soundtrack',\n",
       "       'southern', 'specialty', 'speech', 'spiritual', 'sport',\n",
       "       'stonerrock', 'surf', 'swing', 'synthpop', 'synthrock',\n",
       "       'sängerportrait', 'tango', 'tanzorchester', 'taraftar', 'tatar',\n",
       "       'tech', 'techno', 'teen', 'thrash', 'top', 'traditional',\n",
       "       'tradjazz', 'trance', 'tribal', 'trip', 'triphop', 'tropical',\n",
       "       'türk', 'türkçe', 'ukrrock', 'unknown', 'urban', 'uzbek',\n",
       "       'variété', 'vi', 'videogame', 'vocal', 'western', 'world',\n",
       "       'worldbeat', 'ïîï', 'электроника'], dtype=object)"
      ]
     },
     "execution_count": 15,
     "metadata": {},
     "output_type": "execute_result"
    }
   ],
   "source": [
    "df['genre'].sort_values().unique()# Просмотр уникальных названий жанров"
   ]
  },
  {
   "cell_type": "markdown",
   "metadata": {
    "deletable": false,
    "editable": false,
    "id": "qej-Qmuo_Zct",
    "tags": [
     "start_task"
    ]
   },
   "source": [
    "**Задание 16**\n",
    "\n",
    "Просмотрите список и найдите неявные дубликаты названия `hiphop`. Это могут быть названия с ошибками или альтернативные названия того же жанра.\n",
    "\n",
    "Вы увидите следующие неявные дубликаты:\n",
    "* *hip*,\n",
    "* *hop*,\n",
    "* *hip-hop*.\n",
    "\n",
    "Чтобы очистить от них таблицу используйте метод `replace()` с двумя аргументами: списком строк-дубликатов (включащий *hip*, *hop* и *hip-hop*) и строкой с правильным значением. Вам нужно исправить колонку `genre` в таблице `df`: заменить каждое значение из списка дубликатов на верное. Вместо `hip`, `hop` и `hip-hop` в таблице должно быть значение `hiphop`:"
   ]
  },
  {
   "cell_type": "code",
   "execution_count": 16,
   "metadata": {
    "deletable": false,
    "id": "ErNDkmns_Zct"
   },
   "outputs": [],
   "source": [
    "duplicates = ['hip','hop','hip-hop']\n",
    "name = 'hiphop'\n",
    "df['genre'] = df['genre'].replace(duplicates, name)\n",
    "# Устранение неявных дубликатов"
   ]
  },
  {
   "cell_type": "markdown",
   "metadata": {
    "deletable": false,
    "editable": false,
    "id": "zQKF16_RG15m",
    "tags": [
     "start_task"
    ]
   },
   "source": [
    "**Задание 17**\n",
    "\n",
    "Проверьте, что заменили неправильные названия:\n",
    "\n",
    "*   hip,\n",
    "*   hop,\n",
    "*   hip-hop.\n",
    "\n",
    "Выведите отсортированный список уникальных значений столбца `genre`:"
   ]
  },
  {
   "cell_type": "code",
   "execution_count": 17,
   "metadata": {
    "deletable": false,
    "id": "wvixALnFG15m"
   },
   "outputs": [
    {
     "data": {
      "text/plain": [
       "array(['acid', 'acoustic', 'action', 'adult', 'africa', 'afrikaans',\n",
       "       'alternative', 'alternativepunk', 'ambient', 'americana',\n",
       "       'animated', 'anime', 'arabesk', 'arabic', 'arena',\n",
       "       'argentinetango', 'art', 'audiobook', 'author', 'avantgarde',\n",
       "       'axé', 'baile', 'balkan', 'beats', 'bigroom', 'black', 'bluegrass',\n",
       "       'blues', 'bollywood', 'bossa', 'brazilian', 'breakbeat', 'breaks',\n",
       "       'broadway', 'cantautori', 'cantopop', 'canzone', 'caribbean',\n",
       "       'caucasian', 'celtic', 'chamber', 'chanson', 'children', 'chill',\n",
       "       'chinese', 'choral', 'christian', 'christmas', 'classical',\n",
       "       'classicmetal', 'club', 'colombian', 'comedy', 'conjazz',\n",
       "       'contemporary', 'country', 'cuban', 'dance', 'dancehall',\n",
       "       'dancepop', 'dark', 'death', 'deep', 'deutschrock', 'deutschspr',\n",
       "       'dirty', 'disco', 'dnb', 'documentary', 'downbeat', 'downtempo',\n",
       "       'drum', 'dub', 'dubstep', 'eastern', 'easy', 'electronic',\n",
       "       'electropop', 'emo', 'entehno', 'epicmetal', 'estrada', 'ethnic',\n",
       "       'eurofolk', 'european', 'experimental', 'extrememetal', 'fado',\n",
       "       'fairytail', 'film', 'fitness', 'flamenco', 'folk', 'folklore',\n",
       "       'folkmetal', 'folkrock', 'folktronica', 'forró', 'frankreich',\n",
       "       'französisch', 'french', 'funk', 'future', 'gangsta', 'garage',\n",
       "       'german', 'ghazal', 'gitarre', 'glitch', 'gospel', 'gothic',\n",
       "       'grime', 'grunge', 'gypsy', 'handsup', \"hard'n'heavy\", 'hardcore',\n",
       "       'hardstyle', 'hardtechno', 'hiphop', 'historisch', 'holiday',\n",
       "       'horror', 'house', 'hymn', 'idm', 'independent', 'indian', 'indie',\n",
       "       'indipop', 'industrial', 'inspirational', 'instrumental',\n",
       "       'international', 'irish', 'jam', 'japanese', 'jazz', 'jewish',\n",
       "       'jpop', 'jungle', 'k-pop', 'karadeniz', 'karaoke', 'kayokyoku',\n",
       "       'korean', 'laiko', 'latin', 'latino', 'leftfield', 'local',\n",
       "       'lounge', 'loungeelectronic', 'lovers', 'malaysian', 'mandopop',\n",
       "       'marschmusik', 'meditative', 'mediterranean', 'melodic', 'metal',\n",
       "       'metalcore', 'mexican', 'middle', 'minimal', 'miscellaneous',\n",
       "       'modern', 'mood', 'mpb', 'muslim', 'native', 'neoklassik', 'neue',\n",
       "       'new', 'newage', 'newwave', 'nu', 'nujazz', 'numetal', 'oceania',\n",
       "       'old', 'opera', 'orchestral', 'other', 'piano', 'podcasts', 'pop',\n",
       "       'popdance', 'popelectronic', 'popeurodance', 'poprussian', 'post',\n",
       "       'posthardcore', 'postrock', 'power', 'progmetal', 'progressive',\n",
       "       'psychedelic', 'punjabi', 'punk', 'quebecois', 'ragga', 'ram',\n",
       "       'rancheras', 'rap', 'rave', 'reggae', 'reggaeton', 'regional',\n",
       "       'relax', 'religious', 'retro', 'rhythm', 'rnb', 'rnr', 'rock',\n",
       "       'rockabilly', 'rockalternative', 'rockindie', 'rockother',\n",
       "       'romance', 'roots', 'ruspop', 'rusrap', 'rusrock', 'russian',\n",
       "       'salsa', 'samba', 'scenic', 'schlager', 'self', 'sertanejo',\n",
       "       'shanson', 'shoegazing', 'showtunes', 'singer', 'ska', 'skarock',\n",
       "       'slow', 'smooth', 'soft', 'soul', 'soulful', 'sound', 'soundtrack',\n",
       "       'southern', 'specialty', 'speech', 'spiritual', 'sport',\n",
       "       'stonerrock', 'surf', 'swing', 'synthpop', 'synthrock',\n",
       "       'sängerportrait', 'tango', 'tanzorchester', 'taraftar', 'tatar',\n",
       "       'tech', 'techno', 'teen', 'thrash', 'top', 'traditional',\n",
       "       'tradjazz', 'trance', 'tribal', 'trip', 'triphop', 'tropical',\n",
       "       'türk', 'türkçe', 'ukrrock', 'unknown', 'urban', 'uzbek',\n",
       "       'variété', 'vi', 'videogame', 'vocal', 'western', 'world',\n",
       "       'worldbeat', 'ïîï', 'электроника'], dtype=object)"
      ]
     },
     "execution_count": 17,
     "metadata": {},
     "output_type": "execute_result"
    }
   ],
   "source": [
    "df['genre'].sort_values().unique()# Проверка на неявные дубликаты"
   ]
  },
  {
   "cell_type": "markdown",
   "metadata": {
    "deletable": false,
    "editable": false,
    "id": "jz6a9-7HQUDd"
   },
   "source": [
    "**Выводы**\n",
    "\n",
    "Предобработка обнаружила три проблемы в данных:\n",
    "\n",
    "- нарушения в стиле заголовков,\n",
    "- пропущенные значения,\n",
    "- дубликаты — явные и неявные.\n",
    "\n",
    "Вы исправили заголовки, чтобы упростить работу с таблицей. Без дубликатов исследование станет более точным.\n",
    "\n",
    "Пропущенные значения вы заменили на `'unknown'`. Ещё предстоит увидеть, не повредят ли исследованию пропуски в колонке `genre`.\n",
    "\n",
    "Теперь можно перейти к проверке гипотез. "
   ]
  },
  {
   "cell_type": "markdown",
   "metadata": {
    "deletable": false,
    "editable": false,
    "id": "WttZHXH0SqKk"
   },
   "source": [
    "## Проверка гипотез"
   ]
  },
  {
   "cell_type": "markdown",
   "metadata": {
    "deletable": false,
    "editable": false,
    "id": "Im936VVi_Zcu"
   },
   "source": [
    "### Сравнение поведения пользователей двух столиц"
   ]
  },
  {
   "cell_type": "markdown",
   "metadata": {
    "deletable": false,
    "editable": false,
    "id": "nwt_MuaL_Zcu"
   },
   "source": [
    "Первая гипотеза утверждает, что пользователи по-разному слушают музыку в Москве и Санкт-Петербурге. Проверьте это предположение по данным о трёх днях недели — понедельнике, среде и пятнице. Для этого:\n",
    "\n",
    "* Разделите пользователей Москвы и Санкт-Петербурга.\n",
    "* Сравните, сколько треков послушала каждая группа пользователей в понедельник, среду и пятницу.\n"
   ]
  },
  {
   "cell_type": "markdown",
   "metadata": {
    "deletable": false,
    "editable": false,
    "id": "8Dw_YMmT_Zcu",
    "tags": [
     "start_task"
    ]
   },
   "source": [
    "**Задание 18**\n",
    "\n",
    "Для тренировки сначала выполните каждый из расчётов по отдельности. \n",
    "\n",
    "Оцените активность пользователей в каждом городе. Сгруппируйте данные по городу и посчитайте прослушивания в каждой группе.\n",
    "\n"
   ]
  },
  {
   "cell_type": "code",
   "execution_count": 18,
   "metadata": {
    "deletable": false,
    "id": "0_Qs96oh_Zcu"
   },
   "outputs": [
    {
     "data": {
      "text/plain": [
       "city\n",
       "Moscow              42741\n",
       "Saint-Petersburg    18512\n",
       "Name: genre, dtype: int64"
      ]
     },
     "execution_count": 18,
     "metadata": {},
     "output_type": "execute_result"
    }
   ],
   "source": [
    "df.groupby('city')['genre'].count()"
   ]
  },
  {
   "cell_type": "markdown",
   "metadata": {
    "deletable": false,
    "editable": false,
    "id": "dzli3w8o_Zcu",
    "tags": [
     "start_task"
    ]
   },
   "source": [
    "В Москве прослушиваний больше, чем в Петербурге. Из этого не следует, что московские пользователи чаще слушают музыку. Просто самих пользователей в Москве больше.\n",
    "\n",
    "**Задание 19**\n",
    "\n",
    "Теперь сгруппируйте данные по дню недели и посчитайте прослушивания в понедельник, среду и пятницу. Учтите, что в данных есть информация о прослушиваниях только за эти дни.\n"
   ]
  },
  {
   "cell_type": "code",
   "execution_count": 19,
   "metadata": {
    "deletable": false,
    "id": "uZMKjiJz_Zcu"
   },
   "outputs": [
    {
     "data": {
      "text/plain": [
       "day\n",
       "Friday       21840\n",
       "Monday       21354\n",
       "Wednesday    18059\n",
       "Name: genre, dtype: int64"
      ]
     },
     "execution_count": 19,
     "metadata": {},
     "output_type": "execute_result"
    }
   ],
   "source": [
    "df.groupby('day')['genre'].count()# Подсчёт прослушиваний в каждый из трёх дней"
   ]
  },
  {
   "cell_type": "markdown",
   "metadata": {
    "deletable": false,
    "editable": false,
    "id": "cC2tNrlL_Zcu"
   },
   "source": [
    "В среднем пользователи из двух городов менее активны по средам. Но картина может измениться, если рассмотреть каждый город в отдельности."
   ]
  },
  {
   "cell_type": "markdown",
   "metadata": {
    "deletable": false,
    "editable": false,
    "id": "POzs8bGa_Zcu",
    "tags": [
     "start_task"
    ]
   },
   "source": [
    "**Задание 20**\n",
    "\n",
    "\n",
    "Вы видели, как работает группировка по городу и по дням недели. Теперь напишите функцию, которая объединит два эти расчёта.\n",
    "\n",
    "Создайте функцию `number_tracks()`, которая посчитает прослушивания для заданного дня и города. Ей понадобятся два параметра:\n",
    "* день недели,\n",
    "* название города.\n",
    "\n",
    "В функции сохраните в переменную строки исходной таблицы, у которых значение:\n",
    "  * в колонке `day` равно параметру `day`,\n",
    "  * в колонке `city` равно параметру `city`.\n",
    "\n",
    "Для этого примените последовательную фильтрацию с логической индексацией (или сложные логические выражения в одну строку, если вы уже знакомы с ними).\n",
    "\n",
    "Затем посчитайте значения в столбце `user_id` получившейся таблицы. Результат сохраните в новую переменную. Верните эту переменную из функции."
   ]
  },
  {
   "cell_type": "code",
   "execution_count": 20,
   "metadata": {
    "deletable": false,
    "id": "Nz3GdQB1_Zcu"
   },
   "outputs": [],
   "source": [
    "def number_tracks(day,city):\n",
    "    track_list = df[(df['day'] == day) & (df['city'] == city)]\n",
    "    track_list_count = track_list['user_id'].count()\n",
    "    return track_list_count\n",
    "# Функция для подсчёта прослушиваний для конкретного города и дня.\n",
    "# С помощью последовательной фильтрации с логической индексацией она \n",
    "# сначала получит из исходной таблицы строки с нужным днём,\n",
    "# затем из результата отфильтрует строки с нужным городом,\n",
    "# методом count() посчитает количество значений в колонке user_id. \n",
    "# Это количество функция вернёт в качестве результата"
   ]
  },
  {
   "cell_type": "markdown",
   "metadata": {
    "deletable": false,
    "editable": false,
    "id": "ytf7xFrFJQ2r",
    "tags": [
     "start_task"
    ]
   },
   "source": [
    "**Задание 21**\n",
    "\n",
    "Вызовите `number_tracks()` шесть раз, меняя значение параметров — так, чтобы получить данные для каждого города в каждый из трёх дней."
   ]
  },
  {
   "cell_type": "code",
   "execution_count": 21,
   "metadata": {
    "deletable": false,
    "id": "rJcRATNQ_Zcu"
   },
   "outputs": [
    {
     "data": {
      "text/plain": [
       "15740"
      ]
     },
     "execution_count": 21,
     "metadata": {},
     "output_type": "execute_result"
    }
   ],
   "source": [
    "number_tracks('Monday','Moscow')\n",
    "# количество прослушиваний в Москве по понедельникам"
   ]
  },
  {
   "cell_type": "code",
   "execution_count": 22,
   "metadata": {
    "deletable": false,
    "id": "hq_ncZ5T_Zcu"
   },
   "outputs": [
    {
     "data": {
      "text/plain": [
       "5614"
      ]
     },
     "execution_count": 22,
     "metadata": {},
     "output_type": "execute_result"
    }
   ],
   "source": [
    "number_tracks('Monday', 'Saint-Petersburg')# количество прослушиваний в Санкт-Петербурге по понедельникам"
   ]
  },
  {
   "cell_type": "code",
   "execution_count": 23,
   "metadata": {
    "deletable": false,
    "id": "_NTy2VPU_Zcu"
   },
   "outputs": [
    {
     "data": {
      "text/plain": [
       "11056"
      ]
     },
     "execution_count": 23,
     "metadata": {},
     "output_type": "execute_result"
    }
   ],
   "source": [
    "number_tracks('Wednesday', 'Moscow')# количество прослушиваний в Москве по средам"
   ]
  },
  {
   "cell_type": "code",
   "execution_count": 24,
   "metadata": {
    "deletable": false,
    "id": "j2y3TAwo_Zcu"
   },
   "outputs": [
    {
     "data": {
      "text/plain": [
       "7003"
      ]
     },
     "execution_count": 24,
     "metadata": {},
     "output_type": "execute_result"
    }
   ],
   "source": [
    "number_tracks('Wednesday', 'Saint-Petersburg')# количество прослушиваний в Санкт-Петербурге по средам"
   ]
  },
  {
   "cell_type": "code",
   "execution_count": 25,
   "metadata": {
    "deletable": false,
    "id": "vYDw5u_K_Zcu"
   },
   "outputs": [
    {
     "data": {
      "text/plain": [
       "15945"
      ]
     },
     "execution_count": 25,
     "metadata": {},
     "output_type": "execute_result"
    }
   ],
   "source": [
    "number_tracks('Friday', 'Moscow')# количество прослушиваний в Москве по пятницам"
   ]
  },
  {
   "cell_type": "code",
   "execution_count": 26,
   "metadata": {
    "deletable": false,
    "id": "8_yzFtW3_Zcu"
   },
   "outputs": [
    {
     "data": {
      "text/plain": [
       "5895"
      ]
     },
     "execution_count": 26,
     "metadata": {},
     "output_type": "execute_result"
    }
   ],
   "source": [
    "number_tracks('Friday', 'Saint-Petersburg')# количество прослушиваний в Санкт-Петербурге по пятницам"
   ]
  },
  {
   "cell_type": "markdown",
   "metadata": {
    "deletable": false,
    "editable": false,
    "id": "7QXffbO-_Zcu",
    "tags": [
     "start_task"
    ]
   },
   "source": [
    "**Задание 22**\n",
    "\n",
    "Создайте c помощью конструктора `pd.DataFrame` таблицу, где\n",
    "* названия колонок — `['city', 'monday', 'wednesday', 'friday']`;\n",
    "* данные — результаты, которые вы получили с помощью `number_tracks`."
   ]
  },
  {
   "cell_type": "code",
   "execution_count": 27,
   "metadata": {
    "deletable": false,
    "id": "APAcLpOr_Zcu"
   },
   "outputs": [],
   "source": [
    "info = pd.DataFrame(data=['city', 'monday', 'wednesday', 'friday'], columns = [number_tracks])# Таблица с результатам"
   ]
  },
  {
   "cell_type": "markdown",
   "metadata": {
    "deletable": false,
    "editable": false,
    "id": "-EgPIHYu_Zcu"
   },
   "source": [
    "**Выводы**\n",
    "\n",
    "Данные показывают разницу поведения пользователей:\n",
    "\n",
    "- В Москве пик прослушиваний приходится на понедельник и пятницу, а в среду заметен спад.\n",
    "- В Петербурге, наоборот, больше слушают музыку по средам. Активность в понедельник и пятницу здесь почти в равной мере уступает среде.\n",
    "\n",
    "Значит, данные говорят в пользу первой гипотезы."
   ]
  },
  {
   "cell_type": "markdown",
   "metadata": {
    "deletable": false,
    "editable": false,
    "id": "atZAxtq4_Zcu"
   },
   "source": [
    "### Музыка в начале и в конце недели"
   ]
  },
  {
   "cell_type": "markdown",
   "metadata": {
    "deletable": false,
    "editable": false,
    "id": "eXrQqXFH_Zcu"
   },
   "source": [
    "Согласно второй гипотезе, утром в понедельник в Москве преобладают одни жанры, а в Петербурге — другие. Так же и вечером пятницы преобладают разные жанры — в зависимости от города."
   ]
  },
  {
   "cell_type": "markdown",
   "metadata": {
    "deletable": false,
    "editable": false,
    "id": "S8UcW6Hw_Zcu",
    "tags": [
     "start_task"
    ]
   },
   "source": [
    "**Задание 23**\n",
    "\n",
    "Сохраните таблицы с данными в две переменные:\n",
    "* по Москве — в `moscow_general`;\n",
    "* по Санкт-Петербургу — в `spb_general`."
   ]
  },
  {
   "cell_type": "code",
   "execution_count": 28,
   "metadata": {
    "deletable": false,
    "id": "qeaFfM_P_Zcu"
   },
   "outputs": [],
   "source": [
    "moscow_general = df[df['city'] == 'Moscow']# получение таблицы moscow_general из тех строк таблицы df, \n",
    "# для которых значение в столбце 'city' равно 'Moscow'\n"
   ]
  },
  {
   "cell_type": "code",
   "execution_count": 29,
   "metadata": {
    "deletable": false,
    "id": "ORaVRKto_Zcu"
   },
   "outputs": [],
   "source": [
    "spb_general = df[df['city'] == 'Saint-Petersburg']# получение таблицы spb_general из тех строк таблицы df,\n",
    "# для которых значение в столбце 'city' равно 'Saint-Petersburg'\n"
   ]
  },
  {
   "cell_type": "markdown",
   "metadata": {
    "deletable": false,
    "editable": false,
    "id": "MEJV-CX2_Zcu",
    "tags": [
     "start_task"
    ]
   },
   "source": [
    "**Задание 24**\n",
    "\n",
    "Создайте функцию `genre_weekday()` с четырьмя параметрами:\n",
    "* таблица (датафрейм) с данными,\n",
    "* день недели,\n",
    "* начальная временная метка в формате 'hh:mm', \n",
    "* последняя временная метка в формате 'hh:mm'.\n",
    "\n",
    "Функция должна вернуть информацию о топ-10 жанров тех треков, которые прослушивали в указанный день, в промежутке между двумя отметками времени."
   ]
  },
  {
   "cell_type": "code",
   "execution_count": 30,
   "metadata": {
    "deletable": false,
    "id": "laJT9BYl_Zcu"
   },
   "outputs": [],
   "source": [
    "def genre_weekday(df, day, time1, time2):\n",
    "        genre_df = df[df['day'] == day]\n",
    "        genre_df = genre_df[genre_df['time'] < time2]\n",
    "        genre_df = genre_df[genre_df['time'] > time1]\n",
    "        genre_df_grouped = genre_df.groupby('genre')['genre'].count()\n",
    "        genre_df_sorted = genre_df_grouped.sort_values(ascending=False)\n",
    "        return genre_df_sorted[:10]\n",
    "# Объявление функции genre_weekday() с параметрами table, day, time1, time2,\n",
    "# которая возвращает информацию о самых популярных жанрах в указанный день в\n",
    "# заданное время:\n",
    "# 1) в переменную genre_df сохраняются те строки переданного датафрейма table, для\n",
    "#    которых одновременно:\n",
    "#    - значение в столбце day равно значению аргумента day\n",
    "#    - значение в столбце time больше значения аргумента time1\n",
    "#    - значение в столбце time меньше значения аргумента time2\n",
    "#    Используйте последовательную фильтрацию с помощью логической индексации.\n",
    "# 2) сгруппировать датафрейм genre_df по столбцу genre, взять один из его\n",
    "#    столбцов и посчитать методом count() количество записей для каждого из\n",
    "#    присутствующих жанров, получившийся Series записать в переменную\n",
    "#    genre_df_count\n",
    "# 3) отсортировать genre_df_count по убыванию встречаемости и сохранить\n",
    "#    в переменную genre_df_sorted\n",
    "# 4) вернуть Series из 10 первых значений genre_df_sorted, это будут топ-10\n",
    "#    популярных жанров (в указанный день, в заданное время)\n",
    "\n",
    "#def genre_weekday(df, day, time1, time2):\n",
    "    # последовательная фильтрация\n",
    "    # оставляем в genre_df только те строки df, у которых день равен day\n",
    "    #genre_df = # ваш код здесь\n",
    "    # оставляем в genre_df только те строки genre_df, у которых время меньше time2\n",
    "    #genre_df = # ваш код здесь\n",
    "    # оставляем в genre_df только те строки genre_df, у которых время больше time1\n",
    "    #genre_df = # ваш код здесь\n",
    "    # сгруппируем отфильтрованный датафрейм по столбцу с названиями жанров, возьмём столбец genre и посчитаем кол-во строк для каждого жанра методом count()\n",
    "    #genre_df_grouped = # ваш код здесь\n",
    "    # отсортируем результат по убыванию (чтобы в начале Series оказались самые популярные жанры)\n",
    "    #genre_df_sorted = # ваш код здесь\n",
    "    # вернём Series с 10 самыми популярными жанрами в указанный отрезок времени заданного дня\n",
    "    #return genre_df_sorted[:10]"
   ]
  },
  {
   "cell_type": "markdown",
   "metadata": {
    "deletable": false,
    "editable": false,
    "id": "la2s2_PF_Zcu",
    "tags": [
     "start_task"
    ]
   },
   "source": [
    "**Задание 25**\n",
    "\n",
    "\n",
    "Cравните результаты функции `genre_weekday()` для Москвы и Санкт-Петербурга в понедельник утром (с 7:00 до 11:00) и в пятницу вечером (с 17:00 до 23:00):"
   ]
  },
  {
   "cell_type": "code",
   "execution_count": 31,
   "metadata": {
    "deletable": false,
    "id": "yz7itPUQ_Zcu"
   },
   "outputs": [
    {
     "data": {
      "text/plain": [
       "genre\n",
       "pop            781\n",
       "dance          549\n",
       "electronic     480\n",
       "rock           474\n",
       "hiphop         286\n",
       "ruspop         186\n",
       "world          181\n",
       "rusrap         175\n",
       "alternative    164\n",
       "unknown        161\n",
       "Name: genre, dtype: int64"
      ]
     },
     "execution_count": 31,
     "metadata": {},
     "output_type": "execute_result"
    }
   ],
   "source": [
    "genre_weekday(moscow_general, 'Monday', '07:00', '11:00') # вызов функции для утра понедельника в Москве (вместо df — таблица moscow_general)\n",
    "# объекты, хранящие время, являются строками и сравниваются как строки\n",
    "# пример вызова: genre_weekday(moscow_general, 'Monday', '07:00', '11:00')"
   ]
  },
  {
   "cell_type": "code",
   "execution_count": 32,
   "metadata": {
    "deletable": false,
    "id": "kwUcHPdy_Zcu"
   },
   "outputs": [
    {
     "data": {
      "text/plain": [
       "genre\n",
       "pop            218\n",
       "dance          182\n",
       "rock           162\n",
       "electronic     147\n",
       "hiphop          80\n",
       "ruspop          64\n",
       "alternative     58\n",
       "rusrap          55\n",
       "jazz            44\n",
       "classical       40\n",
       "Name: genre, dtype: int64"
      ]
     },
     "execution_count": 32,
     "metadata": {},
     "output_type": "execute_result"
    }
   ],
   "source": [
    "genre_weekday(spb_general, 'Monday', '07:00', '11:00')# вызов функции для утра понедельника в Петербурге (вместо df — таблица spb_general)"
   ]
  },
  {
   "cell_type": "code",
   "execution_count": 33,
   "metadata": {
    "deletable": false,
    "id": "EzXVRE1o_Zcu"
   },
   "outputs": [
    {
     "data": {
      "text/plain": [
       "genre\n",
       "pop            713\n",
       "rock           517\n",
       "dance          495\n",
       "electronic     482\n",
       "hiphop         273\n",
       "world          208\n",
       "ruspop         170\n",
       "alternative    163\n",
       "classical      163\n",
       "rusrap         142\n",
       "Name: genre, dtype: int64"
      ]
     },
     "execution_count": 33,
     "metadata": {},
     "output_type": "execute_result"
    }
   ],
   "source": [
    "genre_weekday(moscow_general, 'Friday', '17:00', '23:00')# вызов функции для вечера пятницы в Москве"
   ]
  },
  {
   "cell_type": "code",
   "execution_count": 34,
   "metadata": {
    "deletable": false,
    "id": "JZaEKu5v_Zcu"
   },
   "outputs": [
    {
     "data": {
      "text/plain": [
       "genre\n",
       "pop            256\n",
       "electronic     216\n",
       "rock           216\n",
       "dance          210\n",
       "hiphop          97\n",
       "alternative     63\n",
       "jazz            61\n",
       "classical       60\n",
       "rusrap          59\n",
       "world           54\n",
       "Name: genre, dtype: int64"
      ]
     },
     "execution_count": 34,
     "metadata": {},
     "output_type": "execute_result"
    }
   ],
   "source": [
    "genre_weekday(spb_general, 'Friday', '17:00', '23:00')# вызов функции для вечера пятницы в Петербурге"
   ]
  },
  {
   "cell_type": "markdown",
   "metadata": {
    "deletable": false,
    "editable": false,
    "id": "wrCe4MNX_Zcu"
   },
   "source": [
    "**Выводы**\n",
    "\n",
    "Если сравнить топ-10 жанров в понедельник утром, можно сделать такие выводы:\n",
    "\n",
    "1. В Москве и Петербурге слушают похожую музыку. Единственное отличие — в московский рейтинг вошёл жанр “world”, а в петербургский — джаз и классика.\n",
    "\n",
    "2. В Москве пропущенных значений оказалось так много, что значение `'unknown'` заняло десятое место среди самых популярных жанров. Значит, пропущенные значения занимают существенную долю в данных и угрожают достоверности исследования.\n",
    "\n",
    "Вечер пятницы не меняет эту картину. Некоторые жанры поднимаются немного выше, другие спускаются, но в целом топ-10 остаётся тем же самым.\n",
    "\n",
    "Таким образом, вторая гипотеза подтвердилась лишь частично:\n",
    "* Пользователи слушают похожую музыку в начале недели и в конце.\n",
    "* Разница между Москвой и Петербургом не слишком выражена. В Москве чаще слушают русскую популярную музыку, в Петербурге — джаз.\n",
    "\n",
    "Однако пропуски в данных ставят под сомнение этот результат. В Москве их так много, что рейтинг топ-10 мог бы выглядеть иначе, если бы не утерянные  данные о жанрах."
   ]
  },
  {
   "cell_type": "markdown",
   "metadata": {
    "deletable": false,
    "editable": false,
    "id": "JolODAqr_Zcu"
   },
   "source": [
    "### Жанровые предпочтения в Москве и Петербурге\n",
    "\n",
    "Гипотеза: Петербург — столица рэпа, музыку этого жанра там слушают чаще, чем в Москве.  А Москва — город контрастов, в котором, тем не менее, преобладает поп-музыка."
   ]
  },
  {
   "cell_type": "markdown",
   "metadata": {
    "deletable": false,
    "editable": false,
    "id": "DlegSvaT_Zcu",
    "tags": [
     "start_task"
    ]
   },
   "source": [
    "**Задание 26**\n",
    "\n",
    "Сгруппируйте таблицу `moscow_general` по жанру и посчитайте прослушивания треков каждого жанра методом `count()`. Затем отсортируйте результат в порядке убывания и сохраните его в таблице `moscow_genres`."
   ]
  },
  {
   "cell_type": "code",
   "execution_count": 35,
   "metadata": {
    "deletable": false,
    "id": "r19lIPke_Zcu"
   },
   "outputs": [],
   "source": [
    "moscow_genres = moscow_general.groupby('genre')['genre'].count().sort_values(ascending=False)# одной строкой: группировка таблицы moscow_general по столбцу 'genre', \n",
    "# подсчёт числа значений 'genre' в этой группировке методом count(), \n",
    "# сортировка получившегося Series в порядке убывания и сохранение в moscow_genres"
   ]
  },
  {
   "cell_type": "markdown",
   "metadata": {
    "deletable": false,
    "editable": false,
    "id": "6kMuomxTiIr8",
    "tags": [
     "start_task"
    ]
   },
   "source": [
    "**Задание 27**\n",
    "\n",
    "Выведите на экран первые десять строк `moscow_genres`:"
   ]
  },
  {
   "cell_type": "code",
   "execution_count": 36,
   "metadata": {
    "deletable": false,
    "id": "WhCSooF8_Zcv"
   },
   "outputs": [
    {
     "data": {
      "text/plain": [
       "genre\n",
       "pop            5892\n",
       "dance          4435\n",
       "rock           3965\n",
       "electronic     3786\n",
       "hiphop         2096\n",
       "classical      1616\n",
       "world          1432\n",
       "alternative    1379\n",
       "ruspop         1372\n",
       "rusrap         1161\n",
       "Name: genre, dtype: int64"
      ]
     },
     "execution_count": 36,
     "metadata": {},
     "output_type": "execute_result"
    }
   ],
   "source": [
    "moscow_genres.head(10)# просмотр первых 10 строк moscow_genres"
   ]
  },
  {
   "cell_type": "markdown",
   "metadata": {
    "deletable": false,
    "editable": false,
    "id": "cnPG2vnN_Zcv",
    "tags": [
     "start_task"
    ]
   },
   "source": [
    "**Задание 28**\n",
    "\n",
    "\n",
    "Теперь повторите то же и для Петербурга.\n",
    "\n",
    "Сгруппируйте таблицу `spb_general` по жанру. Посчитайте прослушивания треков каждого жанра. Результат отсортируйте в порядке убывания и сохраните в таблице `spb_genres`:\n"
   ]
  },
  {
   "cell_type": "code",
   "execution_count": 39,
   "metadata": {
    "deletable": false,
    "id": "gluLIpE7_Zcv"
   },
   "outputs": [],
   "source": [
    "spb_genres = spb_general.groupby('genre')['genre'].count().sort_values(ascending=False)# одной строкой: группировка таблицы spb_general по столбцу 'genre', \n",
    "# подсчёт числа значений 'genre' в этой группировке методом count(), \n",
    "# сортировка получившегося Series в порядке убывания и сохранение в spb_genres"
   ]
  },
  {
   "cell_type": "markdown",
   "metadata": {
    "deletable": false,
    "editable": false,
    "id": "5Doha_ODgyQ8",
    "tags": [
     "start_task"
    ]
   },
   "source": [
    "**Задание 29**\n",
    "\n",
    "Выведите на экран первые десять строк `spb_genres`:"
   ]
  },
  {
   "cell_type": "code",
   "execution_count": 40,
   "metadata": {
    "deletable": false,
    "id": "uaGJHjVU_Zcv"
   },
   "outputs": [
    {
     "data": {
      "text/plain": [
       "genre\n",
       "pop            2431\n",
       "dance          1932\n",
       "rock           1879\n",
       "electronic     1736\n",
       "hiphop          960\n",
       "alternative     649\n",
       "classical       646\n",
       "rusrap          564\n",
       "ruspop          538\n",
       "world           515\n",
       "Name: genre, dtype: int64"
      ]
     },
     "execution_count": 40,
     "metadata": {},
     "output_type": "execute_result"
    }
   ],
   "source": [
    "spb_genres.head(10)# просмотр первых 10 строк spb_genres"
   ]
  },
  {
   "cell_type": "markdown",
   "metadata": {
    "deletable": false,
    "editable": false,
    "id": "RY51YJYu_Zcv"
   },
   "source": [
    "**Выводы**"
   ]
  },
  {
   "cell_type": "markdown",
   "metadata": {
    "deletable": false,
    "editable": false,
    "id": "nVhnJEm__Zcv"
   },
   "source": [
    "Гипотеза частично подтвердилась:\n",
    "* Поп-музыка — самый популярный жанр в Москве, как и предполагала гипотеза. Более того, в топ-10 жанров встречается близкий жанр — русская популярная музыка.\n",
    "* Вопреки ожиданиям, рэп одинаково популярен в Москве и Петербурге. \n"
   ]
  },
  {
   "cell_type": "markdown",
   "metadata": {
    "deletable": false,
    "editable": false,
    "id": "ykKQ0N65_Zcv"
   },
   "source": [
    "## Итоги исследования"
   ]
  },
  {
   "cell_type": "markdown",
   "metadata": {
    "deletable": false,
    "editable": false,
    "id": "tjUwbHb3_Zcv"
   },
   "source": [
    "Вы проверили три гипотезы и установили:\n",
    "\n",
    "1. День недели по-разному влияет на активность пользователей в Москве и Петербурге. \n",
    "\n",
    "Первая гипотеза полностью подтвердилась.\n",
    "\n",
    "2. Музыкальные предпочтения не сильно меняются в течение недели — будь то Москва или Петербург. Небольшие различия заметны в начале недели, по понедельникам:\n",
    "* в Москве слушают музыку жанра “world”,\n",
    "* в Петербурге — джаз и классику.\n",
    "\n",
    "Таким образом, вторая гипотеза подтвердилась лишь отчасти. Этот результат мог оказаться иным, если бы не пропуски в данных.\n",
    "\n",
    "3. Во вкусах пользователей Москвы и Петербурга больше общего чем различий. Вопреки ожиданиям, предпочтения жанров в Петербурге напоминают московские.\n",
    "\n",
    "Третья гипотеза не подтвердилась. Если различия в предпочтениях и существуют, на основной массе пользователей они незаметны.\n",
    "\n",
    "**На практике исследования содержат проверки статистических гипотез.**\n",
    "Из данных одного сервиса не всегда можно сделать вывод о всех жителях города.\n",
    "Проверки статистических гипотез покажут, насколько они достоверны, исходя из имеющихся данных. \n",
    "С методами проверок гипотез вы ещё познакомитесь в следующих темах."
   ]
  }
 ],
 "metadata": {
  "ExecuteTimeLog": [
   {
    "duration": 84,
    "start_time": "2022-08-15T16:08:01.206Z"
   },
   {
    "duration": 440,
    "start_time": "2022-08-15T16:08:06.927Z"
   },
   {
    "duration": 272,
    "start_time": "2022-08-15T16:10:36.826Z"
   },
   {
    "duration": 10,
    "start_time": "2022-08-15T16:11:34.092Z"
   },
   {
    "duration": 33,
    "start_time": "2022-08-15T16:12:09.136Z"
   },
   {
    "duration": 4,
    "start_time": "2022-08-15T16:13:42.251Z"
   },
   {
    "duration": 53,
    "start_time": "2022-08-16T07:38:01.725Z"
   },
   {
    "duration": 407,
    "start_time": "2022-08-16T07:38:21.652Z"
   },
   {
    "duration": 450,
    "start_time": "2022-08-16T07:38:22.062Z"
   },
   {
    "duration": 7,
    "start_time": "2022-08-16T07:38:22.513Z"
   },
   {
    "duration": 29,
    "start_time": "2022-08-16T07:38:22.522Z"
   },
   {
    "duration": 12,
    "start_time": "2022-08-16T07:38:22.553Z"
   },
   {
    "duration": 16,
    "start_time": "2022-08-16T07:38:22.566Z"
   },
   {
    "duration": 11,
    "start_time": "2022-08-16T07:38:22.584Z"
   },
   {
    "duration": 6,
    "start_time": "2022-08-16T07:38:22.597Z"
   },
   {
    "duration": 16,
    "start_time": "2022-08-16T07:38:22.605Z"
   },
   {
    "duration": 59,
    "start_time": "2022-08-16T07:38:22.622Z"
   },
   {
    "duration": 16,
    "start_time": "2022-08-16T07:38:22.683Z"
   },
   {
    "duration": 25,
    "start_time": "2022-08-16T07:38:22.701Z"
   },
   {
    "duration": 34,
    "start_time": "2022-08-16T07:38:22.728Z"
   },
   {
    "duration": 21,
    "start_time": "2022-08-16T07:38:22.769Z"
   },
   {
    "duration": 38,
    "start_time": "2022-08-16T07:38:22.791Z"
   },
   {
    "duration": 29,
    "start_time": "2022-08-16T07:38:22.831Z"
   },
   {
    "duration": 36,
    "start_time": "2022-08-16T07:38:22.862Z"
   },
   {
    "duration": 13,
    "start_time": "2022-08-16T07:38:22.900Z"
   },
   {
    "duration": 61,
    "start_time": "2022-08-16T07:38:22.915Z"
   },
   {
    "duration": 40,
    "start_time": "2022-08-16T07:38:22.986Z"
   },
   {
    "duration": 27,
    "start_time": "2022-08-16T07:38:23.028Z"
   },
   {
    "duration": 28,
    "start_time": "2022-08-16T07:38:23.057Z"
   },
   {
    "duration": 8,
    "start_time": "2022-08-16T07:38:23.086Z"
   },
   {
    "duration": 10,
    "start_time": "2022-08-16T07:38:23.096Z"
   },
   {
    "duration": 11,
    "start_time": "2022-08-16T07:38:23.108Z"
   },
   {
    "duration": 9,
    "start_time": "2022-08-16T07:38:23.120Z"
   },
   {
    "duration": 7,
    "start_time": "2022-08-16T07:38:23.131Z"
   },
   {
    "duration": 7,
    "start_time": "2022-08-16T07:38:23.140Z"
   },
   {
    "duration": 24,
    "start_time": "2022-08-16T07:38:23.148Z"
   },
   {
    "duration": 129,
    "start_time": "2022-08-16T07:38:23.174Z"
   },
   {
    "duration": 0,
    "start_time": "2022-08-16T07:38:23.305Z"
   },
   {
    "duration": 0,
    "start_time": "2022-08-16T07:38:23.306Z"
   },
   {
    "duration": 0,
    "start_time": "2022-08-16T07:38:23.307Z"
   },
   {
    "duration": 0,
    "start_time": "2022-08-16T07:38:23.308Z"
   },
   {
    "duration": 0,
    "start_time": "2022-08-16T07:38:23.310Z"
   },
   {
    "duration": 0,
    "start_time": "2022-08-16T07:38:23.311Z"
   },
   {
    "duration": 0,
    "start_time": "2022-08-16T07:38:23.312Z"
   },
   {
    "duration": 0,
    "start_time": "2022-08-16T07:38:23.313Z"
   },
   {
    "duration": 38,
    "start_time": "2022-08-16T07:41:46.795Z"
   },
   {
    "duration": 98,
    "start_time": "2022-08-16T07:43:17.615Z"
   },
   {
    "duration": 11,
    "start_time": "2022-08-16T07:43:34.986Z"
   },
   {
    "duration": 3,
    "start_time": "2022-08-16T07:44:12.113Z"
   },
   {
    "duration": 24,
    "start_time": "2022-08-16T07:46:34.326Z"
   },
   {
    "duration": 76,
    "start_time": "2022-08-16T07:50:21.225Z"
   },
   {
    "duration": 1420,
    "start_time": "2022-08-16T07:50:34.078Z"
   },
   {
    "duration": 1441,
    "start_time": "2022-08-16T07:51:29.675Z"
   },
   {
    "duration": 7,
    "start_time": "2022-08-16T07:53:54.416Z"
   },
   {
    "duration": 4,
    "start_time": "2022-08-16T07:54:31.033Z"
   },
   {
    "duration": 7,
    "start_time": "2022-08-16T07:54:39.649Z"
   },
   {
    "duration": 8,
    "start_time": "2022-08-16T07:55:06.199Z"
   },
   {
    "duration": 1153,
    "start_time": "2022-08-16T07:55:46.880Z"
   },
   {
    "duration": 16,
    "start_time": "2022-08-16T07:55:53.111Z"
   },
   {
    "duration": 21,
    "start_time": "2022-08-16T07:56:33.100Z"
   },
   {
    "duration": 57,
    "start_time": "2022-08-16T07:57:21.366Z"
   },
   {
    "duration": 8,
    "start_time": "2022-08-16T07:58:31.012Z"
   },
   {
    "duration": 61,
    "start_time": "2022-08-16T07:59:20.407Z"
   },
   {
    "duration": 54,
    "start_time": "2022-08-16T07:59:53.916Z"
   },
   {
    "duration": 40,
    "start_time": "2022-08-16T08:07:37.684Z"
   },
   {
    "duration": 43,
    "start_time": "2022-08-16T08:08:36.586Z"
   },
   {
    "duration": 6,
    "start_time": "2022-08-16T08:17:44.888Z"
   },
   {
    "duration": 33,
    "start_time": "2022-08-16T08:20:14.348Z"
   },
   {
    "duration": 29,
    "start_time": "2022-08-16T08:21:04.819Z"
   },
   {
    "duration": 35,
    "start_time": "2022-08-16T08:21:33.438Z"
   },
   {
    "duration": 31,
    "start_time": "2022-08-16T08:22:04.519Z"
   },
   {
    "duration": 51,
    "start_time": "2022-08-16T08:24:21.758Z"
   },
   {
    "duration": 85,
    "start_time": "2022-08-16T08:32:40.053Z"
   },
   {
    "duration": 88,
    "start_time": "2022-08-16T08:33:00.421Z"
   },
   {
    "duration": 71,
    "start_time": "2022-08-16T08:33:45.708Z"
   },
   {
    "duration": 87,
    "start_time": "2022-08-16T08:34:27.825Z"
   },
   {
    "duration": 73,
    "start_time": "2022-08-16T08:34:48.476Z"
   },
   {
    "duration": 71,
    "start_time": "2022-08-16T08:35:04.331Z"
   },
   {
    "duration": 62,
    "start_time": "2022-08-16T08:35:24.519Z"
   },
   {
    "duration": 33,
    "start_time": "2022-08-16T08:36:09.185Z"
   },
   {
    "duration": 4,
    "start_time": "2022-08-16T08:36:32.491Z"
   },
   {
    "duration": 39,
    "start_time": "2022-08-16T08:39:12.607Z"
   },
   {
    "duration": 418,
    "start_time": "2022-08-16T08:39:49.970Z"
   },
   {
    "duration": 179,
    "start_time": "2022-08-16T08:39:50.390Z"
   },
   {
    "duration": 8,
    "start_time": "2022-08-16T08:39:50.576Z"
   },
   {
    "duration": 28,
    "start_time": "2022-08-16T08:39:50.586Z"
   },
   {
    "duration": 2,
    "start_time": "2022-08-16T08:39:50.616Z"
   },
   {
    "duration": 6,
    "start_time": "2022-08-16T08:39:50.620Z"
   },
   {
    "duration": 21,
    "start_time": "2022-08-16T08:39:50.628Z"
   },
   {
    "duration": 7,
    "start_time": "2022-08-16T08:39:50.650Z"
   },
   {
    "duration": 48,
    "start_time": "2022-08-16T08:39:50.658Z"
   },
   {
    "duration": 16,
    "start_time": "2022-08-16T08:39:50.707Z"
   },
   {
    "duration": 22,
    "start_time": "2022-08-16T08:39:50.724Z"
   },
   {
    "duration": 131,
    "start_time": "2022-08-16T08:39:50.747Z"
   },
   {
    "duration": 61,
    "start_time": "2022-08-16T08:39:50.879Z"
   },
   {
    "duration": 70,
    "start_time": "2022-08-16T08:39:50.943Z"
   },
   {
    "duration": 11,
    "start_time": "2022-08-16T08:39:51.015Z"
   },
   {
    "duration": 4,
    "start_time": "2022-08-16T08:39:51.028Z"
   },
   {
    "duration": 42,
    "start_time": "2022-08-16T08:39:51.033Z"
   },
   {
    "duration": 5,
    "start_time": "2022-08-16T08:39:51.077Z"
   },
   {
    "duration": 4,
    "start_time": "2022-08-16T08:39:51.085Z"
   },
   {
    "duration": 11,
    "start_time": "2022-08-16T08:39:51.090Z"
   },
   {
    "duration": 8,
    "start_time": "2022-08-16T08:39:51.102Z"
   },
   {
    "duration": 13,
    "start_time": "2022-08-16T08:39:51.111Z"
   },
   {
    "duration": 6,
    "start_time": "2022-08-16T08:39:51.125Z"
   },
   {
    "duration": 9,
    "start_time": "2022-08-16T08:39:51.133Z"
   },
   {
    "duration": 8,
    "start_time": "2022-08-16T08:39:51.144Z"
   },
   {
    "duration": 26,
    "start_time": "2022-08-16T08:39:51.153Z"
   },
   {
    "duration": 6,
    "start_time": "2022-08-16T08:39:51.180Z"
   },
   {
    "duration": 6,
    "start_time": "2022-08-16T08:39:51.187Z"
   },
   {
    "duration": 6,
    "start_time": "2022-08-16T08:39:51.195Z"
   },
   {
    "duration": 122,
    "start_time": "2022-08-16T08:39:51.202Z"
   },
   {
    "duration": 0,
    "start_time": "2022-08-16T08:39:51.326Z"
   },
   {
    "duration": 0,
    "start_time": "2022-08-16T08:39:51.328Z"
   },
   {
    "duration": 0,
    "start_time": "2022-08-16T08:39:51.329Z"
   },
   {
    "duration": 0,
    "start_time": "2022-08-16T08:39:51.329Z"
   },
   {
    "duration": 0,
    "start_time": "2022-08-16T08:39:51.331Z"
   },
   {
    "duration": 0,
    "start_time": "2022-08-16T08:39:51.332Z"
   },
   {
    "duration": 0,
    "start_time": "2022-08-16T08:39:51.333Z"
   },
   {
    "duration": 0,
    "start_time": "2022-08-16T08:39:51.335Z"
   },
   {
    "duration": 71,
    "start_time": "2022-08-16T08:42:17.289Z"
   },
   {
    "duration": 45,
    "start_time": "2022-08-16T08:42:27.886Z"
   },
   {
    "duration": 46,
    "start_time": "2022-08-16T08:42:56.077Z"
   },
   {
    "duration": 62,
    "start_time": "2022-08-16T08:44:21.237Z"
   },
   {
    "duration": 75,
    "start_time": "2022-08-16T08:44:37.229Z"
   },
   {
    "duration": 41,
    "start_time": "2022-08-16T08:45:11.978Z"
   },
   {
    "duration": 51,
    "start_time": "2022-08-16T08:49:55.954Z"
   },
   {
    "duration": 9,
    "start_time": "2022-08-16T08:54:26.680Z"
   },
   {
    "duration": 9,
    "start_time": "2022-08-16T08:54:57.020Z"
   },
   {
    "duration": 7,
    "start_time": "2022-08-16T08:55:29.066Z"
   },
   {
    "duration": 8,
    "start_time": "2022-08-16T08:56:01.769Z"
   },
   {
    "duration": 392,
    "start_time": "2022-08-16T08:57:36.288Z"
   },
   {
    "duration": 190,
    "start_time": "2022-08-16T08:57:36.682Z"
   },
   {
    "duration": 9,
    "start_time": "2022-08-16T08:57:36.876Z"
   },
   {
    "duration": 33,
    "start_time": "2022-08-16T08:57:36.888Z"
   },
   {
    "duration": 2,
    "start_time": "2022-08-16T08:57:36.923Z"
   },
   {
    "duration": 7,
    "start_time": "2022-08-16T08:57:36.927Z"
   },
   {
    "duration": 35,
    "start_time": "2022-08-16T08:57:36.935Z"
   },
   {
    "duration": 7,
    "start_time": "2022-08-16T08:57:36.972Z"
   },
   {
    "duration": 43,
    "start_time": "2022-08-16T08:57:36.981Z"
   },
   {
    "duration": 29,
    "start_time": "2022-08-16T08:57:37.027Z"
   },
   {
    "duration": 31,
    "start_time": "2022-08-16T08:57:37.058Z"
   },
   {
    "duration": 83,
    "start_time": "2022-08-16T08:57:37.091Z"
   },
   {
    "duration": 62,
    "start_time": "2022-08-16T08:57:37.176Z"
   },
   {
    "duration": 80,
    "start_time": "2022-08-16T08:57:37.240Z"
   },
   {
    "duration": 83,
    "start_time": "2022-08-16T08:57:37.322Z"
   },
   {
    "duration": 0,
    "start_time": "2022-08-16T08:57:37.409Z"
   },
   {
    "duration": 0,
    "start_time": "2022-08-16T08:57:37.411Z"
   },
   {
    "duration": 0,
    "start_time": "2022-08-16T08:57:37.412Z"
   },
   {
    "duration": 0,
    "start_time": "2022-08-16T08:57:37.413Z"
   },
   {
    "duration": 0,
    "start_time": "2022-08-16T08:57:37.414Z"
   },
   {
    "duration": 0,
    "start_time": "2022-08-16T08:57:37.420Z"
   },
   {
    "duration": 0,
    "start_time": "2022-08-16T08:57:37.422Z"
   },
   {
    "duration": 0,
    "start_time": "2022-08-16T08:57:37.423Z"
   },
   {
    "duration": 0,
    "start_time": "2022-08-16T08:57:37.424Z"
   },
   {
    "duration": 0,
    "start_time": "2022-08-16T08:57:37.426Z"
   },
   {
    "duration": 0,
    "start_time": "2022-08-16T08:57:37.427Z"
   },
   {
    "duration": 0,
    "start_time": "2022-08-16T08:57:37.428Z"
   },
   {
    "duration": 0,
    "start_time": "2022-08-16T08:57:37.429Z"
   },
   {
    "duration": 0,
    "start_time": "2022-08-16T08:57:37.429Z"
   },
   {
    "duration": 0,
    "start_time": "2022-08-16T08:57:37.430Z"
   },
   {
    "duration": 0,
    "start_time": "2022-08-16T08:57:37.431Z"
   },
   {
    "duration": 1,
    "start_time": "2022-08-16T08:57:37.458Z"
   },
   {
    "duration": 0,
    "start_time": "2022-08-16T08:57:37.461Z"
   },
   {
    "duration": 0,
    "start_time": "2022-08-16T08:57:37.462Z"
   },
   {
    "duration": 0,
    "start_time": "2022-08-16T08:57:37.463Z"
   },
   {
    "duration": 0,
    "start_time": "2022-08-16T08:57:37.463Z"
   },
   {
    "duration": 0,
    "start_time": "2022-08-16T08:57:37.467Z"
   },
   {
    "duration": 0,
    "start_time": "2022-08-16T08:57:37.470Z"
   },
   {
    "duration": 34,
    "start_time": "2022-08-16T08:59:01.489Z"
   },
   {
    "duration": 9,
    "start_time": "2022-08-16T09:30:08.852Z"
   },
   {
    "duration": 5,
    "start_time": "2022-08-16T09:30:32.205Z"
   },
   {
    "duration": 71,
    "start_time": "2022-08-16T09:33:43.233Z"
   },
   {
    "duration": 9,
    "start_time": "2022-08-16T09:33:51.894Z"
   },
   {
    "duration": 4,
    "start_time": "2022-08-16T09:34:37.173Z"
   },
   {
    "duration": 386,
    "start_time": "2022-08-16T09:34:58.127Z"
   },
   {
    "duration": 137,
    "start_time": "2022-08-16T09:34:58.515Z"
   },
   {
    "duration": 8,
    "start_time": "2022-08-16T09:34:58.653Z"
   },
   {
    "duration": 22,
    "start_time": "2022-08-16T09:34:58.663Z"
   },
   {
    "duration": 2,
    "start_time": "2022-08-16T09:34:58.687Z"
   },
   {
    "duration": 5,
    "start_time": "2022-08-16T09:34:58.691Z"
   },
   {
    "duration": 12,
    "start_time": "2022-08-16T09:34:58.697Z"
   },
   {
    "duration": 5,
    "start_time": "2022-08-16T09:34:58.711Z"
   },
   {
    "duration": 50,
    "start_time": "2022-08-16T09:34:58.717Z"
   },
   {
    "duration": 14,
    "start_time": "2022-08-16T09:34:58.769Z"
   },
   {
    "duration": 30,
    "start_time": "2022-08-16T09:34:58.785Z"
   },
   {
    "duration": 67,
    "start_time": "2022-08-16T09:34:58.817Z"
   },
   {
    "duration": 58,
    "start_time": "2022-08-16T09:34:58.885Z"
   },
   {
    "duration": 55,
    "start_time": "2022-08-16T09:34:58.954Z"
   },
   {
    "duration": 46,
    "start_time": "2022-08-16T09:34:59.011Z"
   },
   {
    "duration": 5,
    "start_time": "2022-08-16T09:34:59.059Z"
   },
   {
    "duration": 7,
    "start_time": "2022-08-16T09:34:59.065Z"
   },
   {
    "duration": 3,
    "start_time": "2022-08-16T09:34:59.073Z"
   },
   {
    "duration": 4,
    "start_time": "2022-08-16T09:34:59.078Z"
   },
   {
    "duration": 6,
    "start_time": "2022-08-16T09:34:59.083Z"
   },
   {
    "duration": 6,
    "start_time": "2022-08-16T09:34:59.090Z"
   },
   {
    "duration": 5,
    "start_time": "2022-08-16T09:34:59.097Z"
   },
   {
    "duration": 4,
    "start_time": "2022-08-16T09:34:59.103Z"
   },
   {
    "duration": 4,
    "start_time": "2022-08-16T09:34:59.109Z"
   },
   {
    "duration": 5,
    "start_time": "2022-08-16T09:34:59.114Z"
   },
   {
    "duration": 5,
    "start_time": "2022-08-16T09:34:59.120Z"
   },
   {
    "duration": 4,
    "start_time": "2022-08-16T09:34:59.126Z"
   },
   {
    "duration": 3,
    "start_time": "2022-08-16T09:34:59.133Z"
   },
   {
    "duration": 2,
    "start_time": "2022-08-16T09:34:59.155Z"
   },
   {
    "duration": 76,
    "start_time": "2022-08-16T09:34:59.159Z"
   },
   {
    "duration": 0,
    "start_time": "2022-08-16T09:34:59.236Z"
   },
   {
    "duration": 0,
    "start_time": "2022-08-16T09:34:59.238Z"
   },
   {
    "duration": 0,
    "start_time": "2022-08-16T09:34:59.239Z"
   },
   {
    "duration": 1,
    "start_time": "2022-08-16T09:34:59.240Z"
   },
   {
    "duration": 0,
    "start_time": "2022-08-16T09:34:59.242Z"
   },
   {
    "duration": 0,
    "start_time": "2022-08-16T09:34:59.243Z"
   },
   {
    "duration": 0,
    "start_time": "2022-08-16T09:34:59.244Z"
   },
   {
    "duration": 0,
    "start_time": "2022-08-16T09:34:59.246Z"
   },
   {
    "duration": 11,
    "start_time": "2022-08-16T09:36:57.264Z"
   },
   {
    "duration": 404,
    "start_time": "2022-08-16T09:37:14.984Z"
   },
   {
    "duration": 149,
    "start_time": "2022-08-16T09:37:15.389Z"
   },
   {
    "duration": 8,
    "start_time": "2022-08-16T09:37:15.540Z"
   },
   {
    "duration": 27,
    "start_time": "2022-08-16T09:37:15.555Z"
   },
   {
    "duration": 2,
    "start_time": "2022-08-16T09:37:15.584Z"
   },
   {
    "duration": 5,
    "start_time": "2022-08-16T09:37:15.588Z"
   },
   {
    "duration": 15,
    "start_time": "2022-08-16T09:37:15.595Z"
   },
   {
    "duration": 7,
    "start_time": "2022-08-16T09:37:15.612Z"
   },
   {
    "duration": 64,
    "start_time": "2022-08-16T09:37:15.620Z"
   },
   {
    "duration": 21,
    "start_time": "2022-08-16T09:37:15.688Z"
   },
   {
    "duration": 22,
    "start_time": "2022-08-16T09:37:15.710Z"
   },
   {
    "duration": 78,
    "start_time": "2022-08-16T09:37:15.734Z"
   },
   {
    "duration": 76,
    "start_time": "2022-08-16T09:37:15.813Z"
   },
   {
    "duration": 54,
    "start_time": "2022-08-16T09:37:15.890Z"
   },
   {
    "duration": 37,
    "start_time": "2022-08-16T09:37:15.955Z"
   },
   {
    "duration": 9,
    "start_time": "2022-08-16T09:37:15.993Z"
   },
   {
    "duration": 3,
    "start_time": "2022-08-16T09:37:16.003Z"
   },
   {
    "duration": 4,
    "start_time": "2022-08-16T09:37:16.007Z"
   },
   {
    "duration": 5,
    "start_time": "2022-08-16T09:37:16.013Z"
   },
   {
    "duration": 7,
    "start_time": "2022-08-16T09:37:16.019Z"
   },
   {
    "duration": 7,
    "start_time": "2022-08-16T09:37:16.028Z"
   },
   {
    "duration": 19,
    "start_time": "2022-08-16T09:37:16.036Z"
   },
   {
    "duration": 3,
    "start_time": "2022-08-16T09:37:16.056Z"
   },
   {
    "duration": 14,
    "start_time": "2022-08-16T09:37:16.060Z"
   },
   {
    "duration": 5,
    "start_time": "2022-08-16T09:37:16.076Z"
   },
   {
    "duration": 4,
    "start_time": "2022-08-16T09:37:16.082Z"
   },
   {
    "duration": 4,
    "start_time": "2022-08-16T09:37:16.087Z"
   },
   {
    "duration": 4,
    "start_time": "2022-08-16T09:37:16.094Z"
   },
   {
    "duration": 6,
    "start_time": "2022-08-16T09:37:16.099Z"
   },
   {
    "duration": 204,
    "start_time": "2022-08-16T09:37:16.106Z"
   },
   {
    "duration": 0,
    "start_time": "2022-08-16T09:37:16.312Z"
   },
   {
    "duration": 0,
    "start_time": "2022-08-16T09:37:16.313Z"
   },
   {
    "duration": 0,
    "start_time": "2022-08-16T09:37:16.314Z"
   },
   {
    "duration": 0,
    "start_time": "2022-08-16T09:37:16.315Z"
   },
   {
    "duration": 0,
    "start_time": "2022-08-16T09:37:16.316Z"
   },
   {
    "duration": 0,
    "start_time": "2022-08-16T09:37:16.317Z"
   },
   {
    "duration": 0,
    "start_time": "2022-08-16T09:37:16.318Z"
   },
   {
    "duration": 0,
    "start_time": "2022-08-16T09:37:16.319Z"
   },
   {
    "duration": 89,
    "start_time": "2022-08-16T09:39:03.675Z"
   },
   {
    "duration": 32,
    "start_time": "2022-08-16T09:39:08.481Z"
   },
   {
    "duration": 9,
    "start_time": "2022-08-16T09:43:12.040Z"
   },
   {
    "duration": 5,
    "start_time": "2022-08-16T09:44:21.912Z"
   },
   {
    "duration": 8,
    "start_time": "2022-08-16T09:44:44.366Z"
   },
   {
    "duration": 32,
    "start_time": "2022-08-16T09:45:30.871Z"
   },
   {
    "duration": 7,
    "start_time": "2022-08-16T09:50:05.856Z"
   },
   {
    "duration": 13,
    "start_time": "2022-08-16T09:50:25.141Z"
   },
   {
    "duration": 10,
    "start_time": "2022-08-16T09:50:39.451Z"
   },
   {
    "duration": 1146,
    "start_time": "2022-08-16T09:51:49.245Z"
   },
   {
    "duration": 1253,
    "start_time": "2022-08-16T09:51:56.512Z"
   },
   {
    "duration": 949,
    "start_time": "2022-08-16T09:52:27.717Z"
   },
   {
    "duration": 1087,
    "start_time": "2022-08-16T09:56:06.102Z"
   },
   {
    "duration": 900,
    "start_time": "2022-08-16T09:57:55.116Z"
   },
   {
    "duration": 18,
    "start_time": "2022-08-16T09:58:21.426Z"
   },
   {
    "duration": 122,
    "start_time": "2022-08-16T10:03:51.744Z"
   },
   {
    "duration": 89,
    "start_time": "2022-08-16T10:06:21.820Z"
   },
   {
    "duration": 74,
    "start_time": "2022-08-16T10:07:19.238Z"
   },
   {
    "duration": 361,
    "start_time": "2022-08-16T10:07:35.385Z"
   },
   {
    "duration": 160,
    "start_time": "2022-08-16T10:07:35.747Z"
   },
   {
    "duration": 10,
    "start_time": "2022-08-16T10:07:35.909Z"
   },
   {
    "duration": 56,
    "start_time": "2022-08-16T10:07:35.922Z"
   },
   {
    "duration": 3,
    "start_time": "2022-08-16T10:07:35.980Z"
   },
   {
    "duration": 6,
    "start_time": "2022-08-16T10:07:35.985Z"
   },
   {
    "duration": 18,
    "start_time": "2022-08-16T10:07:35.994Z"
   },
   {
    "duration": 16,
    "start_time": "2022-08-16T10:07:36.015Z"
   },
   {
    "duration": 59,
    "start_time": "2022-08-16T10:07:36.034Z"
   },
   {
    "duration": 17,
    "start_time": "2022-08-16T10:07:36.095Z"
   },
   {
    "duration": 21,
    "start_time": "2022-08-16T10:07:36.113Z"
   },
   {
    "duration": 87,
    "start_time": "2022-08-16T10:07:36.136Z"
   },
   {
    "duration": 67,
    "start_time": "2022-08-16T10:07:36.224Z"
   },
   {
    "duration": 64,
    "start_time": "2022-08-16T10:07:36.293Z"
   },
   {
    "duration": 34,
    "start_time": "2022-08-16T10:07:36.359Z"
   },
   {
    "duration": 11,
    "start_time": "2022-08-16T10:07:36.395Z"
   },
   {
    "duration": 57,
    "start_time": "2022-08-16T10:07:36.407Z"
   },
   {
    "duration": 75,
    "start_time": "2022-08-16T10:07:36.465Z"
   },
   {
    "duration": 0,
    "start_time": "2022-08-16T10:07:36.543Z"
   },
   {
    "duration": 0,
    "start_time": "2022-08-16T10:07:36.544Z"
   },
   {
    "duration": 0,
    "start_time": "2022-08-16T10:07:36.546Z"
   },
   {
    "duration": 0,
    "start_time": "2022-08-16T10:07:36.547Z"
   },
   {
    "duration": 0,
    "start_time": "2022-08-16T10:07:36.548Z"
   },
   {
    "duration": 0,
    "start_time": "2022-08-16T10:07:36.550Z"
   },
   {
    "duration": 0,
    "start_time": "2022-08-16T10:07:36.551Z"
   },
   {
    "duration": 0,
    "start_time": "2022-08-16T10:07:36.552Z"
   },
   {
    "duration": 0,
    "start_time": "2022-08-16T10:07:36.553Z"
   },
   {
    "duration": 0,
    "start_time": "2022-08-16T10:07:36.554Z"
   },
   {
    "duration": 0,
    "start_time": "2022-08-16T10:07:36.555Z"
   },
   {
    "duration": 0,
    "start_time": "2022-08-16T10:07:36.556Z"
   },
   {
    "duration": 0,
    "start_time": "2022-08-16T10:07:36.557Z"
   },
   {
    "duration": 0,
    "start_time": "2022-08-16T10:07:36.558Z"
   },
   {
    "duration": 0,
    "start_time": "2022-08-16T10:07:36.559Z"
   },
   {
    "duration": 0,
    "start_time": "2022-08-16T10:07:36.561Z"
   },
   {
    "duration": 0,
    "start_time": "2022-08-16T10:07:36.562Z"
   },
   {
    "duration": 0,
    "start_time": "2022-08-16T10:07:36.563Z"
   },
   {
    "duration": 0,
    "start_time": "2022-08-16T10:07:36.564Z"
   },
   {
    "duration": 0,
    "start_time": "2022-08-16T10:07:36.565Z"
   },
   {
    "duration": 90,
    "start_time": "2022-08-16T10:07:42.214Z"
   },
   {
    "duration": 73,
    "start_time": "2022-08-16T10:08:32.809Z"
   },
   {
    "duration": 140,
    "start_time": "2022-08-16T10:08:55.178Z"
   },
   {
    "duration": 69,
    "start_time": "2022-08-16T10:11:38.220Z"
   },
   {
    "duration": 15,
    "start_time": "2022-08-16T10:11:56.753Z"
   },
   {
    "duration": 9,
    "start_time": "2022-08-16T10:16:44.797Z"
   },
   {
    "duration": 14,
    "start_time": "2022-08-16T10:17:51.476Z"
   },
   {
    "duration": 8,
    "start_time": "2022-08-16T10:18:48.598Z"
   },
   {
    "duration": 10,
    "start_time": "2022-08-16T10:52:55.137Z"
   },
   {
    "duration": 9,
    "start_time": "2022-08-16T10:53:35.346Z"
   },
   {
    "duration": 9,
    "start_time": "2022-08-16T10:54:01.128Z"
   },
   {
    "duration": 9,
    "start_time": "2022-08-16T10:54:09.305Z"
   },
   {
    "duration": 368,
    "start_time": "2022-08-16T10:54:19.019Z"
   },
   {
    "duration": 149,
    "start_time": "2022-08-16T10:54:19.389Z"
   },
   {
    "duration": 8,
    "start_time": "2022-08-16T10:54:19.539Z"
   },
   {
    "duration": 32,
    "start_time": "2022-08-16T10:54:19.554Z"
   },
   {
    "duration": 2,
    "start_time": "2022-08-16T10:54:19.588Z"
   },
   {
    "duration": 5,
    "start_time": "2022-08-16T10:54:19.591Z"
   },
   {
    "duration": 16,
    "start_time": "2022-08-16T10:54:19.597Z"
   },
   {
    "duration": 6,
    "start_time": "2022-08-16T10:54:19.614Z"
   },
   {
    "duration": 42,
    "start_time": "2022-08-16T10:54:19.622Z"
   },
   {
    "duration": 15,
    "start_time": "2022-08-16T10:54:19.665Z"
   },
   {
    "duration": 21,
    "start_time": "2022-08-16T10:54:19.682Z"
   },
   {
    "duration": 76,
    "start_time": "2022-08-16T10:54:19.704Z"
   },
   {
    "duration": 62,
    "start_time": "2022-08-16T10:54:19.782Z"
   },
   {
    "duration": 54,
    "start_time": "2022-08-16T10:54:19.855Z"
   },
   {
    "duration": 45,
    "start_time": "2022-08-16T10:54:19.911Z"
   },
   {
    "duration": 15,
    "start_time": "2022-08-16T10:54:19.958Z"
   },
   {
    "duration": 33,
    "start_time": "2022-08-16T10:54:19.975Z"
   },
   {
    "duration": 14,
    "start_time": "2022-08-16T10:54:20.009Z"
   },
   {
    "duration": 93,
    "start_time": "2022-08-16T10:54:20.025Z"
   },
   {
    "duration": 0,
    "start_time": "2022-08-16T10:54:20.120Z"
   },
   {
    "duration": 0,
    "start_time": "2022-08-16T10:54:20.121Z"
   },
   {
    "duration": 0,
    "start_time": "2022-08-16T10:54:20.122Z"
   },
   {
    "duration": 0,
    "start_time": "2022-08-16T10:54:20.124Z"
   },
   {
    "duration": 0,
    "start_time": "2022-08-16T10:54:20.125Z"
   },
   {
    "duration": 0,
    "start_time": "2022-08-16T10:54:20.126Z"
   },
   {
    "duration": 0,
    "start_time": "2022-08-16T10:54:20.127Z"
   },
   {
    "duration": 0,
    "start_time": "2022-08-16T10:54:20.129Z"
   },
   {
    "duration": 0,
    "start_time": "2022-08-16T10:54:20.130Z"
   },
   {
    "duration": 0,
    "start_time": "2022-08-16T10:54:20.131Z"
   },
   {
    "duration": 0,
    "start_time": "2022-08-16T10:54:20.133Z"
   },
   {
    "duration": 0,
    "start_time": "2022-08-16T10:54:20.134Z"
   },
   {
    "duration": 0,
    "start_time": "2022-08-16T10:54:20.135Z"
   },
   {
    "duration": 0,
    "start_time": "2022-08-16T10:54:20.136Z"
   },
   {
    "duration": 0,
    "start_time": "2022-08-16T10:54:20.137Z"
   },
   {
    "duration": 0,
    "start_time": "2022-08-16T10:54:20.137Z"
   },
   {
    "duration": 1,
    "start_time": "2022-08-16T10:54:20.138Z"
   },
   {
    "duration": 0,
    "start_time": "2022-08-16T10:54:20.139Z"
   },
   {
    "duration": 0,
    "start_time": "2022-08-16T10:54:20.155Z"
   },
   {
    "duration": 8,
    "start_time": "2022-08-16T10:54:27.685Z"
   },
   {
    "duration": 8,
    "start_time": "2022-08-16T10:54:40.529Z"
   },
   {
    "duration": 8,
    "start_time": "2022-08-16T10:54:44.661Z"
   },
   {
    "duration": 440,
    "start_time": "2022-08-16T10:54:50.732Z"
   },
   {
    "duration": 166,
    "start_time": "2022-08-16T10:54:51.175Z"
   },
   {
    "duration": 7,
    "start_time": "2022-08-16T10:54:51.343Z"
   },
   {
    "duration": 26,
    "start_time": "2022-08-16T10:54:51.354Z"
   },
   {
    "duration": 3,
    "start_time": "2022-08-16T10:54:51.382Z"
   },
   {
    "duration": 14,
    "start_time": "2022-08-16T10:54:51.386Z"
   },
   {
    "duration": 15,
    "start_time": "2022-08-16T10:54:51.402Z"
   },
   {
    "duration": 5,
    "start_time": "2022-08-16T10:54:51.419Z"
   },
   {
    "duration": 51,
    "start_time": "2022-08-16T10:54:51.426Z"
   },
   {
    "duration": 16,
    "start_time": "2022-08-16T10:54:51.479Z"
   },
   {
    "duration": 19,
    "start_time": "2022-08-16T10:54:51.496Z"
   },
   {
    "duration": 84,
    "start_time": "2022-08-16T10:54:51.517Z"
   },
   {
    "duration": 68,
    "start_time": "2022-08-16T10:54:51.603Z"
   },
   {
    "duration": 69,
    "start_time": "2022-08-16T10:54:51.673Z"
   },
   {
    "duration": 42,
    "start_time": "2022-08-16T10:54:51.743Z"
   },
   {
    "duration": 9,
    "start_time": "2022-08-16T10:54:51.787Z"
   },
   {
    "duration": 35,
    "start_time": "2022-08-16T10:54:51.797Z"
   },
   {
    "duration": 29,
    "start_time": "2022-08-16T10:54:51.834Z"
   },
   {
    "duration": 58,
    "start_time": "2022-08-16T10:54:51.865Z"
   },
   {
    "duration": 0,
    "start_time": "2022-08-16T10:54:51.925Z"
   },
   {
    "duration": 0,
    "start_time": "2022-08-16T10:54:51.926Z"
   },
   {
    "duration": 0,
    "start_time": "2022-08-16T10:54:51.928Z"
   },
   {
    "duration": 0,
    "start_time": "2022-08-16T10:54:51.929Z"
   },
   {
    "duration": 0,
    "start_time": "2022-08-16T10:54:51.930Z"
   },
   {
    "duration": 0,
    "start_time": "2022-08-16T10:54:51.955Z"
   },
   {
    "duration": 0,
    "start_time": "2022-08-16T10:54:51.957Z"
   },
   {
    "duration": 0,
    "start_time": "2022-08-16T10:54:51.958Z"
   },
   {
    "duration": 0,
    "start_time": "2022-08-16T10:54:51.959Z"
   },
   {
    "duration": 0,
    "start_time": "2022-08-16T10:54:51.960Z"
   },
   {
    "duration": 0,
    "start_time": "2022-08-16T10:54:51.961Z"
   },
   {
    "duration": 0,
    "start_time": "2022-08-16T10:54:51.962Z"
   },
   {
    "duration": 0,
    "start_time": "2022-08-16T10:54:51.963Z"
   },
   {
    "duration": 0,
    "start_time": "2022-08-16T10:54:51.964Z"
   },
   {
    "duration": 0,
    "start_time": "2022-08-16T10:54:51.966Z"
   },
   {
    "duration": 0,
    "start_time": "2022-08-16T10:54:51.966Z"
   },
   {
    "duration": 0,
    "start_time": "2022-08-16T10:54:51.968Z"
   },
   {
    "duration": 0,
    "start_time": "2022-08-16T10:54:51.969Z"
   },
   {
    "duration": 0,
    "start_time": "2022-08-16T10:54:51.970Z"
   },
   {
    "duration": 10,
    "start_time": "2022-08-16T10:55:01.067Z"
   },
   {
    "duration": 12,
    "start_time": "2022-08-16T10:55:05.749Z"
   },
   {
    "duration": 11,
    "start_time": "2022-08-16T10:55:08.817Z"
   },
   {
    "duration": 9,
    "start_time": "2022-08-16T10:57:52.851Z"
   },
   {
    "duration": 9,
    "start_time": "2022-08-16T10:58:31.196Z"
   },
   {
    "duration": 10,
    "start_time": "2022-08-16T10:58:40.928Z"
   },
   {
    "duration": 66,
    "start_time": "2022-08-19T07:22:13.231Z"
   },
   {
    "duration": 430,
    "start_time": "2022-08-19T07:22:19.732Z"
   },
   {
    "duration": 213,
    "start_time": "2022-08-19T07:22:20.164Z"
   },
   {
    "duration": 8,
    "start_time": "2022-08-19T07:22:20.379Z"
   },
   {
    "duration": 47,
    "start_time": "2022-08-19T07:22:20.389Z"
   },
   {
    "duration": 3,
    "start_time": "2022-08-19T07:22:20.438Z"
   },
   {
    "duration": 6,
    "start_time": "2022-08-19T07:22:20.443Z"
   },
   {
    "duration": 24,
    "start_time": "2022-08-19T07:22:20.451Z"
   },
   {
    "duration": 16,
    "start_time": "2022-08-19T07:22:20.477Z"
   },
   {
    "duration": 52,
    "start_time": "2022-08-19T07:22:20.496Z"
   },
   {
    "duration": 17,
    "start_time": "2022-08-19T07:22:20.550Z"
   },
   {
    "duration": 21,
    "start_time": "2022-08-19T07:22:20.569Z"
   },
   {
    "duration": 88,
    "start_time": "2022-08-19T07:22:20.593Z"
   },
   {
    "duration": 63,
    "start_time": "2022-08-19T07:22:20.683Z"
   },
   {
    "duration": 71,
    "start_time": "2022-08-19T07:22:20.760Z"
   },
   {
    "duration": 71,
    "start_time": "2022-08-19T07:22:20.833Z"
   },
   {
    "duration": 11,
    "start_time": "2022-08-19T07:22:20.905Z"
   },
   {
    "duration": 51,
    "start_time": "2022-08-19T07:22:20.917Z"
   },
   {
    "duration": 16,
    "start_time": "2022-08-19T07:22:20.970Z"
   },
   {
    "duration": 11,
    "start_time": "2022-08-19T07:22:20.987Z"
   },
   {
    "duration": 3,
    "start_time": "2022-08-19T07:22:21.000Z"
   },
   {
    "duration": 13,
    "start_time": "2022-08-19T07:22:21.005Z"
   },
   {
    "duration": 11,
    "start_time": "2022-08-19T07:22:21.019Z"
   },
   {
    "duration": 19,
    "start_time": "2022-08-19T07:22:21.032Z"
   },
   {
    "duration": 8,
    "start_time": "2022-08-19T07:22:21.053Z"
   },
   {
    "duration": 17,
    "start_time": "2022-08-19T07:22:21.063Z"
   },
   {
    "duration": 13,
    "start_time": "2022-08-19T07:22:21.082Z"
   },
   {
    "duration": 7,
    "start_time": "2022-08-19T07:22:21.097Z"
   },
   {
    "duration": 23,
    "start_time": "2022-08-19T07:22:21.105Z"
   },
   {
    "duration": 7,
    "start_time": "2022-08-19T07:22:21.130Z"
   },
   {
    "duration": 188,
    "start_time": "2022-08-19T07:22:21.139Z"
   },
   {
    "duration": 0,
    "start_time": "2022-08-19T07:22:21.329Z"
   },
   {
    "duration": 0,
    "start_time": "2022-08-19T07:22:21.330Z"
   },
   {
    "duration": 0,
    "start_time": "2022-08-19T07:22:21.331Z"
   },
   {
    "duration": 0,
    "start_time": "2022-08-19T07:22:21.332Z"
   },
   {
    "duration": 0,
    "start_time": "2022-08-19T07:22:21.334Z"
   },
   {
    "duration": 0,
    "start_time": "2022-08-19T07:22:21.335Z"
   },
   {
    "duration": 0,
    "start_time": "2022-08-19T07:22:21.336Z"
   },
   {
    "duration": 0,
    "start_time": "2022-08-19T07:22:21.337Z"
   },
   {
    "duration": 11,
    "start_time": "2022-08-19T07:22:28.239Z"
   },
   {
    "duration": 10,
    "start_time": "2022-08-19T07:46:23.769Z"
   },
   {
    "duration": 70,
    "start_time": "2022-08-19T07:55:52.622Z"
   },
   {
    "duration": 86,
    "start_time": "2022-08-19T07:56:03.487Z"
   },
   {
    "duration": 62,
    "start_time": "2022-08-19T07:56:18.449Z"
   },
   {
    "duration": 12,
    "start_time": "2022-08-19T07:56:24.919Z"
   },
   {
    "duration": 56,
    "start_time": "2022-08-19T07:56:33.717Z"
   },
   {
    "duration": 67,
    "start_time": "2022-08-19T07:59:48.259Z"
   },
   {
    "duration": 114,
    "start_time": "2022-08-19T08:00:08.570Z"
   },
   {
    "duration": 385,
    "start_time": "2022-08-19T08:00:15.619Z"
   },
   {
    "duration": 154,
    "start_time": "2022-08-19T08:00:16.006Z"
   },
   {
    "duration": 9,
    "start_time": "2022-08-19T08:00:16.163Z"
   },
   {
    "duration": 42,
    "start_time": "2022-08-19T08:00:16.174Z"
   },
   {
    "duration": 3,
    "start_time": "2022-08-19T08:00:16.218Z"
   },
   {
    "duration": 15,
    "start_time": "2022-08-19T08:00:16.223Z"
   },
   {
    "duration": 28,
    "start_time": "2022-08-19T08:00:16.239Z"
   },
   {
    "duration": 14,
    "start_time": "2022-08-19T08:00:16.269Z"
   },
   {
    "duration": 41,
    "start_time": "2022-08-19T08:00:16.285Z"
   },
   {
    "duration": 15,
    "start_time": "2022-08-19T08:00:16.332Z"
   },
   {
    "duration": 34,
    "start_time": "2022-08-19T08:00:16.349Z"
   },
   {
    "duration": 61,
    "start_time": "2022-08-19T08:00:16.385Z"
   },
   {
    "duration": 62,
    "start_time": "2022-08-19T08:00:16.448Z"
   },
   {
    "duration": 65,
    "start_time": "2022-08-19T08:00:16.512Z"
   },
   {
    "duration": 34,
    "start_time": "2022-08-19T08:00:16.579Z"
   },
   {
    "duration": 9,
    "start_time": "2022-08-19T08:00:16.615Z"
   },
   {
    "duration": 52,
    "start_time": "2022-08-19T08:00:16.625Z"
   },
   {
    "duration": 10,
    "start_time": "2022-08-19T08:00:16.679Z"
   },
   {
    "duration": 14,
    "start_time": "2022-08-19T08:00:16.691Z"
   },
   {
    "duration": 80,
    "start_time": "2022-08-19T08:00:16.707Z"
   },
   {
    "duration": 0,
    "start_time": "2022-08-19T08:00:16.788Z"
   },
   {
    "duration": 0,
    "start_time": "2022-08-19T08:00:16.790Z"
   },
   {
    "duration": 0,
    "start_time": "2022-08-19T08:00:16.791Z"
   },
   {
    "duration": 0,
    "start_time": "2022-08-19T08:00:16.792Z"
   },
   {
    "duration": 0,
    "start_time": "2022-08-19T08:00:16.793Z"
   },
   {
    "duration": 0,
    "start_time": "2022-08-19T08:00:16.794Z"
   },
   {
    "duration": 0,
    "start_time": "2022-08-19T08:00:16.795Z"
   },
   {
    "duration": 0,
    "start_time": "2022-08-19T08:00:16.796Z"
   },
   {
    "duration": 0,
    "start_time": "2022-08-19T08:00:16.797Z"
   },
   {
    "duration": 0,
    "start_time": "2022-08-19T08:00:16.798Z"
   },
   {
    "duration": 0,
    "start_time": "2022-08-19T08:00:16.799Z"
   },
   {
    "duration": 0,
    "start_time": "2022-08-19T08:00:16.800Z"
   },
   {
    "duration": 0,
    "start_time": "2022-08-19T08:00:16.801Z"
   },
   {
    "duration": 0,
    "start_time": "2022-08-19T08:00:16.802Z"
   },
   {
    "duration": 0,
    "start_time": "2022-08-19T08:00:16.803Z"
   },
   {
    "duration": 0,
    "start_time": "2022-08-19T08:00:16.804Z"
   },
   {
    "duration": 0,
    "start_time": "2022-08-19T08:00:16.805Z"
   },
   {
    "duration": 0,
    "start_time": "2022-08-19T08:00:16.806Z"
   },
   {
    "duration": 10,
    "start_time": "2022-08-19T08:00:31.653Z"
   },
   {
    "duration": 198,
    "start_time": "2022-08-19T08:00:59.216Z"
   },
   {
    "duration": 63,
    "start_time": "2022-08-19T08:08:23.732Z"
   },
   {
    "duration": 4,
    "start_time": "2022-08-19T08:08:42.077Z"
   },
   {
    "duration": 5,
    "start_time": "2022-08-19T08:09:36.118Z"
   },
   {
    "duration": 11,
    "start_time": "2022-08-19T08:09:43.347Z"
   },
   {
    "duration": 392,
    "start_time": "2022-08-19T08:09:53.567Z"
   },
   {
    "duration": 170,
    "start_time": "2022-08-19T08:09:53.961Z"
   },
   {
    "duration": 8,
    "start_time": "2022-08-19T08:09:54.133Z"
   },
   {
    "duration": 37,
    "start_time": "2022-08-19T08:09:54.143Z"
   },
   {
    "duration": 5,
    "start_time": "2022-08-19T08:09:54.182Z"
   },
   {
    "duration": 11,
    "start_time": "2022-08-19T08:09:54.189Z"
   },
   {
    "duration": 21,
    "start_time": "2022-08-19T08:09:54.202Z"
   },
   {
    "duration": 7,
    "start_time": "2022-08-19T08:09:54.226Z"
   },
   {
    "duration": 52,
    "start_time": "2022-08-19T08:09:54.235Z"
   },
   {
    "duration": 20,
    "start_time": "2022-08-19T08:09:54.290Z"
   },
   {
    "duration": 22,
    "start_time": "2022-08-19T08:09:54.312Z"
   },
   {
    "duration": 97,
    "start_time": "2022-08-19T08:09:54.336Z"
   },
   {
    "duration": 70,
    "start_time": "2022-08-19T08:09:54.435Z"
   },
   {
    "duration": 75,
    "start_time": "2022-08-19T08:09:54.508Z"
   },
   {
    "duration": 35,
    "start_time": "2022-08-19T08:09:54.585Z"
   },
   {
    "duration": 11,
    "start_time": "2022-08-19T08:09:54.622Z"
   },
   {
    "duration": 53,
    "start_time": "2022-08-19T08:09:54.635Z"
   },
   {
    "duration": 11,
    "start_time": "2022-08-19T08:09:54.690Z"
   },
   {
    "duration": 14,
    "start_time": "2022-08-19T08:09:54.702Z"
   },
   {
    "duration": 4,
    "start_time": "2022-08-19T08:09:54.718Z"
   },
   {
    "duration": 20,
    "start_time": "2022-08-19T08:09:54.724Z"
   },
   {
    "duration": 24,
    "start_time": "2022-08-19T08:09:54.746Z"
   },
   {
    "duration": 17,
    "start_time": "2022-08-19T08:09:54.772Z"
   },
   {
    "duration": 9,
    "start_time": "2022-08-19T08:09:54.791Z"
   },
   {
    "duration": 6,
    "start_time": "2022-08-19T08:09:54.801Z"
   },
   {
    "duration": 5,
    "start_time": "2022-08-19T08:09:54.809Z"
   },
   {
    "duration": 6,
    "start_time": "2022-08-19T08:09:54.815Z"
   },
   {
    "duration": 15,
    "start_time": "2022-08-19T08:09:54.823Z"
   },
   {
    "duration": 21,
    "start_time": "2022-08-19T08:09:54.840Z"
   },
   {
    "duration": 69,
    "start_time": "2022-08-19T08:09:54.862Z"
   },
   {
    "duration": 0,
    "start_time": "2022-08-19T08:09:54.933Z"
   },
   {
    "duration": 0,
    "start_time": "2022-08-19T08:09:54.934Z"
   },
   {
    "duration": 0,
    "start_time": "2022-08-19T08:09:54.936Z"
   },
   {
    "duration": 0,
    "start_time": "2022-08-19T08:09:54.938Z"
   },
   {
    "duration": 0,
    "start_time": "2022-08-19T08:09:54.939Z"
   },
   {
    "duration": 0,
    "start_time": "2022-08-19T08:09:54.940Z"
   },
   {
    "duration": 0,
    "start_time": "2022-08-19T08:09:54.941Z"
   },
   {
    "duration": 0,
    "start_time": "2022-08-19T08:09:54.943Z"
   },
   {
    "duration": 60,
    "start_time": "2022-08-19T08:11:10.819Z"
   },
   {
    "duration": 55,
    "start_time": "2022-08-19T08:11:38.542Z"
   },
   {
    "duration": 86,
    "start_time": "2022-08-19T08:17:05.100Z"
   },
   {
    "duration": 11,
    "start_time": "2022-08-19T08:20:19.054Z"
   },
   {
    "duration": 11,
    "start_time": "2022-08-19T08:20:25.812Z"
   },
   {
    "duration": 62,
    "start_time": "2022-08-19T08:21:24.534Z"
   },
   {
    "duration": 53,
    "start_time": "2022-08-19T08:21:38.553Z"
   },
   {
    "duration": 52,
    "start_time": "2022-08-19T08:22:01.529Z"
   },
   {
    "duration": 4,
    "start_time": "2022-08-19T08:24:14.929Z"
   },
   {
    "duration": 4,
    "start_time": "2022-08-19T08:24:23.187Z"
   },
   {
    "duration": 68,
    "start_time": "2022-08-19T08:25:12.107Z"
   },
   {
    "duration": 55,
    "start_time": "2022-08-19T08:25:18.845Z"
   },
   {
    "duration": 4,
    "start_time": "2022-08-19T08:26:38.204Z"
   },
   {
    "duration": 4,
    "start_time": "2022-08-19T08:27:00.825Z"
   },
   {
    "duration": 4,
    "start_time": "2022-08-19T08:27:14.358Z"
   },
   {
    "duration": 4,
    "start_time": "2022-08-19T08:27:42.840Z"
   },
   {
    "duration": 4,
    "start_time": "2022-08-19T08:29:42.996Z"
   },
   {
    "duration": 389,
    "start_time": "2022-08-19T08:35:25.414Z"
   },
   {
    "duration": 168,
    "start_time": "2022-08-19T08:35:25.805Z"
   },
   {
    "duration": 9,
    "start_time": "2022-08-19T08:35:25.975Z"
   },
   {
    "duration": 26,
    "start_time": "2022-08-19T08:35:25.987Z"
   },
   {
    "duration": 8,
    "start_time": "2022-08-19T08:35:26.014Z"
   },
   {
    "duration": 11,
    "start_time": "2022-08-19T08:35:26.023Z"
   },
   {
    "duration": 18,
    "start_time": "2022-08-19T08:35:26.036Z"
   },
   {
    "duration": 19,
    "start_time": "2022-08-19T08:35:26.057Z"
   },
   {
    "duration": 46,
    "start_time": "2022-08-19T08:35:26.079Z"
   },
   {
    "duration": 17,
    "start_time": "2022-08-19T08:35:26.128Z"
   },
   {
    "duration": 50,
    "start_time": "2022-08-19T08:35:26.146Z"
   },
   {
    "duration": 69,
    "start_time": "2022-08-19T08:35:26.198Z"
   },
   {
    "duration": 71,
    "start_time": "2022-08-19T08:35:26.269Z"
   },
   {
    "duration": 71,
    "start_time": "2022-08-19T08:35:26.342Z"
   },
   {
    "duration": 58,
    "start_time": "2022-08-19T08:35:26.414Z"
   },
   {
    "duration": 11,
    "start_time": "2022-08-19T08:35:26.474Z"
   },
   {
    "duration": 39,
    "start_time": "2022-08-19T08:35:26.486Z"
   },
   {
    "duration": 10,
    "start_time": "2022-08-19T08:35:26.527Z"
   },
   {
    "duration": 24,
    "start_time": "2022-08-19T08:35:26.538Z"
   },
   {
    "duration": 9,
    "start_time": "2022-08-19T08:35:26.570Z"
   },
   {
    "duration": 90,
    "start_time": "2022-08-19T08:35:26.580Z"
   },
   {
    "duration": 0,
    "start_time": "2022-08-19T08:35:26.672Z"
   },
   {
    "duration": 0,
    "start_time": "2022-08-19T08:35:26.673Z"
   },
   {
    "duration": 0,
    "start_time": "2022-08-19T08:35:26.674Z"
   },
   {
    "duration": 0,
    "start_time": "2022-08-19T08:35:26.676Z"
   },
   {
    "duration": 0,
    "start_time": "2022-08-19T08:35:26.676Z"
   },
   {
    "duration": 0,
    "start_time": "2022-08-19T08:35:26.677Z"
   },
   {
    "duration": 0,
    "start_time": "2022-08-19T08:35:26.678Z"
   },
   {
    "duration": 0,
    "start_time": "2022-08-19T08:35:26.679Z"
   },
   {
    "duration": 0,
    "start_time": "2022-08-19T08:35:26.680Z"
   },
   {
    "duration": 0,
    "start_time": "2022-08-19T08:35:26.681Z"
   },
   {
    "duration": 0,
    "start_time": "2022-08-19T08:35:26.682Z"
   },
   {
    "duration": 0,
    "start_time": "2022-08-19T08:35:26.683Z"
   },
   {
    "duration": 0,
    "start_time": "2022-08-19T08:35:26.683Z"
   },
   {
    "duration": 0,
    "start_time": "2022-08-19T08:35:26.685Z"
   },
   {
    "duration": 0,
    "start_time": "2022-08-19T08:35:26.686Z"
   },
   {
    "duration": 0,
    "start_time": "2022-08-19T08:35:26.687Z"
   },
   {
    "duration": 0,
    "start_time": "2022-08-19T08:35:26.688Z"
   },
   {
    "duration": 4,
    "start_time": "2022-08-19T08:36:06.649Z"
   },
   {
    "duration": 3,
    "start_time": "2022-08-19T08:37:16.821Z"
   },
   {
    "duration": 4,
    "start_time": "2022-08-19T08:37:45.619Z"
   },
   {
    "duration": 5,
    "start_time": "2022-08-19T08:40:09.970Z"
   },
   {
    "duration": 77,
    "start_time": "2022-08-19T08:40:44.677Z"
   },
   {
    "duration": 3,
    "start_time": "2022-08-19T08:41:24.027Z"
   },
   {
    "duration": 3,
    "start_time": "2022-08-19T08:41:39.804Z"
   },
   {
    "duration": 4,
    "start_time": "2022-08-19T08:41:59.349Z"
   },
   {
    "duration": 3,
    "start_time": "2022-08-19T08:44:23.986Z"
   },
   {
    "duration": 4,
    "start_time": "2022-08-19T08:47:30.611Z"
   },
   {
    "duration": 190,
    "start_time": "2022-08-19T08:53:57.129Z"
   },
   {
    "duration": 12,
    "start_time": "2022-08-19T08:54:00.354Z"
   },
   {
    "duration": 27,
    "start_time": "2022-08-19T08:54:05.116Z"
   },
   {
    "duration": 4,
    "start_time": "2022-08-19T08:54:12.203Z"
   },
   {
    "duration": 9,
    "start_time": "2022-08-19T08:54:21.524Z"
   },
   {
    "duration": 6,
    "start_time": "2022-08-19T08:54:25.571Z"
   },
   {
    "duration": 25,
    "start_time": "2022-08-19T08:54:29.290Z"
   },
   {
    "duration": 20,
    "start_time": "2022-08-19T08:54:37.377Z"
   },
   {
    "duration": 23,
    "start_time": "2022-08-19T08:54:40.773Z"
   },
   {
    "duration": 22,
    "start_time": "2022-08-19T08:54:52.498Z"
   },
   {
    "duration": 61,
    "start_time": "2022-08-19T08:54:57.643Z"
   },
   {
    "duration": 70,
    "start_time": "2022-08-19T08:55:01.036Z"
   },
   {
    "duration": 58,
    "start_time": "2022-08-19T08:55:03.581Z"
   },
   {
    "duration": 53,
    "start_time": "2022-08-19T08:55:06.854Z"
   },
   {
    "duration": 10,
    "start_time": "2022-08-19T08:55:14.150Z"
   },
   {
    "duration": 44,
    "start_time": "2022-08-19T08:55:20.348Z"
   },
   {
    "duration": 16,
    "start_time": "2022-08-19T08:55:30.503Z"
   },
   {
    "duration": 14,
    "start_time": "2022-08-19T08:55:39.075Z"
   },
   {
    "duration": 3,
    "start_time": "2022-08-19T08:55:43.383Z"
   },
   {
    "duration": 72,
    "start_time": "2022-08-19T08:57:09.143Z"
   },
   {
    "duration": 168,
    "start_time": "2022-08-19T09:00:47.507Z"
   },
   {
    "duration": 63,
    "start_time": "2022-08-19T09:01:04.857Z"
   },
   {
    "duration": 7,
    "start_time": "2022-08-19T09:02:19.499Z"
   },
   {
    "duration": 3,
    "start_time": "2022-08-19T09:04:16.418Z"
   },
   {
    "duration": 19,
    "start_time": "2022-08-19T09:06:53.383Z"
   },
   {
    "duration": 3,
    "start_time": "2022-08-19T09:07:30.835Z"
   },
   {
    "duration": 3,
    "start_time": "2022-08-19T09:07:41.999Z"
   },
   {
    "duration": 3,
    "start_time": "2022-08-19T09:12:25.818Z"
   },
   {
    "duration": 4,
    "start_time": "2022-08-19T09:13:29.903Z"
   },
   {
    "duration": 19,
    "start_time": "2022-08-19T09:13:33.724Z"
   },
   {
    "duration": 10,
    "start_time": "2022-08-19T09:13:48.437Z"
   },
   {
    "duration": 3,
    "start_time": "2022-08-19T09:14:33.870Z"
   },
   {
    "duration": 3,
    "start_time": "2022-08-19T09:16:21.722Z"
   },
   {
    "duration": 4,
    "start_time": "2022-08-19T09:16:52.991Z"
   },
   {
    "duration": 402,
    "start_time": "2022-08-19T09:19:32.575Z"
   },
   {
    "duration": 175,
    "start_time": "2022-08-19T09:19:32.979Z"
   },
   {
    "duration": 9,
    "start_time": "2022-08-19T09:19:33.156Z"
   },
   {
    "duration": 31,
    "start_time": "2022-08-19T09:19:33.168Z"
   },
   {
    "duration": 6,
    "start_time": "2022-08-19T09:19:33.201Z"
   },
   {
    "duration": 11,
    "start_time": "2022-08-19T09:19:33.208Z"
   },
   {
    "duration": 15,
    "start_time": "2022-08-19T09:19:33.220Z"
   },
   {
    "duration": 22,
    "start_time": "2022-08-19T09:19:33.237Z"
   },
   {
    "duration": 34,
    "start_time": "2022-08-19T09:19:33.261Z"
   },
   {
    "duration": 20,
    "start_time": "2022-08-19T09:19:33.298Z"
   },
   {
    "duration": 38,
    "start_time": "2022-08-19T09:19:33.320Z"
   },
   {
    "duration": 62,
    "start_time": "2022-08-19T09:19:33.360Z"
   },
   {
    "duration": 83,
    "start_time": "2022-08-19T09:19:33.425Z"
   },
   {
    "duration": 73,
    "start_time": "2022-08-19T09:19:33.509Z"
   },
   {
    "duration": 35,
    "start_time": "2022-08-19T09:19:33.584Z"
   },
   {
    "duration": 10,
    "start_time": "2022-08-19T09:19:33.621Z"
   },
   {
    "duration": 50,
    "start_time": "2022-08-19T09:19:33.633Z"
   },
   {
    "duration": 10,
    "start_time": "2022-08-19T09:19:33.685Z"
   },
   {
    "duration": 10,
    "start_time": "2022-08-19T09:19:33.697Z"
   },
   {
    "duration": 62,
    "start_time": "2022-08-19T09:19:33.708Z"
   },
   {
    "duration": 91,
    "start_time": "2022-08-19T09:19:33.772Z"
   },
   {
    "duration": 0,
    "start_time": "2022-08-19T09:19:33.865Z"
   },
   {
    "duration": 0,
    "start_time": "2022-08-19T09:19:33.866Z"
   },
   {
    "duration": 0,
    "start_time": "2022-08-19T09:19:33.867Z"
   },
   {
    "duration": 0,
    "start_time": "2022-08-19T09:19:33.868Z"
   },
   {
    "duration": 0,
    "start_time": "2022-08-19T09:19:33.869Z"
   },
   {
    "duration": 0,
    "start_time": "2022-08-19T09:19:33.870Z"
   },
   {
    "duration": 0,
    "start_time": "2022-08-19T09:19:33.871Z"
   },
   {
    "duration": 0,
    "start_time": "2022-08-19T09:19:33.872Z"
   },
   {
    "duration": 0,
    "start_time": "2022-08-19T09:19:33.873Z"
   },
   {
    "duration": 0,
    "start_time": "2022-08-19T09:19:33.874Z"
   },
   {
    "duration": 0,
    "start_time": "2022-08-19T09:19:33.875Z"
   },
   {
    "duration": 0,
    "start_time": "2022-08-19T09:19:33.876Z"
   },
   {
    "duration": 0,
    "start_time": "2022-08-19T09:19:33.877Z"
   },
   {
    "duration": 0,
    "start_time": "2022-08-19T09:19:33.878Z"
   },
   {
    "duration": 0,
    "start_time": "2022-08-19T09:19:33.878Z"
   },
   {
    "duration": 0,
    "start_time": "2022-08-19T09:19:33.880Z"
   },
   {
    "duration": 0,
    "start_time": "2022-08-19T09:19:33.880Z"
   },
   {
    "duration": 4,
    "start_time": "2022-08-19T09:20:38.008Z"
   },
   {
    "duration": 21,
    "start_time": "2022-08-19T09:20:48.474Z"
   },
   {
    "duration": 3,
    "start_time": "2022-08-19T09:21:21.123Z"
   },
   {
    "duration": 15,
    "start_time": "2022-08-19T09:23:48.974Z"
   },
   {
    "duration": 13,
    "start_time": "2022-08-19T09:24:13.610Z"
   },
   {
    "duration": 13,
    "start_time": "2022-08-19T09:24:37.929Z"
   },
   {
    "duration": 16,
    "start_time": "2022-08-19T09:24:55.081Z"
   },
   {
    "duration": 15,
    "start_time": "2022-08-19T09:25:13.214Z"
   },
   {
    "duration": 14,
    "start_time": "2022-08-19T09:25:28.716Z"
   },
   {
    "duration": 4,
    "start_time": "2022-08-19T09:29:00.718Z"
   },
   {
    "duration": 3,
    "start_time": "2022-08-19T09:29:32.682Z"
   },
   {
    "duration": 6,
    "start_time": "2022-08-19T09:29:56.769Z"
   },
   {
    "duration": 11,
    "start_time": "2022-08-19T09:59:17.916Z"
   },
   {
    "duration": 9,
    "start_time": "2022-08-19T09:59:20.741Z"
   },
   {
    "duration": 80,
    "start_time": "2022-08-19T10:09:01.919Z"
   },
   {
    "duration": 51,
    "start_time": "2022-08-19T10:09:56.382Z"
   },
   {
    "duration": 57,
    "start_time": "2022-08-19T10:22:22.848Z"
   },
   {
    "duration": 5,
    "start_time": "2022-08-19T10:23:02.822Z"
   },
   {
    "duration": 433,
    "start_time": "2022-08-19T10:23:31.813Z"
   },
   {
    "duration": 179,
    "start_time": "2022-08-19T10:23:32.248Z"
   },
   {
    "duration": 8,
    "start_time": "2022-08-19T10:23:32.429Z"
   },
   {
    "duration": 43,
    "start_time": "2022-08-19T10:23:32.439Z"
   },
   {
    "duration": 33,
    "start_time": "2022-08-19T10:23:32.486Z"
   },
   {
    "duration": 11,
    "start_time": "2022-08-19T10:23:32.520Z"
   },
   {
    "duration": 23,
    "start_time": "2022-08-19T10:23:32.533Z"
   },
   {
    "duration": 16,
    "start_time": "2022-08-19T10:23:32.559Z"
   },
   {
    "duration": 33,
    "start_time": "2022-08-19T10:23:32.577Z"
   },
   {
    "duration": 24,
    "start_time": "2022-08-19T10:23:32.612Z"
   },
   {
    "duration": 32,
    "start_time": "2022-08-19T10:23:32.637Z"
   },
   {
    "duration": 88,
    "start_time": "2022-08-19T10:23:32.674Z"
   },
   {
    "duration": 74,
    "start_time": "2022-08-19T10:23:32.765Z"
   },
   {
    "duration": 91,
    "start_time": "2022-08-19T10:23:32.843Z"
   },
   {
    "duration": 58,
    "start_time": "2022-08-19T10:23:32.936Z"
   },
   {
    "duration": 12,
    "start_time": "2022-08-19T10:23:32.996Z"
   },
   {
    "duration": 58,
    "start_time": "2022-08-19T10:23:33.011Z"
   },
   {
    "duration": 14,
    "start_time": "2022-08-19T10:23:33.072Z"
   },
   {
    "duration": 16,
    "start_time": "2022-08-19T10:23:33.088Z"
   },
   {
    "duration": 37,
    "start_time": "2022-08-19T10:23:33.106Z"
   },
   {
    "duration": 31,
    "start_time": "2022-08-19T10:23:33.145Z"
   },
   {
    "duration": 24,
    "start_time": "2022-08-19T10:23:33.178Z"
   },
   {
    "duration": 22,
    "start_time": "2022-08-19T10:23:33.205Z"
   },
   {
    "duration": 28,
    "start_time": "2022-08-19T10:23:33.229Z"
   },
   {
    "duration": 58,
    "start_time": "2022-08-19T10:23:33.259Z"
   },
   {
    "duration": 17,
    "start_time": "2022-08-19T10:23:33.319Z"
   },
   {
    "duration": 4,
    "start_time": "2022-08-19T10:23:33.338Z"
   },
   {
    "duration": 15,
    "start_time": "2022-08-19T10:23:33.344Z"
   },
   {
    "duration": 43,
    "start_time": "2022-08-19T10:23:33.362Z"
   },
   {
    "duration": 9,
    "start_time": "2022-08-19T10:23:33.406Z"
   },
   {
    "duration": 11,
    "start_time": "2022-08-19T10:23:33.417Z"
   },
   {
    "duration": 15,
    "start_time": "2022-08-19T10:23:33.430Z"
   },
   {
    "duration": 30,
    "start_time": "2022-08-19T10:23:33.447Z"
   },
   {
    "duration": 6,
    "start_time": "2022-08-19T10:23:33.478Z"
   },
   {
    "duration": 7,
    "start_time": "2022-08-19T10:23:33.486Z"
   },
   {
    "duration": 7,
    "start_time": "2022-08-19T10:23:33.494Z"
   },
   {
    "duration": 12,
    "start_time": "2022-08-19T10:23:33.503Z"
   },
   {
    "duration": 20,
    "start_time": "2022-08-19T10:23:33.516Z"
   },
   {
    "duration": 5,
    "start_time": "2022-08-19T10:25:51.827Z"
   },
   {
    "duration": 5,
    "start_time": "2022-08-19T10:26:01.382Z"
   },
   {
    "duration": 4,
    "start_time": "2022-08-19T10:27:16.217Z"
   },
   {
    "duration": 17,
    "start_time": "2022-08-19T10:29:39.612Z"
   },
   {
    "duration": 14,
    "start_time": "2022-08-19T10:30:04.790Z"
   },
   {
    "duration": 19,
    "start_time": "2022-08-19T10:30:34.476Z"
   },
   {
    "duration": 12,
    "start_time": "2022-08-19T10:30:57.317Z"
   },
   {
    "duration": 19,
    "start_time": "2022-08-19T10:36:50.853Z"
   },
   {
    "duration": 4,
    "start_time": "2022-08-19T10:37:27.197Z"
   },
   {
    "duration": 13,
    "start_time": "2022-08-19T10:39:06.273Z"
   },
   {
    "duration": 64,
    "start_time": "2022-08-19T10:40:46.372Z"
   },
   {
    "duration": 8,
    "start_time": "2022-08-19T10:41:08.733Z"
   },
   {
    "duration": 8,
    "start_time": "2022-08-19T10:41:28.403Z"
   },
   {
    "duration": 8,
    "start_time": "2022-08-19T10:41:38.142Z"
   },
   {
    "duration": 411,
    "start_time": "2022-08-19T10:41:44.134Z"
   },
   {
    "duration": 151,
    "start_time": "2022-08-19T10:41:44.546Z"
   },
   {
    "duration": 8,
    "start_time": "2022-08-19T10:41:44.699Z"
   },
   {
    "duration": 45,
    "start_time": "2022-08-19T10:41:44.708Z"
   },
   {
    "duration": 4,
    "start_time": "2022-08-19T10:41:44.755Z"
   },
   {
    "duration": 22,
    "start_time": "2022-08-19T10:41:44.761Z"
   },
   {
    "duration": 21,
    "start_time": "2022-08-19T10:41:44.784Z"
   },
   {
    "duration": 15,
    "start_time": "2022-08-19T10:41:44.806Z"
   },
   {
    "duration": 30,
    "start_time": "2022-08-19T10:41:44.822Z"
   },
   {
    "duration": 24,
    "start_time": "2022-08-19T10:41:44.855Z"
   },
   {
    "duration": 30,
    "start_time": "2022-08-19T10:41:44.880Z"
   },
   {
    "duration": 66,
    "start_time": "2022-08-19T10:41:44.911Z"
   },
   {
    "duration": 67,
    "start_time": "2022-08-19T10:41:44.978Z"
   },
   {
    "duration": 62,
    "start_time": "2022-08-19T10:41:45.047Z"
   },
   {
    "duration": 33,
    "start_time": "2022-08-19T10:41:45.110Z"
   },
   {
    "duration": 11,
    "start_time": "2022-08-19T10:41:45.158Z"
   },
   {
    "duration": 35,
    "start_time": "2022-08-19T10:41:45.171Z"
   },
   {
    "duration": 12,
    "start_time": "2022-08-19T10:41:45.208Z"
   },
   {
    "duration": 37,
    "start_time": "2022-08-19T10:41:45.222Z"
   },
   {
    "duration": 4,
    "start_time": "2022-08-19T10:41:45.261Z"
   },
   {
    "duration": 29,
    "start_time": "2022-08-19T10:41:45.267Z"
   },
   {
    "duration": 13,
    "start_time": "2022-08-19T10:41:45.297Z"
   },
   {
    "duration": 15,
    "start_time": "2022-08-19T10:41:45.312Z"
   },
   {
    "duration": 28,
    "start_time": "2022-08-19T10:41:45.329Z"
   },
   {
    "duration": 14,
    "start_time": "2022-08-19T10:41:45.359Z"
   },
   {
    "duration": 12,
    "start_time": "2022-08-19T10:41:45.375Z"
   },
   {
    "duration": 5,
    "start_time": "2022-08-19T10:41:45.389Z"
   },
   {
    "duration": 19,
    "start_time": "2022-08-19T10:41:45.396Z"
   },
   {
    "duration": 15,
    "start_time": "2022-08-19T10:41:45.417Z"
   },
   {
    "duration": 5,
    "start_time": "2022-08-19T10:41:45.433Z"
   },
   {
    "duration": 31,
    "start_time": "2022-08-19T10:41:45.439Z"
   },
   {
    "duration": 10,
    "start_time": "2022-08-19T10:41:45.471Z"
   },
   {
    "duration": 18,
    "start_time": "2022-08-19T10:41:45.482Z"
   },
   {
    "duration": 14,
    "start_time": "2022-08-19T10:41:45.502Z"
   },
   {
    "duration": 44,
    "start_time": "2022-08-19T10:41:45.518Z"
   },
   {
    "duration": 8,
    "start_time": "2022-08-19T10:41:45.563Z"
   },
   {
    "duration": 14,
    "start_time": "2022-08-19T10:41:45.573Z"
   },
   {
    "duration": 6,
    "start_time": "2022-08-19T10:41:45.589Z"
   },
   {
    "duration": 61,
    "start_time": "2022-08-19T10:41:54.713Z"
   },
   {
    "duration": 8,
    "start_time": "2022-08-19T10:42:36.835Z"
   },
   {
    "duration": 16,
    "start_time": "2022-08-19T10:43:35.245Z"
   },
   {
    "duration": 17,
    "start_time": "2022-08-19T10:44:07.917Z"
   },
   {
    "duration": 12,
    "start_time": "2022-08-19T10:44:46.457Z"
   },
   {
    "duration": 12,
    "start_time": "2022-08-19T10:44:52.151Z"
   },
   {
    "duration": 9,
    "start_time": "2022-08-19T10:45:02.540Z"
   },
   {
    "duration": 5,
    "start_time": "2022-08-19T10:45:06.471Z"
   },
   {
    "duration": 6,
    "start_time": "2022-08-19T10:45:30.376Z"
   },
   {
    "duration": 396,
    "start_time": "2022-08-19T10:46:19.187Z"
   },
   {
    "duration": 160,
    "start_time": "2022-08-19T10:46:19.585Z"
   },
   {
    "duration": 11,
    "start_time": "2022-08-19T10:46:19.746Z"
   },
   {
    "duration": 29,
    "start_time": "2022-08-19T10:46:19.760Z"
   },
   {
    "duration": 8,
    "start_time": "2022-08-19T10:46:19.791Z"
   },
   {
    "duration": 14,
    "start_time": "2022-08-19T10:46:19.800Z"
   },
   {
    "duration": 33,
    "start_time": "2022-08-19T10:46:19.816Z"
   },
   {
    "duration": 10,
    "start_time": "2022-08-19T10:46:19.851Z"
   },
   {
    "duration": 45,
    "start_time": "2022-08-19T10:46:19.863Z"
   },
   {
    "duration": 38,
    "start_time": "2022-08-19T10:46:19.912Z"
   },
   {
    "duration": 22,
    "start_time": "2022-08-19T10:46:19.952Z"
   },
   {
    "duration": 66,
    "start_time": "2022-08-19T10:46:19.975Z"
   },
   {
    "duration": 71,
    "start_time": "2022-08-19T10:46:20.042Z"
   },
   {
    "duration": 65,
    "start_time": "2022-08-19T10:46:20.115Z"
   },
   {
    "duration": 34,
    "start_time": "2022-08-19T10:46:20.182Z"
   },
   {
    "duration": 10,
    "start_time": "2022-08-19T10:46:20.218Z"
   },
   {
    "duration": 50,
    "start_time": "2022-08-19T10:46:20.229Z"
   },
   {
    "duration": 10,
    "start_time": "2022-08-19T10:46:20.281Z"
   },
   {
    "duration": 19,
    "start_time": "2022-08-19T10:46:20.293Z"
   },
   {
    "duration": 4,
    "start_time": "2022-08-19T10:46:20.314Z"
   },
   {
    "duration": 25,
    "start_time": "2022-08-19T10:46:20.320Z"
   },
   {
    "duration": 25,
    "start_time": "2022-08-19T10:46:20.346Z"
   },
   {
    "duration": 28,
    "start_time": "2022-08-19T10:46:20.373Z"
   },
   {
    "duration": 13,
    "start_time": "2022-08-19T10:46:20.402Z"
   },
   {
    "duration": 25,
    "start_time": "2022-08-19T10:46:20.417Z"
   },
   {
    "duration": 13,
    "start_time": "2022-08-19T10:46:20.444Z"
   },
   {
    "duration": 15,
    "start_time": "2022-08-19T10:46:20.458Z"
   },
   {
    "duration": 24,
    "start_time": "2022-08-19T10:46:20.476Z"
   },
   {
    "duration": 23,
    "start_time": "2022-08-19T10:46:20.501Z"
   },
   {
    "duration": 10,
    "start_time": "2022-08-19T10:46:20.526Z"
   },
   {
    "duration": 48,
    "start_time": "2022-08-19T10:46:20.537Z"
   },
   {
    "duration": 17,
    "start_time": "2022-08-19T10:46:20.586Z"
   },
   {
    "duration": 22,
    "start_time": "2022-08-19T10:46:20.605Z"
   },
   {
    "duration": 43,
    "start_time": "2022-08-19T10:46:20.628Z"
   },
   {
    "duration": 8,
    "start_time": "2022-08-19T10:46:20.673Z"
   },
   {
    "duration": 18,
    "start_time": "2022-08-19T10:46:20.683Z"
   },
   {
    "duration": 16,
    "start_time": "2022-08-19T10:46:20.703Z"
   },
   {
    "duration": 13,
    "start_time": "2022-08-19T10:46:20.720Z"
   },
   {
    "duration": 5,
    "start_time": "2022-08-19T10:46:34.216Z"
   },
   {
    "duration": 5,
    "start_time": "2022-08-19T10:46:59.187Z"
   }
  ],
  "colab": {
   "collapsed_sections": [
    "E0vqbgi9ay0H",
    "VUC88oWjTJw2"
   ],
   "name": "automatization_template_upd4.ipynb",
   "provenance": []
  },
  "kernelspec": {
   "display_name": "Python 3 (ipykernel)",
   "language": "python",
   "name": "python3"
  },
  "language_info": {
   "codemirror_mode": {
    "name": "ipython",
    "version": 3
   },
   "file_extension": ".py",
   "mimetype": "text/x-python",
   "name": "python",
   "nbconvert_exporter": "python",
   "pygments_lexer": "ipython3",
   "version": "3.9.5"
  },
  "toc": {
   "base_numbering": 1,
   "nav_menu": {
    "height": "215px",
    "width": "403px"
   },
   "number_sections": true,
   "sideBar": true,
   "skip_h1_title": true,
   "title_cell": "Table of Contents",
   "title_sidebar": "Contents",
   "toc_cell": false,
   "toc_position": {
    "height": "calc(100% - 180px)",
    "left": "10px",
    "top": "150px",
    "width": "285.825px"
   },
   "toc_section_display": true,
   "toc_window_display": false
  }
 },
 "nbformat": 4,
 "nbformat_minor": 1
}
